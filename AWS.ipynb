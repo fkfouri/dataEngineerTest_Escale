{
 "cells": [
  {
   "cell_type": "markdown",
   "metadata": {},
   "source": [
    "# Sequencia para processamento em Cluster AWS\n",
    "\n",
    "Todo o código foi baseado na biblioteca boto3. Para executar é necessário ter na máquina configurada as credencias da AWS conforme descrito no link https://boto3.amazonaws.com/v1/documentation/api/latest/guide/quickstart.html. "
   ]
  },
  {
   "cell_type": "code",
   "execution_count": 1,
   "metadata": {},
   "outputs": [
    {
     "name": "stderr",
     "output_type": "stream",
     "text": [
      "ERROR: awsebcli 3.18.1 has requirement botocore<1.16,>=1.15, but you'll have botocore 1.16.26 which is incompatible.\n"
     ]
    }
   ],
   "source": [
    "try:\n",
    "    !pip install boto3==\"1.13.1\" --quiet\n",
    "except:\n",
    "    print(\"Running throw py file.\")"
   ]
  },
  {
   "cell_type": "code",
   "execution_count": 2,
   "metadata": {},
   "outputs": [],
   "source": [
    "import boto3\n",
    "import os\n",
    "import json"
   ]
  },
  {
   "cell_type": "code",
   "execution_count": 3,
   "metadata": {},
   "outputs": [],
   "source": [
    "dirpath = os.getcwd()"
   ]
  },
  {
   "cell_type": "markdown",
   "metadata": {},
   "source": [
    "## Configurando serviços AWS\n",
    "Sequencia de atividads para configuração de ambiente AWS para armazenamento e processamento do modelo PySpark."
   ]
  },
  {
   "cell_type": "markdown",
   "metadata": {},
   "source": [
    "#### Definindo Variáveis usados na configuração de ambiente AWS."
   ]
  },
  {
   "cell_type": "code",
   "execution_count": 4,
   "metadata": {},
   "outputs": [],
   "source": [
    "my_bucket = \"escale-fk\"\n",
    "app_key = \"escale-test-fk\"\n",
    "my_tag = [{'Key': app_key, 'Value': ''}]\n",
    "my_resource_group = \"rg-escale-test-fk\"\n",
    "my_emr_cluster = \"spark-escale-test-fk\"\n",
    "files_to_upload = ['Escale_Challenge.py', 'Escale_Challenge.html']"
   ]
  },
  {
   "cell_type": "markdown",
   "metadata": {},
   "source": [
    "### Criação de um Bucket S3 \"data-sprints-fk\" para armazenamento do modelo PySpark."
   ]
  },
  {
   "cell_type": "code",
   "execution_count": 5,
   "metadata": {},
   "outputs": [
    {
     "data": {
      "text/plain": [
       "{'ResponseMetadata': {'RequestId': '73848C1D9E2FA4DA',\n",
       "  'HostId': 'esuZlBUI3qSrC8rIzjsDC9ZTnMqFRqAHb+CYQuTLzjp/c+yVd/hH+aJPaTvFRgG5Ax6Nm1TgY9M=',\n",
       "  'HTTPStatusCode': 200,\n",
       "  'HTTPHeaders': {'x-amz-id-2': 'esuZlBUI3qSrC8rIzjsDC9ZTnMqFRqAHb+CYQuTLzjp/c+yVd/hH+aJPaTvFRgG5Ax6Nm1TgY9M=',\n",
       "   'x-amz-request-id': '73848C1D9E2FA4DA',\n",
       "   'date': 'Sat, 29 Aug 2020 14:00:40 GMT',\n",
       "   'location': '/escale-fk',\n",
       "   'content-length': '0',\n",
       "   'server': 'AmazonS3'},\n",
       "  'RetryAttempts': 0},\n",
       " 'Location': '/escale-fk'}"
      ]
     },
     "execution_count": 5,
     "metadata": {},
     "output_type": "execute_result"
    }
   ],
   "source": [
    "s3 = boto3.resource('s3')\n",
    "s3_client = boto3.client('s3')\n",
    "s3_client.create_bucket(Bucket=my_bucket)"
   ]
  },
  {
   "cell_type": "markdown",
   "metadata": {},
   "source": [
    "Definição de uma TAG para o Bucket criado"
   ]
  },
  {
   "cell_type": "code",
   "execution_count": 6,
   "metadata": {},
   "outputs": [
    {
     "data": {
      "text/plain": [
       "{'ResponseMetadata': {'RequestId': '3079691F05DB24BA',\n",
       "  'HostId': 'kim3BWFQXJvow7yHqZxyDnuYVlsmHGb4UCiylY+77Ks5Ft7PGMZC1tyD1NgnVtMfT7mejEk10PE=',\n",
       "  'HTTPStatusCode': 204,\n",
       "  'HTTPHeaders': {'x-amz-id-2': 'kim3BWFQXJvow7yHqZxyDnuYVlsmHGb4UCiylY+77Ks5Ft7PGMZC1tyD1NgnVtMfT7mejEk10PE=',\n",
       "   'x-amz-request-id': '3079691F05DB24BA',\n",
       "   'date': 'Sat, 29 Aug 2020 14:00:55 GMT',\n",
       "   'server': 'AmazonS3'},\n",
       "  'RetryAttempts': 0}}"
      ]
     },
     "execution_count": 6,
     "metadata": {},
     "output_type": "execute_result"
    }
   ],
   "source": [
    "s3_client.put_bucket_tagging(Bucket=my_bucket, Tagging= {'TagSet': my_tag} )"
   ]
  },
  {
   "cell_type": "markdown",
   "metadata": {},
   "source": [
    "Upload do modelo para o bucket na pasta model."
   ]
  },
  {
   "cell_type": "code",
   "execution_count": 7,
   "metadata": {},
   "outputs": [
    {
     "name": "stdout",
     "output_type": "stream",
     "text": [
      "It was uploaded the file 'Escale_Challenge.py' .\n",
      "It was uploaded the file 'Escale_Challenge.html' .\n"
     ]
    }
   ],
   "source": [
    "for file in files_to_upload: \n",
    "    file_name = dirpath + \"/\" + file\n",
    "    try:\n",
    "        if '.html' in file_name:\n",
    "            response = s3_client.upload_file(file_name, my_bucket, file)\n",
    "            \n",
    "            \n",
    "            #Modificando o ContentType\n",
    "            object = s3.Object(my_bucket, file)\n",
    "            object.copy_from(CopySource={'Bucket': my_bucket, 'Key': file},\n",
    "                             MetadataDirective=\"REPLACE\",\n",
    "                             ContentType=\"text/html\",\n",
    "                             ACL = 'public-read')\n",
    "\n",
    "        else:\n",
    "            response = s3_client.upload_file(file_name, my_bucket, \"model/\" + file, ExtraArgs={'ACL':'public-read', })\n",
    "            \n",
    "        print(\"It was uploaded the file\", \"'\" + file + \"'\", \".\")\n",
    "    except ClientError as e:\n",
    "        logging.error(e)"
   ]
  },
  {
   "cell_type": "markdown",
   "metadata": {},
   "source": [
    "Abrir em um Browser o site: https://escale-fk.s3.amazonaws.com/Escale_Challenge.html"
   ]
  },
  {
   "cell_type": "code",
   "execution_count": null,
   "metadata": {},
   "outputs": [],
   "source": []
  },
  {
   "cell_type": "markdown",
   "metadata": {},
   "source": [
    "### Configuração de um Resource Group"
   ]
  },
  {
   "cell_type": "code",
   "execution_count": 8,
   "metadata": {},
   "outputs": [
    {
     "name": "stdout",
     "output_type": "stream",
     "text": [
      "Resource Group was created.\n"
     ]
    }
   ],
   "source": [
    "RG_client = boto3.client('resource-groups')\n",
    "\n",
    "#AWS::AllSupported\n",
    "#AWS::S3::Bucket\n",
    "query = {\n",
    "    \"ResourceTypeFilters\": [\"AWS::AllSupported\"],\n",
    "    \"TagFilters\":  [{\n",
    "        \"Key\": my_tag[0].get(\"Key\"),\n",
    "        \"Values\": [\"\"]\n",
    "    }] \n",
    "}\n",
    "resource_query = {\n",
    "    'Type': 'TAG_FILTERS_1_0',\n",
    "    'Query': json.dumps(query)\n",
    "}\n",
    "\n",
    "try:\n",
    "    resp = RG_client.create_group(Name=my_resource_group,ResourceQuery=resource_query)\n",
    "    print(\"Resource Group was created.\")\n",
    "except Exception as e:\n",
    "    print(e)\n",
    "\n",
    "#print(query)\n",
    "#print(my_tag)"
   ]
  },
  {
   "cell_type": "markdown",
   "metadata": {},
   "source": [
    "### Criação de um  EMR Cluster"
   ]
  },
  {
   "cell_type": "code",
   "execution_count": 9,
   "metadata": {},
   "outputs": [],
   "source": [
    "emr_client = boto3.client('emr') #region_name='us-east-1'\n",
    "\n",
    "cluster_id = emr_client.run_job_flow(Name=my_emr_cluster, \n",
    "    ReleaseLabel='emr-5.30.1',\n",
    "    LogUri='s3://' + my_bucket + '/log/',\n",
    "    Applications=[\n",
    "        {\n",
    "            'Name': 'Spark'\n",
    "        },\n",
    "    ],\n",
    "    Instances={\n",
    "        'InstanceGroups': [\n",
    "            {\n",
    "                'Name': \"Master\",\n",
    "                'Market': 'ON_DEMAND',\n",
    "                'InstanceRole': 'MASTER',\n",
    "                'InstanceType': 'm4.large',\n",
    "                'InstanceCount': 1,\n",
    "            },\n",
    "            {\n",
    "                'Name': \"Slave\",\n",
    "                'Market': 'ON_DEMAND',\n",
    "                'InstanceRole': 'CORE',\n",
    "                'InstanceType': 'm4.large',\n",
    "                'InstanceCount': 2,\n",
    "            }\n",
    "        ],\n",
    "        'KeepJobFlowAliveWhenNoSteps': False,\n",
    "        'TerminationProtected': False,\n",
    "    },\n",
    "    Steps=[\n",
    "        {\n",
    "            'Name': 'Spark application',   \n",
    "                    'ActionOnFailure': 'CONTINUE',\n",
    "                    'HadoopJarStep': {\n",
    "                        'Jar': 'command-runner.jar',\n",
    "                        'Args': [\"spark-submit\",\"--deploy-mode\",\"cluster\",\"s3://\" + my_bucket + \"/model/\" + files_to_upload[0]]\n",
    "                    }\n",
    "        }        \n",
    "    ],                                    \n",
    "    VisibleToAllUsers=True,\n",
    "    JobFlowRole='EMR_EC2_DefaultRole',\n",
    "    ServiceRole='EMR_DefaultRole',\n",
    "    Tags=my_tag\n",
    ")"
   ]
  },
  {
   "cell_type": "code",
   "execution_count": 10,
   "metadata": {},
   "outputs": [
    {
     "data": {
      "text/plain": [
       "{'Id': 'j-391EZQ2PVVO2Y',\n",
       " 'Name': 'spark-escale-test-fk',\n",
       " 'Status': {'State': 'STARTING',\n",
       "  'StateChangeReason': {},\n",
       "  'Timeline': {'CreationDateTime': datetime.datetime(2020, 8, 29, 11, 3, 47, 285000, tzinfo=tzlocal())}},\n",
       " 'NormalizedInstanceHours': 0,\n",
       " 'ClusterArn': 'arn:aws:elasticmapreduce:us-east-1:032594213725:cluster/j-391EZQ2PVVO2Y'}"
      ]
     },
     "execution_count": 10,
     "metadata": {},
     "output_type": "execute_result"
    }
   ],
   "source": [
    "from datetime import datetime, date\n",
    "\n",
    "clusters = emr_client.list_clusters(\n",
    "        CreatedAfter = datetime.today()\n",
    ")\n",
    "my_cluster = [i for i in clusters['Clusters'] if i['Name'] == my_emr_cluster][0]\n",
    "my_cluster"
   ]
  },
  {
   "cell_type": "code",
   "execution_count": 11,
   "metadata": {},
   "outputs": [
    {
     "name": "stdout",
     "output_type": "stream",
     "text": [
      "The current state is STARTING - 2020-08-29 11:03:52.664575\n",
      "The current state is STARTING - 2020-08-29 11:03:52.852447 0\n",
      "The current state is STARTING - 2020-08-29 11:04:53.809218 1\n",
      "The current state is STARTING - 2020-08-29 11:05:54.801854 2\n",
      "The current state is STARTING - 2020-08-29 11:06:55.750853 3\n",
      "The current state is STARTING - 2020-08-29 11:07:56.658490 4\n",
      "The current state is STARTING - 2020-08-29 11:08:57.460025 5\n",
      "The current state is STARTING - 2020-08-29 11:09:58.379422 6\n",
      "The current state is RUNNING - 2020-08-29 11:10:59.240086 7\n",
      "The current state is WAITING - 2020-08-29 11:12:00.187990 8\n",
      "The current state is WAITING - 2020-08-29 11:13:01.101256 9\n",
      "The current state is WAITING - 2020-08-29 11:14:02.056952 10\n",
      "The current state is WAITING - 2020-08-29 11:15:02.984443 11\n",
      "The current state is WAITING - 2020-08-29 11:16:03.894022 12\n",
      "The current state is WAITING - 2020-08-29 11:17:04.938533 13\n",
      "The current state is WAITING - 2020-08-29 11:18:05.849133 14\n",
      "The current state is WAITING - 2020-08-29 11:19:06.791577 15\n",
      "The current state is WAITING - 2020-08-29 11:20:07.650774 16\n",
      "The current state is WAITING - 2020-08-29 11:21:08.413326 17\n",
      "The current state is TERMINATING - 2020-08-29 11:22:09.377813 18\n",
      "The current state is TERMINATED - 2020-08-29 11:23:10.366064 19\n"
     ]
    }
   ],
   "source": [
    "import time\n",
    "\n",
    "response = emr_client.describe_cluster(ClusterId = my_cluster['Id'])\n",
    "print('The current state is', response['Cluster']['Status']['State'], '-', datetime.today())\n",
    "i = 0\n",
    "\n",
    "while response['Cluster']['Status']['State'] != 'TERMINATED' and i < 30:\n",
    "    response = emr_client.describe_cluster(ClusterId = my_cluster['Id'])\n",
    "    print('The current state is', response['Cluster']['Status']['State'], '-', datetime.today(), i)\n",
    "    i += 1\n",
    "    time.sleep(60)"
   ]
  },
  {
   "cell_type": "markdown",
   "metadata": {},
   "source": [
    "## Desativação/Remoção das configurações da AWS"
   ]
  },
  {
   "cell_type": "markdown",
   "metadata": {},
   "source": [
    "Remoção do Resource Group"
   ]
  },
  {
   "cell_type": "code",
   "execution_count": 12,
   "metadata": {},
   "outputs": [
    {
     "data": {
      "text/plain": [
       "{'ResponseMetadata': {'RequestId': 'f47db126-a691-43cf-8a73-ee4ee7970d95',\n",
       "  'HTTPStatusCode': 200,\n",
       "  'HTTPHeaders': {'date': 'Sat, 29 Aug 2020 14:24:10 GMT',\n",
       "   'content-type': 'application/json',\n",
       "   'content-length': '147',\n",
       "   'connection': 'keep-alive',\n",
       "   'x-amzn-requestid': 'f47db126-a691-43cf-8a73-ee4ee7970d95',\n",
       "   'x-amz-apigw-id': 'SCS5pE2uIAMFYRw=',\n",
       "   'x-amzn-trace-id': 'Root=1-5f4a650a-c9b749d88a6c6050f4d236e8'},\n",
       "  'RetryAttempts': 0},\n",
       " 'Group': {'GroupArn': 'arn:aws:resource-groups:us-east-1:032594213725:group/rg-escale-test-fk',\n",
       "  'Name': 'rg-escale-test-fk'}}"
      ]
     },
     "execution_count": 12,
     "metadata": {},
     "output_type": "execute_result"
    }
   ],
   "source": [
    "RG_client.delete_group(GroupName=my_resource_group)"
   ]
  },
  {
   "cell_type": "markdown",
   "metadata": {},
   "source": [
    "Remoção de todos os arquivos do Bucket"
   ]
  },
  {
   "cell_type": "code",
   "execution_count": 13,
   "metadata": {},
   "outputs": [
    {
     "data": {
      "text/plain": [
       "[{'ResponseMetadata': {'RequestId': 'E83DBB219EBF86D8',\n",
       "   'HostId': '8rHRlAQHcfq7iadroQ8KkHOzPFTjqK5HgohOZOjHwn8zgU2j5fWxb/h16GGudhuCuCOMHOaaHUE=',\n",
       "   'HTTPStatusCode': 200,\n",
       "   'HTTPHeaders': {'x-amz-id-2': '8rHRlAQHcfq7iadroQ8KkHOzPFTjqK5HgohOZOjHwn8zgU2j5fWxb/h16GGudhuCuCOMHOaaHUE=',\n",
       "    'x-amz-request-id': 'E83DBB219EBF86D8',\n",
       "    'date': 'Sat, 29 Aug 2020 14:24:12 GMT',\n",
       "    'connection': 'close',\n",
       "    'content-type': 'application/xml',\n",
       "    'transfer-encoding': 'chunked',\n",
       "    'server': 'AmazonS3'},\n",
       "   'RetryAttempts': 0},\n",
       "  'Deleted': [{'Key': 'log/j-391EZQ2PVVO2Y/node/i-05f5bc674774734c1/applications/hadoop-hdfs/hadoop-hdfs-namenode-ip-172-31-62-174.out.gz'},\n",
       "   {'Key': 'log/j-391EZQ2PVVO2Y/node/i-005b54950ba330ba0/applications/hadoop-hdfs/hadoop-hdfs-datanode-ip-172-31-55-26.out.gz'},\n",
       "   {'Key': 'log/j-391EZQ2PVVO2Y/node/i-05f5bc674774734c1/daemons/instance-state/console.log-2020-08-29-14-05.gz'},\n",
       "   {'Key': 'log/j-391EZQ2PVVO2Y/node/i-005b54950ba330ba0/provision-node/8836bf34-d308-4cde-86bb-e8b40df52a5d/stderr.gz'},\n",
       "   {'Key': 'log/j-391EZQ2PVVO2Y/node/i-005b54950ba330ba0/provision-node/apps-phase/install.stderr.gz'},\n",
       "   {'Key': 'log/j-391EZQ2PVVO2Y/node/i-05f5bc674774734c1/daemons/instance-state/instance-state.log-2020-08-29-14-15.gz'},\n",
       "   {'Key': 'log/j-391EZQ2PVVO2Y/node/i-05f5bc674774734c1/provision-node/apps-phase/install.stderr.gz'},\n",
       "   {'Key': 'log/j-391EZQ2PVVO2Y/node/i-005b54950ba330ba0/setup-devices/setup_emr_metrics.log.gz'},\n",
       "   {'Key': 'log/j-391EZQ2PVVO2Y/node/i-05f5bc674774734c1/provision-node/16a32ffe-cb19-4c96-993b-09a1571e1bd5/stderr.gz'},\n",
       "   {'Key': 'model/Escale_Challenge.py'},\n",
       "   {'Key': 'log/j-391EZQ2PVVO2Y/node/i-066f03b3a64c24346/provision-node/apps-phase/0/a1ae97ae-3766-4a17-909f-7a6e0269ef1f/stdout.gz'},\n",
       "   {'Key': 'log/j-391EZQ2PVVO2Y/node/i-066f03b3a64c24346/provision-node/reports/0/a1ae97ae-3766-4a17-909f-7a6e0269ef1f/ip-172-31-50-100.ec2.internal/202008291408.puppetreport.json.gz'},\n",
       "   {'Key': 'log/j-391EZQ2PVVO2Y/node/i-005b54950ba330ba0/provision-node/8836bf34-d308-4cde-86bb-e8b40df52a5d/controller.gz'},\n",
       "   {'Key': 'log/j-391EZQ2PVVO2Y/containers/application_1598710136814_0001/container_1598710136814_0001_01_000001/stderr.gz'},\n",
       "   {'Key': 'log/j-391EZQ2PVVO2Y/containers/application_1598710136814_0001/container_1598710136814_0001_02_000001/stdout.gz'},\n",
       "   {'Key': 'log/j-391EZQ2PVVO2Y/node/i-005b54950ba330ba0/setup-devices/setup_var_cache_dir.log.gz'},\n",
       "   {'Key': 'log/j-391EZQ2PVVO2Y/node/i-066f03b3a64c24346/applications/hadoop-yarn/yarn-yarn-nodemanager-ip-172-31-50-100.log.gz'},\n",
       "   {'Key': 'log/j-391EZQ2PVVO2Y/node/i-005b54950ba330ba0/daemons/setup-dns.log.gz'},\n",
       "   {'Key': 'log/j-391EZQ2PVVO2Y/node/i-066f03b3a64c24346/setup-devices/setup_var_lib_dir.log.gz'},\n",
       "   {'Key': 'log/j-391EZQ2PVVO2Y/steps/s-2QA6TS4E8X3HW/stderr.gz'},\n",
       "   {'Key': 'log/j-391EZQ2PVVO2Y/node/i-05f5bc674774734c1/setup-devices/setup_drives.log.gz'},\n",
       "   {'Key': 'log/j-391EZQ2PVVO2Y/node/i-05f5bc674774734c1/setup-devices/setup_var_tmp_dir.log.gz'},\n",
       "   {'Key': 'log/j-391EZQ2PVVO2Y/node/i-05f5bc674774734c1/applications/livy/livy-livy-server.out.gz'},\n",
       "   {'Key': 'log/j-391EZQ2PVVO2Y/node/i-066f03b3a64c24346/setup-devices/setup_drives.log.gz'},\n",
       "   {'Key': 'log/j-391EZQ2PVVO2Y/node/i-05f5bc674774734c1/daemons/setup-dns.log.gz'},\n",
       "   {'Key': 'log/j-391EZQ2PVVO2Y/node/i-066f03b3a64c24346/setup-devices/setup_emr_metrics.log.gz'},\n",
       "   {'Key': 'log/j-391EZQ2PVVO2Y/node/i-005b54950ba330ba0/setup-devices/setup_var_log_dir.log.gz'},\n",
       "   {'Key': 'log/j-391EZQ2PVVO2Y/node/i-05f5bc674774734c1/applications/hadoop-httpfs/httpfs-catalina.2020-08-29.log.gz'},\n",
       "   {'Key': 'log/j-391EZQ2PVVO2Y/node/i-066f03b3a64c24346/applications/hadoop-hdfs/hadoop-hdfs-datanode-ip-172-31-50-100.log.gz'},\n",
       "   {'Key': 'log/j-391EZQ2PVVO2Y/containers/application_1598710136814_0001/container_1598710136814_0001_01_000001/stdout.gz'},\n",
       "   {'Key': 'log/j-391EZQ2PVVO2Y/node/i-05f5bc674774734c1/setup-devices/setup_emr_metrics.log.gz'},\n",
       "   {'Key': 'log/j-391EZQ2PVVO2Y/steps/s-2QA6TS4E8X3HW/controller.gz'},\n",
       "   {'Key': 'log/j-391EZQ2PVVO2Y/node/i-005b54950ba330ba0/daemons/instance-state/console.log-2020-08-29-14-04.gz'},\n",
       "   {'Key': 'log/j-391EZQ2PVVO2Y/node/i-05f5bc674774734c1/applications/hadoop-hdfs/hadoop-hdfs-namenode-ip-172-31-62-174.log.gz'},\n",
       "   {'Key': 'log/j-391EZQ2PVVO2Y/node/i-05f5bc674774734c1/applications/hadoop/steps/s-2QA6TS4E8X3HW/controller.gz'},\n",
       "   {'Key': 'log/j-391EZQ2PVVO2Y/node/i-05f5bc674774734c1/applications/hadoop-kms/kms.log.gz'},\n",
       "   {'Key': 'log/j-391EZQ2PVVO2Y/node/i-005b54950ba330ba0/applications/hadoop-yarn/yarn-yarn-nodemanager-ip-172-31-55-26.out.gz'},\n",
       "   {'Key': 'log/j-391EZQ2PVVO2Y/node/i-066f03b3a64c24346/provision-node/reports/0/a1ae97ae-3766-4a17-909f-7a6e0269ef1f/ip-172-31-50-100.ec2.internal/202008291408.yaml.gz'},\n",
       "   {'Key': 'log/j-391EZQ2PVVO2Y/node/i-066f03b3a64c24346/provision-node/apps-phase/0/a1ae97ae-3766-4a17-909f-7a6e0269ef1f/puppet.log.gz'},\n",
       "   {'Key': 'log/j-391EZQ2PVVO2Y/node/i-05f5bc674774734c1/applications/spark/spark-history-server.out.gz'},\n",
       "   {'Key': 'log/j-391EZQ2PVVO2Y/node/i-05f5bc674774734c1/setup-devices/DiskEncryptor.log.gz'},\n",
       "   {'Key': 'log/j-391EZQ2PVVO2Y/node/i-005b54950ba330ba0/provision-node/reports/0/8836bf34-d308-4cde-86bb-e8b40df52a5d/ip-172-31-55-26.ec2.internal/202008291407.yaml.gz'},\n",
       "   {'Key': 'log/j-391EZQ2PVVO2Y/node/i-066f03b3a64c24346/provision-node/a1ae97ae-3766-4a17-909f-7a6e0269ef1f/controller.gz'},\n",
       "   {'Key': 'log/j-391EZQ2PVVO2Y/node/i-05f5bc674774734c1/applications/hadoop-yarn/yarn-yarn-resourcemanager-ip-172-31-62-174.log.gz'},\n",
       "   {'Key': 'log/j-391EZQ2PVVO2Y/node/i-005b54950ba330ba0/provision-node/apps-phase/0/8836bf34-d308-4cde-86bb-e8b40df52a5d/puppet.log.gz'},\n",
       "   {'Key': 'log/j-391EZQ2PVVO2Y/node/i-05f5bc674774734c1/setup-devices/setup_var_log_dir.log.gz'},\n",
       "   {'Key': 'log/j-391EZQ2PVVO2Y/node/i-066f03b3a64c24346/applications/hadoop-yarn/yarn-yarn-nodemanager-ip-172-31-50-100.out.gz'},\n",
       "   {'Key': 'Escale_Challenge.html'},\n",
       "   {'Key': 'log/j-391EZQ2PVVO2Y/node/i-05f5bc674774734c1/applications/hadoop-kms/kms-catalina.2020-08-29.log.gz'},\n",
       "   {'Key': 'log/j-391EZQ2PVVO2Y/node/i-005b54950ba330ba0/setup-devices/setup_var_tmp_dir.log.gz'},\n",
       "   {'Key': 'log/j-391EZQ2PVVO2Y/node/i-005b54950ba330ba0/daemons/instance-state/instance-state.log-2020-08-29-14-15.gz'},\n",
       "   {'Key': 'log/j-391EZQ2PVVO2Y/node/i-05f5bc674774734c1/provision-node/apps-phase/0/16a32ffe-cb19-4c96-993b-09a1571e1bd5/stderr.gz'},\n",
       "   {'Key': 'log/j-391EZQ2PVVO2Y/node/i-05f5bc674774734c1/provision-node/reports/0/16a32ffe-cb19-4c96-993b-09a1571e1bd5/ip-172-31-62-174.ec2.internal/202008291409.puppetreport.json.gz'},\n",
       "   {'Key': 'log/j-391EZQ2PVVO2Y/node/i-005b54950ba330ba0/provision-node/reports/0/8836bf34-d308-4cde-86bb-e8b40df52a5d/ip-172-31-55-26.ec2.internal/202008291407.puppetreport.json.gz'},\n",
       "   {'Key': 'log/j-391EZQ2PVVO2Y/node/i-05f5bc674774734c1/setup-devices/setup_var_cache_dir.log.gz'},\n",
       "   {'Key': 'log/j-391EZQ2PVVO2Y/node/i-05f5bc674774734c1/provision-node/apps-phase/0/16a32ffe-cb19-4c96-993b-09a1571e1bd5/puppet.log.gz'},\n",
       "   {'Key': 'log/j-391EZQ2PVVO2Y/node/i-066f03b3a64c24346/setup-devices/DiskEncryptor.log.gz'},\n",
       "   {'Key': 'log/j-391EZQ2PVVO2Y/node/i-005b54950ba330ba0/setup-devices/setup_tmp_dir.log.gz'},\n",
       "   {'Key': 'log/j-391EZQ2PVVO2Y/node/i-066f03b3a64c24346/setup-devices/setup_var_log_dir.log.gz'},\n",
       "   {'Key': 'log/j-391EZQ2PVVO2Y/node/i-066f03b3a64c24346/provision-node/apps-phase/0/a1ae97ae-3766-4a17-909f-7a6e0269ef1f/stderr.gz'},\n",
       "   {'Key': 'log/j-391EZQ2PVVO2Y/node/i-066f03b3a64c24346/setup-devices/setup_var_tmp_dir.log.gz'},\n",
       "   {'Key': 'log/j-391EZQ2PVVO2Y/node/i-066f03b3a64c24346/daemons/instance-state/instance-state.log-2020-08-29-14-15.gz'},\n",
       "   {'Key': 'log/j-391EZQ2PVVO2Y/node/i-05f5bc674774734c1/applications/hadoop-yarn/yarn-yarn-proxyserver-ip-172-31-62-174.out.gz'},\n",
       "   {'Key': 'log/j-391EZQ2PVVO2Y/node/i-05f5bc674774734c1/setup-devices/setup_tmp_dir.log.gz'},\n",
       "   {'Key': 'log/j-391EZQ2PVVO2Y/node/i-05f5bc674774734c1/setup-devices/setup_var_lib_dir.log.gz'},\n",
       "   {'Key': 'log/j-391EZQ2PVVO2Y/node/i-05f5bc674774734c1/bootstrap-actions/master.log.gz'},\n",
       "   {'Key': 'log/j-391EZQ2PVVO2Y/node/i-066f03b3a64c24346/daemons/setup-dns.log.gz'},\n",
       "   {'Key': 'log/j-391EZQ2PVVO2Y/node/i-05f5bc674774734c1/provision-node/reports/0/16a32ffe-cb19-4c96-993b-09a1571e1bd5/ip-172-31-62-174.ec2.internal/202008291409.yaml.gz'},\n",
       "   {'Key': 'log/j-391EZQ2PVVO2Y/node/i-05f5bc674774734c1/applications/hadoop-httpfs/httpfs-catalina.out.gz'},\n",
       "   {'Key': 'log/j-391EZQ2PVVO2Y/node/i-05f5bc674774734c1/applications/hadoop-mapreduce/mapred-mapred-historyserver-ip-172-31-62-174.log.gz'},\n",
       "   {'Key': 'log/j-391EZQ2PVVO2Y/node/i-005b54950ba330ba0/applications/hadoop-yarn/yarn-yarn-nodemanager-ip-172-31-55-26.log.gz'},\n",
       "   {'Key': 'log/j-391EZQ2PVVO2Y/node/i-066f03b3a64c24346/setup-devices/setup_var_cache_dir.log.gz'},\n",
       "   {'Key': 'log/j-391EZQ2PVVO2Y/node/i-066f03b3a64c24346/applications/hadoop-hdfs/hadoop-hdfs-datanode-ip-172-31-50-100.out.gz'},\n",
       "   {'Key': 'log/j-391EZQ2PVVO2Y/node/i-05f5bc674774734c1/applications/hadoop-yarn/yarn-yarn-proxyserver-ip-172-31-62-174.log.gz'},\n",
       "   {'Key': 'log/j-391EZQ2PVVO2Y/node/i-05f5bc674774734c1/applications/hadoop/steps/s-2QA6TS4E8X3HW/stderr.gz'},\n",
       "   {'Key': 'log/j-391EZQ2PVVO2Y/node/i-05f5bc674774734c1/applications/hadoop-httpfs/httpfs.log.gz'},\n",
       "   {'Key': 'log/j-391EZQ2PVVO2Y/node/i-05f5bc674774734c1/provision-node/apps-phase/0/16a32ffe-cb19-4c96-993b-09a1571e1bd5/stdout.gz'},\n",
       "   {'Key': 'log/j-391EZQ2PVVO2Y/node/i-005b54950ba330ba0/setup-devices/setup_var_lib_dir.log.gz'},\n",
       "   {'Key': 'log/j-391EZQ2PVVO2Y/node/i-066f03b3a64c24346/provision-node/a1ae97ae-3766-4a17-909f-7a6e0269ef1f/stderr.gz'},\n",
       "   {'Key': 'log/j-391EZQ2PVVO2Y/node/i-005b54950ba330ba0/provision-node/apps-phase/0/8836bf34-d308-4cde-86bb-e8b40df52a5d/stderr.gz'},\n",
       "   {'Key': 'log/j-391EZQ2PVVO2Y/node/i-05f5bc674774734c1/applications/hadoop-kms/kms-catalina.out.gz'},\n",
       "   {'Key': 'log/j-391EZQ2PVVO2Y/node/i-066f03b3a64c24346/setup-devices/setup_tmp_dir.log.gz'},\n",
       "   {'Key': 'log/j-391EZQ2PVVO2Y/node/i-066f03b3a64c24346/provision-node/apps-phase/install.stderr.gz'},\n",
       "   {'Key': 'log/j-391EZQ2PVVO2Y/node/i-05f5bc674774734c1/applications/hadoop-mapreduce/mapred-mapred-historyserver-ip-172-31-62-174.out.gz'},\n",
       "   {'Key': 'log/j-391EZQ2PVVO2Y/node/i-05f5bc674774734c1/applications/hadoop-yarn/yarn-yarn-timelineserver-ip-172-31-62-174.out.gz'},\n",
       "   {'Key': 'log/j-391EZQ2PVVO2Y/containers/application_1598710136814_0001/container_1598710136814_0001_02_000001/stderr.gz'},\n",
       "   {'Key': 'log/j-391EZQ2PVVO2Y/node/i-05f5bc674774734c1/applications/hadoop-hdfs/nn.format.log.gz'},\n",
       "   {'Key': 'log/j-391EZQ2PVVO2Y/node/i-05f5bc674774734c1/provision-node/16a32ffe-cb19-4c96-993b-09a1571e1bd5/controller.gz'},\n",
       "   {'Key': 'log/j-391EZQ2PVVO2Y/node/i-005b54950ba330ba0/applications/hadoop-hdfs/hadoop-hdfs-datanode-ip-172-31-55-26.log.gz'},\n",
       "   {'Key': 'log/j-391EZQ2PVVO2Y/node/i-005b54950ba330ba0/provision-node/apps-phase/0/8836bf34-d308-4cde-86bb-e8b40df52a5d/stdout.gz'},\n",
       "   {'Key': 'log/j-391EZQ2PVVO2Y/node/i-005b54950ba330ba0/setup-devices/DiskEncryptor.log.gz'},\n",
       "   {'Key': 'log/j-391EZQ2PVVO2Y/node/i-005b54950ba330ba0/setup-devices/setup_drives.log.gz'},\n",
       "   {'Key': 'log/j-391EZQ2PVVO2Y/node/i-05f5bc674774734c1/applications/hadoop-yarn/yarn-yarn-resourcemanager-ip-172-31-62-174.out.gz'},\n",
       "   {'Key': 'log/j-391EZQ2PVVO2Y/node/i-05f5bc674774734c1/applications/hadoop-yarn/yarn-yarn-timelineserver-ip-172-31-62-174.log.gz'},\n",
       "   {'Key': 'log/j-391EZQ2PVVO2Y/node/i-066f03b3a64c24346/daemons/instance-state/console.log-2020-08-29-14-04.gz'}]}]"
      ]
     },
     "execution_count": 13,
     "metadata": {},
     "output_type": "execute_result"
    }
   ],
   "source": [
    "bucket = s3.Bucket(my_bucket)\n",
    "bucket.objects.all().delete()"
   ]
  },
  {
   "cell_type": "markdown",
   "metadata": {},
   "source": [
    "Remoção do Bucket"
   ]
  },
  {
   "cell_type": "code",
   "execution_count": 14,
   "metadata": {},
   "outputs": [
    {
     "data": {
      "text/plain": [
       "{'ResponseMetadata': {'RequestId': '56E6F52804EFDA2A',\n",
       "  'HostId': 'yolByYwnyCnk62DATfXCGTdPwJ+YfrUNTfZdL7zuPtlWl8fL65hakSfjxSQZSdkxOPPgJ1mDiu8=',\n",
       "  'HTTPStatusCode': 204,\n",
       "  'HTTPHeaders': {'x-amz-id-2': 'yolByYwnyCnk62DATfXCGTdPwJ+YfrUNTfZdL7zuPtlWl8fL65hakSfjxSQZSdkxOPPgJ1mDiu8=',\n",
       "   'x-amz-request-id': '56E6F52804EFDA2A',\n",
       "   'date': 'Sat, 29 Aug 2020 14:24:14 GMT',\n",
       "   'server': 'AmazonS3'},\n",
       "  'RetryAttempts': 0}}"
      ]
     },
     "execution_count": 14,
     "metadata": {},
     "output_type": "execute_result"
    }
   ],
   "source": [
    "s3_client.delete_bucket(Bucket=my_bucket)"
   ]
  },
  {
   "cell_type": "code",
   "execution_count": null,
   "metadata": {},
   "outputs": [],
   "source": []
  },
  {
   "cell_type": "code",
   "execution_count": null,
   "metadata": {},
   "outputs": [],
   "source": []
  }
 ],
 "metadata": {
  "kernelspec": {
   "display_name": "Python 3",
   "language": "python",
   "name": "python3"
  },
  "language_info": {
   "codemirror_mode": {
    "name": "ipython",
    "version": 3
   },
   "file_extension": ".py",
   "mimetype": "text/x-python",
   "name": "python",
   "nbconvert_exporter": "python",
   "pygments_lexer": "ipython3",
   "version": "3.7.4"
  }
 },
 "nbformat": 4,
 "nbformat_minor": 2
}
