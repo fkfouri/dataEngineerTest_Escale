{
 "cells": [
  {
   "cell_type": "markdown",
   "metadata": {},
   "source": [
    "# Desafio Escale\n",
    "\n",
    "Este <i>notebook</i> traz a resolução do desafio proposto pela Escale (https://escaletech.github.io/dataplatform/data-engineer-test).\n",
    "\n",
    "Foram criadas diversas funções, para permitir a construção de uma <i>storytelling</i> clara e objetiva."
   ]
  },
  {
   "cell_type": "markdown",
   "metadata": {},
   "source": [
    "## Setup\n",
    "\n",
    "Instalação e importação de bibliotecas."
   ]
  },
  {
   "cell_type": "code",
   "execution_count": 1,
   "metadata": {},
   "outputs": [],
   "source": [
    "try:\n",
    "    !pip install pyspark==\"2.4.5\" --quiet\n",
    "    !pip install pandas==\"1.0.4\" --quiet\n",
    "except:\n",
    "    print(\"Running throw py file.\")"
   ]
  },
  {
   "cell_type": "code",
   "execution_count": 2,
   "metadata": {},
   "outputs": [],
   "source": [
    "from pyspark import SparkContext as sc\n",
    "from pyspark.sql import SparkSession\n",
    "from pyspark.sql import functions as F\n",
    "from pyspark.sql import Window\n",
    "from pyspark import SparkFiles\n",
    "from pyspark.sql.types import StringType, FloatType\n",
    "import pyspark\n",
    "import json\n",
    "import pandas as pd\n",
    "import numpy as np"
   ]
  },
  {
   "cell_type": "markdown",
   "metadata": {},
   "source": [
    "Criação de uma sessão Spark"
   ]
  },
  {
   "cell_type": "code",
   "execution_count": 3,
   "metadata": {},
   "outputs": [
    {
     "data": {
      "text/html": [
       "\n",
       "            <div>\n",
       "                <p><b>SparkSession - in-memory</b></p>\n",
       "                \n",
       "        <div>\n",
       "            <p><b>SparkContext</b></p>\n",
       "\n",
       "            <p><a href=\"http://LAPTOP-Y520:4040\">Spark UI</a></p>\n",
       "\n",
       "            <dl>\n",
       "              <dt>Version</dt>\n",
       "                <dd><code>v2.4.5</code></dd>\n",
       "              <dt>Master</dt>\n",
       "                <dd><code>local[*]</code></dd>\n",
       "              <dt>AppName</dt>\n",
       "                <dd><code>Desafio Data Engineer Escale - Fabio Kfouri</code></dd>\n",
       "            </dl>\n",
       "        </div>\n",
       "        \n",
       "            </div>\n",
       "        "
      ],
      "text/plain": [
       "<pyspark.sql.session.SparkSession at 0x1f79b088fc8>"
      ]
     },
     "execution_count": 3,
     "metadata": {},
     "output_type": "execute_result"
    }
   ],
   "source": [
    "spark = SparkSession\\\n",
    "        .builder\\\n",
    "        .appName(\"Desafio Data Engineer Escale - Fabio Kfouri\")\\\n",
    "        .getOrCreate()\n",
    "spark"
   ]
  },
  {
   "cell_type": "markdown",
   "metadata": {},
   "source": [
    "Para otimizar a resolução, foram realizados downloads dos datasets para máquina local.\n",
    "\n",
    "Esta lógica é para identificar se esta solução esta rodando na máquina do autor, caso positivo, utilizará o dataset local, do contrário, utilizará o dataset da núvem.\n",
    "\n",
    "Definido também a quantidade de arquivos do DataSet. A intenção do Autor é rodar a aplicação na AWS, porém, para não gerar custo desnecessario, será processado somente um arquivo do DataSet, do contrario, processará todos."
   ]
  },
  {
   "cell_type": "code",
   "execution_count": 4,
   "metadata": {},
   "outputs": [
    {
     "name": "stdout",
     "output_type": "stream",
     "text": [
      "E:\\Projetos\\Jobs\\dataEngineerTest_Escale/data/\n",
      "E:\\Projetos\\Jobs\\dataEngineerTest_Escale/output/\n",
      "Quantidade de Arquivos do Dataset 10\n"
     ]
    }
   ],
   "source": [
    "import os\n",
    "\n",
    "dataPath = 'https://d3l36jjwr70u5l.cloudfront.net/data-engineer-test/'\n",
    "outPath = 's3://data-sprints-fk/output/'\n",
    "quantity_of_datasets = 1\n",
    "\n",
    "if 'E:\\\\' in os.getcwd() and 'dataEngineerTest_Escale' in os.getcwd():\n",
    "    dataPath = os.getcwd() + \"/data/\"\n",
    "    outPath = os.getcwd() + \"/output/\"\n",
    "    quantity_of_datasets = 10\n",
    "\n",
    "print(dataPath)\n",
    "print(outPath)\n",
    "print('Quantidade de Arquivos do Dataset', quantity_of_datasets)"
   ]
  },
  {
   "cell_type": "markdown",
   "metadata": {},
   "source": [
    "# Funções\n",
    "Funcão de leitura do Json que retorna um Datafame Spark"
   ]
  },
  {
   "cell_type": "code",
   "execution_count": 5,
   "metadata": {},
   "outputs": [],
   "source": [
    "def read_json(filename):\n",
    "    return spark.read.json(dataPath + filename)"
   ]
  },
  {
   "cell_type": "markdown",
   "metadata": {},
   "source": [
    "Função que converte o 30 minutos em miliegundos para ser usado como referência de delta para data em formado de <b>Epoch Time</b>."
   ]
  },
  {
   "cell_type": "code",
   "execution_count": 6,
   "metadata": {},
   "outputs": [],
   "source": [
    "def get_epoch_time_limit():\n",
    "    return (30*60)*1000"
   ]
  },
  {
   "cell_type": "markdown",
   "metadata": {},
   "source": [
    "Função que cria o dataFrame <b>ClickStream</b>, que atende os criterios de sessionamento defindo pelo desafio.\n",
    "\n",
    "Para calculo do tempo de sessão foi utilizado a função <b>LAG()</b> que tem por objetivo trazer no registro corrente o dado de timestamp do registro anterior.\n",
    "\n",
    "O autor assumiu como premissa não declarada para definir uma sessão, que além do tempo limite de 30 minutos desde a última utilização, que uma sessão precisaria considerar o <b>device_family</b> e <b>os_family</b>.\n",
    "\n",
    "Ou seja, mesmo que não tenha excedido o tempo limite de 30 minutos, mas se for caracterizado que houve uma mudança de device_family ou os_family, trata-se de uma sessão nova.\n",
    "\n",
    "Para a criação das Sessions_ID foi usado as funções ROW_NUMBER() para criacão ordenada de ids, e em seguida utilizada a função LAST_VALUE() para o preenchimento do session_id nos eventos da mesma sessão."
   ]
  },
  {
   "cell_type": "code",
   "execution_count": 7,
   "metadata": {},
   "outputs": [],
   "source": [
    "def get_clickstream_dataframe(df):\n",
    "    overCategory = Window.partitionBy('anonymous_id','device_family','os_family','browser_family')\\\n",
    "                         .orderBy('anonymous_id','device_family','os_family','browser_family','device_sent_timestamp')\n",
    "    \n",
    "    time_limit = get_epoch_time_limit()\n",
    "    \n",
    "    df = df.withColumn(\"lag\", F.lag('device_sent_timestamp', 1).over(overCategory))\\\n",
    "            .withColumn('delta_seg', (F.col('device_sent_timestamp') - F.col('lag'))/1000)\\\n",
    "            .withColumn('same_section', (F.col('device_sent_timestamp') - F.col('lag')) < time_limit) \\\n",
    "            .withColumn('event_time', (F.col('device_sent_timestamp')/1000).cast('timestamp'))\n",
    "    \n",
    "    df.createOrReplaceTempView(\"raw_table\")\n",
    "    \n",
    "    df_sessioned = spark.sql(\"\"\"\n",
    "        with temp as (--\n",
    "              SELECT anonymous_id, browser_family, device_family, device_sent_timestamp, event, event_time, n, os_family, --\n",
    "                     platform, nvl(same_section,false) same_section, version,\n",
    "                     case when nvl(same_section,false) = false then\n",
    "                         0\n",
    "                     else\n",
    "                        delta_seg\n",
    "                     end delta_seg,             \n",
    "                     case when nvl(same_section,false) = false then\n",
    "                     'session_' || ROW_NUMBER() OVER (PARTITION BY anonymous_id,nvl(same_section,false) ORDER BY device_sent_timestamp )\n",
    "                     else\n",
    "                      null\n",
    "                     end\n",
    "                     as partial_session\n",
    "                FROM raw_table t --\n",
    "        ), table_section_id as (--\n",
    "            select anonymous_id, browser_family, delta_seg, device_family, device_sent_timestamp, event, event_time, n, os_family, --\n",
    "                     platform, nvl(same_section,false) same_section, version,\n",
    "                     LAST_VALUE(partial_session,True) OVER (PARTITION BY anonymous_id ORDER BY device_sent_timestamp ) || '_' || anonymous_id session_id\n",
    "            from temp t\n",
    "        )\n",
    "        select * from table_section_id\n",
    "        order by anonymous_id, device_sent_timestamp \n",
    "        \"\"\")\n",
    "        \n",
    "    df_sessioned.createOrReplaceTempView(\"clickstream\")\n",
    "    \n",
    "    #Remove the view raw_table\n",
    "    spark.catalog.dropTempView('raw_table')\n"
   ]
  },
  {
   "cell_type": "markdown",
   "metadata": {},
   "source": [
    "Funcao que convert as saídas da Questão 2 no formato desejado pelo Desafio.\n",
    "\n",
    "Esta função cria um dicionário que de forma incremental, vai adicionando as quantidades conforme forem sendo carregados novos datasets."
   ]
  },
  {
   "cell_type": "code",
   "execution_count": 8,
   "metadata": {},
   "outputs": [],
   "source": [
    "def convert_to_Json_challenge2(dados_pd, question):   \n",
    "    for index, row in dados_pd.iterrows():\n",
    "        items = str(row[\"collection\"]).split(',')\n",
    "\n",
    "        if not row[\"what\"] in question:\n",
    "            question[row[\"what\"]] = {}\n",
    "\n",
    "        for item in items:\n",
    "            element = str(item).split(':')\n",
    "\n",
    "            if not element[0] in question[row[\"what\"]]:\n",
    "                question[row[\"what\"]][element[0]] = 0\n",
    "\n",
    "            if len(element) > 1:\n",
    "                question[row[\"what\"]][element[0]] = float(element[1]) + question[row[\"what\"]][element[0]]\n",
    "            else:\n",
    "                question[row[\"what\"]][element[0]] = float(0) + question[row[\"what\"]][element[0]]\n",
    "\n",
    "                \n",
    "    return question"
   ]
  },
  {
   "cell_type": "markdown",
   "metadata": {},
   "source": [
    "Funcao que convert as saídas da Questão 3 no formato desejado pelo Desafio.\n",
    "\n",
    "Esta função cria um dicionário que de forma incremental, vai calculando a mediana das medianas conforme forem sendo carregados novos datasets."
   ]
  },
  {
   "cell_type": "code",
   "execution_count": 9,
   "metadata": {},
   "outputs": [],
   "source": [
    "def convert_to_Json_challenge3(dados_pd, question):   \n",
    "    for index, row in dados_pd.iterrows():\n",
    "\n",
    "        items = str(row[\"collection\"]).split(',')\n",
    "\n",
    "        if not row[\"what\"] in question:\n",
    "            question[row[\"what\"]] = {}\n",
    "\n",
    "        for item in items:\n",
    "            element = str(item).split(':')\n",
    "\n",
    "            if not element[0] in question[row[\"what\"]]:\n",
    "                question[row[\"what\"]][element[0]] = 0\n",
    "\n",
    "\n",
    "            if len(element) > 1:\n",
    "                question[row[\"what\"]][element[0]] = np.median([ float(element[1]), question[row[\"what\"]][element[0]] ])\n",
    "            else:\n",
    "                question[row[\"what\"]][element[0]] = question[row[\"what\"]][element[0]]\n",
    "\n",
    "            \n",
    "    return question\n"
   ]
  },
  {
   "cell_type": "markdown",
   "metadata": {},
   "source": [
    "# Desafio 1\n",
    "\n",
    "Calcular a quantidade total de sessões únicas por arquivo do conjunto de dados e apresentar no formato JSON.\n",
    "\n",
    "Nesta função foi realizado um filtro para desconsiderar as sessoes abertas para descobrir o total de sessoes únicas por dataset."
   ]
  },
  {
   "cell_type": "code",
   "execution_count": 10,
   "metadata": {},
   "outputs": [],
   "source": [
    "def first_challenge(filename, question1):\n",
    "    df_question_1 = spark.sql(\"\"\"\n",
    "        SELECT COUNT(session_id) qtd_session\n",
    "        FROM clickstream\n",
    "        where same_section = false\n",
    "        \"\"\")\n",
    "    question1[filename] = df_question_1.collect()[0]['qtd_session']\n",
    "    return question1"
   ]
  },
  {
   "cell_type": "markdown",
   "metadata": {},
   "source": [
    "# Desafio 2\n",
    "Calcular a quantidade de sessões únicas que ocorreram em cada Browser, Sistema Operacional e Dispositivo dentro de todo o conjunto de dados.\n",
    "\n",
    "Nesta função foi identificado as famílias (<b>browser_family</b>, <b>os_family</b> e <b>device_family</b>) e em seguida por quantidade de tipo de cada família. \n",
    "\n",
    "Estáo sendo consideradas somente as sessões únicas."
   ]
  },
  {
   "cell_type": "code",
   "execution_count": 11,
   "metadata": {},
   "outputs": [],
   "source": [
    "def second_challenge(question2):\n",
    "    df_question_2 = spark.sql(\"\"\"\n",
    "        with table_temp as (--\n",
    "            SELECT *\n",
    "            FROM clickstream\n",
    "            where same_section = false\n",
    "        ), \n",
    "        table_union as (--\n",
    "            SELECT 'device_family' what, device_family ref, COUNT(session_id)  qtd_session\n",
    "              FROM table_temp\n",
    "             group by device_family\n",
    "            union\n",
    "            SELECT 'os_family' what, os_family ref, COUNT(session_id)  qtd_session\n",
    "              FROM table_temp\n",
    "            group by os_family\n",
    "            union\n",
    "            SELECT 'browser_family' what, browser_family ref, COUNT(session_id)  qtd_session\n",
    "              FROM table_temp\n",
    "             group by browser_family --\n",
    "        ),\n",
    "        table_collection as (--\n",
    "            select what, nvl(ref, 'Not Identified') || ':' || qtd_session collection \n",
    "            from table_union\n",
    "            order by what, ref--\n",
    "        )\n",
    "        select what, array_join(collect_list(trim(collection)),',')  collection\n",
    "        from table_collection\n",
    "        group by what\n",
    "        \"\"\")\n",
    "    \n",
    "    dados2 = df_question_2.toPandas()\n",
    "    return convert_to_Json_challenge2(dados2, question2)"
   ]
  },
  {
   "cell_type": "markdown",
   "metadata": {},
   "source": [
    "# Desafio 3\n",
    "\n",
    "Calcular a mediana da duração (em segundos) entre todas sessões únicas para cada segmento.\n",
    "\n",
    "De forma análoga ao desafio 2, esta função foram identificado as quantidades por família (<b>browser_family</b>, <b>os_family</b> e <b>device_family</b>).\n",
    "\n",
    "Estáo sendo consideradas somente as sessões que ficaram abertas.\n",
    "\n",
    "\n",
    "### Observação sobre o cálculo da Mediana\n",
    "Bem, a solicitação da Mediana requer na prática que todas as durações de um segmento fossem ordenadas, para assim poder realizar a escolha do ponto central. O que na prática parece ser inviável por se tratar de um Streaming, ou seja, o dataset em um ambiente de produção crescerá ao longo do tempo.\n",
    "\n",
    "O Autor resolveu este problema da seguinte forman:\n",
    "- Calcular a mediana de cada segmento por arquivo do dataSet. \n",
    "- Cada vez que um novo arquivo era processado, uma nova mediana seria calculada.\n",
    "- E usando o numpy, calculava-se a mediana das medianas, ou seja, o resultado do dataSet anterior com o resultado do Dataset atual.\n",
    "\n",
    "Bem, a mediana neste caso não é precisa, porém para o Author, o resultado calculado atende em ordem de grandeza/aproximação a proposta do desafio. "
   ]
  },
  {
   "cell_type": "code",
   "execution_count": 12,
   "metadata": {},
   "outputs": [],
   "source": [
    "def third_challenge(question3):\n",
    "    df_question_3 = spark.sql(\"\"\"\n",
    "        with table_temp as (--\n",
    "            SELECT *\n",
    "            FROM clickstream\n",
    "            where same_section = true\n",
    "        ), \n",
    "        table_union as (--\n",
    "            SELECT 'device_family' what, device_family ref, percentile_approx(delta_seg , 0.5) median   \n",
    "              FROM table_temp\n",
    "             group by device_family\n",
    "            union\n",
    "            SELECT 'os_family' what, os_family ref, percentile_approx(delta_seg , 0.5) median \n",
    "              FROM table_temp\n",
    "            group by os_family\n",
    "            union\n",
    "            SELECT 'browser_family' what, browser_family ref, percentile_approx(delta_seg , 0.5) median \n",
    "              FROM table_temp\n",
    "             group by browser_family --\n",
    "        ),\n",
    "        table_collection as (--\n",
    "            select what, nvl(ref, 'Not Identified') || ':' || median collection \n",
    "              from table_union\n",
    "             order by what, ref--\n",
    "        )\n",
    "        select what, array_join(collect_list(trim(collection)),',')  collection\n",
    "          from table_collection\n",
    "        group by what\n",
    "        \"\"\")\n",
    "    \n",
    "    dados3 = df_question_3.toPandas()\n",
    "    return convert_to_Json_challenge3(dados3, question3)"
   ]
  },
  {
   "cell_type": "markdown",
   "metadata": {},
   "source": [
    "# Aplicação\n",
    "Função que realiza o processamento de um dataset por vez.\n",
    "- Leitura do arquivo\n",
    "- criação do ClickStream (sessionamento)\n",
    "- dispara os algorítimos da primero, segundo e terceiro desafio\n",
    "- retorna os resultados dos desafios"
   ]
  },
  {
   "cell_type": "code",
   "execution_count": 13,
   "metadata": {},
   "outputs": [],
   "source": [
    "def process_dataset(filename, questions):\n",
    "    question1, question2, question3 = questions\n",
    "    df = read_json(filename)\n",
    "    get_clickstream_dataframe(df)\n",
    "    question1 = first_challenge(filename, question1)\n",
    "    question2 = second_challenge(question2)\n",
    "    question3 = third_challenge(question3)\n",
    "    \n",
    "    return question1, question2, question3\n"
   ]
  },
  {
   "cell_type": "markdown",
   "metadata": {},
   "source": [
    "Algorítimo que realiza a leitura em loop de todos os arquivos."
   ]
  },
  {
   "cell_type": "code",
   "execution_count": 14,
   "metadata": {},
   "outputs": [
    {
     "name": "stdout",
     "output_type": "stream",
     "text": [
      "part-00000.json.gz Start at 2020-08-28 22:51:14.816160\n",
      "part-00001.json.gz Start at 2020-08-28 23:21:14.319939\n",
      "part-00002.json.gz Start at 2020-08-28 23:53:07.234957\n",
      "part-00003.json.gz Start at 2020-08-29 00:18:32.079236\n",
      "part-00004.json.gz Start at 2020-08-29 00:54:56.534240\n",
      "part-00005.json.gz Start at 2020-08-29 01:24:16.688486\n",
      "part-00006.json.gz Start at 2020-08-29 01:45:21.289146\n",
      "part-00007.json.gz Start at 2020-08-29 02:18:40.099745\n",
      "part-00008.json.gz Start at 2020-08-29 04:18:02.588968\n",
      "part-00009.json.gz Start at 2020-08-29 04:56:30.977899\n",
      "Finished at 2020-08-29 05:25:39.735337\n"
     ]
    }
   ],
   "source": [
    "from datetime import datetime \n",
    "\n",
    "questions = {}, {}, {}\n",
    "\n",
    "for i in range(quantity_of_datasets):\n",
    "    filename = 'part-0000' + str(i) +'.json.gz'\n",
    "    print(filename, 'Start at', datetime.today())\n",
    "    questions = process_dataset(filename, questions)\n",
    "\n",
    "question1, question2, question3 = questions\n",
    "\n",
    "print('Finished at', datetime.today())"
   ]
  },
  {
   "cell_type": "markdown",
   "metadata": {},
   "source": [
    "# Resultados\n",
    "\n",
    "O primeiro resultado possui a quantidade de sessões unicas por arquivo de conjunto de dados em formato Json."
   ]
  },
  {
   "cell_type": "code",
   "execution_count": 15,
   "metadata": {},
   "outputs": [
    {
     "name": "stdout",
     "output_type": "stream",
     "text": [
      "{'part-00000.json.gz': 10234891, 'part-00001.json.gz': 10230776, 'part-00002.json.gz': 10227212, 'part-00003.json.gz': 10233329, 'part-00004.json.gz': 10233306, 'part-00005.json.gz': 10235205, 'part-00006.json.gz': 10232658, 'part-00007.json.gz': 10236335, 'part-00008.json.gz': 10228150, 'part-00009.json.gz': 10229043}\n"
     ]
    }
   ],
   "source": [
    "print(question1)"
   ]
  },
  {
   "cell_type": "markdown",
   "metadata": {},
   "source": [
    "O segundo resultado possui a quantidade de sessões únicas que ocorreram em cada Browser, Sistema Operacional e Dispositivo."
   ]
  },
  {
   "cell_type": "code",
   "execution_count": 16,
   "metadata": {},
   "outputs": [
    {
     "name": "stdout",
     "output_type": "stream",
     "text": [
      "{'device_family': {'': 1001.0, '1001-G Go': 2338.0, '2014819': 803.0, '4009E': 134.0, '4009I': 73.0, '4017F': 2451.0, '4028E': 27.0, '4034E': 15214.0, '4055J': 1728.0, '5010E': 14665.0, '5016J': 973.0, '5017E': 127.0, '5026J': 2744.0, '5033E': 3997.0, '5033J': 8881.0, '5045J': 4569.0, '5046J': 937.0, '5049E': 319.0, '5051J': 2510.0, '5054W': 95.0, '5056N': 292.0, '5085J': 2252.0, '5085N': 5142.0, '5090I': 265.0, '5152D': 3805.0, '5159J': 10077.0, '5186D': 1547.0, '5199I': 900.0, '6039J': 211.0, '6055B': 2116.0, '6060S': 71.0, '62S': 554.0, '7048A': 13.0, '705-G': 237.0, '705-G Go': 4813.0, '71S': 500.0, '8050E': 17607.0, '9008J': 3824.0, '9008N': 6670.0, '91S': 43.0, 'A3_Pro': 74.0, 'ALE-L21': 720.0, 'ATU-LX3': 39.0, 'Advance 4.0 L3': 377.0, 'Advance 4.0M': 426.0, 'Advance 5.2': 201.0, 'Advance L4': 918.0, 'Aquaris X Pro': 218.0, 'Archos 60 Platinum': 193.0, 'Archos Access 50 Color 3G': 279.0, 'Archos Core 50 4G': 774.0, 'Armor_3': 5.0, 'Armor_6': 222.0, 'Asus A001D': 107105.0, 'Asus A007': 18854.0, 'Asus ASUS': 682.0, 'Asus FBBD': 2900.0, 'Asus I001DB': 380.0, 'Asus I001DD': 165.0, 'Asus I01WD': 6630.0, 'Asus T00J': 417.0, 'Asus X008D': 1313.0, 'Asus X008DB': 10495.0, 'Asus X008DC': 72.0, 'Asus X00AD': 511.0, 'Asus X00ADA': 1825.0, 'Asus X00BD': 196.0, 'Asus X00DD': 180.0, 'Asus X00DDA': 13139.0, 'Asus X00DDB': 999.0, 'Asus X00GD': 244.0, 'Asus X00HD': 11342.0, 'Asus X00ID': 18342.0, 'Asus X00KD': 349.0, 'Asus X00LD': 88719.0, 'Asus X00LDA': 12295.0, 'Asus X00PD': 11122.0, 'Asus X00QD': 67892.0, 'Asus X00RD': 29891.0, 'Asus X00TD': 711.0, 'Asus X00TDB': 61365.0, 'Asus X013D': 12506.0, 'Asus X014D': 587.0, 'Asus X017D': 15434.0, 'Asus X017DA': 31090.0, 'Asus X018D': 11949.0, 'Asus X018DC': 23.0, 'Asus X01AD': 300.0, 'Asus X01BDA': 10505.0, 'Asus Z00A': 252.0, 'Asus Z00AD': 9642.0, 'Asus Z00LD': 2728.0, 'Asus Z00UD': 7322.0, 'Asus Z00VD': 1063.0, 'Asus Z00XS': 841.0, 'Asus Z00YD': 1725.0, 'Asus Z011D': 5497.0, 'Asus Z012DA': 164.0, 'Asus Z012DC': 35598.0, 'Asus Z012DE': 88.0, 'Asus Z017D': 859.0, 'Asus Z017DA': 637.0, 'Asus Z017DC': 18016.0, 'Asus Z01FD': 29.0, 'Asus Z01HDA': 1255.0, 'Asus Z01KD': 28914.0, 'Asus Z01KDA': 1490.0, 'Asus Z01MD': 5547.0, 'Asus Z01RD': 12654.0, 'Asus ZB500KG': 97.0, 'Asus ZE553KL': 4846.0, 'BBB100-1': 45.0, 'BBB100-2': 87.0, 'BBC100-1': 19.0, 'BBD100-2': 675.0, 'BL5000': 57.0, 'BLA-L29': 637.0, 'BLL-L22': 42.0, 'BLL-L23': 96.0, 'BLU ADVANCE 4.0 L2': 1420.0, 'BLU DASH L': 44.0, 'BLU DASH M2': 420.0, 'BLU DASH X2': 87.0, 'BLU ENERGY DIAMOND': 96.0, 'BLU Grand X LTE': 336.0, 'BLU NEO X MINI': 177.0, 'BLU STUDIO C HD': 24.0, 'BLU STUDIO G2': 636.0, 'BLU Studio Touch': 96.0, 'BV8000Pro': 152.0, 'BV9500': 42.0, 'Bluboo_S8_plus': 97.0, 'C NOTE 2': 705.0, 'C103': 61.0, 'C1604': 140.0, 'C2004': 16.0, 'C2304': 147.0, 'C5': 1925.0, 'C5303': 32.0, 'C5L': 59.0, 'C6': 775.0, 'C6503': 55.0, 'C6843': 11.0, 'C6943': 1452.0, 'C8': 100.0, 'CPH1803': 109.0, 'CPH1909': 561.0, 'CUBOT_J3': 80.0, 'CUBOT_P20': 65.0, 'CUBOT_POWER': 146.0, 'Che2-L11': 59.0, 'D2114': 398.0, 'D2212': 108.0, 'D2243': 115.0, 'D2306': 126.0, 'D2403': 491.0, 'D5322': 480.0, 'D5803': 17.0, 'D5833': 220.0, 'D6503': 22.0, 'D6543': 1536.0, 'D6603': 1206.0, 'D6633': 634.0, 'D6643': 63.0, 'DASH C MUSIC': 73.0, 'DIG-L01': 100.0, 'DIG-L03': 43.0, 'DUA-L22': 486.0, 'DUB-LX1': 665.0, 'DUB-LX3': 268.0, 'Dash L4 LTE': 198.0, 'E': 4072.0, 'E2124': 101.0, 'E2303': 128.0, 'E2306': 99.0, 'E2363': 678.0, 'E5343': 194.0, 'E5563': 414.0, 'E5643': 211.0, 'E6533': 26.0, 'E6553': 251.0, 'E6603': 261.0, 'E6633': 2577.0, 'E6653': 477.0, 'E6683': 52.0, 'E6833': 68.0, 'E6853': 830.0, 'ELUGA_A3_Pro': 302.0, 'EML-AL00': 108.0, 'ENERGY XL': 65.0, 'E_Lite': 1703.0, 'F': 13276.0, 'F3115': 382.0, 'F3116': 2148.0, 'F3216': 1030.0, 'F3313': 1241.0, 'F5121': 961.0, 'F5122': 1209.0, 'F8331': 204.0, 'F8332': 82.0, 'FRD-AL10': 131.0, 'FS8010': 18.0, 'F_Pro': 1242.0, 'G': 1316.0, 'G011A': 55.0, 'G3116': 1673.0, 'G3223': 117.0, 'G3226': 2945.0, 'G3311': 132.0, 'G3312': 355.0, 'G3313': 163.0, 'G3423': 52.0, 'G3426': 1278.0, 'G4': 96.0, 'G6 Plus': 25.0, 'G8141': 75.0, 'G8232': 49.0, 'G8341': 488.0, 'GIONEE S11 lite': 38.0, 'GO 2': 95.0, 'GO3C': 1681.0, 'GO3C Plus': 1650.0, 'GO3E': 5324.0, 'GO5E': 5727.0, 'GOME 2017M27A': 1682.0, 'GOME_C7_Note_Plus': 166.0, 'GOME_U9': 754.0, 'G_Max': 3243.0, 'G_Pro': 1833.0, 'Generic Feature Phone': 67.0, 'Generic Smartphone': 40317387.0, 'Generic Tablet': 16257.0, 'Grand M': 79.0, 'Grand Max': 942.0, 'Grand X': 648.0, 'Grand XL': 167.0, 'H': 187.0, 'H3223': 575.0, 'HDT-7427G': 519.0, 'HDT-9421G': 395.0, 'HP 7.1': 371.0, 'HS007C': 70.0, 'HT-705XS': 24.0, 'HT16': 379.0, 'HT37Pro': 106.0, 'HTC 10': 75.0, 'HTC 10 evo': 41.0, 'HTC 2Q4D100': 112.0, 'HTC D160LVWPP': 23.0, 'HTC Desire 550': 30.0, 'HTC One': 415.0, 'HTC One M8': 209.0, 'HTC One M9': 2334.0, 'HTC U11': 95.0, 'HUAWEI LUA-U23': 49.0, 'HUAWEI LYO-L21': 76.0, 'HUAWEI VNS-L23': 36.0, 'HUAWEI Y321-U051': 139.0, 'Huawei Browser': 1192.0, 'INE-LX1': 134.0, 'INE-LX2': 69.0, 'Inettv': 45.0, 'JOY': 987.0, 'JSN-L21': 760.0, 'K10': 19.0, 'K10000 Pro': 14.0, 'K3': 261.0, 'K501': 514.0, 'KFAUWI': 72.0, 'KFKAWI': 135.0, 'KING 7': 37.0, 'KIW-L24': 104.0, 'KYY23': 140.0, 'Kindle': 1313.0, 'Kingbox': 161.0, 'LEX626': 1367.0, 'LEX651': 216.0, 'LEX720': 183.0, 'LEX722': 97.0, 'LG K350': 722.0, 'LG K430': 182.0, 'LG M250': 1160.0, 'LG M320': 275.0, 'LG-AS330': 21.0, 'LG-D100': 2074.0, 'LG-D105': 3090.0, 'LG-D107': 871.0, 'LG-D125': 1116.0, 'LG-D157f': 775.0, 'LG-D175f': 1187.0, 'LG-D180f': 150.0, 'LG-D221': 133.0, 'LG-D227': 3245.0, 'LG-D285': 189.0, 'LG-D295': 1472.0, 'LG-D325': 2213.0, 'LG-D337': 53540.0, 'LG-D385': 2031.0, 'LG-D390': 42.0, 'LG-D410': 4228.0, 'LG-D618': 3006.0, 'LG-D683': 351.0, 'LG-D685': 1836.0, 'LG-D690': 106.0, 'LG-D690n': 7821.0, 'LG-D724': 344.0, 'LG-D805': 140.0, 'LG-D855': 515.0, 'LG-E415f': 118.0, 'LG-E425f': 67.0, 'LG-E435f': 392.0, 'LG-E455': 281.0, 'LG-E455f': 93.0, 'LG-E470f': 211.0, 'LG-E475f': 36.0, 'LG-E615f': 159.0, 'LG-E977': 118.0, 'LG-E989': 389.0, 'LG-H221': 839.0, 'LG-H222': 7967.0, 'LG-H326': 4368.0, 'LG-H340': 580.0, 'LG-H342': 4611.0, 'LG-H422': 5419.0, 'LG-H442': 77.0, 'LG-H502': 4487.0, 'LG-H520': 3378.0, 'LG-H522': 7078.0, 'LG-H540': 4862.0, 'LG-H630': 4421.0, 'LG-H735': 15.0, 'LG-H736': 243.0, 'LG-H815': 2720.0, 'LG-H818': 4830.0, 'LG-H820': 154.0, 'LG-H830': 187.0, 'LG-H831': 192.0, 'LG-H840': 4780.0, 'LG-H860': 1725.0, 'LG-H870': 14397.0, 'LG-H870DS': 452.0, 'LG-H870I': 9945.0, 'LG-H870S': 134.0, 'LG-H870V': 97.0, 'LG-H871': 41.0, 'LG-H873': 639.0, 'LG-H910': 73.0, 'LG-H918': 90.0, 'LG-H930': 54.0, 'LG-H931': 68.0, 'LG-H990': 571.0, 'LG-K100': 21.0, 'LG-K120': 4163.0, 'LG-K130': 40299.0, 'LG-K200': 41869.0, 'LG-K220': 71339.0, 'LG-K350': 52692.0, 'LG-K410': 3338.0, 'LG-K420': 1085.0, 'LG-K428': 28.0, 'LG-K430': 362463.0, 'LG-K500': 6037.0, 'LG-K500n': 9.0, 'LG-K520': 107.0, 'LG-K530': 199.0, 'LG-K580': 10354.0, 'LG-M150': 32.0, 'LG-M151': 32.0, 'LG-M210': 22.0, 'LG-M250': 694528.0, 'LG-M257': 82.0, 'LG-M320': 381681.0, 'LG-M327': 95.0, 'LG-M400': 39875.0, 'LG-M700': 158408.0, 'LG-P705': 87.0, 'LG-TP260': 46.0, 'LG-V480': 42.0, 'LG-V500': 61.0, 'LG-V700': 78.0, 'LG-X170fTV': 979.0, 'LG-X210': 1600.0, 'LG-X220': 5478.0, 'LG-X230': 203336.0, 'LG-X240': 12120.0, 'LGMP260': 1518.0, 'LGMS210': 186.0, 'LIO+': 685.0, 'LM-G710': 455.0, 'LM-Q610.FGN': 12062.0, 'LM-Q710(FGN)': 769.0, 'LM-Q710.FGN': 4961.0, 'LM-X210': 213072.0, 'LM-X410.F': 286956.0, 'LM-X420': 15601.0, 'LND-AL30': 309.0, 'Le X520': 5.0, 'Le X522': 652.0, 'Le X526': 172.0, 'Le X620': 57.0, 'Le X820': 156.0, 'Lenny4 Plus': 88.0, 'Lenovo A1000': 518.0, 'Lenovo A1010a20': 1066.0, 'Lenovo A2016a40': 1535.0, 'Lenovo A2016b30': 36655.0, 'Lenovo A3300-GV': 199.0, 'Lenovo A6020a40': 3032.0, 'Lenovo A6020a46': 172.0, 'Lenovo A6020l36': 79691.0, 'Lenovo A7010a48': 6998.0, 'Lenovo A7600-F': 33.0, 'Lenovo B8000-F': 478.0, 'Lenovo K10a40': 32925.0, 'Lenovo K10e70': 188.0, 'Lenovo K33a42': 386.0, 'Lenovo K33a48': 5610.0, 'Lenovo K33b36': 74458.0, 'Lenovo K50-t5': 330.0, 'Lenovo K51c78': 82.0, 'Lenovo K520': 1708.0, 'Lenovo K53a48': 1543.0, 'Lenovo K53b36': 39969.0, 'Lenovo K8 Note': 2263.0, 'Lenovo K8 Plus': 8176.0, 'Lenovo L18021': 342.0, 'Lenovo L19041': 95.0, 'Lenovo L38012': 467.0, 'Lenovo L38041': 1851.0, 'Lenovo L38111': 302.0, 'Lenovo L58041': 330.0, 'Lenovo L78011': 228.0, 'Lenovo L78032': 1073.0, 'Lenovo L78051': 1313.0, 'Lenovo L78071': 1541.0, 'Lenovo P1c58': 332.0, 'Lenovo P2a42': 14.0, 'Lenovo PB2-670M': 79.0, 'Lenovo PB2-670N': 100.0, 'Lenovo TAB 2 A10-70F': 85.0, 'Lenovo TB-8703F': 137.0, 'Lenovo TB-8703X': 492.0, 'Lenovo TB-X103F': 257.0, 'Lenovo TB-X304F': 174.0, 'Lenovo TB-X605F': 91.0, 'Lenovo TB2-X30F': 573.0, 'Lenovo TB3-X70F': 95.0, 'Lenovo YB1-X90F': 16.0, 'Lenovo Z90-7': 143.0, 'Life One X2': 21.0, 'Life One X2 Mini': 80.0, 'Lumia 435': 45.0, 'Lumia 640': 281.0, 'Lumia 950': 56.0, 'M10A': 43.0, 'M10A-Lite': 166.0, 'M5c': 289.0, 'M5s': 51.0, 'M6 Note': 833.0, 'M6T': 559.0, 'M7-3G-PLUS': 5001.0, 'M7-4G': 1344.0, 'M7SQC_Plus': 511.0, 'M7S_LITE': 283.0, 'M7_3G_PLUS': 1368.0, 'M7sLite': 213.0, 'M8 Pro': 68.0, 'M9 Pro': 302.0, 'M9-3G': 435.0, 'MEGA': 250.0, 'MHA-L29': 6.0, 'MIX': 939.0, 'MIX 2': 618.0, 'ML-CH-MS45_4G': 1247.0, 'ML-JI11-M7_3G_PLUS': 168.0, 'ML-SO-M7_3G_PLUS': 427.0, 'ML-TI-MS80': 1455.0, 'ML-WI-M9-3G': 23.0, 'MN4A2ZP/A': 261.0, 'MONDIAL': 138.0, 'MS40G': 7101.0, 'MS40S': 1144.0, 'MS45S': 83.0, 'MS45S_A6': 1270.0, 'MS45S_A6_Teen': 102.0, 'MS50': 18.0, 'MS50G': 15089.0, 'MS50L': 29032.0, 'MS50L_4G': 1189.0, 'MS50M': 436.0, 'MS50S': 104.0, 'MS50X': 8819.0, 'MS50_4G': 573.0, 'MS55': 2781.0, 'MS55M': 646.0, 'MS60': 1730.0, 'MS60F': 4428.0, 'MS60F_PLUS': 1342.0, 'MS60X': 1466.0, 'MS60Z': 1136.0, 'MS70': 2959.0, 'MS80X': 1747.0, 'MUV': 2292.0, 'MX9-4K': 76.0, 'MYA-L11': 465.0, 'MYA-L23': 660.0, 'MZ-M5 Note': 15.0, 'MZ-M5c': 297.0, 'MZ-M5s': 580.0, 'MZ-MX4': 6.0, 'MZ-Meizu M6s': 28.0, 'MZ-meizu C9': 70.0, 'Magnum One': 98.0, 'Maya': 36.0, 'Meizu M6': 115.0, 'Meizu M6s': 178.0, 'Mi A1': 65.0, 'Mi A2': 1346.0, 'Mi A2 Lite': 1857.0, 'Mi MIX 2': 53.0, 'Mi Note 2': 1783.0, 'Micromax P789': 369.0, 'Microsoft Virtual': 68.0, 'Moto C': 38666.0, 'Moto C Plus': 155663.0, 'Moto E': 650.0, 'Moto E (4)': 84042.0, 'Moto E (4) Plus': 140666.0, 'Moto G': 101.0, 'Moto G (4)': 158121.0, 'Moto G (5)': 358078.0, 'Moto G (5) Plus': 184950.0, 'Moto G (5S)': 368239.0, 'Moto G (5S) Plus': 368610.0, 'Moto G 2014': 31.0, 'Moto G Play': 210873.0, 'Moto G4 Plus': 96.0, 'Moto G5 (XT1672)': 2846.0, 'Moto G5S (XT1792)': 37.0, 'Moto X Play': 15157.0, 'Moto X4': 26.0, 'Moto Z (2)': 13327.0, 'Moto Z2 Play': 193927.0, 'Moto Z3 Play': 134201.0, 'MotoE2': 1132.0, 'MotoE2(4G-LTE)': 5116.0, 'MotoG3': 69671.0, 'MotoG3-TE': 4318.0, 'Motorola MZ608': 65.0, 'N5L': 54.0, 'NP-752Go': 2966.0, 'NP-852': 64.0, 'NX551J': 321.0, 'NX563J': 305.0, 'NX569J': 155.0, 'NX573J': 1066.0, 'NX591J': 734.0, 'NX612J': 136.0, 'Neffos C5': 303.0, 'Neffos X1 Lite': 292.0, 'Nexus 5': 494614.0, 'Nexus 5X': 650.0, 'Nokia 2': 3076.0, 'Nokia 2.3': 139.0, 'Nokia 3': 67.0, 'Nokia 3.1': 22.0, 'Nokia 3.1 Plus': 152.0, 'Nokia 6': 3363.0, 'Nokia 6.1 Plus': 1730.0, 'Nokia 7': 61.0, 'Nokia 7 plus': 112.0, 'Nokia 7.1': 830.0, 'ONEPLUS A3003': 661.0, 'One Pro': 332.0, 'Opal 4S': 415.0, 'Other': 14651108.0, 'P10': 232.0, 'PHONEMAX_Saturn': 99.0, 'POCOPHONE F1': 330.0, 'PRA-LX1': 297.0, 'PRO 7-S': 177.0, 'PTB7PAP_PTB7PAB_PTB7PAR': 252.0, 'PTB7QSG_3G': 111.0, 'Pixel 2': 464.0, 'Pixel 2 XL': 32.0, 'Pixel C': 260.0, 'Platinum_5.0M': 169.0, 'PlayStation 4': 682.0, 'Plus E': 36.0, 'Positivo Slim': 1294.0, 'Positivo Twist 4G': 5722.0, 'Positivo Twist M': 3378.0, 'Positivo Twist S': 3271.0, 'Positivo US2070': 35.0, 'Power 3S': 63.0, 'Power_5': 335.0, 'Pure XR': 73.0, 'Q05A': 68.0, 'Q06': 128.0, 'Quantum Fly': 32.0, 'Quantum Go': 1740.0, 'Quantum MUV PRO': 4047.0, 'Quantum MUV UP': 249.0, 'Quantum V': 46.0, 'Quantum You 2': 821.0, 'Quantum You E': 27.0, 'Quartzo UP': 1019.0, 'R1 PLUS': 197.0, 'R2 LTE': 700.0, 'RCT6A03W13': 92.0, 'RNE-L21': 415.0, 'RNE-L22': 474.0, 'RNE-L23': 344.0, 'RS988': 369.0, 'S10': 303.0, 'S10_Pro': 359.0, 'S30': 194.0, 'S31': 367.0, 'S41': 1092.0, 'S420': 110.0, 'S430 Positivo Twist Mini': 1381.0, 'S455': 291.0, 'S55': 91.0, 'S60': 147.0, 'S60Lite': 331.0, 'S70': 171.0, 'S8': 373.0, 'S9 Plus': 398.0, 'S9+': 392.0, 'SC-02H': 16.0, 'SGP311': 77.0, 'SGP551': 536.0, 'SKY 5.0W': 101.0, 'STH100-2': 93.0, 'STV-2000': 57.0, 'STV100-3': 887.0, 'SUPER': 11.0, 'Samsung GT-I8190L': 619.0, 'Samsung GT-I8200L': 231.0, 'Samsung GT-I8262B': 442.0, 'Samsung GT-I8552': 21.0, 'Samsung GT-I8552B': 9405.0, 'Samsung GT-I9060C': 26024.0, 'Samsung GT-I9060I': 1679.0, 'Samsung GT-I9063T': 4805.0, 'Samsung GT-I9070': 78.0, 'Samsung GT-I9082': 250.0, 'Samsung GT-I9082L': 1291.0, 'Samsung GT-I9105P': 86.0, 'Samsung GT-I9152': 2385.0, 'Samsung GT-I9192': 18863.0, 'Samsung GT-I9195': 964.0, 'Samsung GT-I9200': 97.0, 'Samsung GT-I9295': 668.0, 'Samsung GT-I9300': 629.0, 'Samsung GT-I9300I': 4346.0, 'Samsung GT-I9500': 1146.0, 'Samsung GT-I9505': 8691.0, 'Samsung GT-I9505G': 32.0, 'Samsung GT-I9515': 154.0, 'Samsung GT-I9515L': 10118.0, 'Samsung GT-N5100': 162.0, 'Samsung GT-N7000': 197.0, 'Samsung GT-N7100': 542.0, 'Samsung GT-N7105T': 37.0, 'Samsung GT-N8000': 720.0, 'Samsung GT-P3100': 146.0, 'Samsung GT-P3110': 69.0, 'Samsung GT-P5200': 330.0, 'Samsung GT-P5210': 22.0, 'Samsung GT-S5303B': 87.0, 'Samsung GT-S5310B': 905.0, 'Samsung GT-S5310C': 207.0, 'Samsung GT-S5312C': 1700.0, 'Samsung GT-S6293T': 5817.0, 'Samsung GT-S6313T': 349.0, 'Samsung GT-S6792L': 34.0, 'Samsung GT-S6810B': 35.0, 'Samsung GT-S6812B': 111.0, 'Samsung GT-S7273T': 990.0, 'Samsung GT-S7275B': 232.0, 'Samsung GT-S7392L': 203.0, 'Samsung GT-S7560M': 56.0, 'Samsung GT-S7562L': 81.0, 'Samsung GT-S7582': 55.0, 'Samsung GT-S7582L': 4404.0, 'Samsung GT-S7583T': 1052.0, 'Samsung KDDI': 18.0, 'Samsung SAMSUNG SM-N9005': 37.0, 'Samsung SAMSUNG-SM-J320A': 370.0, 'Samsung SM-A015M': 13988.0, 'Samsung SM-A102U': 538.0, 'Samsung SM-A102U1': 190.0, 'Samsung SM-A105F': 2095.0, 'Samsung SM-A105FN': 1621.0, 'Samsung SM-A105G': 197.0, 'Samsung SM-A105M': 1365397.0, 'Samsung SM-A107F': 483.0, 'Samsung SM-A107M': 396253.0, 'Samsung SM-A115M': 268.0, 'Samsung SM-A202F': 1195.0, 'Samsung SM-A205F': 1383.0, 'Samsung SM-A205G': 932514.0, 'Samsung SM-A205GN': 337.0, 'Samsung SM-A207M': 374538.0, 'Samsung SM-A217M': 53.0, 'Samsung SM-A260F': 41.0, 'Samsung SM-A260G': 879.0, 'Samsung SM-A300FU': 119.0, 'Samsung SM-A300M': 7001.0, 'Samsung SM-A305F': 438.0, 'Samsung SM-A305FN': 85.0, 'Samsung SM-A305G': 2087.0, 'Samsung SM-A305GN': 90.0, 'Samsung SM-A305GT': 717587.0, 'Samsung SM-A305YN': 49.0, 'Samsung SM-A307G': 157.0, 'Samsung SM-A307GN': 39.0, 'Samsung SM-A307GT': 550895.0, 'Samsung SM-A310F': 172.0, 'Samsung SM-A310M': 6609.0, 'Samsung SM-A315G': 3557.0, 'Samsung SM-A320F': 75.0, 'Samsung SM-A405FN': 1700.0, 'Samsung SM-A500H': 31.0, 'Samsung SM-A500M': 30355.0, 'Samsung SM-A505F': 1174.0, 'Samsung SM-A505FN': 82.0, 'Samsung SM-A505G': 9240.0, 'Samsung SM-A505GT': 629960.0, 'Samsung SM-A507FN': 48.0, 'Samsung SM-A510M': 45131.0, 'Samsung SM-A515F': 221848.0, 'Samsung SM-A520F': 123547.0, 'Samsung SM-A520W': 51.0, 'Samsung SM-A530F': 122161.0, 'Samsung SM-A600FN': 278.0, 'Samsung SM-A600GN': 98.0, 'Samsung SM-A605FN': 798.0, 'Samsung SM-A605G': 33.0, 'Samsung SM-A605GN': 74417.0, 'Samsung SM-A6060': 233.0, 'Samsung SM-A700FD': 6433.0, 'Samsung SM-A700YD': 174.0, 'Samsung SM-A7050': 99.0, 'Samsung SM-A705FN': 823.0, 'Samsung SM-A705MN': 259296.0, 'Samsung SM-A710M': 10909.0, 'Samsung SM-A715F': 76628.0, 'Samsung SM-A720F': 71189.0, 'Samsung SM-A730F': 74534.0, 'Samsung SM-A750F': 402.0, 'Samsung SM-A750FN': 236.0, 'Samsung SM-A750G': 177630.0, 'Samsung SM-A750GN': 337.0, 'Samsung SM-A805F': 76865.0, 'Samsung SM-A9000': 89.0, 'Samsung SM-A910F': 37083.0, 'Samsung SM-A920F': 90733.0, 'Samsung SM-A920X': 28.0, 'Samsung SM-B313E': 156.0, 'Samsung SM-C5000': 822.0, 'Samsung SM-C5010': 497.0, 'Samsung SM-C7000': 159.0, 'Samsung SM-C7010': 157.0, 'Samsung SM-C9000': 1194.0, 'Samsung SM-E500M': 1405.0, 'Samsung SM-E700M': 7448.0, 'Samsung SM-F700F': 440.0, 'Samsung SM-G110B': 223.0, 'Samsung SM-G130BU': 51.0, 'Samsung SM-G316M': 282.0, 'Samsung SM-G316ML': 265.0, 'Samsung SM-G318ML': 80.0, 'Samsung SM-G3502L': 436.0, 'Samsung SM-G3502T': 888.0, 'Samsung SM-G355M': 1798.0, 'Samsung SM-G360BT': 12264.0, 'Samsung SM-G360M': 2990.0, 'Samsung SM-G3812B': 254.0, 'Samsung SM-G530A': 127.0, 'Samsung SM-G530BT': 48025.0, 'Samsung SM-G530H': 6556.0, 'Samsung SM-G530MU': 614.0, 'Samsung SM-G530T': 409.0, 'Samsung SM-G531BT': 56395.0, 'Samsung SM-G531H': 117777.0, 'Samsung SM-G531M': 8637.0, 'Samsung SM-G532F': 2281.0, 'Samsung SM-G532G': 833.0, 'Samsung SM-G532M': 196982.0, 'Samsung SM-G532MT': 697614.0, 'Samsung SM-G570F': 775.0, 'Samsung SM-G570M': 1051521.0, 'Samsung SM-G570Y': 437.0, 'Samsung SM-G6000': 44.0, 'Samsung SM-G600FY': 84674.0, 'Samsung SM-G6100': 923.0, 'Samsung SM-G610F': 20518.0, 'Samsung SM-G610M': 1225245.0, 'Samsung SM-G611F': 505.0, 'Samsung SM-G611M': 2637.0, 'Samsung SM-G611MT': 306078.0, 'Samsung SM-G615F': 79.0, 'Samsung SM-G7102': 49.0, 'Samsung SM-G7102T': 574.0, 'Samsung SM-G770F': 2166.0, 'Samsung SM-G800H': 9683.0, 'Samsung SM-G850F': 330.0, 'Samsung SM-G850M': 153.0, 'Samsung SM-G890A': 8.0, 'Samsung SM-G891A': 317.0, 'Samsung SM-G892A': 78.0, 'Samsung SM-G900A': 30.0, 'Samsung SM-G900F': 662.0, 'Samsung SM-G900FD': 196.0, 'Samsung SM-G900H': 28.0, 'Samsung SM-G900M': 20158.0, 'Samsung SM-G900MD': 4806.0, 'Samsung SM-G900P': 1750.0, 'Samsung SM-G900T': 40.0, 'Samsung SM-G903F': 131.0, 'Samsung SM-G903M': 9663.0, 'Samsung SM-G920A': 207.0, 'Samsung SM-G920F': 2297.0, 'Samsung SM-G920I': 33530.0, 'Samsung SM-G920T': 58.0, 'Samsung SM-G920V': 1314.0, 'Samsung SM-G925A': 404.0, 'Samsung SM-G925F': 1416.0, 'Samsung SM-G925I': 23667.0, 'Samsung SM-G925P': 21.0, 'Samsung SM-G928A': 109.0, 'Samsung SM-G928F': 267.0, 'Samsung SM-G928G': 4855.0, 'Samsung SM-G928T': 30.0, 'Samsung SM-G930A': 2006.0, 'Samsung SM-G930F': 128283.0, 'Samsung SM-G930T': 96.0, 'Samsung SM-G930U': 2282.0, 'Samsung SM-G930V': 2062.0, 'Samsung SM-G935A': 376.0, 'Samsung SM-G935F': 137697.0, 'Samsung SM-G935L': 18.0, 'Samsung SM-G935P': 396.0, 'Samsung SM-G935S': 249.0, 'Samsung SM-G935U': 190.0, 'Samsung SM-G950F': 239451.0, 'Samsung SM-G950U': 1767.0, 'Samsung SM-G950U1': 2589.0, 'Samsung SM-G955F': 146520.0, 'Samsung SM-G955N': 208.0, 'Samsung SM-G955U': 1661.0, 'Samsung SM-G955U1': 1377.0, 'Samsung SM-G955W': 48.0, 'Samsung SM-G9600': 274191.0, 'Samsung SM-G960F': 4928.0, 'Samsung SM-G960U': 1418.0, 'Samsung SM-G960U1': 1227.0, 'Samsung SM-G960W': 460.0, 'Samsung SM-G960X': 431.0, 'Samsung SM-G9650': 296147.0, 'Samsung SM-G965F': 4924.0, 'Samsung SM-G965U': 2374.0, 'Samsung SM-G965U1': 1728.0, 'Samsung SM-G970F': 145352.0, 'Samsung SM-G970N': 406.0, 'Samsung SM-G970U': 74.0, 'Samsung SM-G970U1': 96.0, 'Samsung SM-G970X': 423.0, 'Samsung SM-G9730': 23.0, 'Samsung SM-G973F': 153723.0, 'Samsung SM-G973U': 166.0, 'Samsung SM-G973U1': 982.0, 'Samsung SM-G9750': 135.0, 'Samsung SM-G975F': 249968.0, 'Samsung SM-G975U': 495.0, 'Samsung SM-G975U1': 1638.0, 'Samsung SM-G975W': 683.0, 'Samsung SM-G980F': 9656.0, 'Samsung SM-G985F': 14687.0, 'Samsung SM-G988B': 2760.0, 'Samsung SM-G988U': 47.0, 'Samsung SM-G988U1': 18.0, 'Samsung SM-J100M': 548.0, 'Samsung SM-J105B': 135937.0, 'Samsung SM-J105H': 107.0, 'Samsung SM-J105M': 24233.0, 'Samsung SM-J106B': 1391.0, 'Samsung SM-J106F': 58.0, 'Samsung SM-J106H': 2845.0, 'Samsung SM-J106M': 136.0, 'Samsung SM-J110L': 75.0, 'Samsung SM-J110M': 1935.0, 'Samsung SM-J111F': 458.0, 'Samsung SM-J111M': 1876.0, 'Samsung SM-J120AZ': 71.0, 'Samsung SM-J120H': 87896.0, 'Samsung SM-J120M': 4510.0, 'Samsung SM-J200BT': 48352.0, 'Samsung SM-J200G': 134.0, 'Samsung SM-J200H': 859.0, 'Samsung SM-J200M': 21233.0, 'Samsung SM-J250F': 103.0, 'Samsung SM-J250M': 84761.0, 'Samsung SM-J260F': 6.0, 'Samsung SM-J260G': 916.0, 'Samsung SM-J260M': 372687.0, 'Samsung SM-J260MU': 4278.0, 'Samsung SM-J260T1': 57.0, 'Samsung SM-J3110': 353.0, 'Samsung SM-J3119S': 37.0, 'Samsung SM-J320F': 148.0, 'Samsung SM-J320FN': 415.0, 'Samsung SM-J320H': 1428.0, 'Samsung SM-J320M': 134113.0, 'Samsung SM-J326AZ': 1055.0, 'Samsung SM-J327T1': 15.0, 'Samsung SM-J327W': 44.0, 'Samsung SM-J330F': 94.0, 'Samsung SM-J330FN': 124.0, 'Samsung SM-J330G': 995.0, 'Samsung SM-J400F': 94.0, 'Samsung SM-J400M': 321733.0, 'Samsung SM-J410F': 490.0, 'Samsung SM-J410G': 581226.0, 'Samsung SM-J415F': 93.0, 'Samsung SM-J415FN': 478.0, 'Samsung SM-J415G': 480651.0, 'Samsung SM-J500F': 162.0, 'Samsung SM-J500FN': 37.0, 'Samsung SM-J500H': 2382.0, 'Samsung SM-J500M': 553808.0, 'Samsung SM-J510FN': 104.0, 'Samsung SM-J510MN': 123953.0, 'Samsung SM-J530F': 125.0, 'Samsung SM-J530G': 268282.0, 'Samsung SM-J600F': 56.0, 'Samsung SM-J600FN': 158.0, 'Samsung SM-J600G': 3675.0, 'Samsung SM-J600GT': 575616.0, 'Samsung SM-J610F': 133.0, 'Samsung SM-J610FN': 437.0, 'Samsung SM-J610G': 452306.0, 'Samsung SM-J700F': 3549.0, 'Samsung SM-J700H': 2067.0, 'Samsung SM-J700M': 341873.0, 'Samsung SM-J700T': 175.0, 'Samsung SM-J700T1': 518.0, 'Samsung SM-J701F': 1961.0, 'Samsung SM-J701M': 2925.0, 'Samsung SM-J701MT': 417172.0, 'Samsung SM-J710F': 1738.0, 'Samsung SM-J710MN': 370149.0, 'Samsung SM-J720M': 6752.0, 'Samsung SM-J727T': 88.0, 'Samsung SM-J727T1': 147.0, 'Samsung SM-J727U': 118.0, 'Samsung SM-J730F': 2126.0, 'Samsung SM-J730G': 358198.0, 'Samsung SM-J730GM': 6051.0, 'Samsung SM-J737T1': 254.0, 'Samsung SM-J737U': 38.0, 'Samsung SM-J810F': 364.0, 'Samsung SM-J810G': 139.0, 'Samsung SM-J810M': 643069.0, 'Samsung SM-J810Y': 103.0, 'Samsung SM-M105M': 68529.0, 'Samsung SM-M205M': 51437.0, 'Samsung SM-M305M': 62999.0, 'Samsung SM-N7502': 209.0, 'Samsung SM-N770F': 6472.0, 'Samsung SM-N9005': 3138.0, 'Samsung SM-N910A': 1221.0, 'Samsung SM-N910C': 3935.0, 'Samsung SM-N915T': 554.0, 'Samsung SM-N920A': 330.0, 'Samsung SM-N920C': 1456.0, 'Samsung SM-N920G': 2662.0, 'Samsung SM-N920S': 1139.0, 'Samsung SM-N935F': 281.0, 'Samsung SM-N950F': 47743.0, 'Samsung SM-N950U': 1089.0, 'Samsung SM-N950U1': 335.0, 'Samsung SM-N9600': 79075.0, 'Samsung SM-N960F': 5147.0, 'Samsung SM-N960N': 1161.0, 'Samsung SM-N960U': 489.0, 'Samsung SM-N960U1': 296.0, 'Samsung SM-N9700': 63.0, 'Samsung SM-N970F': 26783.0, 'Samsung SM-N9750': 48.0, 'Samsung SM-N975F': 73657.0, 'Samsung SM-N975U': 51.0, 'Samsung SM-N975U1': 79.0, 'Samsung SM-N976U': 669.0, 'Samsung SM-P200': 99.0, 'Samsung SM-P205': 186.0, 'Samsung SM-P355M': 1451.0, 'Samsung SM-P550': 842.0, 'Samsung SM-P555M': 686.0, 'Samsung SM-P585M': 1350.0, 'Samsung SM-P605M': 43.0, 'Samsung SM-P615': 132.0, 'Samsung SM-T110': 272.0, 'Samsung SM-T111M': 677.0, 'Samsung SM-T113NU': 172.0, 'Samsung SM-T116BU': 420.0, 'Samsung SM-T280': 4810.0, 'Samsung SM-T285M': 13812.0, 'Samsung SM-T285YD': 463.0, 'Samsung SM-T290': 413.0, 'Samsung SM-T295': 2953.0, 'Samsung SM-T311': 30.0, 'Samsung SM-T330': 27.0, 'Samsung SM-T331': 78.0, 'Samsung SM-T385M': 1830.0, 'Samsung SM-T510': 2703.0, 'Samsung SM-T515': 2859.0, 'Samsung SM-T530': 15.0, 'Samsung SM-T550': 1507.0, 'Samsung SM-T555': 1990.0, 'Samsung SM-T560': 164.0, 'Samsung SM-T561M': 179.0, 'Samsung SM-T580': 122.0, 'Samsung SM-T585': 1916.0, 'Samsung SM-T595': 2309.0, 'Samsung SM-T700': 101.0, 'Samsung SM-T705M': 436.0, 'Samsung SM-T715Y': 158.0, 'Samsung SM-T725': 1018.0, 'Samsung SM-T805M': 570.0, 'Samsung SM-T810': 91.0, 'Samsung SM-T815Y': 30.0, 'Samsung SM-T819': 737.0, 'Samsung SM-T819Y': 761.0, 'Samsung SM-T820': 155.0, 'Samsung SM-T825': 1412.0, 'Samsung SM-T835': 88.0, 'Samsung SM-T865': 321.0, 'Sky': 1861.0, 'Skywalker': 417.0, 'Smartphone DL Horizon H8': 371.0, 'Smartphone_YZU_DS53': 374.0, 'Spider': 8091884.0, 'Studio J2': 317.0, 'Studio View XL': 370.0, 'Sunny3': 74.0, 'T96 Mars': 40.0, 'TP601B': 46.0, 'TRT-L53': 506.0, 'TRT-LX1': 7.0, 'TV BOX': 96.0, 'TVBOX': 195.0, 'TWIST 4.0': 31.0, 'TX92': 80.0, 'Tablet_DL_2811': 1198.0, 'Tablet_DL_2820': 173.0, 'Tablet_DL_4010': 194.0, 'Twist (2018)': 13396.0, 'Twist 2': 11923.0, 'Twist 2 Fit': 6561.0, 'Twist 2 Go': 115.0, 'Twist 2 Pro': 5249.0, 'Twist 3': 1907.0, 'Twist Max': 39.0, 'Twist Metal': 1513.0, 'Twist Metal 32GB': 1639.0, 'Twist Mini': 15444.0, 'Twist Tab': 56.0, 'Twist XL': 2433.0, 'U2': 143.0, 'Ulefone_Armor_5': 90.0, 'VF-1397': 64.0, 'VFD 620': 130.0, 'VIE-L09': 64.0, 'VKY-L29': 96.0, 'Vivo 5 Mini': 253.0, 'Vivo 5R': 63.0, 'Vivo 8': 45.0, 'Vivo XI': 2269.0, 'Vivo XI+': 544.0, 'Vivo XL4': 112.0, 'WAS-LX1': 267.0, 'WAS-LX3': 176.0, 'WP5000': 110.0, 'X206': 47.0, 'X21 Plus': 74.0, 'X23': 81.0, 'X50A': 84.0, 'XT1021': 136.0, 'XT1022': 1085.0, 'XT1025': 1234.0, 'XT1032': 5631.0, 'XT1033': 12528.0, 'XT1034': 88.0, 'XT1039': 259.0, 'XT1040': 1669.0, 'XT1058': 562.0, 'XT1064': 247.0, 'XT1068': 12304.0, 'XT1069': 16447.0, 'XT1078': 1915.0, 'XT1079': 1681.0, 'XT1092': 93.0, 'XT1097': 8852.0, 'XT1225': 1983.0, 'XT1562': 145.0, 'XT1563': 782.0, 'XT1572': 933.0, 'XT1580': 2871.0, 'XT1585': 77.0, 'XT1609': 50.0, 'XT1635-02': 49188.0, 'XT1635-03': 80.0, 'XT1650': 4705.0, 'XT1662': 315.0, 'XT1663': 30.0, 'XT1706': 83.0, 'XT1799-2': 534.0, 'XT1802': 90.0, 'XT621': 25.0, 'XT918': 88.0, 'XiaoMi MI 5': 370.0, 'XiaoMi MI 5X': 1375.0, 'XiaoMi MI 5s': 524.0, 'XiaoMi MI 5s Plus': 1209.0, 'XiaoMi MI 6': 6964.0, 'XiaoMi MI 6X': 901.0, 'XiaoMi MI 8': 23202.0, 'XiaoMi MI 8 Lite': 224838.0, 'XiaoMi MI 8 Pro': 8353.0, 'XiaoMi MI 8 SE': 227.0, 'XiaoMi MI 9': 74411.0, 'XiaoMi MI 9 SE': 4252.0, 'XiaoMi MI 9 Transparent Edition': 161.0, 'XiaoMi MI A3': 113.0, 'XiaoMi MI CC 9': 33.0, 'XiaoMi MI CC9 Pro': 245.0, 'XiaoMi MI CC9 Pro Premium Edition': 97.0, 'XiaoMi MI MAX': 332.0, 'XiaoMi MI MAX 2': 2172.0, 'XiaoMi MI MAX 3': 10312.0, 'XiaoMi MI PLAY': 11042.0, 'XiaoMi Redmi 3': 409.0, 'XiaoMi Redmi 3S': 68.0, 'XiaoMi Redmi 4': 239.0, 'XiaoMi Redmi 4A': 3299.0, 'XiaoMi Redmi 4X': 3650.0, 'XiaoMi Redmi 5': 4904.0, 'XiaoMi Redmi 5 Plus': 24216.0, 'XiaoMi Redmi 5A': 3472.0, 'XiaoMi Redmi 6': 54770.0, 'XiaoMi Redmi 6 Pro': 605.0, 'XiaoMi Redmi 6A': 55786.0, 'XiaoMi Redmi 7': 62385.0, 'XiaoMi Redmi 7A': 85102.0, 'XiaoMi Redmi 8': 55127.0, 'XiaoMi Redmi 8A': 41738.0, 'XiaoMi Redmi Go': 23643.0, 'XiaoMi Redmi K20': 311.0, 'XiaoMi Redmi K20 Pro': 400.0, 'XiaoMi Redmi K20 Pro Premium Edition': 90.0, 'XiaoMi Redmi Note 3': 1448.0, 'XiaoMi Redmi Note 4': 14135.0, 'XiaoMi Redmi Note 4X': 923.0, 'XiaoMi Redmi Note 5': 47527.0, 'XiaoMi Redmi Note 5A': 332.0, 'XiaoMi Redmi Note 5A Prime': 2331.0, 'XiaoMi Redmi Note 6 Pro': 65299.0, 'XiaoMi Redmi Note 7': 417180.0, 'XiaoMi Redmi Note 7 Pro': 1175.0, 'XiaoMi Redmi Note 8': 483658.0, 'XiaoMi Redmi Note 8 Pro': 153771.0, 'XiaoMi Redmi Note 8T': 41903.0, 'XiaoMi Redmi Note 9S': 6797.0, 'XiaoMi Redmi Pro': 180.0, 'XiaoMi Redmi S2': 28957.0, 'YPY_S500': 102.0, 'YU FLY F9': 48.0, 'You': 2693.0, 'You L': 848.0, 'Z Play': 523.0, 'Z2': 119.0, 'Z2 Plus': 47.0, 'Z2_PRO': 202.0, 'Z831': 72.0, 'Z971': 313.0, 'Z981': 94.0, 'Z982': 26.0, 'ZB500KG': 673.0, 'ZE553KL': 7205.0, 'ZTE BLADE A110': 68.0, 'ZTE BLADE A510': 2184.0, 'ZTE BLADE L110': 1721.0, 'ZTE Blade A3 Lite': 475.0, 'ZTE Blade L5': 287.0, 'ZUK Z2121': 341.0, 'dolphin': 107.0, 'exbom': 425.0, 'fnac 5': 68.0, 'g5 Plus': 36.0, 'gxq6580_weg_l': 82.0, 'iPad': 44369.0, 'iPad11': 0.0, '1': 1015994.0, '3': 714273.0, 'iPad3': 0.0, '4': 820995.0, '5': 537197.0, 'iPad4': 0.0, '2': 601369.0, '7': 174.0, '8': 380597.0, 'iPad5': 0.0, 'iPad6': 0.0, '11': 1564.0, '12': 153.0, 'iPad7': 0.0, '6': 316176.0, 'iPad8': 0.0, 'iPhone': 5372656.0, 'iPhone10': 0.0, 'iPhone11': 0.0, 'iPhone12': 0.0, 'iPhone4': 0.0, 'iPhone5': 0.0, 'iPhone6': 0.0, 'iPhone7': 0.0, 'iPhone8': 0.0, 'iPhone9': 0.0, 'iPod': 72.0, 'iPod7': 0.0, 'itel A15': 70.0, 'moto e5': 166041.0, 'moto e5 play': 205677.0, 'moto e5 plus': 59856.0, 'moto g(6)': 22907.0, 'moto g(6) play': 74154.0, 'moto g(6) plus': 13940.0, 'moto g6 plus': 157.0, 'moto g7 plus': 114.0, 'moto x4': 2869.0, 'motorola one': 1734.0, 'vernee_M5': 433.0, 'victor': 144.0, 'vivo 1606': 37.0, 'vivo 1901': 67.0, 'vivo NEX A': 472.0, 'vivo X7': 86.0, '5060D': 1.0, 'Asus T00F': 2.0, 'Asus Z01HD': 6.0, 'LG-M320G': 1.0, 'Moto G7 Plus': 2.0, 'Moto Z� Play': 29.0, 'NV6': 18.0, 'PRA-LX3': 9.0, 'Tablet_DL_2810': 13.0, 'vivo 1716': 6.0, 'vivo 1805': 6.0, 'C5 2019': 10.0, 'Lenovo TB-X705F': 5.0, 'Samsung SM-T285': 6.0, 'XiaoMi Redmi K30': 19.0, 'ARS-L22': 5.0, 'Samsung SM-T380': 5.0, 'LG-E467f': 4.0, 'LG-V400': 4.0, 'MZ-m3 note': 2.0, 'Positivo Next': 3.0, 'Samsung SM-G935T': 3.0, 'Le X829': 1.0}, 'os_family': {'Android': 72427736.0, 'Chrome OS': 18600.0, 'Fedora': 2867.0, 'FreeBSD': 215.0, 'Linux': 414138.0, 'Mac OS X': 513988.0, 'Other': 7902278.0, 'Ubuntu': 51097.0, 'Windows 10': 7487624.0, 'Windows 7': 3022647.0, 'Windows 8': 72571.0, 'Windows 8.1': 514359.0, 'Windows Mobile': 83.0, 'Windows Phone': 3342.0, 'Windows Vista': 6114.0, 'Windows XP': 25447.0, 'iOS': 9857799.0}, 'browser_family': {'AdsBot-Google': 113649.0, 'Amazon Silk': 1313.0, 'Android': 404.0, 'AppleMail': 751.0, 'Applebot': 73.0, 'BingPreview': 334.0, 'Chrome': 11206485.0, 'Chrome Mobile': 51526410.0, 'Chrome Mobile iOS': 690819.0, 'Chromium': 6110.0, 'Edge': 85378.0, 'Edge Mobile': 3274.0, 'Facebook': 17789893.0, 'Firefox': 763711.0, 'Firefox Mobile': 125298.0, 'Firefox iOS': 8097.0, 'GooglePlusBot': 139.0, 'Googlebot': 7977664.0, 'IE': 104.0, 'IE Mobile': 68.0, 'Maxthon': 193.0, 'Mobile Safari': 4707650.0, 'Mobile Safari UIWebView': 4365298.0, 'Opera': 174649.0, 'Opera Mini': 223.0, 'Opera Mobile': 75357.0, 'Other': 2489787.0, 'Pale Moon (Firefox Variant)': 150.0, 'PetalBot': 1155.0, 'Pinterest': 62.0, 'Puffin': 2400.0, 'SMTBot': 284.0, 'Safari': 161855.0, 'SeaMonkey': 25.0, 'UC Browser': 38617.0, 'Vivaldi': 1257.0, 'Yahoo! Slurp': 72.0, 'Yandex Browser': 1894.0, 'Investment Crawler': 3.0}}\n"
     ]
    }
   ],
   "source": [
    "print(question2)"
   ]
  },
  {
   "cell_type": "markdown",
   "metadata": {},
   "source": [
    "O terceiro resultado possui o cálculo da mediana da duração em segundos entre todas as sessões únicas. "
   ]
  },
  {
   "cell_type": "code",
   "execution_count": 17,
   "metadata": {},
   "outputs": [
    {
     "name": "stdout",
     "output_type": "stream",
     "text": [
      "{'device_family': {'Generic Smartphone': 589.46581640625, 'Samsung SM-A105FN': 400.442, 'Samsung SM-G9650': 794.2095, 'Samsung SM-J415G': 403.402, 'Spider': 478.715, 'iPhone': 888.317, 'Other': 471.556140625, 'Samsung SM-J105B': 681.886, 'LM-X410.F': 3.0415, 'Samsung SM-G610M': 734.18175, 'iPhone10': 0, '5': 310.9285, 'Samsung SM-G570M': 605.681, 'Samsung SM-J610G': 1240.14625, 'XiaoMi MI 8 Pro': 117.5235, 'iPhone8': 0, '1': 128.3895, 'Moto C Plus': 402.025, 'Samsung SM-A505GT': 1014.91925, 'Samsung SM-G935F': 154.901, 'Samsung GT-I9192': 565.2825, 'Samsung SM-A705MN': 404.05, 'Samsung SM-J260M': 975.153, 'Samsung SM-A605GN': 580.2545, 'Samsung SM-J810M': 315.9825, 'XiaoMi Redmi Note 8': 712.971}, 'os_family': {'Android': 924.590958984375, 'Other': 375.03025, 'iOS': 638.087125, 'Windows 10': 740.0115625, 'Linux': 368.7685, 'Windows 8.1': 883.6665, 'Windows 7': 94.371}, 'browser_family': {'Chrome Mobile': 1147.512375, 'Facebook': 596.6268515625, 'Googlebot': 478.715, 'Mobile Safari': 888.317, 'Chrome': 471.556140625, 'Mobile Safari UIWebView': 283.85375}}\n"
     ]
    }
   ],
   "source": [
    "print(question3)"
   ]
  },
  {
   "cell_type": "markdown",
   "metadata": {},
   "source": [
    "Criação de arquivos tipo json na pasta output."
   ]
  },
  {
   "cell_type": "code",
   "execution_count": 18,
   "metadata": {},
   "outputs": [],
   "source": [
    "def save_file(filename, content):\n",
    "    if not os.path.exists(outPath):\n",
    "        os.makedirs(outPath)\n",
    "    with open(outPath+ \"/\" + filename, \"w\") as outfile:  \n",
    "        json.dump(content, outfile) "
   ]
  },
  {
   "cell_type": "code",
   "execution_count": 19,
   "metadata": {},
   "outputs": [],
   "source": [
    "save_file('question1.json', question1)\n",
    "save_file('question2.json', question2)\n",
    "save_file('question3.json', question3)"
   ]
  },
  {
   "cell_type": "code",
   "execution_count": null,
   "metadata": {},
   "outputs": [],
   "source": []
  }
 ],
 "metadata": {
  "kernelspec": {
   "display_name": "Python 3",
   "language": "python",
   "name": "python3"
  },
  "language_info": {
   "codemirror_mode": {
    "name": "ipython",
    "version": 3
   },
   "file_extension": ".py",
   "mimetype": "text/x-python",
   "name": "python",
   "nbconvert_exporter": "python",
   "pygments_lexer": "ipython3",
   "version": "3.7.4"
  }
 },
 "nbformat": 4,
 "nbformat_minor": 2
}
