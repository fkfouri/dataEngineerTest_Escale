{
 "cells": [
  {
   "cell_type": "code",
   "execution_count": null,
   "metadata": {},
   "outputs": [],
   "source": []
  },
  {
   "cell_type": "code",
   "execution_count": null,
   "metadata": {},
   "outputs": [],
   "source": [
    "try:\n",
    "    !pip install pyspark==\"2.4.5\" --quiet\n",
    "    !pip install pandas==\"1.0.4\" --quiet\n",
    "except:\n",
    "    print(\"Running throw py file.\")"
   ]
  },
  {
   "cell_type": "code",
   "execution_count": 1,
   "metadata": {},
   "outputs": [],
   "source": [
    "from pyspark import SparkContext as sc\n",
    "from pyspark.sql import SparkSession\n",
    "from pyspark.sql import functions as F\n",
    "from pyspark.sql import Window\n",
    "from pyspark import SparkFiles\n",
    "from pyspark.sql.types import StringType\n",
    "import pyspark\n",
    "import json\n",
    "import pandas as pd\n",
    "import time"
   ]
  },
  {
   "cell_type": "code",
   "execution_count": 2,
   "metadata": {},
   "outputs": [
    {
     "data": {
      "text/html": [
       "\n",
       "            <div>\n",
       "                <p><b>SparkSession - in-memory</b></p>\n",
       "                \n",
       "        <div>\n",
       "            <p><b>SparkContext</b></p>\n",
       "\n",
       "            <p><a href=\"http://LAPTOP-Y520:4041\">Spark UI</a></p>\n",
       "\n",
       "            <dl>\n",
       "              <dt>Version</dt>\n",
       "                <dd><code>v2.4.5</code></dd>\n",
       "              <dt>Master</dt>\n",
       "                <dd><code>local[*]</code></dd>\n",
       "              <dt>AppName</dt>\n",
       "                <dd><code>Desafio Data Engineer Escale - Fabio Kfouri</code></dd>\n",
       "            </dl>\n",
       "        </div>\n",
       "        \n",
       "            </div>\n",
       "        "
      ],
      "text/plain": [
       "<pyspark.sql.session.SparkSession at 0x2a2bbdd6908>"
      ]
     },
     "execution_count": 2,
     "metadata": {},
     "output_type": "execute_result"
    }
   ],
   "source": [
    "spark = SparkSession\\\n",
    "        .builder\\\n",
    "        .appName(\"Desafio Data Engineer Escale - Fabio Kfouri\")\\\n",
    "        .getOrCreate()\n",
    "spark"
   ]
  },
  {
   "cell_type": "code",
   "execution_count": 3,
   "metadata": {},
   "outputs": [
    {
     "name": "stdout",
     "output_type": "stream",
     "text": [
      "E:\\Projetos\\Jobs\\dataEngineerTest_Escale/data/\n"
     ]
    }
   ],
   "source": [
    "import os\n",
    "\n",
    "dataPath = 'https://d3l36jjwr70u5l.cloudfront.net/data-engineer-test/'\n",
    "\n",
    "if 'E:\\\\' in os.getcwd() and 'dataEngineerTest_Escale' in os.getcwd():\n",
    "    dataPath = os.getcwd() + \"/data/\"\n",
    "\n",
    "print(dataPath)\n"
   ]
  },
  {
   "cell_type": "code",
   "execution_count": 4,
   "metadata": {},
   "outputs": [],
   "source": [
    "question1 = {}\n",
    "filename = ''"
   ]
  },
  {
   "cell_type": "code",
   "execution_count": 5,
   "metadata": {},
   "outputs": [],
   "source": [
    "for i in range(9):\n",
    "    spark.sparkContext.addFile(dataPath + 'part-0000' + str(i) +'.json.gz')"
   ]
  },
  {
   "cell_type": "code",
   "execution_count": 6,
   "metadata": {},
   "outputs": [
    {
     "name": "stdout",
     "output_type": "stream",
     "text": [
      "1800000\n"
     ]
    }
   ],
   "source": [
    "time_limit = (30*60)*1000\n",
    "print(time_limit)"
   ]
  },
  {
   "cell_type": "code",
   "execution_count": 7,
   "metadata": {},
   "outputs": [],
   "source": [
    "def readFile(i):\n",
    "    filename = 'part-0000' + str(i) +'.json.gz'\n",
    "    print(filename)\n",
    "    df = spark.read.json(SparkFiles.get(filename))\n",
    "    overCategory = Window.partitionBy('anonymous_id','device_family','os_family').orderBy('device_sent_timestamp')\n",
    "    df = df.withColumn(\"lag\", F.lag('device_sent_timestamp', 1).over(overCategory))\n",
    "    df = df.withColumn('delta', F.col('device_sent_timestamp') - F.col('lag'))\\\n",
    "        .withColumn('same_section', (F.col('device_sent_timestamp') - F.col('lag')) < time_limit) \\\n",
    "        .withColumn('event_time', (F.col('device_sent_timestamp')/1000).cast('timestamp'))\n",
    "    df.createOrReplaceTempView(\"clickstream\")\n",
    "    dados = spark.sql(\"\"\"\n",
    "        with table_temp as (--\n",
    "            SELECT anonymous_id, browser_family, device_family, device_sent_timestamp, event, event_time, n, os_family, platform, NVL(same_section,false) same_section, version\n",
    "            FROM clickstream t --\n",
    "            WHERE NVL(same_section, false) = false --remove as sessoes abertas\n",
    "        ), table_session_id as (--\n",
    "            SELECT t.*, 'session_' || ROW_NUMBER() OVER (PARTITION BY anonymous_id ORDER BY device_sent_timestamp )  || '_' ||  anonymous_id as session_id\n",
    "            FROM table_temp t --\n",
    "        )\n",
    "        SELECT COUNT(session_id)  qtd_session\n",
    "        FROM table_session_id\n",
    "        \"\"\")\n",
    "    question1[filename] = dados.collect()[0]['qtd_session']"
   ]
  },
  {
   "cell_type": "code",
   "execution_count": 8,
   "metadata": {},
   "outputs": [],
   "source": [
    "for i in range(9):\n",
    "    readFile(i)"
   ]
  },
  {
   "cell_type": "code",
   "execution_count": 9,
   "metadata": {},
   "outputs": [
    {
     "name": "stdout",
     "output_type": "stream",
     "text": [
      "{\"part-00000.json.gz\": 10234891, \"part-00001.json.gz\": 10230776, \"part-00002.json.gz\": 10227212, \"part-00003.json.gz\": 10233329, \"part-00004.json.gz\": 10233306, \"part-00005.json.gz\": 10235205, \"part-00006.json.gz\": 10232658, \"part-00007.json.gz\": 10236335, \"part-00008.json.gz\": 10228150}\n"
     ]
    }
   ],
   "source": [
    "print(json.dumps(question1))"
   ]
  },
  {
   "cell_type": "code",
   "execution_count": 10,
   "metadata": {},
   "outputs": [
    {
     "name": "stdout",
     "output_type": "stream",
     "text": [
      "{'part-00000.json.gz': 10234891, 'part-00001.json.gz': 10230776, 'part-00002.json.gz': 10227212, 'part-00003.json.gz': 10233329, 'part-00004.json.gz': 10233306, 'part-00005.json.gz': 10235205, 'part-00006.json.gz': 10232658, 'part-00007.json.gz': 10236335, 'part-00008.json.gz': 10228150}\n"
     ]
    }
   ],
   "source": [
    "print(question1)"
   ]
  },
  {
   "cell_type": "code",
   "execution_count": null,
   "metadata": {},
   "outputs": [],
   "source": [
    "def create_"
   ]
  },
  {
   "cell_type": "code",
   "execution_count": null,
   "metadata": {},
   "outputs": [],
   "source": []
  },
  {
   "cell_type": "code",
   "execution_count": null,
   "metadata": {},
   "outputs": [],
   "source": [
    "df0 = readFile(0)\n",
    "df0.show(3)"
   ]
  },
  {
   "cell_type": "code",
   "execution_count": null,
   "metadata": {},
   "outputs": [],
   "source": [
    "df0.printSchema()"
   ]
  },
  {
   "cell_type": "code",
   "execution_count": null,
   "metadata": {},
   "outputs": [],
   "source": [
    "overCategory = Window.partitionBy('anonymous_id','device_family','os_family').orderBy('device_sent_timestamp')"
   ]
  },
  {
   "cell_type": "code",
   "execution_count": null,
   "metadata": {},
   "outputs": [],
   "source": [
    "df0 = df0.withColumn(\"lag\", F.lag('device_sent_timestamp', 1).over(overCategory))"
   ]
  },
  {
   "cell_type": "code",
   "execution_count": null,
   "metadata": {},
   "outputs": [],
   "source": [
    "time_limit = (30*60)*1000\n",
    "print(time_limit)"
   ]
  },
  {
   "cell_type": "code",
   "execution_count": null,
   "metadata": {},
   "outputs": [],
   "source": [
    "df0 = df0.withColumn('delta', F.col('device_sent_timestamp') - F.col('lag'))\\\n",
    "        .withColumn('same_section', (F.col('device_sent_timestamp') - F.col('lag')) < time_limit) \\\n",
    "        .withColumn('event_time', (F.col('device_sent_timestamp')/1000).cast('timestamp'))\n",
    "\n",
    "df0.show()"
   ]
  },
  {
   "cell_type": "code",
   "execution_count": null,
   "metadata": {},
   "outputs": [],
   "source": [
    "df0.createOrReplaceTempView(\"clickstream\")"
   ]
  },
  {
   "cell_type": "code",
   "execution_count": null,
   "metadata": {},
   "outputs": [],
   "source": [
    "df_question_1 = spark.sql(\"\"\"\n",
    "with table_temp as (--\n",
    "    SELECT anonymous_id, browser_family, delta, device_family, device_sent_timestamp, event, event_time, n, os_family, platform, NVL(same_section,false) same_section, version\n",
    "    FROM clickstream t --\n",
    "    WHERE NVL(same_section, false) = false --remove as sessoes abertas\n",
    "), table_session_id as (--\n",
    "    SELECT t.*, 'session_' || ROW_NUMBER() OVER (PARTITION BY anonymous_id ORDER BY device_sent_timestamp )  || '_' ||  anonymous_id as session_id\n",
    "    FROM table_temp t --\n",
    ")\n",
    "SELECT COUNT(session_id)  qtd_session\n",
    "FROM table_session_id\n",
    "\"\"\")\n",
    "df_question_1.show(300, False)"
   ]
  },
  {
   "cell_type": "code",
   "execution_count": null,
   "metadata": {},
   "outputs": [],
   "source": [
    "dados = df_question_1.toPandas()\n"
   ]
  },
  {
   "cell_type": "code",
   "execution_count": null,
   "metadata": {},
   "outputs": [],
   "source": [
    "print(dados['qtd_session'])"
   ]
  },
  {
   "cell_type": "code",
   "execution_count": null,
   "metadata": {},
   "outputs": [],
   "source": [
    "x = dados['qtd_session']\n",
    "x"
   ]
  },
  {
   "cell_type": "code",
   "execution_count": null,
   "metadata": {},
   "outputs": [],
   "source": [
    "x = df_question_1.collect()[0]['qtd_session']\n",
    "x"
   ]
  },
  {
   "cell_type": "code",
   "execution_count": null,
   "metadata": {},
   "outputs": [],
   "source": []
  },
  {
   "cell_type": "code",
   "execution_count": null,
   "metadata": {},
   "outputs": [],
   "source": []
  },
  {
   "cell_type": "code",
   "execution_count": null,
   "metadata": {},
   "outputs": [],
   "source": []
  }
 ],
 "metadata": {
  "kernelspec": {
   "display_name": "Python 3",
   "language": "python",
   "name": "python3"
  },
  "language_info": {
   "codemirror_mode": {
    "name": "ipython",
    "version": 3
   },
   "file_extension": ".py",
   "mimetype": "text/x-python",
   "name": "python",
   "nbconvert_exporter": "python",
   "pygments_lexer": "ipython3",
   "version": "3.7.4"
  }
 },
 "nbformat": 4,
 "nbformat_minor": 2
}
