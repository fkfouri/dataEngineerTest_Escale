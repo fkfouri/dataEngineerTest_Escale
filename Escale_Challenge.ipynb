{
 "cells": [
  {
   "cell_type": "markdown",
   "metadata": {},
   "source": [
    "# Desafio Escale\n",
    "\n",
    "Este <i>notebook</i> traz a resolução do desafio proposto pela Escale (https://escaletech.github.io/dataplatform/data-engineer-test).\n",
    "\n",
    "A <i>storytelling</i> será mais branda, pois esta modelagem será aplicado em todo o dataset, e para isso serão criados funcoes que serão chamadas em loop."
   ]
  },
  {
   "cell_type": "markdown",
   "metadata": {},
   "source": [
    "Instalação e importação de bibliotecas."
   ]
  },
  {
   "cell_type": "code",
   "execution_count": 1,
   "metadata": {},
   "outputs": [],
   "source": [
    "try:\n",
    "    !pip install pyspark==\"2.4.5\" --quiet\n",
    "    !pip install pandas==\"1.0.4\" --quiet\n",
    "except:\n",
    "    print(\"Running throw py file.\")"
   ]
  },
  {
   "cell_type": "code",
   "execution_count": 2,
   "metadata": {},
   "outputs": [],
   "source": [
    "from pyspark import SparkContext as sc\n",
    "from pyspark.sql import SparkSession\n",
    "from pyspark.sql import functions as F\n",
    "from pyspark.sql import Window\n",
    "from pyspark import SparkFiles\n",
    "from pyspark.sql.types import StringType, FloatType\n",
    "import pyspark\n",
    "import json\n",
    "import pandas as pd\n",
    "import numpy as np"
   ]
  },
  {
   "cell_type": "markdown",
   "metadata": {},
   "source": [
    "Criação de uma sessão Spark"
   ]
  },
  {
   "cell_type": "code",
   "execution_count": 3,
   "metadata": {},
   "outputs": [
    {
     "data": {
      "text/html": [
       "\n",
       "            <div>\n",
       "                <p><b>SparkSession - in-memory</b></p>\n",
       "                \n",
       "        <div>\n",
       "            <p><b>SparkContext</b></p>\n",
       "\n",
       "            <p><a href=\"http://LAPTOP-Y520:4040\">Spark UI</a></p>\n",
       "\n",
       "            <dl>\n",
       "              <dt>Version</dt>\n",
       "                <dd><code>v2.4.5</code></dd>\n",
       "              <dt>Master</dt>\n",
       "                <dd><code>local[*]</code></dd>\n",
       "              <dt>AppName</dt>\n",
       "                <dd><code>Desafio Data Engineer Escale - Fabio Kfouri</code></dd>\n",
       "            </dl>\n",
       "        </div>\n",
       "        \n",
       "            </div>\n",
       "        "
      ],
      "text/plain": [
       "<pyspark.sql.session.SparkSession at 0x1798405aec8>"
      ]
     },
     "execution_count": 3,
     "metadata": {},
     "output_type": "execute_result"
    }
   ],
   "source": [
    "spark = SparkSession\\\n",
    "        .builder\\\n",
    "        .appName(\"Desafio Data Engineer Escale - Fabio Kfouri\")\\\n",
    "        .getOrCreate()\n",
    "spark"
   ]
  },
  {
   "cell_type": "markdown",
   "metadata": {},
   "source": [
    "Para otimizar a resolução, foram realizados downloads dos datasets, esta lógica é para identificar se este notebook esta rodando máquina do autor, caso positivo, utilizará o dataset local, do contrário, utilizará o dataset da núvem."
   ]
  },
  {
   "cell_type": "code",
   "execution_count": 4,
   "metadata": {},
   "outputs": [
    {
     "name": "stdout",
     "output_type": "stream",
     "text": [
      "E:\\Projetos\\Jobs\\dataEngineerTest_Escale/data/\n"
     ]
    }
   ],
   "source": [
    "import os\n",
    "\n",
    "dataPath = 'https://d3l36jjwr70u5l.cloudfront.net/data-engineer-test/'\n",
    "\n",
    "if 'E:\\\\' in os.getcwd() and 'dataEngineerTest_Escale' in os.getcwd():\n",
    "    dataPath = os.getcwd() + \"/data/\"\n",
    "\n",
    "print(dataPath)\n"
   ]
  },
  {
   "cell_type": "markdown",
   "metadata": {},
   "source": [
    "Funcão de leitura do Json que retorna um Datafame Spark"
   ]
  },
  {
   "cell_type": "code",
   "execution_count": 5,
   "metadata": {},
   "outputs": [],
   "source": [
    "def read_json(filename):\n",
    "    return spark.read.json(dataPath + filename)"
   ]
  },
  {
   "cell_type": "markdown",
   "metadata": {},
   "source": [
    "Função que converte o 30 minutos em miliegundos para ser usado como referência de delta para data em formado de <b>Epoch Time</b>."
   ]
  },
  {
   "cell_type": "code",
   "execution_count": 6,
   "metadata": {},
   "outputs": [],
   "source": [
    "def get_epoch_time_limit():\n",
    "    return (30*60)*1000"
   ]
  },
  {
   "cell_type": "markdown",
   "metadata": {},
   "source": [
    "Função que cria o dataFrame <b>ClickStream</b>, que atende os criterios de sessionamento defindo pelo desafio.\n",
    "\n",
    "Para calculo do tempo de sessão foi utilizado a função <b>LAG()</b> que tem por objetivo trazer no registro corrente o dado de timestamp do registro anterior.\n",
    "\n",
    "O autor assumiu como premissa não declarada para definir uma sessão, que além do tempo limite de 30 minutos desde a última utilização, que uma sessão precisaria considerar o <b>device_family</b> e <b>os_family</b>.\n",
    "\n",
    "Ou seja, mesmo que não tenha excedido o tempo limite de 30 minutos, mas se for caracterizado que houve uma mudança de device_family ou os_family, trata-se de uma sessão nova.\n",
    "\n",
    "Para a criação das Sessions_ID foi usado as funções ROW_NUMBER() para criacão ordenada de ids, e em seguida utilizada a função LAST_VALUE() para o preenchimento do session_id nos eventos da mesma sessão."
   ]
  },
  {
   "cell_type": "code",
   "execution_count": 7,
   "metadata": {},
   "outputs": [],
   "source": [
    "def get_clickstream_dataframe(df):\n",
    "    overCategory = Window.partitionBy('anonymous_id','device_family','os_family','browser_family')\\\n",
    "                         .orderBy('anonymous_id','device_family','os_family','browser_family','device_sent_timestamp')\n",
    "    \n",
    "    time_limit = get_epoch_time_limit()\n",
    "    \n",
    "    df = df.withColumn(\"lag\", F.lag('device_sent_timestamp', 1).over(overCategory))\\\n",
    "            .withColumn('delta_seg', (F.col('device_sent_timestamp') - F.col('lag'))/1000)\\\n",
    "            .withColumn('same_section', (F.col('device_sent_timestamp') - F.col('lag')) < time_limit) \\\n",
    "            .withColumn('event_time', (F.col('device_sent_timestamp')/1000).cast('timestamp'))\n",
    "    \n",
    "    df.createOrReplaceTempView(\"raw_table\")\n",
    "    \n",
    "    df_sessioned = spark.sql(\"\"\"\n",
    "        with temp as (--\n",
    "              SELECT anonymous_id, browser_family, device_family, device_sent_timestamp, event, event_time, n, os_family, --\n",
    "                     platform, nvl(same_section,false) same_section, version,\n",
    "                     case when nvl(same_section,false) = false then\n",
    "                         0\n",
    "                     else\n",
    "                        delta_seg\n",
    "                     end delta_seg,             \n",
    "                     case when nvl(same_section,false) = false then\n",
    "                     'session_' || ROW_NUMBER() OVER (PARTITION BY anonymous_id,nvl(same_section,false) ORDER BY device_sent_timestamp )\n",
    "                     else\n",
    "                      null\n",
    "                     end\n",
    "                     as partial_session\n",
    "                FROM raw_table t --\n",
    "        ), table_section_id as (--\n",
    "            select anonymous_id, browser_family, delta_seg, device_family, device_sent_timestamp, event, event_time, n, os_family, --\n",
    "                     platform, nvl(same_section,false) same_section, version,\n",
    "                     LAST_VALUE(partial_session,True) OVER (PARTITION BY anonymous_id ORDER BY device_sent_timestamp ) || '_' || anonymous_id session_id\n",
    "            from temp t\n",
    "        )\n",
    "        select * from table_section_id\n",
    "        order by anonymous_id, device_sent_timestamp \n",
    "        \"\"\")\n",
    "        \n",
    "    df_sessioned.createOrReplaceTempView(\"clickstream\")\n",
    "    \n",
    "    #Remove the view raw_table\n",
    "    spark.catalog.dropTempView('raw_table')\n"
   ]
  },
  {
   "cell_type": "markdown",
   "metadata": {},
   "source": [
    "Funcao que convert as saídas da Questão 2 no formato desejado pelo Desafio.\n",
    "\n",
    "Esta função cria um dicionário que de forma incremental, vai adicionando as quantidades conforme forem sendo carregados novos datasets."
   ]
  },
  {
   "cell_type": "code",
   "execution_count": 8,
   "metadata": {},
   "outputs": [],
   "source": [
    "def convert_to_Json_challenge2(dados_pd, question):   \n",
    "    for index, row in dados_pd.iterrows():\n",
    "        items = str(row[\"collection\"]).split(',')\n",
    "\n",
    "        if not row[\"what\"] in question:\n",
    "            question[row[\"what\"]] = {}\n",
    "\n",
    "        for item in items:\n",
    "            element = str(item).split(':')\n",
    "\n",
    "            if not element[0] in question[row[\"what\"]]:\n",
    "                question[row[\"what\"]][element[0]] = 0\n",
    "\n",
    "            if len(element) > 1:\n",
    "                question[row[\"what\"]][element[0]] = float(element[1]) + question[row[\"what\"]][element[0]]\n",
    "            else:\n",
    "                question[row[\"what\"]][element[0]] = float(0) + question[row[\"what\"]][element[0]]\n",
    "\n",
    "                \n",
    "    return question"
   ]
  },
  {
   "cell_type": "markdown",
   "metadata": {},
   "source": [
    "Funcao que convert as saídas da Questão 3 no formato desejado pelo Desafio.\n",
    "\n",
    "Esta função cria um dicionário que de forma incremental, vai calculando a mediana das medianas conforme forem sendo carregados novos datasets."
   ]
  },
  {
   "cell_type": "code",
   "execution_count": 9,
   "metadata": {},
   "outputs": [],
   "source": [
    "def convert_to_Json_challenge3(dados_pd, question):   \n",
    "    for index, row in dados_pd.iterrows():\n",
    "\n",
    "        items = str(row[\"collection\"]).split(',')\n",
    "\n",
    "        if not row[\"what\"] in question:\n",
    "            question[row[\"what\"]] = {}\n",
    "\n",
    "        for item in items:\n",
    "            element = str(item).split(':')\n",
    "\n",
    "            if not element[0] in question[row[\"what\"]]:\n",
    "                question[row[\"what\"]][element[0]] = 0\n",
    "\n",
    "\n",
    "            if len(element) > 1:\n",
    "                question[row[\"what\"]][element[0]] = np.median([ float(element[1]), question[row[\"what\"]][element[0]] ])\n",
    "            else:\n",
    "                question[row[\"what\"]][element[0]] = question[row[\"what\"]][element[0]]\n",
    "\n",
    "            \n",
    "    return question\n"
   ]
  },
  {
   "cell_type": "markdown",
   "metadata": {},
   "source": [
    "## Desafio 1\n",
    "\n",
    "Calcular a quantidade total de sessões únicas por arquivo do conjunto de dados e apresentar no formato JSON.\n",
    "\n",
    "Nesta função foi realizado um filtro para desconsiderar as sessoes abertas para descobrir o total de sessoes únicas por dataset."
   ]
  },
  {
   "cell_type": "code",
   "execution_count": 10,
   "metadata": {},
   "outputs": [],
   "source": [
    "def first_challenge(filename, question1):\n",
    "    df_question_1 = spark.sql(\"\"\"\n",
    "        SELECT COUNT(session_id) qtd_session\n",
    "        FROM clickstream\n",
    "        where same_section = false\n",
    "        \"\"\")\n",
    "    question1[filename] = df_question_1.collect()[0]['qtd_session']\n",
    "    return question1"
   ]
  },
  {
   "cell_type": "markdown",
   "metadata": {},
   "source": [
    "# Desafio 2\n",
    "Calcular a quantidade de sessões únicas que ocorreram em cada Browser, Sistema Operacional e Dispositivo dentro de todo o conjunto de dados.\n",
    "\n",
    "Nesta função foi identificado as famílias (<b>browser_family</b>, <b>os_family</b> e <b>device_family</b>) e em seguida por quantidade de tipo de cada família. \n",
    "\n",
    "Estáo sendo consideradas somente as sessões únicas."
   ]
  },
  {
   "cell_type": "code",
   "execution_count": 11,
   "metadata": {},
   "outputs": [],
   "source": [
    "def second_challenge(question2):\n",
    "    df_question_2 = spark.sql(\"\"\"\n",
    "        with table_temp as (--\n",
    "            SELECT *\n",
    "            FROM clickstream\n",
    "            where same_section = false\n",
    "        ), \n",
    "        table_union as (--\n",
    "            SELECT 'device_family' what, device_family ref, COUNT(session_id)  qtd_session\n",
    "              FROM table_temp\n",
    "             group by device_family\n",
    "            union\n",
    "            SELECT 'os_family' what, os_family ref, COUNT(session_id)  qtd_session\n",
    "              FROM table_temp\n",
    "            group by os_family\n",
    "            union\n",
    "            SELECT 'browser_family' what, browser_family ref, COUNT(session_id)  qtd_session\n",
    "              FROM table_temp\n",
    "             group by browser_family --\n",
    "        ),\n",
    "        table_collection as (--\n",
    "            select what, nvl(ref, 'Not Identified') || ':' || qtd_session collection \n",
    "            from table_union\n",
    "            order by what, ref--\n",
    "        )\n",
    "        select what, array_join(collect_list(trim(collection)),',')  collection\n",
    "        from table_collection\n",
    "        group by what\n",
    "        \"\"\")\n",
    "    \n",
    "    dados2 = df_question_2.toPandas()\n",
    "    return convert_to_Json_challenge2(dados2, question2)"
   ]
  },
  {
   "cell_type": "markdown",
   "metadata": {},
   "source": [
    "## Desafio 3\n",
    "\n",
    "Calcular a mediana da duração (em segundos) entre todas sessões únicas para cada segmento.\n",
    "\n",
    "De forma análoga ao desafio 2, esta função foram identificado as quantidades por família (<b>browser_family</b>, <b>os_family</b> e <b>device_family</b>).\n",
    "\n",
    "Estáo sendo consideradas somente as sessões que ficaram abertas."
   ]
  },
  {
   "cell_type": "code",
   "execution_count": 12,
   "metadata": {},
   "outputs": [],
   "source": [
    "def third_challenge(question3):\n",
    "    df_question_3 = spark.sql(\"\"\"\n",
    "        with table_temp as (--\n",
    "            SELECT *\n",
    "            FROM clickstream\n",
    "            where same_section = true\n",
    "        ), \n",
    "        table_union as (--\n",
    "            SELECT 'device_family' what, device_family ref, percentile_approx(delta_seg , 0.5) median   \n",
    "              FROM table_temp\n",
    "             group by device_family\n",
    "            union\n",
    "            SELECT 'os_family' what, os_family ref, percentile_approx(delta_seg , 0.5) median \n",
    "              FROM table_temp\n",
    "            group by os_family\n",
    "            union\n",
    "            SELECT 'browser_family' what, browser_family ref, percentile_approx(delta_seg , 0.5) median \n",
    "              FROM table_temp\n",
    "             group by browser_family --\n",
    "        ),\n",
    "        table_collection as (--\n",
    "            select what, nvl(ref, 'Not Identified') || ':' || median collection \n",
    "              from table_union\n",
    "             order by what, ref--\n",
    "        )\n",
    "        select what, array_join(collect_list(trim(collection)),',')  collection\n",
    "          from table_collection\n",
    "        group by what\n",
    "        \"\"\")\n",
    "    \n",
    "    dados3 = df_question_3.toPandas()\n",
    "    return convert_to_Json_challenge3(dados3, question3)"
   ]
  },
  {
   "cell_type": "code",
   "execution_count": 13,
   "metadata": {},
   "outputs": [],
   "source": [
    "def process_dataset(filename, questions):\n",
    "    question1, question2, question3 = questions\n",
    "    df = read_json(filename)\n",
    "    get_clickstream_dataframe(df)\n",
    "    question1 = first_challenge(filename, question1)\n",
    "    question2 = second_challenge(question2)\n",
    "    question3 = third_challenge(question3)\n",
    "    \n",
    "    return question1, question2, question3\n"
   ]
  },
  {
   "cell_type": "code",
   "execution_count": 14,
   "metadata": {},
   "outputs": [
    {
     "name": "stdout",
     "output_type": "stream",
     "text": [
      "part-00000.json.gz Start at 2020-08-28 22:16:00.113178\n",
      "{'part-00000.json.gz': 10234891}\n",
      "{'device_family': {'': 88.0, '1001-G Go': 221.0, '2014819': 69.0, '4009E': 5.0, '4009I': 6.0, '4017F': 231.0, '4028E': 2.0, '4034E': 1502.0, '4055J': 170.0, '5010E': 1464.0, '5016J': 85.0, '5017E': 9.0, '5026J': 288.0, '5033E': 395.0, '5033J': 856.0, '5045J': 489.0, '5046J': 95.0, '5049E': 26.0, '5051J': 247.0, '5054W': 11.0, '5056N': 29.0, '5085J': 223.0, '5085N': 515.0, '5090I': 25.0, '5152D': 360.0, '5159J': 963.0, '5186D': 156.0, '5199I': 77.0, '6039J': 26.0, '6055B': 224.0, '6060S': 9.0, '62S': 56.0, '7048A': 2.0, '705-G': 22.0, '705-G Go': 488.0, '71S': 52.0, '8050E': 1717.0, '9008J': 397.0, '9008N': 673.0, '91S': 2.0, 'A3_Pro': 8.0, 'ALE-L21': 81.0, 'ATU-LX3': 1.0, 'Advance 4.0 L3': 36.0, 'Advance 4.0M': 42.0, 'Advance 5.2': 16.0, 'Advance L4': 80.0, 'Aquaris X Pro': 18.0, 'Archos 60 Platinum': 21.0, 'Archos Access 50 Color 3G': 26.0, 'Archos Core 50 4G': 70.0, 'Armor_3': 1.0, 'Armor_6': 20.0, 'Asus A001D': 10748.0, 'Asus A007': 1883.0, 'Asus ASUS': 47.0, 'Asus FBBD': 300.0, 'Asus I001DB': 33.0, 'Asus I001DD': 15.0, 'Asus I01WD': 659.0, 'Asus T00J': 35.0, 'Asus X008D': 144.0, 'Asus X008DB': 1033.0, 'Asus X008DC': 6.0, 'Asus X00AD': 36.0, 'Asus X00ADA': 179.0, 'Asus X00BD': 32.0, 'Asus X00DD': 21.0, 'Asus X00DDA': 1283.0, 'Asus X00DDB': 123.0, 'Asus X00GD': 22.0, 'Asus X00HD': 1154.0, 'Asus X00ID': 1802.0, 'Asus X00KD': 36.0, 'Asus X00LD': 8843.0, 'Asus X00LDA': 1187.0, 'Asus X00PD': 1153.0, 'Asus X00QD': 6783.0, 'Asus X00RD': 2988.0, 'Asus X00TD': 73.0, 'Asus X00TDB': 6079.0, 'Asus X013D': 1253.0, 'Asus X014D': 58.0, 'Asus X017D': 1579.0, 'Asus X017DA': 3099.0, 'Asus X018D': 1172.0, 'Asus X018DC': 3.0, 'Asus X01AD': 28.0, 'Asus X01BDA': 1063.0, 'Asus Z00A': 21.0, 'Asus Z00AD': 987.0, 'Asus Z00LD': 286.0, 'Asus Z00UD': 740.0, 'Asus Z00VD': 109.0, 'Asus Z00XS': 81.0, 'Asus Z00YD': 170.0, 'Asus Z011D': 535.0, 'Asus Z012DA': 15.0, 'Asus Z012DC': 3567.0, 'Asus Z012DE': 12.0, 'Asus Z017D': 68.0, 'Asus Z017DA': 73.0, 'Asus Z017DC': 1774.0, 'Asus Z01FD': 3.0, 'Asus Z01HDA': 133.0, 'Asus Z01KD': 2948.0, 'Asus Z01KDA': 158.0, 'Asus Z01MD': 572.0, 'Asus Z01RD': 1270.0, 'Asus ZB500KG': 14.0, 'Asus ZE553KL': 467.0, 'BBB100-1': 4.0, 'BBB100-2': 15.0, 'BBC100-1': 1.0, 'BBD100-2': 67.0, 'BL5000': 3.0, 'BLA-L29': 79.0, 'BLL-L22': 7.0, 'BLL-L23': 6.0, 'BLU ADVANCE 4.0 L2': 137.0, 'BLU DASH L': 7.0, 'BLU DASH M2': 39.0, 'BLU DASH X2': 6.0, 'BLU ENERGY DIAMOND': 9.0, 'BLU Grand X LTE': 30.0, 'BLU NEO X MINI': 16.0, 'BLU STUDIO C HD': 3.0, 'BLU STUDIO G2': 74.0, 'BLU Studio Touch': 10.0, 'BV8000Pro': 21.0, 'BV9500': 5.0, 'Bluboo_S8_plus': 12.0, 'C NOTE 2': 60.0, 'C103': 7.0, 'C1604': 15.0, 'C2004': 2.0, 'C2304': 12.0, 'C5': 183.0, 'C5303': 6.0, 'C5L': 6.0, 'C6': 73.0, 'C6503': 10.0, 'C6843': 1.0, 'C6943': 153.0, 'C8': 8.0, 'CPH1803': 11.0, 'CPH1909': 59.0, 'CUBOT_J3': 14.0, 'CUBOT_P20': 9.0, 'CUBOT_POWER': 11.0, 'Che2-L11': 7.0, 'D2114': 29.0, 'D2212': 14.0, 'D2243': 17.0, 'D2306': 13.0, 'D2403': 53.0, 'D5322': 54.0, 'D5803': 3.0, 'D5833': 20.0, 'D6503': 1.0, 'D6543': 152.0, 'D6603': 113.0, 'D6633': 55.0, 'D6643': 4.0, 'DASH C MUSIC': 9.0, 'DIG-L01': 16.0, 'DIG-L03': 4.0, 'DUA-L22': 46.0, 'DUB-LX1': 61.0, 'DUB-LX3': 21.0, 'Dash L4 LTE': 18.0, 'E': 384.0, 'E2124': 10.0, 'E2303': 10.0, 'E2306': 5.0, 'E2363': 70.0, 'E5343': 22.0, 'E5563': 42.0, 'E5643': 25.0, 'E6533': 1.0, 'E6553': 25.0, 'E6603': 31.0, 'E6633': 250.0, 'E6653': 49.0, 'E6683': 1.0, 'E6833': 11.0, 'E6853': 101.0, 'ELUGA_A3_Pro': 35.0, 'EML-AL00': 11.0, 'ENERGY XL': 8.0, 'E_Lite': 156.0, 'F': 1358.0, 'F3115': 40.0, 'F3116': 206.0, 'F3216': 97.0, 'F3313': 114.0, 'F5121': 82.0, 'F5122': 123.0, 'F8331': 16.0, 'F8332': 17.0, 'FRD-AL10': 10.0, 'FS8010': 1.0, 'F_Pro': 117.0, 'G': 136.0, 'G011A': 6.0, 'G3116': 176.0, 'G3223': 11.0, 'G3226': 293.0, 'G3311': 14.0, 'G3312': 34.0, 'G3313': 24.0, 'G3423': 10.0, 'G3426': 117.0, 'G4': 8.0, 'G6 Plus': 2.0, 'G8141': 10.0, 'G8232': 6.0, 'G8341': 47.0, 'GIONEE S11 lite': 4.0, 'GO 2': 6.0, 'GO3C': 156.0, 'GO3C Plus': 133.0, 'GO3E': 518.0, 'GO5E': 578.0, 'GOME 2017M27A': 170.0, 'GOME_C7_Note_Plus': 22.0, 'GOME_U9': 78.0, 'G_Max': 345.0, 'G_Pro': 189.0, 'Generic Feature Phone': 9.0, 'Generic Smartphone': 4034354.0, 'Generic Tablet': 1654.0, 'Grand M': 12.0, 'Grand Max': 107.0, 'Grand X': 68.0, 'Grand XL': 19.0, 'H': 15.0, 'H3223': 50.0, 'HDT-7427G': 47.0, 'HDT-9421G': 52.0, 'HP 7.1': 40.0, 'HS007C': 9.0, 'HT-705XS': 2.0, 'HT16': 38.0, 'HT37Pro': 12.0, 'HTC 10': 6.0, 'HTC 10 evo': 4.0, 'HTC 2Q4D100': 10.0, 'HTC D160LVWPP': 5.0, 'HTC Desire 550': 2.0, 'HTC One': 43.0, 'HTC One M8': 29.0, 'HTC One M9': 231.0, 'HTC U11': 15.0, 'HUAWEI LUA-U23': 6.0, 'HUAWEI LYO-L21': 9.0, 'HUAWEI VNS-L23': 6.0, 'HUAWEI Y321-U051': 15.0, 'Huawei Browser': 121.0, 'INE-LX1': 13.0, 'INE-LX2': 5.0, 'Inettv': 7.0, 'JOY': 110.0, 'JSN-L21': 83.0, 'K10': 1.0, 'K10000 Pro': 1.0, 'K3': 25.0, 'K501': 56.0, 'KFAUWI': 3.0, 'KFKAWI': 8.0, 'KING 7': 4.0, 'KIW-L24': 6.0, 'KYY23': 15.0, 'Kindle': 131.0, 'Kingbox': 9.0, 'LEX626': 150.0, 'LEX651': 17.0, 'LEX720': 17.0, 'LEX722': 13.0, 'LG K350': 66.0, 'LG K430': 18.0, 'LG M250': 121.0, 'LG M320': 37.0, 'LG-AS330': 1.0, 'LG-D100': 206.0, 'LG-D105': 310.0, 'LG-D107': 87.0, 'LG-D125': 113.0, 'LG-D157f': 91.0, 'LG-D175f': 111.0, 'LG-D180f': 9.0, 'LG-D221': 13.0, 'LG-D227': 322.0, 'LG-D285': 17.0, 'LG-D295': 155.0, 'LG-D325': 238.0, 'LG-D337': 5400.0, 'LG-D385': 215.0, 'LG-D390': 5.0, 'LG-D410': 411.0, 'LG-D618': 313.0, 'LG-D683': 38.0, 'LG-D685': 183.0, 'LG-D690': 10.0, 'LG-D690n': 775.0, 'LG-D724': 30.0, 'LG-D805': 13.0, 'LG-D855': 50.0, 'LG-E415f': 11.0, 'LG-E425f': 5.0, 'LG-E435f': 38.0, 'LG-E455': 32.0, 'LG-E455f': 14.0, 'LG-E470f': 18.0, 'LG-E475f': 3.0, 'LG-E615f': 19.0, 'LG-E977': 11.0, 'LG-E989': 40.0, 'LG-H221': 86.0, 'LG-H222': 782.0, 'LG-H326': 489.0, 'LG-H340': 59.0, 'LG-H342': 456.0, 'LG-H422': 505.0, 'LG-H442': 8.0, 'LG-H502': 473.0, 'LG-H520': 332.0, 'LG-H522': 683.0, 'LG-H540': 484.0, 'LG-H630': 459.0, 'LG-H735': 1.0, 'LG-H736': 25.0, 'LG-H815': 285.0, 'LG-H818': 484.0, 'LG-H820': 22.0, 'LG-H830': 9.0, 'LG-H831': 19.0, 'LG-H840': 439.0, 'LG-H860': 180.0, 'LG-H870': 1416.0, 'LG-H870DS': 52.0, 'LG-H870I': 1018.0, 'LG-H870S': 10.0, 'LG-H870V': 13.0, 'LG-H871': 8.0, 'LG-H873': 60.0, 'LG-H910': 8.0, 'LG-H918': 5.0, 'LG-H930': 5.0, 'LG-H931': 5.0, 'LG-H990': 51.0, 'LG-K100': 2.0, 'LG-K120': 427.0, 'LG-K130': 4096.0, 'LG-K200': 4254.0, 'LG-K220': 7255.0, 'LG-K350': 5291.0, 'LG-K410': 326.0, 'LG-K420': 102.0, 'LG-K428': 3.0, 'LG-K430': 36602.0, 'LG-K500': 539.0, 'LG-K500n': 1.0, 'LG-K520': 11.0, 'LG-K530': 20.0, 'LG-K580': 1036.0, 'LG-M150': 6.0, 'LG-M151': 2.0, 'LG-M210': 6.0, 'LG-M250': 69649.0, 'LG-M257': 7.0, 'LG-M320': 38289.0, 'LG-M327': 10.0, 'LG-M400': 3978.0, 'LG-M700': 16052.0, 'LG-P705': 5.0, 'LG-TP260': 5.0, 'LG-V480': 4.0, 'LG-V500': 5.0, 'LG-V700': 7.0, 'LG-X170fTV': 105.0, 'LG-X210': 129.0, 'LG-X220': 588.0, 'LG-X230': 20154.0, 'LG-X240': 1235.0, 'LGMP260': 142.0, 'LGMS210': 19.0, 'LIO+': 55.0, 'LM-G710': 44.0, 'LM-Q610.FGN': 1231.0, 'LM-Q710(FGN)': 95.0, 'LM-Q710.FGN': 485.0, 'LM-X210': 21206.0, 'LM-X410.F': 28914.0, 'LM-X420': 1563.0, 'LND-AL30': 26.0, 'Le X520': 2.0, 'Le X522': 58.0, 'Le X526': 27.0, 'Le X620': 9.0, 'Le X820': 16.0, 'Lenny4 Plus': 4.0, 'Lenovo A1000': 56.0, 'Lenovo A1010a20': 91.0, 'Lenovo A2016a40': 166.0, 'Lenovo A2016b30': 3604.0, 'Lenovo A3300-GV': 22.0, 'Lenovo A6020a40': 277.0, 'Lenovo A6020a46': 19.0, 'Lenovo A6020l36': 8106.0, 'Lenovo A7010a48': 714.0, 'Lenovo A7600-F': 6.0, 'Lenovo B8000-F': 59.0, 'Lenovo K10a40': 3251.0, 'Lenovo K10e70': 17.0, 'Lenovo K33a42': 42.0, 'Lenovo K33a48': 561.0, 'Lenovo K33b36': 7516.0, 'Lenovo K50-t5': 33.0, 'Lenovo K51c78': 10.0, 'Lenovo K520': 172.0, 'Lenovo K53a48': 149.0, 'Lenovo K53b36': 4095.0, 'Lenovo K8 Note': 207.0, 'Lenovo K8 Plus': 791.0, 'Lenovo L18021': 31.0, 'Lenovo L19041': 10.0, 'Lenovo L38012': 42.0, 'Lenovo L38041': 214.0, 'Lenovo L38111': 35.0, 'Lenovo L58041': 39.0, 'Lenovo L78011': 30.0, 'Lenovo L78032': 107.0, 'Lenovo L78051': 122.0, 'Lenovo L78071': 170.0, 'Lenovo P1c58': 36.0, 'Lenovo P2a42': 2.0, 'Lenovo PB2-670M': 8.0, 'Lenovo PB2-670N': 8.0, 'Lenovo TAB 2 A10-70F': 13.0, 'Lenovo TB-8703F': 9.0, 'Lenovo TB-8703X': 48.0, 'Lenovo TB-X103F': 22.0, 'Lenovo TB-X304F': 13.0, 'Lenovo TB-X605F': 12.0, 'Lenovo TB2-X30F': 56.0, 'Lenovo TB3-X70F': 8.0, 'Lenovo YB1-X90F': 1.0, 'Lenovo Z90-7': 19.0, 'Life One X2': 3.0, 'Life One X2 Mini': 5.0, 'Lumia 435': 3.0, 'Lumia 640': 36.0, 'Lumia 950': 3.0, 'M10A': 7.0, 'M10A-Lite': 8.0, 'M5c': 22.0, 'M5s': 4.0, 'M6 Note': 90.0, 'M6T': 50.0, 'M7-3G-PLUS': 474.0, 'M7-4G': 143.0, 'M7SQC_Plus': 43.0, 'M7S_LITE': 36.0, 'M7_3G_PLUS': 130.0, 'M7sLite': 26.0, 'M8 Pro': 8.0, 'M9 Pro': 27.0, 'M9-3G': 36.0, 'MEGA': 23.0, 'MHA-L29': 1.0, 'MIX': 91.0, 'MIX 2': 64.0, 'ML-CH-MS45_4G': 124.0, 'ML-JI11-M7_3G_PLUS': 17.0, 'ML-SO-M7_3G_PLUS': 48.0, 'ML-TI-MS80': 150.0, 'ML-WI-M9-3G': 3.0, 'MN4A2ZP/A': 31.0, 'MONDIAL': 9.0, 'MS40G': 700.0, 'MS40S': 103.0, 'MS45S': 8.0, 'MS45S_A6': 139.0, 'MS45S_A6_Teen': 12.0, 'MS50': 1.0, 'MS50G': 1494.0, 'MS50L': 2954.0, 'MS50L_4G': 107.0, 'MS50M': 43.0, 'MS50S': 5.0, 'MS50X': 852.0, 'MS50_4G': 62.0, 'MS55': 287.0, 'MS55M': 68.0, 'MS60': 176.0, 'MS60F': 456.0, 'MS60F_PLUS': 145.0, 'MS60X': 153.0, 'MS60Z': 112.0, 'MS70': 293.0, 'MS80X': 175.0, 'MUV': 216.0, 'MX9-4K': 7.0, 'MYA-L11': 50.0, 'MYA-L23': 71.0, 'MZ-M5 Note': 1.0, 'MZ-M5c': 31.0, 'MZ-M5s': 53.0, 'MZ-MX4': 2.0, 'MZ-Meizu M6s': 3.0, 'MZ-meizu C9': 2.0, 'Magnum One': 12.0, 'Maya': 7.0, 'Meizu M6': 13.0, 'Meizu M6s': 22.0, 'Mi A1': 6.0, 'Mi A2': 126.0, 'Mi A2 Lite': 199.0, 'Mi MIX 2': 6.0, 'Mi Note 2': 163.0, 'Micromax P789': 32.0, 'Microsoft Virtual': 6.0, 'Moto C': 3865.0, 'Moto C Plus': 15529.0, 'Moto E': 66.0, 'Moto E (4)': 8589.0, 'Moto E (4) Plus': 14086.0, 'Moto G': 12.0, 'Moto G (4)': 15869.0, 'Moto G (5)': 35437.0, 'Moto G (5) Plus': 18632.0, 'Moto G (5S)': 36691.0, 'Moto G (5S) Plus': 36959.0, 'Moto G 2014': 1.0, 'Moto G Play': 21235.0, 'Moto G4 Plus': 10.0, 'Moto G5 (XT1672)': 307.0, 'Moto G5S (XT1792)': 6.0, 'Moto X Play': 1498.0, 'Moto X4': 1.0, 'Moto Z (2)': 1384.0, 'Moto Z2 Play': 19259.0, 'Moto Z3 Play': 13421.0, 'MotoE2': 97.0, 'MotoE2(4G-LTE)': 500.0, 'MotoG3': 6930.0, 'MotoG3-TE': 456.0, 'Motorola MZ608': 7.0, 'N5L': 7.0, 'NP-752Go': 300.0, 'NP-852': 8.0, 'NX551J': 27.0, 'NX563J': 25.0, 'NX569J': 17.0, 'NX573J': 131.0, 'NX591J': 84.0, 'NX612J': 8.0, 'Neffos C5': 37.0, 'Neffos X1 Lite': 31.0, 'Nexus 5': 49484.0, 'Nexus 5X': 73.0, 'Nokia 2': 311.0, 'Nokia 2.3': 10.0, 'Nokia 3': 7.0, 'Nokia 3.1': 2.0, 'Nokia 3.1 Plus': 18.0, 'Nokia 6': 319.0, 'Nokia 6.1 Plus': 163.0, 'Nokia 7': 8.0, 'Nokia 7 plus': 16.0, 'Nokia 7.1': 88.0, 'ONEPLUS A3003': 70.0, 'One Pro': 34.0, 'Opal 4S': 33.0, 'Other': 1465347.0, 'P10': 27.0, 'PHONEMAX_Saturn': 14.0, 'POCOPHONE F1': 33.0, 'PRA-LX1': 24.0, 'PRO 7-S': 20.0, 'PTB7PAP_PTB7PAB_PTB7PAR': 23.0, 'PTB7QSG_3G': 14.0, 'Pixel 2': 58.0, 'Pixel 2 XL': 3.0, 'Pixel C': 23.0, 'Platinum_5.0M': 16.0, 'PlayStation 4': 77.0, 'Plus E': 6.0, 'Positivo Slim': 140.0, 'Positivo Twist 4G': 608.0, 'Positivo Twist M': 357.0, 'Positivo Twist S': 330.0, 'Positivo US2070': 4.0, 'Power 3S': 4.0, 'Power_5': 26.0, 'Pure XR': 10.0, 'Q05A': 3.0, 'Q06': 17.0, 'Quantum Fly': 6.0, 'Quantum Go': 162.0, 'Quantum MUV PRO': 409.0, 'Quantum MUV UP': 18.0, 'Quantum V': 8.0, 'Quantum You 2': 80.0, 'Quantum You E': 5.0, 'Quartzo UP': 86.0, 'R1 PLUS': 19.0, 'R2 LTE': 70.0, 'RCT6A03W13': 10.0, 'RNE-L21': 38.0, 'RNE-L22': 56.0, 'RNE-L23': 34.0, 'RS988': 42.0, 'S10': 33.0, 'S10_Pro': 40.0, 'S30': 18.0, 'S31': 28.0, 'S41': 96.0, 'S420': 10.0, 'S430 Positivo Twist Mini': 148.0, 'S455': 27.0, 'S55': 2.0, 'S60': 21.0, 'S60Lite': 34.0, 'S70': 19.0, 'S8': 43.0, 'S9 Plus': 43.0, 'S9+': 40.0, 'SC-02H': 4.0, 'SGP311': 4.0, 'SGP551': 50.0, 'SKY 5.0W': 8.0, 'STH100-2': 12.0, 'STV-2000': 9.0, 'STV100-3': 81.0, 'SUPER': 1.0, 'Samsung GT-I8190L': 59.0, 'Samsung GT-I8200L': 20.0, 'Samsung GT-I8262B': 49.0, 'Samsung GT-I8552': 3.0, 'Samsung GT-I8552B': 926.0, 'Samsung GT-I9060C': 2546.0, 'Samsung GT-I9060I': 172.0, 'Samsung GT-I9063T': 499.0, 'Samsung GT-I9070': 10.0, 'Samsung GT-I9082': 29.0, 'Samsung GT-I9082L': 130.0, 'Samsung GT-I9105P': 10.0, 'Samsung GT-I9152': 241.0, 'Samsung GT-I9192': 1864.0, 'Samsung GT-I9195': 97.0, 'Samsung GT-I9200': 14.0, 'Samsung GT-I9295': 82.0, 'Samsung GT-I9300': 48.0, 'Samsung GT-I9300I': 396.0, 'Samsung GT-I9500': 111.0, 'Samsung GT-I9505': 809.0, 'Samsung GT-I9505G': 3.0, 'Samsung GT-I9515': 16.0, 'Samsung GT-I9515L': 956.0, 'Samsung GT-N5100': 17.0, 'Samsung GT-N7000': 16.0, 'Samsung GT-N7100': 56.0, 'Samsung GT-N7105T': 2.0, 'Samsung GT-N8000': 61.0, 'Samsung GT-P3100': 13.0, 'Samsung GT-P3110': 9.0, 'Samsung GT-P5200': 34.0, 'Samsung GT-P5210': 2.0, 'Samsung GT-S5303B': 8.0, 'Samsung GT-S5310B': 99.0, 'Samsung GT-S5310C': 27.0, 'Samsung GT-S5312C': 161.0, 'Samsung GT-S6293T': 533.0, 'Samsung GT-S6313T': 33.0, 'Samsung GT-S6792L': 3.0, 'Samsung GT-S6810B': 4.0, 'Samsung GT-S6812B': 11.0, 'Samsung GT-S7273T': 88.0, 'Samsung GT-S7275B': 18.0, 'Samsung GT-S7392L': 22.0, 'Samsung GT-S7560M': 6.0, 'Samsung GT-S7562L': 9.0, 'Samsung GT-S7582': 8.0, 'Samsung GT-S7582L': 462.0, 'Samsung GT-S7583T': 103.0, 'Samsung KDDI': 5.0, 'Samsung SAMSUNG SM-N9005': 5.0, 'Samsung SAMSUNG-SM-J320A': 32.0, 'Samsung SM-A015M': 1437.0, 'Samsung SM-A102U': 46.0, 'Samsung SM-A102U1': 20.0, 'Samsung SM-A105F': 183.0, 'Samsung SM-A105FN': 182.0, 'Samsung SM-A105G': 18.0, 'Samsung SM-A105M': 136208.0, 'Samsung SM-A107F': 48.0, 'Samsung SM-A107M': 39682.0, 'Samsung SM-A115M': 32.0, 'Samsung SM-A202F': 135.0, 'Samsung SM-A205F': 132.0, 'Samsung SM-A205G': 93174.0, 'Samsung SM-A205GN': 36.0, 'Samsung SM-A207M': 37312.0, 'Samsung SM-A217M': 9.0, 'Samsung SM-A260F': 3.0, 'Samsung SM-A260G': 91.0, 'Samsung SM-A300FU': 18.0, 'Samsung SM-A300M': 683.0, 'Samsung SM-A305F': 34.0, 'Samsung SM-A305FN': 4.0, 'Samsung SM-A305G': 230.0, 'Samsung SM-A305GN': 4.0, 'Samsung SM-A305GT': 71612.0, 'Samsung SM-A305YN': 5.0, 'Samsung SM-A307G': 17.0, 'Samsung SM-A307GN': 4.0, 'Samsung SM-A307GT': 55134.0, 'Samsung SM-A310F': 17.0, 'Samsung SM-A310M': 704.0, 'Samsung SM-A315G': 353.0, 'Samsung SM-A320F': 6.0, 'Samsung SM-A405FN': 161.0, 'Samsung SM-A500H': 4.0, 'Samsung SM-A500M': 3073.0, 'Samsung SM-A505F': 121.0, 'Samsung SM-A505FN': 10.0, 'Samsung SM-A505G': 898.0, 'Samsung SM-A505GT': 62969.0, 'Samsung SM-A507FN': 5.0, 'Samsung SM-A510M': 4447.0, 'Samsung SM-A515F': 22180.0, 'Samsung SM-A520F': 12538.0, 'Samsung SM-A520W': 7.0, 'Samsung SM-A530F': 12168.0, 'Samsung SM-A600FN': 21.0, 'Samsung SM-A600GN': 11.0, 'Samsung SM-A605FN': 68.0, 'Samsung SM-A605G': 3.0, 'Samsung SM-A605GN': 7525.0, 'Samsung SM-A6060': 33.0, 'Samsung SM-A700FD': 688.0, 'Samsung SM-A700YD': 22.0, 'Samsung SM-A7050': 3.0, 'Samsung SM-A705FN': 81.0, 'Samsung SM-A705MN': 26102.0, 'Samsung SM-A710M': 1081.0, 'Samsung SM-A715F': 7622.0, 'Samsung SM-A720F': 7094.0, 'Samsung SM-A730F': 7329.0, 'Samsung SM-A750F': 39.0, 'Samsung SM-A750FN': 21.0, 'Samsung SM-A750G': 17714.0, 'Samsung SM-A750GN': 33.0, 'Samsung SM-A805F': 7649.0, 'Samsung SM-A9000': 7.0, 'Samsung SM-A910F': 3638.0, 'Samsung SM-A920F': 8962.0, 'Samsung SM-A920X': 2.0, 'Samsung SM-B313E': 12.0, 'Samsung SM-C5000': 62.0, 'Samsung SM-C5010': 50.0, 'Samsung SM-C7000': 22.0, 'Samsung SM-C7010': 21.0, 'Samsung SM-C9000': 110.0, 'Samsung SM-E500M': 136.0, 'Samsung SM-E700M': 740.0, 'Samsung SM-F700F': 44.0, 'Samsung SM-G110B': 29.0, 'Samsung SM-G130BU': 7.0, 'Samsung SM-G316M': 18.0, 'Samsung SM-G316ML': 28.0, 'Samsung SM-G318ML': 8.0, 'Samsung SM-G3502L': 42.0, 'Samsung SM-G3502T': 100.0, 'Samsung SM-G355M': 160.0, 'Samsung SM-G360BT': 1252.0, 'Samsung SM-G360M': 287.0, 'Samsung SM-G3812B': 19.0, 'Samsung SM-G530A': 8.0, 'Samsung SM-G530BT': 4778.0, 'Samsung SM-G530H': 661.0, 'Samsung SM-G530MU': 69.0, 'Samsung SM-G530T': 46.0, 'Samsung SM-G531BT': 5562.0, 'Samsung SM-G531H': 11844.0, 'Samsung SM-G531M': 879.0, 'Samsung SM-G532F': 237.0, 'Samsung SM-G532G': 102.0, 'Samsung SM-G532M': 19920.0, 'Samsung SM-G532MT': 69926.0, 'Samsung SM-G570F': 61.0, 'Samsung SM-G570M': 105225.0, 'Samsung SM-G570Y': 44.0, 'Samsung SM-G6000': 6.0, 'Samsung SM-G600FY': 8406.0, 'Samsung SM-G6100': 92.0, 'Samsung SM-G610F': 2051.0, 'Samsung SM-G610M': 123281.0, 'Samsung SM-G611F': 43.0, 'Samsung SM-G611M': 285.0, 'Samsung SM-G611MT': 30235.0, 'Samsung SM-G615F': 8.0, 'Samsung SM-G7102': 6.0, 'Samsung SM-G7102T': 64.0, 'Samsung SM-G770F': 195.0, 'Samsung SM-G800H': 979.0, 'Samsung SM-G850F': 25.0, 'Samsung SM-G850M': 18.0, 'Samsung SM-G890A': 1.0, 'Samsung SM-G891A': 29.0, 'Samsung SM-G892A': 11.0, 'Samsung SM-G900A': 4.0, 'Samsung SM-G900F': 73.0, 'Samsung SM-G900FD': 26.0, 'Samsung SM-G900H': 3.0, 'Samsung SM-G900M': 1990.0, 'Samsung SM-G900MD': 475.0, 'Samsung SM-G900P': 186.0, 'Samsung SM-G900T': 4.0, 'Samsung SM-G903F': 18.0, 'Samsung SM-G903M': 968.0, 'Samsung SM-G920A': 22.0, 'Samsung SM-G920F': 191.0, 'Samsung SM-G920I': 3319.0, 'Samsung SM-G920T': 8.0, 'Samsung SM-G920V': 122.0, 'Samsung SM-G925A': 34.0, 'Samsung SM-G925F': 133.0, 'Samsung SM-G925I': 2388.0, 'Samsung SM-G925P': 3.0, 'Samsung SM-G928A': 14.0, 'Samsung SM-G928F': 26.0, 'Samsung SM-G928G': 473.0, 'Samsung SM-G928T': 7.0, 'Samsung SM-G930A': 189.0, 'Samsung SM-G930F': 13025.0, 'Samsung SM-G930T': 9.0, 'Samsung SM-G930U': 242.0, 'Samsung SM-G930V': 199.0, 'Samsung SM-G935A': 37.0, 'Samsung SM-G935F': 13851.0, 'Samsung SM-G935L': 3.0, 'Samsung SM-G935P': 47.0, 'Samsung SM-G935S': 21.0, 'Samsung SM-G935U': 17.0, 'Samsung SM-G950F': 23814.0, 'Samsung SM-G950U': 187.0, 'Samsung SM-G950U1': 274.0, 'Samsung SM-G955F': 14595.0, 'Samsung SM-G955N': 28.0, 'Samsung SM-G955U': 179.0, 'Samsung SM-G955U1': 125.0, 'Samsung SM-G955W': 4.0, 'Samsung SM-G9600': 27589.0, 'Samsung SM-G960F': 504.0, 'Samsung SM-G960U': 133.0, 'Samsung SM-G960U1': 114.0, 'Samsung SM-G960W': 41.0, 'Samsung SM-G960X': 41.0, 'Samsung SM-G9650': 29984.0, 'Samsung SM-G965F': 446.0, 'Samsung SM-G965U': 231.0, 'Samsung SM-G965U1': 179.0, 'Samsung SM-G970F': 14528.0, 'Samsung SM-G970N': 39.0, 'Samsung SM-G970U': 6.0, 'Samsung SM-G970U1': 12.0, 'Samsung SM-G970X': 52.0, 'Samsung SM-G9730': 6.0, 'Samsung SM-G973F': 15555.0, 'Samsung SM-G973U': 13.0, 'Samsung SM-G973U1': 117.0, 'Samsung SM-G9750': 12.0, 'Samsung SM-G975F': 25168.0, 'Samsung SM-G975U': 56.0, 'Samsung SM-G975U1': 163.0, 'Samsung SM-G975W': 76.0, 'Samsung SM-G980F': 964.0, 'Samsung SM-G985F': 1441.0, 'Samsung SM-G988B': 263.0, 'Samsung SM-G988U': 5.0, 'Samsung SM-G988U1': 2.0, 'Samsung SM-J100M': 48.0, 'Samsung SM-J105B': 13745.0, 'Samsung SM-J105H': 9.0, 'Samsung SM-J105M': 2355.0, 'Samsung SM-J106B': 130.0, 'Samsung SM-J106F': 8.0, 'Samsung SM-J106H': 296.0, 'Samsung SM-J106M': 12.0, 'Samsung SM-J110L': 5.0, 'Samsung SM-J110M': 205.0, 'Samsung SM-J111F': 35.0, 'Samsung SM-J111M': 190.0, 'Samsung SM-J120AZ': 6.0, 'Samsung SM-J120H': 8723.0, 'Samsung SM-J120M': 476.0, 'Samsung SM-J200BT': 4851.0, 'Samsung SM-J200G': 13.0, 'Samsung SM-J200H': 89.0, 'Samsung SM-J200M': 2138.0, 'Samsung SM-J250F': 8.0, 'Samsung SM-J250M': 8538.0, 'Samsung SM-J260F': 1.0, 'Samsung SM-J260G': 95.0, 'Samsung SM-J260M': 37037.0, 'Samsung SM-J260MU': 457.0, 'Samsung SM-J260T1': 6.0, 'Samsung SM-J3110': 24.0, 'Samsung SM-J3119S': 4.0, 'Samsung SM-J320F': 15.0, 'Samsung SM-J320FN': 40.0, 'Samsung SM-J320H': 149.0, 'Samsung SM-J320M': 13348.0, 'Samsung SM-J326AZ': 119.0, 'Samsung SM-J327T1': 2.0, 'Samsung SM-J327W': 6.0, 'Samsung SM-J330F': 8.0, 'Samsung SM-J330FN': 13.0, 'Samsung SM-J330G': 99.0, 'Samsung SM-J400F': 11.0, 'Samsung SM-J400M': 32089.0, 'Samsung SM-J410F': 45.0, 'Samsung SM-J410G': 57599.0, 'Samsung SM-J415F': 7.0, 'Samsung SM-J415FN': 54.0, 'Samsung SM-J415G': 47895.0, 'Samsung SM-J500F': 20.0, 'Samsung SM-J500FN': 3.0, 'Samsung SM-J500H': 259.0, 'Samsung SM-J500M': 55178.0, 'Samsung SM-J510FN': 12.0, 'Samsung SM-J510MN': 12268.0, 'Samsung SM-J530F': 14.0, 'Samsung SM-J530G': 26770.0, 'Samsung SM-J600F': 2.0, 'Samsung SM-J600FN': 19.0, 'Samsung SM-J600G': 346.0, 'Samsung SM-J600GT': 57866.0, 'Samsung SM-J610F': 23.0, 'Samsung SM-J610FN': 37.0, 'Samsung SM-J610G': 45103.0, 'Samsung SM-J700F': 359.0, 'Samsung SM-J700H': 222.0, 'Samsung SM-J700M': 34395.0, 'Samsung SM-J700T': 17.0, 'Samsung SM-J700T1': 58.0, 'Samsung SM-J701F': 201.0, 'Samsung SM-J701M': 285.0, 'Samsung SM-J701MT': 41817.0, 'Samsung SM-J710F': 181.0, 'Samsung SM-J710MN': 36881.0, 'Samsung SM-J720M': 674.0, 'Samsung SM-J727T': 12.0, 'Samsung SM-J727T1': 12.0, 'Samsung SM-J727U': 11.0, 'Samsung SM-J730F': 236.0, 'Samsung SM-J730G': 35982.0, 'Samsung SM-J730GM': 601.0, 'Samsung SM-J737T1': 19.0, 'Samsung SM-J737U': 5.0, 'Samsung SM-J810F': 35.0, 'Samsung SM-J810G': 13.0, 'Samsung SM-J810M': 64395.0, 'Samsung SM-J810Y': 9.0, 'Samsung SM-M105M': 6873.0, 'Samsung SM-M205M': 5058.0, 'Samsung SM-M305M': 6443.0, 'Samsung SM-N7502': 19.0, 'Samsung SM-N770F': 643.0, 'Samsung SM-N9005': 319.0, 'Samsung SM-N910A': 107.0, 'Samsung SM-N910C': 398.0, 'Samsung SM-N915T': 58.0, 'Samsung SM-N920A': 30.0, 'Samsung SM-N920C': 150.0, 'Samsung SM-N920G': 261.0, 'Samsung SM-N920S': 110.0, 'Samsung SM-N935F': 33.0, 'Samsung SM-N950F': 4839.0, 'Samsung SM-N950U': 101.0, 'Samsung SM-N950U1': 33.0, 'Samsung SM-N9600': 7897.0, 'Samsung SM-N960F': 507.0, 'Samsung SM-N960N': 125.0, 'Samsung SM-N960U': 48.0, 'Samsung SM-N960U1': 28.0, 'Samsung SM-N9700': 4.0, 'Samsung SM-N970F': 2678.0, 'Samsung SM-N9750': 6.0, 'Samsung SM-N975F': 7398.0, 'Samsung SM-N975U': 7.0, 'Samsung SM-N975U1': 8.0, 'Samsung SM-N976U': 72.0, 'Samsung SM-P200': 16.0, 'Samsung SM-P205': 25.0, 'Samsung SM-P355M': 151.0, 'Samsung SM-P550': 83.0, 'Samsung SM-P555M': 75.0, 'Samsung SM-P585M': 112.0, 'Samsung SM-P605M': 6.0, 'Samsung SM-P615': 13.0, 'Samsung SM-T110': 26.0, 'Samsung SM-T111M': 83.0, 'Samsung SM-T113NU': 15.0, 'Samsung SM-T116BU': 32.0, 'Samsung SM-T280': 518.0, 'Samsung SM-T285M': 1385.0, 'Samsung SM-T285YD': 53.0, 'Samsung SM-T290': 41.0, 'Samsung SM-T295': 276.0, 'Samsung SM-T311': 2.0, 'Samsung SM-T330': 5.0, 'Samsung SM-T331': 4.0, 'Samsung SM-T385M': 179.0, 'Samsung SM-T510': 255.0, 'Samsung SM-T515': 277.0, 'Samsung SM-T530': 1.0, 'Samsung SM-T550': 157.0, 'Samsung SM-T555': 192.0, 'Samsung SM-T560': 16.0, 'Samsung SM-T561M': 13.0, 'Samsung SM-T580': 12.0, 'Samsung SM-T585': 183.0, 'Samsung SM-T595': 234.0, 'Samsung SM-T700': 12.0, 'Samsung SM-T705M': 28.0, 'Samsung SM-T715Y': 16.0, 'Samsung SM-T725': 84.0, 'Samsung SM-T805M': 69.0, 'Samsung SM-T810': 8.0, 'Samsung SM-T815Y': 5.0, 'Samsung SM-T819': 78.0, 'Samsung SM-T819Y': 80.0, 'Samsung SM-T820': 13.0, 'Samsung SM-T825': 126.0, 'Samsung SM-T835': 11.0, 'Samsung SM-T865': 32.0, 'Sky': 211.0, 'Skywalker': 30.0, 'Smartphone DL Horizon H8': 44.0, 'Smartphone_YZU_DS53': 39.0, 'Spider': 808915.0, 'Studio J2': 36.0, 'Studio View XL': 31.0, 'Sunny3': 7.0, 'T96 Mars': 2.0, 'TP601B': 4.0, 'TRT-L53': 44.0, 'TRT-LX1': 2.0, 'TV BOX': 11.0, 'TVBOX': 17.0, 'TWIST 4.0': 2.0, 'TX92': 7.0, 'Tablet_DL_2811': 130.0, 'Tablet_DL_2820': 15.0, 'Tablet_DL_4010': 17.0, 'Twist (2018)': 1331.0, 'Twist 2': 1224.0, 'Twist 2 Fit': 682.0, 'Twist 2 Go': 13.0, 'Twist 2 Pro': 519.0, 'Twist 3': 195.0, 'Twist Max': 4.0, 'Twist Metal': 156.0, 'Twist Metal 32GB': 167.0, 'Twist Mini': 1533.0, 'Twist Tab': 5.0, 'Twist XL': 234.0, 'U2': 8.0, 'Ulefone_Armor_5': 9.0, 'VF-1397': 10.0, 'VFD 620': 13.0, 'VIE-L09': 4.0, 'VKY-L29': 12.0, 'Vivo 5 Mini': 30.0, 'Vivo 5R': 5.0, 'Vivo 8': 7.0, 'Vivo XI': 248.0, 'Vivo XI+': 50.0, 'Vivo XL4': 12.0, 'WAS-LX1': 29.0, 'WAS-LX3': 23.0, 'WP5000': 10.0, 'X206': 4.0, 'X21 Plus': 8.0, 'X23': 11.0, 'X50A': 10.0, 'XT1021': 15.0, 'XT1022': 85.0, 'XT1025': 138.0, 'XT1032': 576.0, 'XT1033': 1259.0, 'XT1034': 10.0, 'XT1039': 26.0, 'XT1040': 175.0, 'XT1058': 49.0, 'XT1064': 28.0, 'XT1068': 1207.0, 'XT1069': 1667.0, 'XT1078': 195.0, 'XT1079': 163.0, 'XT1092': 10.0, 'XT1097': 856.0, 'XT1225': 181.0, 'XT1562': 13.0, 'XT1563': 64.0, 'XT1572': 88.0, 'XT1580': 319.0, 'XT1585': 7.0, 'XT1609': 6.0, 'XT1635-02': 4913.0, 'XT1635-03': 5.0, 'XT1650': 466.0, 'XT1662': 26.0, 'XT1663': 3.0, 'XT1706': 11.0, 'XT1799-2': 52.0, 'XT1802': 8.0, 'XT621': 1.0, 'XT918': 9.0, 'XiaoMi MI 5': 31.0, 'XiaoMi MI 5X': 120.0, 'XiaoMi MI 5s': 47.0, 'XiaoMi MI 5s Plus': 120.0, 'XiaoMi MI 6': 742.0, 'XiaoMi MI 6X': 71.0, 'XiaoMi MI 8': 2358.0, 'XiaoMi MI 8 Lite': 22535.0, 'XiaoMi MI 8 Pro': 897.0, 'XiaoMi MI 8 SE': 21.0, 'XiaoMi MI 9': 7516.0, 'XiaoMi MI 9 SE': 435.0, 'XiaoMi MI 9 Transparent Edition': 14.0, 'XiaoMi MI A3': 12.0, 'XiaoMi MI CC 9': 3.0, 'XiaoMi MI CC9 Pro': 21.0, 'XiaoMi MI CC9 Pro Premium Edition': 10.0, 'XiaoMi MI MAX': 28.0, 'XiaoMi MI MAX 2': 228.0, 'XiaoMi MI MAX 3': 1026.0, 'XiaoMi MI PLAY': 1137.0, 'XiaoMi Redmi 3': 45.0, 'XiaoMi Redmi 3S': 7.0, 'XiaoMi Redmi 4': 27.0, 'XiaoMi Redmi 4A': 315.0, 'XiaoMi Redmi 4X': 346.0, 'XiaoMi Redmi 5': 482.0, 'XiaoMi Redmi 5 Plus': 2460.0, 'XiaoMi Redmi 5A': 336.0, 'XiaoMi Redmi 6': 5521.0, 'XiaoMi Redmi 6 Pro': 53.0, 'XiaoMi Redmi 6A': 5535.0, 'XiaoMi Redmi 7': 6209.0, 'XiaoMi Redmi 7A': 8589.0, 'XiaoMi Redmi 8': 5430.0, 'XiaoMi Redmi 8A': 4288.0, 'XiaoMi Redmi Go': 2364.0, 'XiaoMi Redmi K20': 32.0, 'XiaoMi Redmi K20 Pro': 44.0, 'XiaoMi Redmi K20 Pro Premium Edition': 5.0, 'XiaoMi Redmi Note 3': 166.0, 'XiaoMi Redmi Note 4': 1409.0, 'XiaoMi Redmi Note 4X': 91.0, 'XiaoMi Redmi Note 5': 4736.0, 'XiaoMi Redmi Note 5A': 34.0, 'XiaoMi Redmi Note 5A Prime': 238.0, 'XiaoMi Redmi Note 6 Pro': 6531.0, 'XiaoMi Redmi Note 7': 41907.0, 'XiaoMi Redmi Note 7 Pro': 108.0, 'XiaoMi Redmi Note 8': 48156.0, 'XiaoMi Redmi Note 8 Pro': 15342.0, 'XiaoMi Redmi Note 8T': 4205.0, 'XiaoMi Redmi Note 9S': 671.0, 'XiaoMi Redmi Pro': 23.0, 'XiaoMi Redmi S2': 2860.0, 'YPY_S500': 8.0, 'YU FLY F9': 10.0, 'You': 270.0, 'You L': 82.0, 'Z Play': 52.0, 'Z2': 9.0, 'Z2 Plus': 3.0, 'Z2_PRO': 18.0, 'Z831': 7.0, 'Z971': 23.0, 'Z981': 9.0, 'Z982': 1.0, 'ZB500KG': 69.0, 'ZE553KL': 701.0, 'ZTE BLADE A110': 8.0, 'ZTE BLADE A510': 204.0, 'ZTE BLADE L110': 156.0, 'ZTE Blade A3 Lite': 43.0, 'ZTE Blade L5': 26.0, 'ZUK Z2121': 41.0, 'dolphin': 10.0, 'exbom': 40.0, 'fnac 5': 8.0, 'g5 Plus': 3.0, 'gxq6580_weg_l': 11.0, 'iPad': 4334.0, 'iPad11': 0.0, '1': 101394.0, '3': 71671.0, 'iPad3': 0.0, '4': 82137.0, '5': 53576.0, 'iPad4': 0.0, '2': 60199.0, '7': 20.0, '8': 38167.0, 'iPad5': 0.0, 'iPad6': 0.0, '11': 158.0, '12': 9.0, 'iPad7': 0.0, '6': 31249.0, 'iPad8': 0.0, 'iPhone': 536449.0, 'iPhone10': 0.0, 'iPhone11': 0.0, 'iPhone12': 0.0, 'iPhone4': 0.0, 'iPhone5': 0.0, 'iPhone6': 0.0, 'iPhone7': 0.0, 'iPhone8': 0.0, 'iPhone9': 0.0, 'iPod': 8.0, 'iPod7': 0.0, 'itel A15': 6.0, 'moto e5': 16501.0, 'moto e5 play': 20636.0, 'moto e5 plus': 5853.0, 'moto g(6)': 2269.0, 'moto g(6) play': 7426.0, 'moto g(6) plus': 1362.0, 'moto g6 plus': 20.0, 'moto g7 plus': 13.0, 'moto x4': 279.0, 'motorola one': 194.0, 'vernee_M5': 33.0, 'victor': 13.0, 'vivo 1606': 5.0, 'vivo 1901': 7.0, 'vivo NEX A': 54.0, 'vivo X7': 9.0}, 'os_family': {'Android': 7247173.0, 'Chrome OS': 1892.0, 'Fedora': 266.0, 'FreeBSD': 27.0, 'Linux': 41568.0, 'Mac OS X': 51060.0, 'Other': 789822.0, 'Ubuntu': 5119.0, 'Windows 10': 749150.0, 'Windows 7': 302191.0, 'Windows 8': 7281.0, 'Windows 8.1': 51209.0, 'Windows Mobile': 8.0, 'Windows Phone': 339.0, 'Windows Vista': 626.0, 'Windows XP': 2557.0, 'iOS': 984603.0}, 'browser_family': {'AdsBot-Google': 11399.0, 'Amazon Silk': 131.0, 'Android': 36.0, 'AppleMail': 91.0, 'Applebot': 6.0, 'BingPreview': 28.0, 'Chrome': 1120809.0, 'Chrome Mobile': 5156925.0, 'Chrome Mobile iOS': 68828.0, 'Chromium': 574.0, 'Edge': 8555.0, 'Edge Mobile': 333.0, 'Facebook': 1778916.0, 'Firefox': 76592.0, 'Firefox Mobile': 12538.0, 'Firefox iOS': 801.0, 'GooglePlusBot': 13.0, 'Googlebot': 797464.0, 'IE': 8.0, 'IE Mobile': 6.0, 'Maxthon': 18.0, 'Mobile Safari': 470183.0, 'Mobile Safari UIWebView': 436250.0, 'Opera': 17329.0, 'Opera Mini': 21.0, 'Opera Mobile': 7554.0, 'Other': 249182.0, 'Pale Moon (Firefox Variant)': 11.0, 'PetalBot': 124.0, 'Pinterest': 8.0, 'Puffin': 263.0, 'SMTBot': 27.0, 'Safari': 15786.0, 'SeaMonkey': 1.0, 'UC Browser': 3746.0, 'Vivaldi': 142.0, 'Yahoo! Slurp': 6.0, 'Yandex Browser': 187.0}}\n",
      "{'device_family': {'Generic Smartphone': 316.893, 'Samsung SM-A105FN': 400.442, 'Samsung SM-G9650': 794.2095, 'Samsung SM-J415G': 403.402, 'Spider': 201.988, 'iPhone': 97.544}, 'os_family': {'Android': 292.9295, 'Other': 180.021, 'iOS': 97.544}, 'browser_family': {'Chrome Mobile': 403.402, 'Facebook': 400.442, 'Googlebot': 201.988, 'Mobile Safari': 97.544}}\n",
      "Finished at 2020-08-28 22:41:38.043525\n"
     ]
    }
   ],
   "source": [
    "from datetime import datetime \n",
    "\n",
    "quantity_of_datasets = 10\n",
    "questions = {}, {}, {}\n",
    "\n",
    "for i in range(quantity_of_datasets):\n",
    "    filename = 'part-0000' + str(i) +'.json.gz'\n",
    "    print(filename, 'Start at', datetime.today())\n",
    "    questions = process_dataset(filename, questions)\n",
    "    #spark.sparkContext.addFile(dataPath + 'part-0000' + str(i) +'.json.gz')\n",
    "\n",
    "question1, question2, question3 = questions\n",
    "\n",
    "print('Finished at', datetime.today())"
   ]
  },
  {
   "cell_type": "code",
   "execution_count": 16,
   "metadata": {},
   "outputs": [
    {
     "name": "stdout",
     "output_type": "stream",
     "text": [
      "{'part-00000.json.gz': 10234891}\n"
     ]
    }
   ],
   "source": [
    "print(question1)"
   ]
  },
  {
   "cell_type": "code",
   "execution_count": 17,
   "metadata": {},
   "outputs": [
    {
     "name": "stdout",
     "output_type": "stream",
     "text": [
      "{'device_family': {'': 88.0, '1001-G Go': 221.0, '2014819': 69.0, '4009E': 5.0, '4009I': 6.0, '4017F': 231.0, '4028E': 2.0, '4034E': 1502.0, '4055J': 170.0, '5010E': 1464.0, '5016J': 85.0, '5017E': 9.0, '5026J': 288.0, '5033E': 395.0, '5033J': 856.0, '5045J': 489.0, '5046J': 95.0, '5049E': 26.0, '5051J': 247.0, '5054W': 11.0, '5056N': 29.0, '5085J': 223.0, '5085N': 515.0, '5090I': 25.0, '5152D': 360.0, '5159J': 963.0, '5186D': 156.0, '5199I': 77.0, '6039J': 26.0, '6055B': 224.0, '6060S': 9.0, '62S': 56.0, '7048A': 2.0, '705-G': 22.0, '705-G Go': 488.0, '71S': 52.0, '8050E': 1717.0, '9008J': 397.0, '9008N': 673.0, '91S': 2.0, 'A3_Pro': 8.0, 'ALE-L21': 81.0, 'ATU-LX3': 1.0, 'Advance 4.0 L3': 36.0, 'Advance 4.0M': 42.0, 'Advance 5.2': 16.0, 'Advance L4': 80.0, 'Aquaris X Pro': 18.0, 'Archos 60 Platinum': 21.0, 'Archos Access 50 Color 3G': 26.0, 'Archos Core 50 4G': 70.0, 'Armor_3': 1.0, 'Armor_6': 20.0, 'Asus A001D': 10748.0, 'Asus A007': 1883.0, 'Asus ASUS': 47.0, 'Asus FBBD': 300.0, 'Asus I001DB': 33.0, 'Asus I001DD': 15.0, 'Asus I01WD': 659.0, 'Asus T00J': 35.0, 'Asus X008D': 144.0, 'Asus X008DB': 1033.0, 'Asus X008DC': 6.0, 'Asus X00AD': 36.0, 'Asus X00ADA': 179.0, 'Asus X00BD': 32.0, 'Asus X00DD': 21.0, 'Asus X00DDA': 1283.0, 'Asus X00DDB': 123.0, 'Asus X00GD': 22.0, 'Asus X00HD': 1154.0, 'Asus X00ID': 1802.0, 'Asus X00KD': 36.0, 'Asus X00LD': 8843.0, 'Asus X00LDA': 1187.0, 'Asus X00PD': 1153.0, 'Asus X00QD': 6783.0, 'Asus X00RD': 2988.0, 'Asus X00TD': 73.0, 'Asus X00TDB': 6079.0, 'Asus X013D': 1253.0, 'Asus X014D': 58.0, 'Asus X017D': 1579.0, 'Asus X017DA': 3099.0, 'Asus X018D': 1172.0, 'Asus X018DC': 3.0, 'Asus X01AD': 28.0, 'Asus X01BDA': 1063.0, 'Asus Z00A': 21.0, 'Asus Z00AD': 987.0, 'Asus Z00LD': 286.0, 'Asus Z00UD': 740.0, 'Asus Z00VD': 109.0, 'Asus Z00XS': 81.0, 'Asus Z00YD': 170.0, 'Asus Z011D': 535.0, 'Asus Z012DA': 15.0, 'Asus Z012DC': 3567.0, 'Asus Z012DE': 12.0, 'Asus Z017D': 68.0, 'Asus Z017DA': 73.0, 'Asus Z017DC': 1774.0, 'Asus Z01FD': 3.0, 'Asus Z01HDA': 133.0, 'Asus Z01KD': 2948.0, 'Asus Z01KDA': 158.0, 'Asus Z01MD': 572.0, 'Asus Z01RD': 1270.0, 'Asus ZB500KG': 14.0, 'Asus ZE553KL': 467.0, 'BBB100-1': 4.0, 'BBB100-2': 15.0, 'BBC100-1': 1.0, 'BBD100-2': 67.0, 'BL5000': 3.0, 'BLA-L29': 79.0, 'BLL-L22': 7.0, 'BLL-L23': 6.0, 'BLU ADVANCE 4.0 L2': 137.0, 'BLU DASH L': 7.0, 'BLU DASH M2': 39.0, 'BLU DASH X2': 6.0, 'BLU ENERGY DIAMOND': 9.0, 'BLU Grand X LTE': 30.0, 'BLU NEO X MINI': 16.0, 'BLU STUDIO C HD': 3.0, 'BLU STUDIO G2': 74.0, 'BLU Studio Touch': 10.0, 'BV8000Pro': 21.0, 'BV9500': 5.0, 'Bluboo_S8_plus': 12.0, 'C NOTE 2': 60.0, 'C103': 7.0, 'C1604': 15.0, 'C2004': 2.0, 'C2304': 12.0, 'C5': 183.0, 'C5303': 6.0, 'C5L': 6.0, 'C6': 73.0, 'C6503': 10.0, 'C6843': 1.0, 'C6943': 153.0, 'C8': 8.0, 'CPH1803': 11.0, 'CPH1909': 59.0, 'CUBOT_J3': 14.0, 'CUBOT_P20': 9.0, 'CUBOT_POWER': 11.0, 'Che2-L11': 7.0, 'D2114': 29.0, 'D2212': 14.0, 'D2243': 17.0, 'D2306': 13.0, 'D2403': 53.0, 'D5322': 54.0, 'D5803': 3.0, 'D5833': 20.0, 'D6503': 1.0, 'D6543': 152.0, 'D6603': 113.0, 'D6633': 55.0, 'D6643': 4.0, 'DASH C MUSIC': 9.0, 'DIG-L01': 16.0, 'DIG-L03': 4.0, 'DUA-L22': 46.0, 'DUB-LX1': 61.0, 'DUB-LX3': 21.0, 'Dash L4 LTE': 18.0, 'E': 384.0, 'E2124': 10.0, 'E2303': 10.0, 'E2306': 5.0, 'E2363': 70.0, 'E5343': 22.0, 'E5563': 42.0, 'E5643': 25.0, 'E6533': 1.0, 'E6553': 25.0, 'E6603': 31.0, 'E6633': 250.0, 'E6653': 49.0, 'E6683': 1.0, 'E6833': 11.0, 'E6853': 101.0, 'ELUGA_A3_Pro': 35.0, 'EML-AL00': 11.0, 'ENERGY XL': 8.0, 'E_Lite': 156.0, 'F': 1358.0, 'F3115': 40.0, 'F3116': 206.0, 'F3216': 97.0, 'F3313': 114.0, 'F5121': 82.0, 'F5122': 123.0, 'F8331': 16.0, 'F8332': 17.0, 'FRD-AL10': 10.0, 'FS8010': 1.0, 'F_Pro': 117.0, 'G': 136.0, 'G011A': 6.0, 'G3116': 176.0, 'G3223': 11.0, 'G3226': 293.0, 'G3311': 14.0, 'G3312': 34.0, 'G3313': 24.0, 'G3423': 10.0, 'G3426': 117.0, 'G4': 8.0, 'G6 Plus': 2.0, 'G8141': 10.0, 'G8232': 6.0, 'G8341': 47.0, 'GIONEE S11 lite': 4.0, 'GO 2': 6.0, 'GO3C': 156.0, 'GO3C Plus': 133.0, 'GO3E': 518.0, 'GO5E': 578.0, 'GOME 2017M27A': 170.0, 'GOME_C7_Note_Plus': 22.0, 'GOME_U9': 78.0, 'G_Max': 345.0, 'G_Pro': 189.0, 'Generic Feature Phone': 9.0, 'Generic Smartphone': 4034354.0, 'Generic Tablet': 1654.0, 'Grand M': 12.0, 'Grand Max': 107.0, 'Grand X': 68.0, 'Grand XL': 19.0, 'H': 15.0, 'H3223': 50.0, 'HDT-7427G': 47.0, 'HDT-9421G': 52.0, 'HP 7.1': 40.0, 'HS007C': 9.0, 'HT-705XS': 2.0, 'HT16': 38.0, 'HT37Pro': 12.0, 'HTC 10': 6.0, 'HTC 10 evo': 4.0, 'HTC 2Q4D100': 10.0, 'HTC D160LVWPP': 5.0, 'HTC Desire 550': 2.0, 'HTC One': 43.0, 'HTC One M8': 29.0, 'HTC One M9': 231.0, 'HTC U11': 15.0, 'HUAWEI LUA-U23': 6.0, 'HUAWEI LYO-L21': 9.0, 'HUAWEI VNS-L23': 6.0, 'HUAWEI Y321-U051': 15.0, 'Huawei Browser': 121.0, 'INE-LX1': 13.0, 'INE-LX2': 5.0, 'Inettv': 7.0, 'JOY': 110.0, 'JSN-L21': 83.0, 'K10': 1.0, 'K10000 Pro': 1.0, 'K3': 25.0, 'K501': 56.0, 'KFAUWI': 3.0, 'KFKAWI': 8.0, 'KING 7': 4.0, 'KIW-L24': 6.0, 'KYY23': 15.0, 'Kindle': 131.0, 'Kingbox': 9.0, 'LEX626': 150.0, 'LEX651': 17.0, 'LEX720': 17.0, 'LEX722': 13.0, 'LG K350': 66.0, 'LG K430': 18.0, 'LG M250': 121.0, 'LG M320': 37.0, 'LG-AS330': 1.0, 'LG-D100': 206.0, 'LG-D105': 310.0, 'LG-D107': 87.0, 'LG-D125': 113.0, 'LG-D157f': 91.0, 'LG-D175f': 111.0, 'LG-D180f': 9.0, 'LG-D221': 13.0, 'LG-D227': 322.0, 'LG-D285': 17.0, 'LG-D295': 155.0, 'LG-D325': 238.0, 'LG-D337': 5400.0, 'LG-D385': 215.0, 'LG-D390': 5.0, 'LG-D410': 411.0, 'LG-D618': 313.0, 'LG-D683': 38.0, 'LG-D685': 183.0, 'LG-D690': 10.0, 'LG-D690n': 775.0, 'LG-D724': 30.0, 'LG-D805': 13.0, 'LG-D855': 50.0, 'LG-E415f': 11.0, 'LG-E425f': 5.0, 'LG-E435f': 38.0, 'LG-E455': 32.0, 'LG-E455f': 14.0, 'LG-E470f': 18.0, 'LG-E475f': 3.0, 'LG-E615f': 19.0, 'LG-E977': 11.0, 'LG-E989': 40.0, 'LG-H221': 86.0, 'LG-H222': 782.0, 'LG-H326': 489.0, 'LG-H340': 59.0, 'LG-H342': 456.0, 'LG-H422': 505.0, 'LG-H442': 8.0, 'LG-H502': 473.0, 'LG-H520': 332.0, 'LG-H522': 683.0, 'LG-H540': 484.0, 'LG-H630': 459.0, 'LG-H735': 1.0, 'LG-H736': 25.0, 'LG-H815': 285.0, 'LG-H818': 484.0, 'LG-H820': 22.0, 'LG-H830': 9.0, 'LG-H831': 19.0, 'LG-H840': 439.0, 'LG-H860': 180.0, 'LG-H870': 1416.0, 'LG-H870DS': 52.0, 'LG-H870I': 1018.0, 'LG-H870S': 10.0, 'LG-H870V': 13.0, 'LG-H871': 8.0, 'LG-H873': 60.0, 'LG-H910': 8.0, 'LG-H918': 5.0, 'LG-H930': 5.0, 'LG-H931': 5.0, 'LG-H990': 51.0, 'LG-K100': 2.0, 'LG-K120': 427.0, 'LG-K130': 4096.0, 'LG-K200': 4254.0, 'LG-K220': 7255.0, 'LG-K350': 5291.0, 'LG-K410': 326.0, 'LG-K420': 102.0, 'LG-K428': 3.0, 'LG-K430': 36602.0, 'LG-K500': 539.0, 'LG-K500n': 1.0, 'LG-K520': 11.0, 'LG-K530': 20.0, 'LG-K580': 1036.0, 'LG-M150': 6.0, 'LG-M151': 2.0, 'LG-M210': 6.0, 'LG-M250': 69649.0, 'LG-M257': 7.0, 'LG-M320': 38289.0, 'LG-M327': 10.0, 'LG-M400': 3978.0, 'LG-M700': 16052.0, 'LG-P705': 5.0, 'LG-TP260': 5.0, 'LG-V480': 4.0, 'LG-V500': 5.0, 'LG-V700': 7.0, 'LG-X170fTV': 105.0, 'LG-X210': 129.0, 'LG-X220': 588.0, 'LG-X230': 20154.0, 'LG-X240': 1235.0, 'LGMP260': 142.0, 'LGMS210': 19.0, 'LIO+': 55.0, 'LM-G710': 44.0, 'LM-Q610.FGN': 1231.0, 'LM-Q710(FGN)': 95.0, 'LM-Q710.FGN': 485.0, 'LM-X210': 21206.0, 'LM-X410.F': 28914.0, 'LM-X420': 1563.0, 'LND-AL30': 26.0, 'Le X520': 2.0, 'Le X522': 58.0, 'Le X526': 27.0, 'Le X620': 9.0, 'Le X820': 16.0, 'Lenny4 Plus': 4.0, 'Lenovo A1000': 56.0, 'Lenovo A1010a20': 91.0, 'Lenovo A2016a40': 166.0, 'Lenovo A2016b30': 3604.0, 'Lenovo A3300-GV': 22.0, 'Lenovo A6020a40': 277.0, 'Lenovo A6020a46': 19.0, 'Lenovo A6020l36': 8106.0, 'Lenovo A7010a48': 714.0, 'Lenovo A7600-F': 6.0, 'Lenovo B8000-F': 59.0, 'Lenovo K10a40': 3251.0, 'Lenovo K10e70': 17.0, 'Lenovo K33a42': 42.0, 'Lenovo K33a48': 561.0, 'Lenovo K33b36': 7516.0, 'Lenovo K50-t5': 33.0, 'Lenovo K51c78': 10.0, 'Lenovo K520': 172.0, 'Lenovo K53a48': 149.0, 'Lenovo K53b36': 4095.0, 'Lenovo K8 Note': 207.0, 'Lenovo K8 Plus': 791.0, 'Lenovo L18021': 31.0, 'Lenovo L19041': 10.0, 'Lenovo L38012': 42.0, 'Lenovo L38041': 214.0, 'Lenovo L38111': 35.0, 'Lenovo L58041': 39.0, 'Lenovo L78011': 30.0, 'Lenovo L78032': 107.0, 'Lenovo L78051': 122.0, 'Lenovo L78071': 170.0, 'Lenovo P1c58': 36.0, 'Lenovo P2a42': 2.0, 'Lenovo PB2-670M': 8.0, 'Lenovo PB2-670N': 8.0, 'Lenovo TAB 2 A10-70F': 13.0, 'Lenovo TB-8703F': 9.0, 'Lenovo TB-8703X': 48.0, 'Lenovo TB-X103F': 22.0, 'Lenovo TB-X304F': 13.0, 'Lenovo TB-X605F': 12.0, 'Lenovo TB2-X30F': 56.0, 'Lenovo TB3-X70F': 8.0, 'Lenovo YB1-X90F': 1.0, 'Lenovo Z90-7': 19.0, 'Life One X2': 3.0, 'Life One X2 Mini': 5.0, 'Lumia 435': 3.0, 'Lumia 640': 36.0, 'Lumia 950': 3.0, 'M10A': 7.0, 'M10A-Lite': 8.0, 'M5c': 22.0, 'M5s': 4.0, 'M6 Note': 90.0, 'M6T': 50.0, 'M7-3G-PLUS': 474.0, 'M7-4G': 143.0, 'M7SQC_Plus': 43.0, 'M7S_LITE': 36.0, 'M7_3G_PLUS': 130.0, 'M7sLite': 26.0, 'M8 Pro': 8.0, 'M9 Pro': 27.0, 'M9-3G': 36.0, 'MEGA': 23.0, 'MHA-L29': 1.0, 'MIX': 91.0, 'MIX 2': 64.0, 'ML-CH-MS45_4G': 124.0, 'ML-JI11-M7_3G_PLUS': 17.0, 'ML-SO-M7_3G_PLUS': 48.0, 'ML-TI-MS80': 150.0, 'ML-WI-M9-3G': 3.0, 'MN4A2ZP/A': 31.0, 'MONDIAL': 9.0, 'MS40G': 700.0, 'MS40S': 103.0, 'MS45S': 8.0, 'MS45S_A6': 139.0, 'MS45S_A6_Teen': 12.0, 'MS50': 1.0, 'MS50G': 1494.0, 'MS50L': 2954.0, 'MS50L_4G': 107.0, 'MS50M': 43.0, 'MS50S': 5.0, 'MS50X': 852.0, 'MS50_4G': 62.0, 'MS55': 287.0, 'MS55M': 68.0, 'MS60': 176.0, 'MS60F': 456.0, 'MS60F_PLUS': 145.0, 'MS60X': 153.0, 'MS60Z': 112.0, 'MS70': 293.0, 'MS80X': 175.0, 'MUV': 216.0, 'MX9-4K': 7.0, 'MYA-L11': 50.0, 'MYA-L23': 71.0, 'MZ-M5 Note': 1.0, 'MZ-M5c': 31.0, 'MZ-M5s': 53.0, 'MZ-MX4': 2.0, 'MZ-Meizu M6s': 3.0, 'MZ-meizu C9': 2.0, 'Magnum One': 12.0, 'Maya': 7.0, 'Meizu M6': 13.0, 'Meizu M6s': 22.0, 'Mi A1': 6.0, 'Mi A2': 126.0, 'Mi A2 Lite': 199.0, 'Mi MIX 2': 6.0, 'Mi Note 2': 163.0, 'Micromax P789': 32.0, 'Microsoft Virtual': 6.0, 'Moto C': 3865.0, 'Moto C Plus': 15529.0, 'Moto E': 66.0, 'Moto E (4)': 8589.0, 'Moto E (4) Plus': 14086.0, 'Moto G': 12.0, 'Moto G (4)': 15869.0, 'Moto G (5)': 35437.0, 'Moto G (5) Plus': 18632.0, 'Moto G (5S)': 36691.0, 'Moto G (5S) Plus': 36959.0, 'Moto G 2014': 1.0, 'Moto G Play': 21235.0, 'Moto G4 Plus': 10.0, 'Moto G5 (XT1672)': 307.0, 'Moto G5S (XT1792)': 6.0, 'Moto X Play': 1498.0, 'Moto X4': 1.0, 'Moto Z (2)': 1384.0, 'Moto Z2 Play': 19259.0, 'Moto Z3 Play': 13421.0, 'MotoE2': 97.0, 'MotoE2(4G-LTE)': 500.0, 'MotoG3': 6930.0, 'MotoG3-TE': 456.0, 'Motorola MZ608': 7.0, 'N5L': 7.0, 'NP-752Go': 300.0, 'NP-852': 8.0, 'NX551J': 27.0, 'NX563J': 25.0, 'NX569J': 17.0, 'NX573J': 131.0, 'NX591J': 84.0, 'NX612J': 8.0, 'Neffos C5': 37.0, 'Neffos X1 Lite': 31.0, 'Nexus 5': 49484.0, 'Nexus 5X': 73.0, 'Nokia 2': 311.0, 'Nokia 2.3': 10.0, 'Nokia 3': 7.0, 'Nokia 3.1': 2.0, 'Nokia 3.1 Plus': 18.0, 'Nokia 6': 319.0, 'Nokia 6.1 Plus': 163.0, 'Nokia 7': 8.0, 'Nokia 7 plus': 16.0, 'Nokia 7.1': 88.0, 'ONEPLUS A3003': 70.0, 'One Pro': 34.0, 'Opal 4S': 33.0, 'Other': 1465347.0, 'P10': 27.0, 'PHONEMAX_Saturn': 14.0, 'POCOPHONE F1': 33.0, 'PRA-LX1': 24.0, 'PRO 7-S': 20.0, 'PTB7PAP_PTB7PAB_PTB7PAR': 23.0, 'PTB7QSG_3G': 14.0, 'Pixel 2': 58.0, 'Pixel 2 XL': 3.0, 'Pixel C': 23.0, 'Platinum_5.0M': 16.0, 'PlayStation 4': 77.0, 'Plus E': 6.0, 'Positivo Slim': 140.0, 'Positivo Twist 4G': 608.0, 'Positivo Twist M': 357.0, 'Positivo Twist S': 330.0, 'Positivo US2070': 4.0, 'Power 3S': 4.0, 'Power_5': 26.0, 'Pure XR': 10.0, 'Q05A': 3.0, 'Q06': 17.0, 'Quantum Fly': 6.0, 'Quantum Go': 162.0, 'Quantum MUV PRO': 409.0, 'Quantum MUV UP': 18.0, 'Quantum V': 8.0, 'Quantum You 2': 80.0, 'Quantum You E': 5.0, 'Quartzo UP': 86.0, 'R1 PLUS': 19.0, 'R2 LTE': 70.0, 'RCT6A03W13': 10.0, 'RNE-L21': 38.0, 'RNE-L22': 56.0, 'RNE-L23': 34.0, 'RS988': 42.0, 'S10': 33.0, 'S10_Pro': 40.0, 'S30': 18.0, 'S31': 28.0, 'S41': 96.0, 'S420': 10.0, 'S430 Positivo Twist Mini': 148.0, 'S455': 27.0, 'S55': 2.0, 'S60': 21.0, 'S60Lite': 34.0, 'S70': 19.0, 'S8': 43.0, 'S9 Plus': 43.0, 'S9+': 40.0, 'SC-02H': 4.0, 'SGP311': 4.0, 'SGP551': 50.0, 'SKY 5.0W': 8.0, 'STH100-2': 12.0, 'STV-2000': 9.0, 'STV100-3': 81.0, 'SUPER': 1.0, 'Samsung GT-I8190L': 59.0, 'Samsung GT-I8200L': 20.0, 'Samsung GT-I8262B': 49.0, 'Samsung GT-I8552': 3.0, 'Samsung GT-I8552B': 926.0, 'Samsung GT-I9060C': 2546.0, 'Samsung GT-I9060I': 172.0, 'Samsung GT-I9063T': 499.0, 'Samsung GT-I9070': 10.0, 'Samsung GT-I9082': 29.0, 'Samsung GT-I9082L': 130.0, 'Samsung GT-I9105P': 10.0, 'Samsung GT-I9152': 241.0, 'Samsung GT-I9192': 1864.0, 'Samsung GT-I9195': 97.0, 'Samsung GT-I9200': 14.0, 'Samsung GT-I9295': 82.0, 'Samsung GT-I9300': 48.0, 'Samsung GT-I9300I': 396.0, 'Samsung GT-I9500': 111.0, 'Samsung GT-I9505': 809.0, 'Samsung GT-I9505G': 3.0, 'Samsung GT-I9515': 16.0, 'Samsung GT-I9515L': 956.0, 'Samsung GT-N5100': 17.0, 'Samsung GT-N7000': 16.0, 'Samsung GT-N7100': 56.0, 'Samsung GT-N7105T': 2.0, 'Samsung GT-N8000': 61.0, 'Samsung GT-P3100': 13.0, 'Samsung GT-P3110': 9.0, 'Samsung GT-P5200': 34.0, 'Samsung GT-P5210': 2.0, 'Samsung GT-S5303B': 8.0, 'Samsung GT-S5310B': 99.0, 'Samsung GT-S5310C': 27.0, 'Samsung GT-S5312C': 161.0, 'Samsung GT-S6293T': 533.0, 'Samsung GT-S6313T': 33.0, 'Samsung GT-S6792L': 3.0, 'Samsung GT-S6810B': 4.0, 'Samsung GT-S6812B': 11.0, 'Samsung GT-S7273T': 88.0, 'Samsung GT-S7275B': 18.0, 'Samsung GT-S7392L': 22.0, 'Samsung GT-S7560M': 6.0, 'Samsung GT-S7562L': 9.0, 'Samsung GT-S7582': 8.0, 'Samsung GT-S7582L': 462.0, 'Samsung GT-S7583T': 103.0, 'Samsung KDDI': 5.0, 'Samsung SAMSUNG SM-N9005': 5.0, 'Samsung SAMSUNG-SM-J320A': 32.0, 'Samsung SM-A015M': 1437.0, 'Samsung SM-A102U': 46.0, 'Samsung SM-A102U1': 20.0, 'Samsung SM-A105F': 183.0, 'Samsung SM-A105FN': 182.0, 'Samsung SM-A105G': 18.0, 'Samsung SM-A105M': 136208.0, 'Samsung SM-A107F': 48.0, 'Samsung SM-A107M': 39682.0, 'Samsung SM-A115M': 32.0, 'Samsung SM-A202F': 135.0, 'Samsung SM-A205F': 132.0, 'Samsung SM-A205G': 93174.0, 'Samsung SM-A205GN': 36.0, 'Samsung SM-A207M': 37312.0, 'Samsung SM-A217M': 9.0, 'Samsung SM-A260F': 3.0, 'Samsung SM-A260G': 91.0, 'Samsung SM-A300FU': 18.0, 'Samsung SM-A300M': 683.0, 'Samsung SM-A305F': 34.0, 'Samsung SM-A305FN': 4.0, 'Samsung SM-A305G': 230.0, 'Samsung SM-A305GN': 4.0, 'Samsung SM-A305GT': 71612.0, 'Samsung SM-A305YN': 5.0, 'Samsung SM-A307G': 17.0, 'Samsung SM-A307GN': 4.0, 'Samsung SM-A307GT': 55134.0, 'Samsung SM-A310F': 17.0, 'Samsung SM-A310M': 704.0, 'Samsung SM-A315G': 353.0, 'Samsung SM-A320F': 6.0, 'Samsung SM-A405FN': 161.0, 'Samsung SM-A500H': 4.0, 'Samsung SM-A500M': 3073.0, 'Samsung SM-A505F': 121.0, 'Samsung SM-A505FN': 10.0, 'Samsung SM-A505G': 898.0, 'Samsung SM-A505GT': 62969.0, 'Samsung SM-A507FN': 5.0, 'Samsung SM-A510M': 4447.0, 'Samsung SM-A515F': 22180.0, 'Samsung SM-A520F': 12538.0, 'Samsung SM-A520W': 7.0, 'Samsung SM-A530F': 12168.0, 'Samsung SM-A600FN': 21.0, 'Samsung SM-A600GN': 11.0, 'Samsung SM-A605FN': 68.0, 'Samsung SM-A605G': 3.0, 'Samsung SM-A605GN': 7525.0, 'Samsung SM-A6060': 33.0, 'Samsung SM-A700FD': 688.0, 'Samsung SM-A700YD': 22.0, 'Samsung SM-A7050': 3.0, 'Samsung SM-A705FN': 81.0, 'Samsung SM-A705MN': 26102.0, 'Samsung SM-A710M': 1081.0, 'Samsung SM-A715F': 7622.0, 'Samsung SM-A720F': 7094.0, 'Samsung SM-A730F': 7329.0, 'Samsung SM-A750F': 39.0, 'Samsung SM-A750FN': 21.0, 'Samsung SM-A750G': 17714.0, 'Samsung SM-A750GN': 33.0, 'Samsung SM-A805F': 7649.0, 'Samsung SM-A9000': 7.0, 'Samsung SM-A910F': 3638.0, 'Samsung SM-A920F': 8962.0, 'Samsung SM-A920X': 2.0, 'Samsung SM-B313E': 12.0, 'Samsung SM-C5000': 62.0, 'Samsung SM-C5010': 50.0, 'Samsung SM-C7000': 22.0, 'Samsung SM-C7010': 21.0, 'Samsung SM-C9000': 110.0, 'Samsung SM-E500M': 136.0, 'Samsung SM-E700M': 740.0, 'Samsung SM-F700F': 44.0, 'Samsung SM-G110B': 29.0, 'Samsung SM-G130BU': 7.0, 'Samsung SM-G316M': 18.0, 'Samsung SM-G316ML': 28.0, 'Samsung SM-G318ML': 8.0, 'Samsung SM-G3502L': 42.0, 'Samsung SM-G3502T': 100.0, 'Samsung SM-G355M': 160.0, 'Samsung SM-G360BT': 1252.0, 'Samsung SM-G360M': 287.0, 'Samsung SM-G3812B': 19.0, 'Samsung SM-G530A': 8.0, 'Samsung SM-G530BT': 4778.0, 'Samsung SM-G530H': 661.0, 'Samsung SM-G530MU': 69.0, 'Samsung SM-G530T': 46.0, 'Samsung SM-G531BT': 5562.0, 'Samsung SM-G531H': 11844.0, 'Samsung SM-G531M': 879.0, 'Samsung SM-G532F': 237.0, 'Samsung SM-G532G': 102.0, 'Samsung SM-G532M': 19920.0, 'Samsung SM-G532MT': 69926.0, 'Samsung SM-G570F': 61.0, 'Samsung SM-G570M': 105225.0, 'Samsung SM-G570Y': 44.0, 'Samsung SM-G6000': 6.0, 'Samsung SM-G600FY': 8406.0, 'Samsung SM-G6100': 92.0, 'Samsung SM-G610F': 2051.0, 'Samsung SM-G610M': 123281.0, 'Samsung SM-G611F': 43.0, 'Samsung SM-G611M': 285.0, 'Samsung SM-G611MT': 30235.0, 'Samsung SM-G615F': 8.0, 'Samsung SM-G7102': 6.0, 'Samsung SM-G7102T': 64.0, 'Samsung SM-G770F': 195.0, 'Samsung SM-G800H': 979.0, 'Samsung SM-G850F': 25.0, 'Samsung SM-G850M': 18.0, 'Samsung SM-G890A': 1.0, 'Samsung SM-G891A': 29.0, 'Samsung SM-G892A': 11.0, 'Samsung SM-G900A': 4.0, 'Samsung SM-G900F': 73.0, 'Samsung SM-G900FD': 26.0, 'Samsung SM-G900H': 3.0, 'Samsung SM-G900M': 1990.0, 'Samsung SM-G900MD': 475.0, 'Samsung SM-G900P': 186.0, 'Samsung SM-G900T': 4.0, 'Samsung SM-G903F': 18.0, 'Samsung SM-G903M': 968.0, 'Samsung SM-G920A': 22.0, 'Samsung SM-G920F': 191.0, 'Samsung SM-G920I': 3319.0, 'Samsung SM-G920T': 8.0, 'Samsung SM-G920V': 122.0, 'Samsung SM-G925A': 34.0, 'Samsung SM-G925F': 133.0, 'Samsung SM-G925I': 2388.0, 'Samsung SM-G925P': 3.0, 'Samsung SM-G928A': 14.0, 'Samsung SM-G928F': 26.0, 'Samsung SM-G928G': 473.0, 'Samsung SM-G928T': 7.0, 'Samsung SM-G930A': 189.0, 'Samsung SM-G930F': 13025.0, 'Samsung SM-G930T': 9.0, 'Samsung SM-G930U': 242.0, 'Samsung SM-G930V': 199.0, 'Samsung SM-G935A': 37.0, 'Samsung SM-G935F': 13851.0, 'Samsung SM-G935L': 3.0, 'Samsung SM-G935P': 47.0, 'Samsung SM-G935S': 21.0, 'Samsung SM-G935U': 17.0, 'Samsung SM-G950F': 23814.0, 'Samsung SM-G950U': 187.0, 'Samsung SM-G950U1': 274.0, 'Samsung SM-G955F': 14595.0, 'Samsung SM-G955N': 28.0, 'Samsung SM-G955U': 179.0, 'Samsung SM-G955U1': 125.0, 'Samsung SM-G955W': 4.0, 'Samsung SM-G9600': 27589.0, 'Samsung SM-G960F': 504.0, 'Samsung SM-G960U': 133.0, 'Samsung SM-G960U1': 114.0, 'Samsung SM-G960W': 41.0, 'Samsung SM-G960X': 41.0, 'Samsung SM-G9650': 29984.0, 'Samsung SM-G965F': 446.0, 'Samsung SM-G965U': 231.0, 'Samsung SM-G965U1': 179.0, 'Samsung SM-G970F': 14528.0, 'Samsung SM-G970N': 39.0, 'Samsung SM-G970U': 6.0, 'Samsung SM-G970U1': 12.0, 'Samsung SM-G970X': 52.0, 'Samsung SM-G9730': 6.0, 'Samsung SM-G973F': 15555.0, 'Samsung SM-G973U': 13.0, 'Samsung SM-G973U1': 117.0, 'Samsung SM-G9750': 12.0, 'Samsung SM-G975F': 25168.0, 'Samsung SM-G975U': 56.0, 'Samsung SM-G975U1': 163.0, 'Samsung SM-G975W': 76.0, 'Samsung SM-G980F': 964.0, 'Samsung SM-G985F': 1441.0, 'Samsung SM-G988B': 263.0, 'Samsung SM-G988U': 5.0, 'Samsung SM-G988U1': 2.0, 'Samsung SM-J100M': 48.0, 'Samsung SM-J105B': 13745.0, 'Samsung SM-J105H': 9.0, 'Samsung SM-J105M': 2355.0, 'Samsung SM-J106B': 130.0, 'Samsung SM-J106F': 8.0, 'Samsung SM-J106H': 296.0, 'Samsung SM-J106M': 12.0, 'Samsung SM-J110L': 5.0, 'Samsung SM-J110M': 205.0, 'Samsung SM-J111F': 35.0, 'Samsung SM-J111M': 190.0, 'Samsung SM-J120AZ': 6.0, 'Samsung SM-J120H': 8723.0, 'Samsung SM-J120M': 476.0, 'Samsung SM-J200BT': 4851.0, 'Samsung SM-J200G': 13.0, 'Samsung SM-J200H': 89.0, 'Samsung SM-J200M': 2138.0, 'Samsung SM-J250F': 8.0, 'Samsung SM-J250M': 8538.0, 'Samsung SM-J260F': 1.0, 'Samsung SM-J260G': 95.0, 'Samsung SM-J260M': 37037.0, 'Samsung SM-J260MU': 457.0, 'Samsung SM-J260T1': 6.0, 'Samsung SM-J3110': 24.0, 'Samsung SM-J3119S': 4.0, 'Samsung SM-J320F': 15.0, 'Samsung SM-J320FN': 40.0, 'Samsung SM-J320H': 149.0, 'Samsung SM-J320M': 13348.0, 'Samsung SM-J326AZ': 119.0, 'Samsung SM-J327T1': 2.0, 'Samsung SM-J327W': 6.0, 'Samsung SM-J330F': 8.0, 'Samsung SM-J330FN': 13.0, 'Samsung SM-J330G': 99.0, 'Samsung SM-J400F': 11.0, 'Samsung SM-J400M': 32089.0, 'Samsung SM-J410F': 45.0, 'Samsung SM-J410G': 57599.0, 'Samsung SM-J415F': 7.0, 'Samsung SM-J415FN': 54.0, 'Samsung SM-J415G': 47895.0, 'Samsung SM-J500F': 20.0, 'Samsung SM-J500FN': 3.0, 'Samsung SM-J500H': 259.0, 'Samsung SM-J500M': 55178.0, 'Samsung SM-J510FN': 12.0, 'Samsung SM-J510MN': 12268.0, 'Samsung SM-J530F': 14.0, 'Samsung SM-J530G': 26770.0, 'Samsung SM-J600F': 2.0, 'Samsung SM-J600FN': 19.0, 'Samsung SM-J600G': 346.0, 'Samsung SM-J600GT': 57866.0, 'Samsung SM-J610F': 23.0, 'Samsung SM-J610FN': 37.0, 'Samsung SM-J610G': 45103.0, 'Samsung SM-J700F': 359.0, 'Samsung SM-J700H': 222.0, 'Samsung SM-J700M': 34395.0, 'Samsung SM-J700T': 17.0, 'Samsung SM-J700T1': 58.0, 'Samsung SM-J701F': 201.0, 'Samsung SM-J701M': 285.0, 'Samsung SM-J701MT': 41817.0, 'Samsung SM-J710F': 181.0, 'Samsung SM-J710MN': 36881.0, 'Samsung SM-J720M': 674.0, 'Samsung SM-J727T': 12.0, 'Samsung SM-J727T1': 12.0, 'Samsung SM-J727U': 11.0, 'Samsung SM-J730F': 236.0, 'Samsung SM-J730G': 35982.0, 'Samsung SM-J730GM': 601.0, 'Samsung SM-J737T1': 19.0, 'Samsung SM-J737U': 5.0, 'Samsung SM-J810F': 35.0, 'Samsung SM-J810G': 13.0, 'Samsung SM-J810M': 64395.0, 'Samsung SM-J810Y': 9.0, 'Samsung SM-M105M': 6873.0, 'Samsung SM-M205M': 5058.0, 'Samsung SM-M305M': 6443.0, 'Samsung SM-N7502': 19.0, 'Samsung SM-N770F': 643.0, 'Samsung SM-N9005': 319.0, 'Samsung SM-N910A': 107.0, 'Samsung SM-N910C': 398.0, 'Samsung SM-N915T': 58.0, 'Samsung SM-N920A': 30.0, 'Samsung SM-N920C': 150.0, 'Samsung SM-N920G': 261.0, 'Samsung SM-N920S': 110.0, 'Samsung SM-N935F': 33.0, 'Samsung SM-N950F': 4839.0, 'Samsung SM-N950U': 101.0, 'Samsung SM-N950U1': 33.0, 'Samsung SM-N9600': 7897.0, 'Samsung SM-N960F': 507.0, 'Samsung SM-N960N': 125.0, 'Samsung SM-N960U': 48.0, 'Samsung SM-N960U1': 28.0, 'Samsung SM-N9700': 4.0, 'Samsung SM-N970F': 2678.0, 'Samsung SM-N9750': 6.0, 'Samsung SM-N975F': 7398.0, 'Samsung SM-N975U': 7.0, 'Samsung SM-N975U1': 8.0, 'Samsung SM-N976U': 72.0, 'Samsung SM-P200': 16.0, 'Samsung SM-P205': 25.0, 'Samsung SM-P355M': 151.0, 'Samsung SM-P550': 83.0, 'Samsung SM-P555M': 75.0, 'Samsung SM-P585M': 112.0, 'Samsung SM-P605M': 6.0, 'Samsung SM-P615': 13.0, 'Samsung SM-T110': 26.0, 'Samsung SM-T111M': 83.0, 'Samsung SM-T113NU': 15.0, 'Samsung SM-T116BU': 32.0, 'Samsung SM-T280': 518.0, 'Samsung SM-T285M': 1385.0, 'Samsung SM-T285YD': 53.0, 'Samsung SM-T290': 41.0, 'Samsung SM-T295': 276.0, 'Samsung SM-T311': 2.0, 'Samsung SM-T330': 5.0, 'Samsung SM-T331': 4.0, 'Samsung SM-T385M': 179.0, 'Samsung SM-T510': 255.0, 'Samsung SM-T515': 277.0, 'Samsung SM-T530': 1.0, 'Samsung SM-T550': 157.0, 'Samsung SM-T555': 192.0, 'Samsung SM-T560': 16.0, 'Samsung SM-T561M': 13.0, 'Samsung SM-T580': 12.0, 'Samsung SM-T585': 183.0, 'Samsung SM-T595': 234.0, 'Samsung SM-T700': 12.0, 'Samsung SM-T705M': 28.0, 'Samsung SM-T715Y': 16.0, 'Samsung SM-T725': 84.0, 'Samsung SM-T805M': 69.0, 'Samsung SM-T810': 8.0, 'Samsung SM-T815Y': 5.0, 'Samsung SM-T819': 78.0, 'Samsung SM-T819Y': 80.0, 'Samsung SM-T820': 13.0, 'Samsung SM-T825': 126.0, 'Samsung SM-T835': 11.0, 'Samsung SM-T865': 32.0, 'Sky': 211.0, 'Skywalker': 30.0, 'Smartphone DL Horizon H8': 44.0, 'Smartphone_YZU_DS53': 39.0, 'Spider': 808915.0, 'Studio J2': 36.0, 'Studio View XL': 31.0, 'Sunny3': 7.0, 'T96 Mars': 2.0, 'TP601B': 4.0, 'TRT-L53': 44.0, 'TRT-LX1': 2.0, 'TV BOX': 11.0, 'TVBOX': 17.0, 'TWIST 4.0': 2.0, 'TX92': 7.0, 'Tablet_DL_2811': 130.0, 'Tablet_DL_2820': 15.0, 'Tablet_DL_4010': 17.0, 'Twist (2018)': 1331.0, 'Twist 2': 1224.0, 'Twist 2 Fit': 682.0, 'Twist 2 Go': 13.0, 'Twist 2 Pro': 519.0, 'Twist 3': 195.0, 'Twist Max': 4.0, 'Twist Metal': 156.0, 'Twist Metal 32GB': 167.0, 'Twist Mini': 1533.0, 'Twist Tab': 5.0, 'Twist XL': 234.0, 'U2': 8.0, 'Ulefone_Armor_5': 9.0, 'VF-1397': 10.0, 'VFD 620': 13.0, 'VIE-L09': 4.0, 'VKY-L29': 12.0, 'Vivo 5 Mini': 30.0, 'Vivo 5R': 5.0, 'Vivo 8': 7.0, 'Vivo XI': 248.0, 'Vivo XI+': 50.0, 'Vivo XL4': 12.0, 'WAS-LX1': 29.0, 'WAS-LX3': 23.0, 'WP5000': 10.0, 'X206': 4.0, 'X21 Plus': 8.0, 'X23': 11.0, 'X50A': 10.0, 'XT1021': 15.0, 'XT1022': 85.0, 'XT1025': 138.0, 'XT1032': 576.0, 'XT1033': 1259.0, 'XT1034': 10.0, 'XT1039': 26.0, 'XT1040': 175.0, 'XT1058': 49.0, 'XT1064': 28.0, 'XT1068': 1207.0, 'XT1069': 1667.0, 'XT1078': 195.0, 'XT1079': 163.0, 'XT1092': 10.0, 'XT1097': 856.0, 'XT1225': 181.0, 'XT1562': 13.0, 'XT1563': 64.0, 'XT1572': 88.0, 'XT1580': 319.0, 'XT1585': 7.0, 'XT1609': 6.0, 'XT1635-02': 4913.0, 'XT1635-03': 5.0, 'XT1650': 466.0, 'XT1662': 26.0, 'XT1663': 3.0, 'XT1706': 11.0, 'XT1799-2': 52.0, 'XT1802': 8.0, 'XT621': 1.0, 'XT918': 9.0, 'XiaoMi MI 5': 31.0, 'XiaoMi MI 5X': 120.0, 'XiaoMi MI 5s': 47.0, 'XiaoMi MI 5s Plus': 120.0, 'XiaoMi MI 6': 742.0, 'XiaoMi MI 6X': 71.0, 'XiaoMi MI 8': 2358.0, 'XiaoMi MI 8 Lite': 22535.0, 'XiaoMi MI 8 Pro': 897.0, 'XiaoMi MI 8 SE': 21.0, 'XiaoMi MI 9': 7516.0, 'XiaoMi MI 9 SE': 435.0, 'XiaoMi MI 9 Transparent Edition': 14.0, 'XiaoMi MI A3': 12.0, 'XiaoMi MI CC 9': 3.0, 'XiaoMi MI CC9 Pro': 21.0, 'XiaoMi MI CC9 Pro Premium Edition': 10.0, 'XiaoMi MI MAX': 28.0, 'XiaoMi MI MAX 2': 228.0, 'XiaoMi MI MAX 3': 1026.0, 'XiaoMi MI PLAY': 1137.0, 'XiaoMi Redmi 3': 45.0, 'XiaoMi Redmi 3S': 7.0, 'XiaoMi Redmi 4': 27.0, 'XiaoMi Redmi 4A': 315.0, 'XiaoMi Redmi 4X': 346.0, 'XiaoMi Redmi 5': 482.0, 'XiaoMi Redmi 5 Plus': 2460.0, 'XiaoMi Redmi 5A': 336.0, 'XiaoMi Redmi 6': 5521.0, 'XiaoMi Redmi 6 Pro': 53.0, 'XiaoMi Redmi 6A': 5535.0, 'XiaoMi Redmi 7': 6209.0, 'XiaoMi Redmi 7A': 8589.0, 'XiaoMi Redmi 8': 5430.0, 'XiaoMi Redmi 8A': 4288.0, 'XiaoMi Redmi Go': 2364.0, 'XiaoMi Redmi K20': 32.0, 'XiaoMi Redmi K20 Pro': 44.0, 'XiaoMi Redmi K20 Pro Premium Edition': 5.0, 'XiaoMi Redmi Note 3': 166.0, 'XiaoMi Redmi Note 4': 1409.0, 'XiaoMi Redmi Note 4X': 91.0, 'XiaoMi Redmi Note 5': 4736.0, 'XiaoMi Redmi Note 5A': 34.0, 'XiaoMi Redmi Note 5A Prime': 238.0, 'XiaoMi Redmi Note 6 Pro': 6531.0, 'XiaoMi Redmi Note 7': 41907.0, 'XiaoMi Redmi Note 7 Pro': 108.0, 'XiaoMi Redmi Note 8': 48156.0, 'XiaoMi Redmi Note 8 Pro': 15342.0, 'XiaoMi Redmi Note 8T': 4205.0, 'XiaoMi Redmi Note 9S': 671.0, 'XiaoMi Redmi Pro': 23.0, 'XiaoMi Redmi S2': 2860.0, 'YPY_S500': 8.0, 'YU FLY F9': 10.0, 'You': 270.0, 'You L': 82.0, 'Z Play': 52.0, 'Z2': 9.0, 'Z2 Plus': 3.0, 'Z2_PRO': 18.0, 'Z831': 7.0, 'Z971': 23.0, 'Z981': 9.0, 'Z982': 1.0, 'ZB500KG': 69.0, 'ZE553KL': 701.0, 'ZTE BLADE A110': 8.0, 'ZTE BLADE A510': 204.0, 'ZTE BLADE L110': 156.0, 'ZTE Blade A3 Lite': 43.0, 'ZTE Blade L5': 26.0, 'ZUK Z2121': 41.0, 'dolphin': 10.0, 'exbom': 40.0, 'fnac 5': 8.0, 'g5 Plus': 3.0, 'gxq6580_weg_l': 11.0, 'iPad': 4334.0, 'iPad11': 0.0, '1': 101394.0, '3': 71671.0, 'iPad3': 0.0, '4': 82137.0, '5': 53576.0, 'iPad4': 0.0, '2': 60199.0, '7': 20.0, '8': 38167.0, 'iPad5': 0.0, 'iPad6': 0.0, '11': 158.0, '12': 9.0, 'iPad7': 0.0, '6': 31249.0, 'iPad8': 0.0, 'iPhone': 536449.0, 'iPhone10': 0.0, 'iPhone11': 0.0, 'iPhone12': 0.0, 'iPhone4': 0.0, 'iPhone5': 0.0, 'iPhone6': 0.0, 'iPhone7': 0.0, 'iPhone8': 0.0, 'iPhone9': 0.0, 'iPod': 8.0, 'iPod7': 0.0, 'itel A15': 6.0, 'moto e5': 16501.0, 'moto e5 play': 20636.0, 'moto e5 plus': 5853.0, 'moto g(6)': 2269.0, 'moto g(6) play': 7426.0, 'moto g(6) plus': 1362.0, 'moto g6 plus': 20.0, 'moto g7 plus': 13.0, 'moto x4': 279.0, 'motorola one': 194.0, 'vernee_M5': 33.0, 'victor': 13.0, 'vivo 1606': 5.0, 'vivo 1901': 7.0, 'vivo NEX A': 54.0, 'vivo X7': 9.0}, 'os_family': {'Android': 7247173.0, 'Chrome OS': 1892.0, 'Fedora': 266.0, 'FreeBSD': 27.0, 'Linux': 41568.0, 'Mac OS X': 51060.0, 'Other': 789822.0, 'Ubuntu': 5119.0, 'Windows 10': 749150.0, 'Windows 7': 302191.0, 'Windows 8': 7281.0, 'Windows 8.1': 51209.0, 'Windows Mobile': 8.0, 'Windows Phone': 339.0, 'Windows Vista': 626.0, 'Windows XP': 2557.0, 'iOS': 984603.0}, 'browser_family': {'AdsBot-Google': 11399.0, 'Amazon Silk': 131.0, 'Android': 36.0, 'AppleMail': 91.0, 'Applebot': 6.0, 'BingPreview': 28.0, 'Chrome': 1120809.0, 'Chrome Mobile': 5156925.0, 'Chrome Mobile iOS': 68828.0, 'Chromium': 574.0, 'Edge': 8555.0, 'Edge Mobile': 333.0, 'Facebook': 1778916.0, 'Firefox': 76592.0, 'Firefox Mobile': 12538.0, 'Firefox iOS': 801.0, 'GooglePlusBot': 13.0, 'Googlebot': 797464.0, 'IE': 8.0, 'IE Mobile': 6.0, 'Maxthon': 18.0, 'Mobile Safari': 470183.0, 'Mobile Safari UIWebView': 436250.0, 'Opera': 17329.0, 'Opera Mini': 21.0, 'Opera Mobile': 7554.0, 'Other': 249182.0, 'Pale Moon (Firefox Variant)': 11.0, 'PetalBot': 124.0, 'Pinterest': 8.0, 'Puffin': 263.0, 'SMTBot': 27.0, 'Safari': 15786.0, 'SeaMonkey': 1.0, 'UC Browser': 3746.0, 'Vivaldi': 142.0, 'Yahoo! Slurp': 6.0, 'Yandex Browser': 187.0}}\n"
     ]
    }
   ],
   "source": [
    "print(question2)"
   ]
  },
  {
   "cell_type": "code",
   "execution_count": 18,
   "metadata": {},
   "outputs": [
    {
     "name": "stdout",
     "output_type": "stream",
     "text": [
      "{'device_family': {'Generic Smartphone': 316.893, 'Samsung SM-A105FN': 400.442, 'Samsung SM-G9650': 794.2095, 'Samsung SM-J415G': 403.402, 'Spider': 201.988, 'iPhone': 97.544}, 'os_family': {'Android': 292.9295, 'Other': 180.021, 'iOS': 97.544}, 'browser_family': {'Chrome Mobile': 403.402, 'Facebook': 400.442, 'Googlebot': 201.988, 'Mobile Safari': 97.544}}\n"
     ]
    }
   ],
   "source": [
    "print(question3)"
   ]
  },
  {
   "cell_type": "code",
   "execution_count": null,
   "metadata": {},
   "outputs": [],
   "source": []
  }
 ],
 "metadata": {
  "kernelspec": {
   "display_name": "Python 3",
   "language": "python",
   "name": "python3"
  },
  "language_info": {
   "codemirror_mode": {
    "name": "ipython",
    "version": 3
   },
   "file_extension": ".py",
   "mimetype": "text/x-python",
   "name": "python",
   "nbconvert_exporter": "python",
   "pygments_lexer": "ipython3",
   "version": "3.7.4"
  }
 },
 "nbformat": 4,
 "nbformat_minor": 2
}
