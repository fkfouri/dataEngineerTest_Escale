{
 "cells": [
  {
   "cell_type": "markdown",
   "metadata": {},
   "source": [
    "# Desafio Escale\n",
    "\n",
    "Este <i>notebook</i> e um estudo passo a passo do dataset fornecido. Será utilizada tecnologia Spark em Python para a resolução do desafio.\n",
    "\n",
    "No primeiro momento sera instalado e importadas bibliotecas do Spark"
   ]
  },
  {
   "cell_type": "code",
   "execution_count": 15,
   "metadata": {},
   "outputs": [],
   "source": [
    "try:\n",
    "    !pip install pyspark==\"2.4.5\" --quiet\n",
    "    !pip install pandas==\"1.0.4\" --quiet\n",
    "except:\n",
    "    print(\"Running throw py file.\")"
   ]
  },
  {
   "cell_type": "code",
   "execution_count": 16,
   "metadata": {},
   "outputs": [],
   "source": [
    "from pyspark import SparkContext as sc\n",
    "from pyspark.sql import SparkSession\n",
    "from pyspark.sql import functions as F\n",
    "from pyspark.sql import Window\n",
    "from pyspark import SparkFiles\n",
    "from pyspark.sql.types import StringType\n",
    "import pyspark\n",
    "import json\n",
    "import pandas as pd"
   ]
  },
  {
   "cell_type": "markdown",
   "metadata": {},
   "source": [
    "Criação de uma sessão Spark"
   ]
  },
  {
   "cell_type": "code",
   "execution_count": 17,
   "metadata": {},
   "outputs": [
    {
     "data": {
      "text/html": [
       "\n",
       "            <div>\n",
       "                <p><b>SparkSession - in-memory</b></p>\n",
       "                \n",
       "        <div>\n",
       "            <p><b>SparkContext</b></p>\n",
       "\n",
       "            <p><a href=\"http://LAPTOP-Y520:4040\">Spark UI</a></p>\n",
       "\n",
       "            <dl>\n",
       "              <dt>Version</dt>\n",
       "                <dd><code>v2.4.5</code></dd>\n",
       "              <dt>Master</dt>\n",
       "                <dd><code>local[*]</code></dd>\n",
       "              <dt>AppName</dt>\n",
       "                <dd><code>Desafio Data Engineer Escale - Fabio Kfouri</code></dd>\n",
       "            </dl>\n",
       "        </div>\n",
       "        \n",
       "            </div>\n",
       "        "
      ],
      "text/plain": [
       "<pyspark.sql.session.SparkSession at 0x24567b48b48>"
      ]
     },
     "execution_count": 17,
     "metadata": {},
     "output_type": "execute_result"
    }
   ],
   "source": [
    "spark = SparkSession\\\n",
    "        .builder\\\n",
    "        .appName(\"Desafio Data Engineer Escale - Fabio Kfouri\")\\\n",
    "        .getOrCreate()\n",
    "spark"
   ]
  },
  {
   "cell_type": "markdown",
   "metadata": {},
   "source": [
    "Para otimizar a resolução, foram realizados downloads dos datasets, esta lógica é para identificar se este notebook esta rodando máquina do autor, caso positivo, utilizará o dataset local, do contrário, utilizará o dataset da núvem."
   ]
  },
  {
   "cell_type": "code",
   "execution_count": 18,
   "metadata": {},
   "outputs": [
    {
     "name": "stdout",
     "output_type": "stream",
     "text": [
      "E:\\Projetos\\Jobs\\dataEngineerTest_Escale/data/\n"
     ]
    }
   ],
   "source": [
    "import os\n",
    "\n",
    "dataPath = 'https://d3l36jjwr70u5l.cloudfront.net/data-engineer-test/'\n",
    "\n",
    "if 'E:\\\\' in os.getcwd() and 'dataEngineerTest_Escale' in os.getcwd():\n",
    "    dataPath = os.getcwd() + \"/data/\"\n",
    "\n",
    "print(dataPath)\n"
   ]
  },
  {
   "cell_type": "markdown",
   "metadata": {},
   "source": [
    "## Leitura do primeiro dataset\n",
    "Os códigos seguintes tem o objetivo apenas de conhecer o dataset:\n",
    "- vizualizar alguns registros\n",
    "- quantidade de registros\n",
    "- observar o Schema do datase"
   ]
  },
  {
   "cell_type": "code",
   "execution_count": 19,
   "metadata": {},
   "outputs": [
    {
     "name": "stdout",
     "output_type": "stream",
     "text": [
      "+--------------------+--------------+----------------+---------------------+--------+---+---------+--------+-------+\n",
      "|        anonymous_id|browser_family|   device_family|device_sent_timestamp|   event|  n|os_family|platform|version|\n",
      "+--------------------+--------------+----------------+---------------------+--------+---+---------+--------+-------+\n",
      "|46074eab-28f7-483...| Chrome Mobile|Samsung SM-A105M|        1592616733778|pageview| 82|  Android|     web|    1.0|\n",
      "|24c1f50c-c192-4f8...| Chrome Mobile|Samsung SM-A105M|        1592615846912|pageview| 82|  Android|     web|    1.0|\n",
      "|2c7ed100-3e30-4c1...| Chrome Mobile|Samsung SM-A105M|        1592624340522|pageview| 82|  Android|     web|    1.0|\n",
      "+--------------------+--------------+----------------+---------------------+--------+---+---------+--------+-------+\n",
      "only showing top 3 rows\n",
      "\n"
     ]
    }
   ],
   "source": [
    "df0 = spark.read.json(dataPath + 'part-0000' + str(0) +'.json.gz')\n",
    "df0.show(3)"
   ]
  },
  {
   "cell_type": "code",
   "execution_count": 20,
   "metadata": {},
   "outputs": [
    {
     "data": {
      "text/plain": [
       "10235120"
      ]
     },
     "execution_count": 20,
     "metadata": {},
     "output_type": "execute_result"
    }
   ],
   "source": [
    "df0.count()"
   ]
  },
  {
   "cell_type": "code",
   "execution_count": 21,
   "metadata": {},
   "outputs": [
    {
     "name": "stdout",
     "output_type": "stream",
     "text": [
      "root\n",
      " |-- anonymous_id: string (nullable = true)\n",
      " |-- browser_family: string (nullable = true)\n",
      " |-- device_family: string (nullable = true)\n",
      " |-- device_sent_timestamp: long (nullable = true)\n",
      " |-- event: string (nullable = true)\n",
      " |-- n: long (nullable = true)\n",
      " |-- os_family: string (nullable = true)\n",
      " |-- platform: string (nullable = true)\n",
      " |-- version: string (nullable = true)\n",
      "\n"
     ]
    }
   ],
   "source": [
    "df0.printSchema()"
   ]
  },
  {
   "cell_type": "markdown",
   "metadata": {},
   "source": [
    "## Desafio 1\n",
    "\n",
    "Calcular a quantaade de sessões únicas.\n",
    "\n",
    "O código seguinte é para identificar os usuários que mais utilizaram o site. Esta pesquisa é importante para poder criar o <b>Sessionamento</b>."
   ]
  },
  {
   "cell_type": "code",
   "execution_count": 22,
   "metadata": {},
   "outputs": [
    {
     "name": "stdout",
     "output_type": "stream",
     "text": [
      "+------------------------------------+-----+\n",
      "|anonymous_id                        |count|\n",
      "+------------------------------------+-----+\n",
      "|ae59b395-31ac-40e3-b7c0-3d97d00ac6cc|293  |\n",
      "|7d0f437b-23e1-407e-8a08-6fb4434bc1f7|3    |\n",
      "|e0ad55f0-29de-4c01-8da1-d37eb2f3ad4c|3    |\n",
      "|88222d44-f5da-4710-98ef-89c39b635a9d|2    |\n",
      "|6f38a9bf-fcb8-4e08-bbcd-7f7b4fc5a258|2    |\n",
      "|9bf50c34-836a-4f03-b9da-bd90d84c8cd3|2    |\n",
      "|34d49ea1-7c32-4d6c-a3df-40455e509ec7|2    |\n",
      "|b70140df-d9c2-49eb-9eb1-6ae9ab77fb48|2    |\n",
      "|880d31a8-8181-4e33-b65c-99f26a448f3e|2    |\n",
      "|68f73aec-f9c3-4d39-9cba-0454a4972bdd|2    |\n",
      "+------------------------------------+-----+\n",
      "only showing top 10 rows\n",
      "\n"
     ]
    }
   ],
   "source": [
    "df = df0.groupBy('anonymous_id').count().sort(F.col(\"count\").desc())\n",
    "df.show(10,False)"
   ]
  },
  {
   "cell_type": "markdown",
   "metadata": {},
   "source": [
    "Identificado um <b>anonymous_id</b> com uso intensivo do site, que será utilizado para a modelagem do sessionamento."
   ]
  },
  {
   "cell_type": "code",
   "execution_count": 23,
   "metadata": {},
   "outputs": [
    {
     "name": "stdout",
     "output_type": "stream",
     "text": [
      "+--------------------+--------------+-------------+---------------------+--------+---+---------+--------+-------+\n",
      "|        anonymous_id|browser_family|device_family|device_sent_timestamp|   event|  n|os_family|platform|version|\n",
      "+--------------------+--------------+-------------+---------------------+--------+---+---------+--------+-------+\n",
      "|ae59b395-31ac-40e...|     Googlebot|       Spider|        1591321597456|pageview| 95|    Other|     web|    1.0|\n",
      "|ae59b395-31ac-40e...|     Googlebot|       Spider|        1591414551868|pageview| 69|    Other|     web|    1.0|\n",
      "|ae59b395-31ac-40e...|     Googlebot|       Spider|        1591673040878|pageview| 73|    Other|     web|    1.0|\n",
      "|ae59b395-31ac-40e...| AdsBot-Google|       Spider|        1591733995529|pageview| 64|    Other|     web|    1.0|\n",
      "|ae59b395-31ac-40e...|     Googlebot|       Spider|        1591756611249|pageview| 43|    Other|     web|    1.0|\n",
      "|ae59b395-31ac-40e...|     Googlebot|       Spider|        1592014689622|pageview| 45|    Other|     web|    1.0|\n",
      "|ae59b395-31ac-40e...|     Googlebot|       Spider|        1592102553331|pageview| 55|  Android|     web|    1.0|\n",
      "|ae59b395-31ac-40e...|     Googlebot|       Spider|        1592273900262|pageview| 73|    Other|     web|    1.0|\n",
      "|ae59b395-31ac-40e...|     Googlebot|       Spider|        1592527400266|pageview| 94|    Other|     web|    1.0|\n",
      "|ae59b395-31ac-40e...|     Googlebot|       Spider|        1592537432075|pageview| 55|    Other|     web|    1.0|\n",
      "|ae59b395-31ac-40e...|     Googlebot|       Spider|        1592617192847|pageview| 78|  Android|     web|    1.0|\n",
      "|ae59b395-31ac-40e...|     Googlebot|       Spider|        1592702379390|pageview| 89|    Other|     web|    1.0|\n",
      "|ae59b395-31ac-40e...|     Googlebot|       Spider|        1592705588620|pageview| 45|    Other|     web|    1.0|\n",
      "|ae59b395-31ac-40e...|     Googlebot|       Spider|        1592705833529|pageview| 69|    Other|     web|    1.0|\n",
      "|ae59b395-31ac-40e...|     Googlebot|       Spider|        1592708051282|pageview| 44|  Android|     web|    1.0|\n",
      "|ae59b395-31ac-40e...|     Googlebot|       Spider|        1592708655174|pageview| 50|  Android|     web|    1.0|\n",
      "|ae59b395-31ac-40e...|     Googlebot|       Spider|        1592714671326|pageview| 96|  Android|     web|    1.0|\n",
      "|ae59b395-31ac-40e...|     Googlebot|       Spider|        1592787487408|pageview| 80|  Android|     web|    1.0|\n",
      "|ae59b395-31ac-40e...|     Googlebot|       Spider|        1592790085073|pageview| 76|  Android|     web|    1.0|\n",
      "|ae59b395-31ac-40e...|     Googlebot|       Spider|        1592791003354|pageview| 94|    Other|     web|    1.0|\n",
      "+--------------------+--------------+-------------+---------------------+--------+---+---------+--------+-------+\n",
      "only showing top 20 rows\n",
      "\n"
     ]
    }
   ],
   "source": [
    "df = df0.filter('anonymous_id = \"ae59b395-31ac-40e3-b7c0-3d97d00ac6cc\"').sort(F.col(\"device_sent_timestamp\"))\n",
    "df.show()"
   ]
  },
  {
   "cell_type": "markdown",
   "metadata": {},
   "source": [
    "Para calculo do tempo de sessão será utilizado a função <b>LAG()</b> que tem por objetivo trazer no registro corrente o dado de timestamp do registro anterior.\n",
    "\n",
    "O autor assumiu como premissa não declarada para definir uma sessão, que além do tempo limite de 30 minutos desde a última utilização, que uma sessão precisaria considerar o <b>device_family</b> e <b>os_family</b>.\n",
    "\n",
    "Ou seja, mesmo que não tenha excedido o tempo limite de 30 minutos, mas se for caracterizado que houve uma mudança de device_family ou os_family, trata-se de uma sessão nova."
   ]
  },
  {
   "cell_type": "code",
   "execution_count": 24,
   "metadata": {},
   "outputs": [],
   "source": [
    "overCategory = Window.partitionBy('anonymous_id','device_family','os_family').orderBy('device_sent_timestamp')"
   ]
  },
  {
   "cell_type": "code",
   "execution_count": 25,
   "metadata": {},
   "outputs": [
    {
     "name": "stdout",
     "output_type": "stream",
     "text": [
      "+--------------------+--------------+-------------+---------------------+--------+---+---------+--------+-------+-------------+\n",
      "|        anonymous_id|browser_family|device_family|device_sent_timestamp|   event|  n|os_family|platform|version|          lag|\n",
      "+--------------------+--------------+-------------+---------------------+--------+---+---------+--------+-------+-------------+\n",
      "|ae59b395-31ac-40e...|     Googlebot|       Spider|        1591321597456|pageview| 95|    Other|     web|    1.0|         null|\n",
      "|ae59b395-31ac-40e...|     Googlebot|       Spider|        1591414551868|pageview| 69|    Other|     web|    1.0|1591321597456|\n",
      "|ae59b395-31ac-40e...|     Googlebot|       Spider|        1591673040878|pageview| 73|    Other|     web|    1.0|1591414551868|\n",
      "|ae59b395-31ac-40e...| AdsBot-Google|       Spider|        1591733995529|pageview| 64|    Other|     web|    1.0|1591673040878|\n",
      "|ae59b395-31ac-40e...|     Googlebot|       Spider|        1591756611249|pageview| 43|    Other|     web|    1.0|1591733995529|\n",
      "+--------------------+--------------+-------------+---------------------+--------+---+---------+--------+-------+-------------+\n",
      "only showing top 5 rows\n",
      "\n"
     ]
    }
   ],
   "source": [
    "dftemp = df.withColumn(\"lag\", F.lag('device_sent_timestamp', 1).over(overCategory))\n",
    "dftemp.show(5)"
   ]
  },
  {
   "cell_type": "markdown",
   "metadata": {},
   "source": [
    "Identificado que o tempo esta no formato <b>epoch</b>. \n",
    "\n",
    "A primeira intuição do autor foi de converter para o formato de data, porém, logo o autor percebeu que poderia usar o própria valor numérico para identificar a tolerancia de 30 minutos.\n",
    "\n",
    "Para isso, foi convertido o tempo de 30 minutos em milisegundos para o uso simplificado na identificação da sessão."
   ]
  },
  {
   "cell_type": "code",
   "execution_count": 26,
   "metadata": {},
   "outputs": [
    {
     "name": "stdout",
     "output_type": "stream",
     "text": [
      "1800000\n"
     ]
    }
   ],
   "source": [
    "time_limit = (30*60)*1000\n",
    "print(time_limit)"
   ]
  },
  {
   "cell_type": "code",
   "execution_count": 28,
   "metadata": {},
   "outputs": [
    {
     "name": "stdout",
     "output_type": "stream",
     "text": [
      "+-------------+---------------------+---------+------------+-----------------------+\n",
      "|device_family|device_sent_timestamp|delta    |same_section|event_time             |\n",
      "+-------------+---------------------+---------+------------+-----------------------+\n",
      "|Spider       |1591321597456        |null     |null        |2020-06-04 22:46:37.456|\n",
      "|Spider       |1591414551868        |92954412 |false       |2020-06-06 00:35:51.868|\n",
      "|Spider       |1591673040878        |258489010|false       |2020-06-09 00:24:00.878|\n",
      "|Spider       |1591733995529        |60954651 |false       |2020-06-09 17:19:55.529|\n",
      "|Spider       |1591756611249        |22615720 |false       |2020-06-09 23:36:51.249|\n",
      "|Spider       |1592014689622        |258078373|false       |2020-06-12 23:18:09.622|\n",
      "|Spider       |1592273900262        |259210640|false       |2020-06-15 23:18:20.262|\n",
      "|Spider       |1592527400266        |253500004|false       |2020-06-18 21:43:20.266|\n",
      "|Spider       |1592537432075        |10031809 |false       |2020-06-19 00:30:32.075|\n",
      "|Spider       |1592702379390        |164947315|false       |2020-06-20 22:19:39.39 |\n",
      "|Spider       |1592705588620        |3209230  |false       |2020-06-20 23:13:08.62 |\n",
      "|Spider       |1592705833529        |244909   |true        |2020-06-20 23:17:13.529|\n",
      "|Spider       |1592791003354        |85169825 |false       |2020-06-21 22:56:43.354|\n",
      "|Spider       |1592791627174        |623820   |true        |2020-06-21 23:07:07.174|\n",
      "|Spider       |1592792149943        |522769   |true        |2020-06-21 23:15:49.943|\n",
      "|Spider       |1592792949014        |799071   |true        |2020-06-21 23:29:09.014|\n",
      "|Spider       |1592793097630        |148616   |true        |2020-06-21 23:31:37.63 |\n",
      "|Spider       |1592793230114        |132484   |true        |2020-06-21 23:33:50.114|\n",
      "|Spider       |1592794162363        |932249   |true        |2020-06-21 23:49:22.363|\n",
      "|Spider       |1592794439761        |277398   |true        |2020-06-21 23:53:59.761|\n",
      "+-------------+---------------------+---------+------------+-----------------------+\n",
      "only showing top 20 rows\n",
      "\n"
     ]
    }
   ],
   "source": [
    "dftemp = dftemp.withColumn('delta', F.col('device_sent_timestamp') - F.col('lag'))\\\n",
    "        .withColumn('same_section', (F.col('device_sent_timestamp') - F.col('lag')) < time_limit) \\\n",
    "        .withColumn('event_time', (F.col('device_sent_timestamp')/1000).cast('timestamp'))\n",
    "\n",
    "dftemp.select('device_family','device_sent_timestamp','delta','same_section','event_time').show(20, False)"
   ]
  },
  {
   "cell_type": "markdown",
   "metadata": {},
   "source": [
    "Devido a demora de processamento na maquina do autor, optou-se por gerar um dataset menor para analise."
   ]
  },
  {
   "cell_type": "code",
   "execution_count": 30,
   "metadata": {},
   "outputs": [],
   "source": [
    "dftemp.coalesce(1).write.format(\"json\").save(\"analise.json\")"
   ]
  },
  {
   "cell_type": "code",
   "execution_count": 31,
   "metadata": {},
   "outputs": [],
   "source": [
    "dftemp = spark.read.json(os.getcwd() + '/analise.json')"
   ]
  },
  {
   "cell_type": "markdown",
   "metadata": {},
   "source": [
    "Criacão de uma view chamada clickStream."
   ]
  },
  {
   "cell_type": "code",
   "execution_count": 32,
   "metadata": {},
   "outputs": [],
   "source": [
    "dftemp.createOrReplaceTempView(\"clickstream\")"
   ]
  },
  {
   "cell_type": "markdown",
   "metadata": {},
   "source": [
    "Pimeiro passo foi possível observar as sessoes abertas e fazer um especie de <i>smoke test</i>."
   ]
  },
  {
   "cell_type": "code",
   "execution_count": 37,
   "metadata": {},
   "outputs": [
    {
     "name": "stdout",
     "output_type": "stream",
     "text": [
      "+-------------+---------------------+---------+------------+-----------------------------+\n",
      "|device_family|device_sent_timestamp|delta    |same_section|event_time                   |\n",
      "+-------------+---------------------+---------+------------+-----------------------------+\n",
      "|Spider       |1591321597456        |null     |false       |2020-06-04T22:46:37.456-03:00|\n",
      "|Spider       |1591414551868        |92954412 |false       |2020-06-06T00:35:51.868-03:00|\n",
      "|Spider       |1591673040878        |258489010|false       |2020-06-09T00:24:00.878-03:00|\n",
      "|Spider       |1591733995529        |60954651 |false       |2020-06-09T17:19:55.529-03:00|\n",
      "|Spider       |1591756611249        |22615720 |false       |2020-06-09T23:36:51.249-03:00|\n",
      "|Spider       |1592014689622        |258078373|false       |2020-06-12T23:18:09.622-03:00|\n",
      "|Spider       |1592273900262        |259210640|false       |2020-06-15T23:18:20.262-03:00|\n",
      "|Spider       |1592527400266        |253500004|false       |2020-06-18T21:43:20.266-03:00|\n",
      "|Spider       |1592537432075        |10031809 |false       |2020-06-19T00:30:32.075-03:00|\n",
      "|Spider       |1592702379390        |164947315|false       |2020-06-20T22:19:39.390-03:00|\n",
      "|Spider       |1592705588620        |3209230  |false       |2020-06-20T23:13:08.620-03:00|\n",
      "|Spider       |1592705833529        |244909   |true        |2020-06-20T23:17:13.529-03:00|\n",
      "|Spider       |1592791003354        |85169825 |false       |2020-06-21T22:56:43.354-03:00|\n",
      "|Spider       |1592791627174        |623820   |true        |2020-06-21T23:07:07.174-03:00|\n",
      "|Spider       |1592792149943        |522769   |true        |2020-06-21T23:15:49.943-03:00|\n",
      "|Spider       |1592792949014        |799071   |true        |2020-06-21T23:29:09.014-03:00|\n",
      "|Spider       |1592793097630        |148616   |true        |2020-06-21T23:31:37.630-03:00|\n",
      "|Spider       |1592793230114        |132484   |true        |2020-06-21T23:33:50.114-03:00|\n",
      "|Spider       |1592794162363        |932249   |true        |2020-06-21T23:49:22.363-03:00|\n",
      "|Spider       |1592794439761        |277398   |true        |2020-06-21T23:53:59.761-03:00|\n",
      "|Spider       |1592794798814        |359053   |true        |2020-06-21T23:59:58.814-03:00|\n",
      "|Spider       |1592797056222        |2257408  |false       |2020-06-22T00:37:36.222-03:00|\n",
      "|Spider       |1592797307656        |251434   |true        |2020-06-22T00:41:47.656-03:00|\n",
      "|Spider       |1592797382502        |74846    |true        |2020-06-22T00:43:02.502-03:00|\n",
      "|Spider       |1592798264105        |881603   |true        |2020-06-22T00:57:44.105-03:00|\n",
      "|Spider       |1592798581225        |317120   |true        |2020-06-22T01:03:01.225-03:00|\n",
      "|Spider       |1592799524457        |943232   |true        |2020-06-22T01:18:44.457-03:00|\n",
      "|Spider       |1592800764505        |1240048  |true        |2020-06-22T01:39:24.505-03:00|\n",
      "|Spider       |1592801384863        |620358   |true        |2020-06-22T01:49:44.863-03:00|\n",
      "|Spider       |1592872245344        |70860481 |false       |2020-06-22T21:30:45.344-03:00|\n",
      "+-------------+---------------------+---------+------------+-----------------------------+\n",
      "only showing top 30 rows\n",
      "\n"
     ]
    }
   ],
   "source": [
    "df_question_1 = spark.sql(\"\"\"\n",
    "\n",
    "      SELECT anonymous_id, browser_family, delta, device_family, device_sent_timestamp, event, event_time, n, os_family, --\n",
    "             platform, nvl(same_section,false) same_section, version\n",
    "        FROM clickstream t --\n",
    "\n",
    "\"\"\")\n",
    "df_question_1.select('device_family','device_sent_timestamp','delta','same_section','event_time').show(30, False)"
   ]
  },
  {
   "cell_type": "markdown",
   "metadata": {},
   "source": [
    "No sergundo passo, foi realizado o filtro para desconsiderar as sessoes abertas e criado uma Session_ID."
   ]
  },
  {
   "cell_type": "code",
   "execution_count": 39,
   "metadata": {},
   "outputs": [
    {
     "name": "stdout",
     "output_type": "stream",
     "text": [
      "+-------------+---------------------+------------+-----------------------------+-----------------------------------------------+\n",
      "|device_family|device_sent_timestamp|same_section|event_time                   |session_id                                     |\n",
      "+-------------+---------------------+------------+-----------------------------+-----------------------------------------------+\n",
      "|Spider       |1591321597456        |false       |2020-06-04T22:46:37.456-03:00|session_1_ae59b395-31ac-40e3-b7c0-3d97d00ac6cc |\n",
      "|Spider       |1591414551868        |false       |2020-06-06T00:35:51.868-03:00|session_2_ae59b395-31ac-40e3-b7c0-3d97d00ac6cc |\n",
      "|Spider       |1591673040878        |false       |2020-06-09T00:24:00.878-03:00|session_3_ae59b395-31ac-40e3-b7c0-3d97d00ac6cc |\n",
      "|Spider       |1591733995529        |false       |2020-06-09T17:19:55.529-03:00|session_4_ae59b395-31ac-40e3-b7c0-3d97d00ac6cc |\n",
      "|Spider       |1591756611249        |false       |2020-06-09T23:36:51.249-03:00|session_5_ae59b395-31ac-40e3-b7c0-3d97d00ac6cc |\n",
      "|Spider       |1592014689622        |false       |2020-06-12T23:18:09.622-03:00|session_6_ae59b395-31ac-40e3-b7c0-3d97d00ac6cc |\n",
      "|Spider       |1592102553331        |false       |2020-06-13T23:42:33.331-03:00|session_7_ae59b395-31ac-40e3-b7c0-3d97d00ac6cc |\n",
      "|Spider       |1592273900262        |false       |2020-06-15T23:18:20.262-03:00|session_8_ae59b395-31ac-40e3-b7c0-3d97d00ac6cc |\n",
      "|Spider       |1592527400266        |false       |2020-06-18T21:43:20.266-03:00|session_9_ae59b395-31ac-40e3-b7c0-3d97d00ac6cc |\n",
      "|Spider       |1592537432075        |false       |2020-06-19T00:30:32.075-03:00|session_10_ae59b395-31ac-40e3-b7c0-3d97d00ac6cc|\n",
      "|Spider       |1592617192847        |false       |2020-06-19T22:39:52.847-03:00|session_11_ae59b395-31ac-40e3-b7c0-3d97d00ac6cc|\n",
      "|Spider       |1592702379390        |false       |2020-06-20T22:19:39.390-03:00|session_12_ae59b395-31ac-40e3-b7c0-3d97d00ac6cc|\n",
      "|Spider       |1592705588620        |false       |2020-06-20T23:13:08.620-03:00|session_13_ae59b395-31ac-40e3-b7c0-3d97d00ac6cc|\n",
      "|Spider       |1592708051282        |false       |2020-06-20T23:54:11.282-03:00|session_14_ae59b395-31ac-40e3-b7c0-3d97d00ac6cc|\n",
      "|Spider       |1592714671326        |false       |2020-06-21T01:44:31.326-03:00|session_15_ae59b395-31ac-40e3-b7c0-3d97d00ac6cc|\n",
      "|Spider       |1592787487408        |false       |2020-06-21T21:58:07.408-03:00|session_16_ae59b395-31ac-40e3-b7c0-3d97d00ac6cc|\n",
      "|Spider       |1592790085073        |false       |2020-06-21T22:41:25.073-03:00|session_17_ae59b395-31ac-40e3-b7c0-3d97d00ac6cc|\n",
      "|Spider       |1592791003354        |false       |2020-06-21T22:56:43.354-03:00|session_18_ae59b395-31ac-40e3-b7c0-3d97d00ac6cc|\n",
      "|Spider       |1592797056222        |false       |2020-06-22T00:37:36.222-03:00|session_19_ae59b395-31ac-40e3-b7c0-3d97d00ac6cc|\n",
      "|Spider       |1592816666752        |false       |2020-06-22T06:04:26.752-03:00|session_20_ae59b395-31ac-40e3-b7c0-3d97d00ac6cc|\n",
      "|Spider       |1592872245344        |false       |2020-06-22T21:30:45.344-03:00|session_21_ae59b395-31ac-40e3-b7c0-3d97d00ac6cc|\n",
      "|Spider       |1592872366372        |false       |2020-06-22T21:32:46.372-03:00|session_22_ae59b395-31ac-40e3-b7c0-3d97d00ac6cc|\n",
      "|Spider       |1592874179244        |false       |2020-06-22T22:02:59.244-03:00|session_23_ae59b395-31ac-40e3-b7c0-3d97d00ac6cc|\n",
      "|Spider       |1592876229371        |false       |2020-06-22T22:37:09.371-03:00|session_24_ae59b395-31ac-40e3-b7c0-3d97d00ac6cc|\n",
      "|Spider       |1592876750679        |false       |2020-06-22T22:45:50.679-03:00|session_25_ae59b395-31ac-40e3-b7c0-3d97d00ac6cc|\n",
      "|Spider       |1592881401672        |false       |2020-06-23T00:03:21.672-03:00|session_26_ae59b395-31ac-40e3-b7c0-3d97d00ac6cc|\n",
      "|Spider       |1592887081134        |false       |2020-06-23T01:38:01.134-03:00|session_27_ae59b395-31ac-40e3-b7c0-3d97d00ac6cc|\n",
      "|Spider       |1592957469650        |false       |2020-06-23T21:11:09.650-03:00|session_28_ae59b395-31ac-40e3-b7c0-3d97d00ac6cc|\n",
      "|Spider       |1592959722787        |false       |2020-06-23T21:48:42.787-03:00|session_29_ae59b395-31ac-40e3-b7c0-3d97d00ac6cc|\n",
      "|Spider       |1592961864669        |false       |2020-06-23T22:24:24.669-03:00|session_30_ae59b395-31ac-40e3-b7c0-3d97d00ac6cc|\n",
      "+-------------+---------------------+------------+-----------------------------+-----------------------------------------------+\n",
      "only showing top 30 rows\n",
      "\n"
     ]
    }
   ],
   "source": [
    "df_question_1 = spark.sql(\"\"\"\n",
    "with temp as (--\n",
    "      SELECT anonymous_id, browser_family, delta, device_family, device_sent_timestamp, event, event_time, n, os_family, --\n",
    "             platform, nvl(same_section,false) same_section, version\n",
    "        FROM clickstream t --\n",
    "        where nvl(same_section, false) = false --remove as sessoes abertas\n",
    ")\n",
    "select temp.*, 'session_' || ROW_NUMBER() OVER (PARTITION BY anonymous_id ORDER BY device_sent_timestamp )  || '_' ||  anonymous_id as session_id\n",
    "  from temp\n",
    "\"\"\")\n",
    "df_question_1.select('device_family','device_sent_timestamp','same_section','event_time','session_id').show(30, False)"
   ]
  },
  {
   "cell_type": "markdown",
   "metadata": {},
   "source": [
    "No terceiro e passo foi calculada a quantidade de sessoes abertas, neste caso, para um único usuário."
   ]
  },
  {
   "cell_type": "code",
   "execution_count": 42,
   "metadata": {},
   "outputs": [
    {
     "name": "stdout",
     "output_type": "stream",
     "text": [
      "+--------------------+-----------+\n",
      "|        anonymous_id|qtd_session|\n",
      "+--------------------+-----------+\n",
      "|ae59b395-31ac-40e...|         71|\n",
      "+--------------------+-----------+\n",
      "\n"
     ]
    }
   ],
   "source": [
    "df_question_1 = spark.sql(\"\"\"\n",
    "with table_temp as (--\n",
    "    SELECT anonymous_id, browser_family, device_family, device_sent_timestamp, event, event_time, n, os_family, --\n",
    "           platform, NVL(same_section,false) same_section, version\n",
    "    FROM clickstream t --\n",
    "    WHERE NVL(same_section, false) = false --remove as sessoes abertas\n",
    "), table_session_id as (--\n",
    "    SELECT t.*, 'session_' || ROW_NUMBER() OVER (PARTITION BY anonymous_id ORDER BY device_sent_timestamp )  || '_' ||  anonymous_id as session_id\n",
    "    FROM table_temp t --\n",
    ")\n",
    "SELECT anonymous_id, COUNT(session_id)  qtd_session\n",
    "FROM table_session_id\n",
    "group by anonymous_id\n",
    "\"\"\")\n",
    "df_question_1.show()"
   ]
  },
  {
   "cell_type": "markdown",
   "metadata": {},
   "source": [
    "# Desafio 2\n",
    "Calcular a quantidade de sessões únicas que ocorreram em cada Browser, Sistema Operacional e Dispositivo dentro de todo o conjunto de dados.\n",
    "\n",
    "No primeiro passo foi identificar da quantidade por <b>browser_family</b>, <b>os_family</b> e <b>device_family</b>."
   ]
  },
  {
   "cell_type": "code",
   "execution_count": 91,
   "metadata": {},
   "outputs": [
    {
     "name": "stdout",
     "output_type": "stream",
     "text": [
      "+--------------+-----------+\n",
      "|browser_family|qtd_session|\n",
      "+--------------+-----------+\n",
      "| AdsBot-Google|          1|\n",
      "|     Googlebot|         70|\n",
      "+--------------+-----------+\n",
      "\n"
     ]
    }
   ],
   "source": [
    "df_question_2 = spark.sql(\"\"\"\n",
    "with table_temp as (--\n",
    "    SELECT anonymous_id, browser_family,  device_family, device_sent_timestamp, event, event_time, n, os_family, --\n",
    "           platform, NVL(same_section,false) same_section, version\n",
    "    FROM clickstream t --\n",
    "    WHERE NVL(same_section, false) = false --remove as sessoes abertas\n",
    "), \n",
    "table_session_id as (--\n",
    "    SELECT t.*, 'session_' || ROW_NUMBER() OVER (PARTITION BY anonymous_id ORDER BY device_sent_timestamp )  || '_' ||  anonymous_id as session_id\n",
    "    FROM table_temp t --\n",
    "), \n",
    "table_browser_family as (--\n",
    "SELECT browser_family, COUNT(session_id)  qtd_session\n",
    "FROM table_session_id\n",
    "group by browser_family --\n",
    ")\n",
    "select * from table_browser_family\n",
    "\"\"\")\n",
    "df_question_2.show()"
   ]
  },
  {
   "cell_type": "code",
   "execution_count": 92,
   "metadata": {},
   "outputs": [
    {
     "name": "stdout",
     "output_type": "stream",
     "text": [
      "+---------+-----------+\n",
      "|os_family|qtd_session|\n",
      "+---------+-----------+\n",
      "|    Other|         39|\n",
      "|  Android|         32|\n",
      "+---------+-----------+\n",
      "\n"
     ]
    }
   ],
   "source": [
    "df_question_2 = spark.sql(\"\"\"\n",
    "with table_temp as (--\n",
    "    SELECT anonymous_id, browser_family,  device_family, device_sent_timestamp, event, event_time, n, os_family, --\n",
    "           platform, NVL(same_section,false) same_section, version\n",
    "    FROM clickstream t --\n",
    "    WHERE NVL(same_section, false) = false --remove as sessoes abertas\n",
    "), \n",
    "table_session_id as (--\n",
    "    SELECT t.*, 'session_' || ROW_NUMBER() OVER (PARTITION BY anonymous_id ORDER BY device_sent_timestamp )  || '_' ||  anonymous_id as session_id\n",
    "    FROM table_temp t --\n",
    ")\n",
    "SELECT os_family, COUNT(session_id)  qtd_session\n",
    "FROM table_session_id\n",
    "group by os_family\n",
    "\"\"\")\n",
    "df_question_2.show()"
   ]
  },
  {
   "cell_type": "code",
   "execution_count": 93,
   "metadata": {},
   "outputs": [
    {
     "name": "stdout",
     "output_type": "stream",
     "text": [
      "+-------------+------+-----------+\n",
      "|         what|   ref|qtd_session|\n",
      "+-------------+------+-----------+\n",
      "|device_family|Spider|         71|\n",
      "+-------------+------+-----------+\n",
      "\n"
     ]
    }
   ],
   "source": [
    "df_question_2 = spark.sql(\"\"\"\n",
    "with table_temp as (--\n",
    "    SELECT anonymous_id, browser_family,  device_family, device_sent_timestamp, event, event_time, n, os_family, --\n",
    "           platform, NVL(same_section,false) same_section, version\n",
    "    FROM clickstream t --\n",
    "    WHERE NVL(same_section, false) = false --remove as sessoes abertas\n",
    "), \n",
    "table_session_id as (--\n",
    "    SELECT t.*, 'session_' || ROW_NUMBER() OVER (PARTITION BY anonymous_id ORDER BY device_sent_timestamp )  || '_' ||  anonymous_id as session_id\n",
    "    FROM table_temp t --\n",
    ")\n",
    "SELECT 'device_family' what, device_family ref, COUNT(session_id)  qtd_session\n",
    "FROM table_session_id\n",
    "group by device_family\n",
    "\"\"\")\n",
    "df_question_2.show()"
   ]
  },
  {
   "cell_type": "markdown",
   "metadata": {},
   "source": [
    "No segundo passo foi agrupar todos esses resultados em um dataframe"
   ]
  },
  {
   "cell_type": "code",
   "execution_count": 112,
   "metadata": {},
   "outputs": [
    {
     "name": "stdout",
     "output_type": "stream",
     "text": [
      "+--------------+-------------+-----------+\n",
      "|          what|          ref|qtd_session|\n",
      "+--------------+-------------+-----------+\n",
      "|browser_family|    Googlebot|         70|\n",
      "|browser_family|AdsBot-Google|          1|\n",
      "|     os_family|        Other|         39|\n",
      "|     os_family|      Android|         32|\n",
      "| device_family|       Spider|         71|\n",
      "+--------------+-------------+-----------+\n",
      "\n"
     ]
    }
   ],
   "source": [
    "df_question_2 = spark.sql(\"\"\"\n",
    "with table_temp as (--\n",
    "    SELECT anonymous_id, browser_family,  device_family, device_sent_timestamp, event, event_time, n, os_family, --\n",
    "           platform, NVL(same_section,false) same_section, version\n",
    "    FROM clickstream t --\n",
    "    WHERE NVL(same_section, false) = false --remove as sessoes abertas\n",
    "), \n",
    "table_session_id as (--\n",
    "    SELECT t.*, 'session_' || ROW_NUMBER() OVER (PARTITION BY anonymous_id ORDER BY device_sent_timestamp )  || '_' ||  anonymous_id as session_id\n",
    "    FROM table_temp t --\n",
    ")\n",
    "SELECT 'device_family' what, device_family ref, COUNT(session_id)  qtd_session\n",
    "  FROM table_session_id\n",
    " group by device_family\n",
    "union\n",
    "SELECT 'os_family' what, os_family ref, COUNT(session_id)  qtd_session\n",
    "  FROM table_session_id\n",
    "group by os_family\n",
    "union\n",
    "SELECT 'browser_family' what, browser_family ref, COUNT(session_id)  qtd_session\n",
    "  FROM table_session_id\n",
    " group by browser_family\n",
    "\"\"\")\n",
    "df_question_2.show()"
   ]
  },
  {
   "cell_type": "markdown",
   "metadata": {},
   "source": [
    "No passo seguinte foi de concatenar a coluna 'ref' com 'qtd_session' em um formato json e agrupar por collecao."
   ]
  },
  {
   "cell_type": "code",
   "execution_count": 180,
   "metadata": {},
   "outputs": [
    {
     "name": "stdout",
     "output_type": "stream",
     "text": [
      "+--------------+--------------------------------+\n",
      "|what          |collection                      |\n",
      "+--------------+--------------------------------+\n",
      "|device_family |\"Spider\":71                     |\n",
      "|os_family     |\"Android\":32,\"Other\":39         |\n",
      "|browser_family|\"AdsBot-Google\":1,\"Googlebot\":70|\n",
      "+--------------+--------------------------------+\n",
      "\n"
     ]
    }
   ],
   "source": [
    "d2 = df_question_2.orderBy('what','ref')\\\n",
    "        .withColumn('item', F.concat(F.lit('\"'), 'ref',F.lit('\":'),'qtd_session'))\\\n",
    "        .groupBy('what').agg(F.array_join(F.collect_list('item'), delimiter=',').alias('collection'))\n",
    "d2.show(10, False)"
   ]
  },
  {
   "cell_type": "markdown",
   "metadata": {},
   "source": [
    "Finalmente construir a saida Json do desafio"
   ]
  },
  {
   "cell_type": "code",
   "execution_count": 181,
   "metadata": {},
   "outputs": [
    {
     "name": "stdout",
     "output_type": "stream",
     "text": [
      "{'device_family': {'Spider': 71}, 'os_family': {'Android': 32, 'Other': 39}, 'browser_family': {'AdsBot-Google': 1, 'Googlebot': 70}}\n"
     ]
    }
   ],
   "source": [
    "question2 = {}\n",
    "for row in d2.collect():\n",
    "    items = str(row[\"collection\"]).replace('\"','').split(',')\n",
    "    obj = {}\n",
    "    for item in items:\n",
    "        element = str(item).split(':')\n",
    "        obj[element[0]] = int(element[1])       \n",
    "    \n",
    "    question2[row[\"what\"]] = obj\n",
    "\n",
    "print(question2)"
   ]
  },
  {
   "cell_type": "code",
   "execution_count": 182,
   "metadata": {},
   "outputs": [
    {
     "name": "stdout",
     "output_type": "stream",
     "text": [
      "{\"device_family\": {\"Spider\": 71}, \"os_family\": {\"Android\": 32, \"Other\": 39}, \"browser_family\": {\"AdsBot-Google\": 1, \"Googlebot\": 70}}\n"
     ]
    }
   ],
   "source": [
    "print(json.dumps(question2))"
   ]
  },
  {
   "cell_type": "markdown",
   "metadata": {},
   "source": [
    "## Desafio 3\n",
    "\n",
    "Calcular a mediana da duração (em segundos) entre todas sessões únicas para cada segmento."
   ]
  },
  {
   "cell_type": "code",
   "execution_count": 194,
   "metadata": {},
   "outputs": [
    {
     "name": "stdout",
     "output_type": "stream",
     "text": [
      "+-------------+---------------------+------------+-----------------------------+----------+\n",
      "|device_family|device_sent_timestamp|same_section|event_time                   |session_id|\n",
      "+-------------+---------------------+------------+-----------------------------+----------+\n",
      "|Spider       |1591321597456        |false       |2020-06-04T22:46:37.456-03:00|old       |\n",
      "|Spider       |1591414551868        |false       |2020-06-06T00:35:51.868-03:00|session_2 |\n",
      "|Spider       |1591673040878        |false       |2020-06-09T00:24:00.878-03:00|session_3 |\n",
      "|Spider       |1591733995529        |false       |2020-06-09T17:19:55.529-03:00|session_4 |\n",
      "|Spider       |1591756611249        |false       |2020-06-09T23:36:51.249-03:00|session_5 |\n",
      "|Spider       |1592014689622        |false       |2020-06-12T23:18:09.622-03:00|session_6 |\n",
      "|Spider       |1592102553331        |false       |2020-06-13T23:42:33.331-03:00|old       |\n",
      "|Spider       |1592273900262        |false       |2020-06-15T23:18:20.262-03:00|session_8 |\n",
      "|Spider       |1592527400266        |false       |2020-06-18T21:43:20.266-03:00|session_9 |\n",
      "|Spider       |1592537432075        |false       |2020-06-19T00:30:32.075-03:00|session_10|\n",
      "|Spider       |1592617192847        |false       |2020-06-19T22:39:52.847-03:00|session_11|\n",
      "|Spider       |1592702379390        |false       |2020-06-20T22:19:39.390-03:00|session_12|\n",
      "|Spider       |1592705588620        |false       |2020-06-20T23:13:08.620-03:00|session_13|\n",
      "|Spider       |1592705833529        |true        |2020-06-20T23:17:13.529-03:00|old       |\n",
      "|Spider       |1592708051282        |false       |2020-06-20T23:54:11.282-03:00|session_15|\n",
      "|Spider       |1592708655174        |true        |2020-06-21T00:04:15.174-03:00|old       |\n",
      "|Spider       |1592714671326        |false       |2020-06-21T01:44:31.326-03:00|session_17|\n",
      "|Spider       |1592787487408        |false       |2020-06-21T21:58:07.408-03:00|session_18|\n",
      "|Spider       |1592790085073        |false       |2020-06-21T22:41:25.073-03:00|session_19|\n",
      "|Spider       |1592791003354        |false       |2020-06-21T22:56:43.354-03:00|session_20|\n",
      "|Spider       |1592791341666        |true        |2020-06-21T23:02:21.666-03:00|old       |\n",
      "|Spider       |1592791627174        |true        |2020-06-21T23:07:07.174-03:00|old       |\n",
      "|Spider       |1592792149943        |true        |2020-06-21T23:15:49.943-03:00|old       |\n",
      "|Spider       |1592792168405        |true        |2020-06-21T23:16:08.405-03:00|old       |\n",
      "|Spider       |1592792949014        |true        |2020-06-21T23:29:09.014-03:00|old       |\n",
      "|Spider       |1592793097630        |true        |2020-06-21T23:31:37.630-03:00|old       |\n",
      "|Spider       |1592793174105        |true        |2020-06-21T23:32:54.105-03:00|old       |\n",
      "|Spider       |1592793230114        |true        |2020-06-21T23:33:50.114-03:00|old       |\n",
      "|Spider       |1592794162363        |true        |2020-06-21T23:49:22.363-03:00|old       |\n",
      "|Spider       |1592794278235        |true        |2020-06-21T23:51:18.235-03:00|old       |\n",
      "+-------------+---------------------+------------+-----------------------------+----------+\n",
      "only showing top 30 rows\n",
      "\n"
     ]
    }
   ],
   "source": [
    "df_question_1 = spark.sql(\"\"\"\n",
    "\n",
    "      SELECT anonymous_id, browser_family, delta, device_family, device_sent_timestamp, event, event_time, n, os_family, --\n",
    "             platform, nvl(same_section,false) same_section, version,\n",
    "             case when same_section = false then\n",
    "             'session_' || ROW_NUMBER() OVER (PARTITION BY anonymous_id ORDER BY device_sent_timestamp )\n",
    "             else\n",
    "             'old'\n",
    "             end\n",
    "             as session_id\n",
    "        FROM clickstream t --\n",
    "       -- where nvl(same_section, false) = false --remove as sessoes abertas\n",
    "\n",
    "\"\"\")\n",
    "df_question_1.select('device_family','device_sent_timestamp','same_section','event_time','session_id').show(30, False)"
   ]
  },
  {
   "cell_type": "code",
   "execution_count": null,
   "metadata": {},
   "outputs": [],
   "source": []
  },
  {
   "cell_type": "code",
   "execution_count": null,
   "metadata": {},
   "outputs": [],
   "source": []
  },
  {
   "cell_type": "code",
   "execution_count": null,
   "metadata": {},
   "outputs": [],
   "source": []
  }
 ],
 "metadata": {
  "kernelspec": {
   "display_name": "Python 3",
   "language": "python",
   "name": "python3"
  },
  "language_info": {
   "codemirror_mode": {
    "name": "ipython",
    "version": 3
   },
   "file_extension": ".py",
   "mimetype": "text/x-python",
   "name": "python",
   "nbconvert_exporter": "python",
   "pygments_lexer": "ipython3",
   "version": "3.7.4"
  }
 },
 "nbformat": 4,
 "nbformat_minor": 2
}
