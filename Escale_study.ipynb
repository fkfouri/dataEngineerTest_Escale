{
 "cells": [
  {
   "cell_type": "markdown",
   "metadata": {},
   "source": [
    "# Desafio Escale\n",
    "\n",
    "Este <i>notebook</i> e um estudo passo a passo do dataset fornecido. Será utilizada tecnologia Spark em Python para a resolução do desafio.\n",
    "\n",
    "No primeiro momento sera instalado e importadas bibliotecas do Spark"
   ]
  },
  {
   "cell_type": "code",
   "execution_count": 1,
   "metadata": {},
   "outputs": [],
   "source": [
    "try:\n",
    "    !pip install pyspark==\"2.4.5\" --quiet\n",
    "    !pip install pandas==\"1.0.4\" --quiet\n",
    "except:\n",
    "    print(\"Running throw py file.\")"
   ]
  },
  {
   "cell_type": "code",
   "execution_count": 134,
   "metadata": {},
   "outputs": [],
   "source": [
    "from pyspark import SparkContext as sc\n",
    "from pyspark.sql import SparkSession\n",
    "from pyspark.sql import functions as F\n",
    "from pyspark.sql import Window\n",
    "from pyspark import SparkFiles\n",
    "from pyspark.sql.types import StringType, FloatType\n",
    "import pyspark\n",
    "import json\n",
    "import pandas as pd\n",
    "import numpy as np"
   ]
  },
  {
   "cell_type": "markdown",
   "metadata": {},
   "source": [
    "Criação de uma sessão Spark"
   ]
  },
  {
   "cell_type": "code",
   "execution_count": 3,
   "metadata": {},
   "outputs": [
    {
     "data": {
      "text/html": [
       "\n",
       "            <div>\n",
       "                <p><b>SparkSession - in-memory</b></p>\n",
       "                \n",
       "        <div>\n",
       "            <p><b>SparkContext</b></p>\n",
       "\n",
       "            <p><a href=\"http://LAPTOP-Y520:4040\">Spark UI</a></p>\n",
       "\n",
       "            <dl>\n",
       "              <dt>Version</dt>\n",
       "                <dd><code>v2.4.5</code></dd>\n",
       "              <dt>Master</dt>\n",
       "                <dd><code>local[*]</code></dd>\n",
       "              <dt>AppName</dt>\n",
       "                <dd><code>Desafio Data Engineer Escale - Fabio Kfouri</code></dd>\n",
       "            </dl>\n",
       "        </div>\n",
       "        \n",
       "            </div>\n",
       "        "
      ],
      "text/plain": [
       "<pyspark.sql.session.SparkSession at 0x1c834dd9988>"
      ]
     },
     "execution_count": 3,
     "metadata": {},
     "output_type": "execute_result"
    }
   ],
   "source": [
    "spark = SparkSession\\\n",
    "        .builder\\\n",
    "        .appName(\"Desafio Data Engineer Escale - Fabio Kfouri\")\\\n",
    "        .getOrCreate()\n",
    "spark"
   ]
  },
  {
   "cell_type": "markdown",
   "metadata": {},
   "source": [
    "Para otimizar a resolução, foram realizados downloads dos datasets, esta lógica é para identificar se este notebook esta rodando máquina do autor, caso positivo, utilizará o dataset local, do contrário, utilizará o dataset da núvem."
   ]
  },
  {
   "cell_type": "code",
   "execution_count": 4,
   "metadata": {},
   "outputs": [
    {
     "name": "stdout",
     "output_type": "stream",
     "text": [
      "E:\\Projetos\\Jobs\\dataEngineerTest_Escale/data/\n"
     ]
    }
   ],
   "source": [
    "import os\n",
    "\n",
    "dataPath = 'https://d3l36jjwr70u5l.cloudfront.net/data-engineer-test/'\n",
    "\n",
    "if 'E:\\\\' in os.getcwd() and 'dataEngineerTest_Escale' in os.getcwd():\n",
    "    dataPath = os.getcwd() + \"/data/\"\n",
    "\n",
    "print(dataPath)\n"
   ]
  },
  {
   "cell_type": "markdown",
   "metadata": {},
   "source": [
    "## Leitura do primeiro dataset\n",
    "Os códigos seguintes tem o objetivo apenas de conhecer o dataset:\n",
    "- vizualizar alguns registros\n",
    "- quantidade de registros\n",
    "- observar o Schema do datase"
   ]
  },
  {
   "cell_type": "code",
   "execution_count": 5,
   "metadata": {},
   "outputs": [
    {
     "name": "stdout",
     "output_type": "stream",
     "text": [
      "+--------------------+--------------+----------------+---------------------+--------+---+---------+--------+-------+\n",
      "|        anonymous_id|browser_family|   device_family|device_sent_timestamp|   event|  n|os_family|platform|version|\n",
      "+--------------------+--------------+----------------+---------------------+--------+---+---------+--------+-------+\n",
      "|46074eab-28f7-483...| Chrome Mobile|Samsung SM-A105M|        1592616733778|pageview| 82|  Android|     web|    1.0|\n",
      "|24c1f50c-c192-4f8...| Chrome Mobile|Samsung SM-A105M|        1592615846912|pageview| 82|  Android|     web|    1.0|\n",
      "|2c7ed100-3e30-4c1...| Chrome Mobile|Samsung SM-A105M|        1592624340522|pageview| 82|  Android|     web|    1.0|\n",
      "+--------------------+--------------+----------------+---------------------+--------+---+---------+--------+-------+\n",
      "only showing top 3 rows\n",
      "\n"
     ]
    }
   ],
   "source": [
    "df0 = spark.read.json(dataPath + 'part-0000' + str(0) +'.json.gz')\n",
    "df0.show(3)"
   ]
  },
  {
   "cell_type": "code",
   "execution_count": 6,
   "metadata": {},
   "outputs": [
    {
     "data": {
      "text/plain": [
       "10235120"
      ]
     },
     "execution_count": 6,
     "metadata": {},
     "output_type": "execute_result"
    }
   ],
   "source": [
    "df0.count()"
   ]
  },
  {
   "cell_type": "code",
   "execution_count": 7,
   "metadata": {},
   "outputs": [
    {
     "name": "stdout",
     "output_type": "stream",
     "text": [
      "root\n",
      " |-- anonymous_id: string (nullable = true)\n",
      " |-- browser_family: string (nullable = true)\n",
      " |-- device_family: string (nullable = true)\n",
      " |-- device_sent_timestamp: long (nullable = true)\n",
      " |-- event: string (nullable = true)\n",
      " |-- n: long (nullable = true)\n",
      " |-- os_family: string (nullable = true)\n",
      " |-- platform: string (nullable = true)\n",
      " |-- version: string (nullable = true)\n",
      "\n"
     ]
    }
   ],
   "source": [
    "df0.printSchema()"
   ]
  },
  {
   "cell_type": "markdown",
   "metadata": {},
   "source": [
    "## Construção do ClickStream\n",
    "\n",
    "O código seguinte é para identificar os usuários que mais utilizaram o site. Esta pesquisa é importante para poder criar o <b>Sessionamento</b>."
   ]
  },
  {
   "cell_type": "code",
   "execution_count": 8,
   "metadata": {},
   "outputs": [
    {
     "name": "stdout",
     "output_type": "stream",
     "text": [
      "+------------------------------------+-----+\n",
      "|anonymous_id                        |count|\n",
      "+------------------------------------+-----+\n",
      "|ae59b395-31ac-40e3-b7c0-3d97d00ac6cc|293  |\n",
      "|7d0f437b-23e1-407e-8a08-6fb4434bc1f7|3    |\n",
      "|e0ad55f0-29de-4c01-8da1-d37eb2f3ad4c|3    |\n",
      "|9bf50c34-836a-4f03-b9da-bd90d84c8cd3|2    |\n",
      "|68f73aec-f9c3-4d39-9cba-0454a4972bdd|2    |\n",
      "|34d49ea1-7c32-4d6c-a3df-40455e509ec7|2    |\n",
      "|b08777e1-3bd8-4cfc-9415-a830b0764c77|2    |\n",
      "|b70140df-d9c2-49eb-9eb1-6ae9ab77fb48|2    |\n",
      "|88222d44-f5da-4710-98ef-89c39b635a9d|2    |\n",
      "|880d31a8-8181-4e33-b65c-99f26a448f3e|2    |\n",
      "+------------------------------------+-----+\n",
      "only showing top 10 rows\n",
      "\n"
     ]
    }
   ],
   "source": [
    "df = df0.groupBy('anonymous_id').count().sort(F.col(\"count\").desc())\n",
    "df.show(10,False)"
   ]
  },
  {
   "cell_type": "markdown",
   "metadata": {},
   "source": [
    "Identificado um <b>anonymous_id</b> com uso intensivo do site, que será utilizado para a modelagem do sessionamento."
   ]
  },
  {
   "cell_type": "code",
   "execution_count": 9,
   "metadata": {},
   "outputs": [
    {
     "name": "stdout",
     "output_type": "stream",
     "text": [
      "+--------------------+--------------+-------------+---------------------+--------+---+---------+--------+-------+\n",
      "|        anonymous_id|browser_family|device_family|device_sent_timestamp|   event|  n|os_family|platform|version|\n",
      "+--------------------+--------------+-------------+---------------------+--------+---+---------+--------+-------+\n",
      "|ae59b395-31ac-40e...|     Googlebot|       Spider|        1591321597456|pageview| 95|    Other|     web|    1.0|\n",
      "|ae59b395-31ac-40e...|     Googlebot|       Spider|        1591414551868|pageview| 69|    Other|     web|    1.0|\n",
      "|ae59b395-31ac-40e...|     Googlebot|       Spider|        1591673040878|pageview| 73|    Other|     web|    1.0|\n",
      "|ae59b395-31ac-40e...| AdsBot-Google|       Spider|        1591733995529|pageview| 64|    Other|     web|    1.0|\n",
      "|ae59b395-31ac-40e...|     Googlebot|       Spider|        1591756611249|pageview| 43|    Other|     web|    1.0|\n",
      "|ae59b395-31ac-40e...|     Googlebot|       Spider|        1592014689622|pageview| 45|    Other|     web|    1.0|\n",
      "|ae59b395-31ac-40e...|     Googlebot|       Spider|        1592102553331|pageview| 55|  Android|     web|    1.0|\n",
      "|ae59b395-31ac-40e...|     Googlebot|       Spider|        1592273900262|pageview| 73|    Other|     web|    1.0|\n",
      "|ae59b395-31ac-40e...|     Googlebot|       Spider|        1592527400266|pageview| 94|    Other|     web|    1.0|\n",
      "|ae59b395-31ac-40e...|     Googlebot|       Spider|        1592537432075|pageview| 55|    Other|     web|    1.0|\n",
      "|ae59b395-31ac-40e...|     Googlebot|       Spider|        1592617192847|pageview| 78|  Android|     web|    1.0|\n",
      "|ae59b395-31ac-40e...|     Googlebot|       Spider|        1592702379390|pageview| 89|    Other|     web|    1.0|\n",
      "|ae59b395-31ac-40e...|     Googlebot|       Spider|        1592705588620|pageview| 45|    Other|     web|    1.0|\n",
      "|ae59b395-31ac-40e...|     Googlebot|       Spider|        1592705833529|pageview| 69|    Other|     web|    1.0|\n",
      "|ae59b395-31ac-40e...|     Googlebot|       Spider|        1592708051282|pageview| 44|  Android|     web|    1.0|\n",
      "|ae59b395-31ac-40e...|     Googlebot|       Spider|        1592708655174|pageview| 50|  Android|     web|    1.0|\n",
      "|ae59b395-31ac-40e...|     Googlebot|       Spider|        1592714671326|pageview| 96|  Android|     web|    1.0|\n",
      "|ae59b395-31ac-40e...|     Googlebot|       Spider|        1592787487408|pageview| 80|  Android|     web|    1.0|\n",
      "|ae59b395-31ac-40e...|     Googlebot|       Spider|        1592790085073|pageview| 76|  Android|     web|    1.0|\n",
      "|ae59b395-31ac-40e...|     Googlebot|       Spider|        1592791003354|pageview| 94|    Other|     web|    1.0|\n",
      "+--------------------+--------------+-------------+---------------------+--------+---+---------+--------+-------+\n",
      "only showing top 20 rows\n",
      "\n"
     ]
    }
   ],
   "source": [
    "df = df0.filter('anonymous_id = \"ae59b395-31ac-40e3-b7c0-3d97d00ac6cc\"').sort(F.col(\"device_sent_timestamp\"))\n",
    "df.show()"
   ]
  },
  {
   "cell_type": "markdown",
   "metadata": {},
   "source": [
    "Para calculo do tempo de sessão será utilizado a função <b>LAG()</b> que tem por objetivo trazer no registro corrente o dado de timestamp do registro anterior.\n",
    "\n",
    "O autor assumiu como premissa não declarada para definir uma sessão, que além do tempo limite de 30 minutos desde a última utilização, que uma sessão precisaria considerar o <b>device_family</b> e <b>os_family</b>.\n",
    "\n",
    "Ou seja, mesmo que não tenha excedido o tempo limite de 30 minutos, mas se for caracterizado que houve uma mudança de device_family ou os_family, trata-se de uma sessão nova."
   ]
  },
  {
   "cell_type": "code",
   "execution_count": 110,
   "metadata": {},
   "outputs": [],
   "source": [
    "overCategory = Window.partitionBy('anonymous_id','device_family','os_family','browser_family')\\\n",
    "                    .orderBy('anonymous_id','device_family','os_family','browser_family','device_sent_timestamp')"
   ]
  },
  {
   "cell_type": "code",
   "execution_count": 111,
   "metadata": {
    "scrolled": true
   },
   "outputs": [
    {
     "name": "stdout",
     "output_type": "stream",
     "text": [
      "+--------------------+--------------+-------------+---------------------+--------+---+---------+--------+-------+-------------+\n",
      "|        anonymous_id|browser_family|device_family|device_sent_timestamp|   event|  n|os_family|platform|version|          lag|\n",
      "+--------------------+--------------+-------------+---------------------+--------+---+---------+--------+-------+-------------+\n",
      "|ae59b395-31ac-40e...|     Googlebot|       Spider|        1592102553331|pageview| 55|  Android|     web|    1.0|         null|\n",
      "|ae59b395-31ac-40e...|     Googlebot|       Spider|        1592617192847|pageview| 78|  Android|     web|    1.0|1592102553331|\n",
      "|ae59b395-31ac-40e...|     Googlebot|       Spider|        1592708051282|pageview| 44|  Android|     web|    1.0|1592617192847|\n",
      "|ae59b395-31ac-40e...|     Googlebot|       Spider|        1592708655174|pageview| 50|  Android|     web|    1.0|1592708051282|\n",
      "|ae59b395-31ac-40e...|     Googlebot|       Spider|        1592714671326|pageview| 96|  Android|     web|    1.0|1592708655174|\n",
      "+--------------------+--------------+-------------+---------------------+--------+---+---------+--------+-------+-------------+\n",
      "only showing top 5 rows\n",
      "\n"
     ]
    }
   ],
   "source": [
    "dftemp = df.withColumn(\"lag\", F.lag('device_sent_timestamp', 1).over(overCategory))\n",
    "dftemp.show(5)"
   ]
  },
  {
   "cell_type": "markdown",
   "metadata": {},
   "source": [
    "Identificado que o tempo esta no formato <b>epoch</b>. \n",
    "\n",
    "A primeira intuição do autor foi de converter para o formato de data, porém, logo o autor percebeu que poderia usar o própria valor numérico para identificar a tolerancia de 30 minutos.\n",
    "\n",
    "Para isso, foi convertido o tempo de 30 minutos em milisegundos para o uso simplificado na identificação da sessão."
   ]
  },
  {
   "cell_type": "code",
   "execution_count": 112,
   "metadata": {},
   "outputs": [
    {
     "name": "stdout",
     "output_type": "stream",
     "text": [
      "1800000\n"
     ]
    }
   ],
   "source": [
    "time_limit = (30*60)*1000\n",
    "print(time_limit)"
   ]
  },
  {
   "cell_type": "code",
   "execution_count": 113,
   "metadata": {},
   "outputs": [
    {
     "name": "stdout",
     "output_type": "stream",
     "text": [
      "+-------------+---------+--------------+---------------------+------------+-----------------------+\n",
      "|device_family|os_family|browser_family|device_sent_timestamp|same_section|event_time             |\n",
      "+-------------+---------+--------------+---------------------+------------+-----------------------+\n",
      "|Spider       |Android  |Googlebot     |1592102553331        |null        |2020-06-13 23:42:33.331|\n",
      "|Spider       |Android  |Googlebot     |1592617192847        |false       |2020-06-19 22:39:52.847|\n",
      "|Spider       |Android  |Googlebot     |1592708051282        |false       |2020-06-20 23:54:11.282|\n",
      "|Spider       |Android  |Googlebot     |1592708655174        |true        |2020-06-21 00:04:15.174|\n",
      "|Spider       |Android  |Googlebot     |1592714671326        |false       |2020-06-21 01:44:31.326|\n",
      "|Spider       |Android  |Googlebot     |1592787487408        |false       |2020-06-21 21:58:07.408|\n",
      "|Spider       |Android  |Googlebot     |1592790085073        |false       |2020-06-21 22:41:25.073|\n",
      "|Spider       |Android  |Googlebot     |1592791341666        |true        |2020-06-21 23:02:21.666|\n",
      "|Spider       |Android  |Googlebot     |1592792168405        |true        |2020-06-21 23:16:08.405|\n",
      "|Spider       |Android  |Googlebot     |1592793174105        |true        |2020-06-21 23:32:54.105|\n",
      "|Spider       |Android  |Googlebot     |1592794278235        |true        |2020-06-21 23:51:18.235|\n",
      "|Spider       |Android  |Googlebot     |1592794467204        |true        |2020-06-21 23:54:27.204|\n",
      "|Spider       |Android  |Googlebot     |1592795619903        |true        |2020-06-22 00:13:39.903|\n",
      "|Spider       |Android  |Googlebot     |1592797008561        |true        |2020-06-22 00:36:48.561|\n",
      "|Spider       |Android  |Googlebot     |1592797396987        |true        |2020-06-22 00:43:16.987|\n",
      "|Spider       |Android  |Googlebot     |1592798364481        |true        |2020-06-22 00:59:24.481|\n",
      "|Spider       |Android  |Googlebot     |1592816666752        |false       |2020-06-22 06:04:26.752|\n",
      "|Spider       |Android  |Googlebot     |1592872366372        |false       |2020-06-22 21:32:46.372|\n",
      "|Spider       |Android  |Googlebot     |1592873831814        |true        |2020-06-22 21:57:11.814|\n",
      "|Spider       |Android  |Googlebot     |1592876229371        |false       |2020-06-22 22:37:09.371|\n",
      "+-------------+---------+--------------+---------------------+------------+-----------------------+\n",
      "only showing top 20 rows\n",
      "\n"
     ]
    }
   ],
   "source": [
    "dftemp = dftemp.withColumn('delta', F.col('device_sent_timestamp') - F.col('lag'))\\\n",
    "        .withColumn('same_section', (F.col('device_sent_timestamp') - F.col('lag')) < time_limit) \\\n",
    "        .withColumn('event_time', (F.col('device_sent_timestamp')/1000).cast('timestamp'))\n",
    "\n",
    "dftemp.select('device_family','os_family','browser_family','device_sent_timestamp','same_section','event_time')\\\n",
    "        .show(20, False)"
   ]
  },
  {
   "cell_type": "markdown",
   "metadata": {},
   "source": [
    "Devido a demora de processamento na maquina do autor, optou-se por gerar um dataset menor para analise."
   ]
  },
  {
   "cell_type": "code",
   "execution_count": 114,
   "metadata": {},
   "outputs": [],
   "source": [
    "dftemp.coalesce(1).write.format(\"json\").save(\"analise.json\")"
   ]
  },
  {
   "cell_type": "code",
   "execution_count": 115,
   "metadata": {},
   "outputs": [],
   "source": [
    "dftemp = spark.read.json(os.getcwd() + '/analise.json')"
   ]
  },
  {
   "cell_type": "markdown",
   "metadata": {},
   "source": [
    "Criacão de uma view chamada clickStream."
   ]
  },
  {
   "cell_type": "code",
   "execution_count": 116,
   "metadata": {},
   "outputs": [],
   "source": [
    "dftemp.createOrReplaceTempView(\"raw_table\")"
   ]
  },
  {
   "cell_type": "markdown",
   "metadata": {},
   "source": [
    "Pimeiro passo foi possível observar as sessoes abertas e fazer um especie de <i>smoke test</i>."
   ]
  },
  {
   "cell_type": "code",
   "execution_count": 117,
   "metadata": {},
   "outputs": [
    {
     "name": "stdout",
     "output_type": "stream",
     "text": [
      "+-------------+---------------------+---------+------------+-----------------------------+---------------+\n",
      "|device_family|device_sent_timestamp|delta    |same_section|event_time                   |partial_session|\n",
      "+-------------+---------------------+---------+------------+-----------------------------+---------------+\n",
      "|Spider       |1591321597456        |null     |false       |2020-06-04T22:46:37.456-03:00|session_1      |\n",
      "|Spider       |1591414551868        |92954412 |false       |2020-06-06T00:35:51.868-03:00|session_2      |\n",
      "|Spider       |1591673040878        |258489010|false       |2020-06-09T00:24:00.878-03:00|session_3      |\n",
      "|Spider       |1591733995529        |null     |false       |2020-06-09T17:19:55.529-03:00|session_4      |\n",
      "|Spider       |1591756611249        |83570371 |false       |2020-06-09T23:36:51.249-03:00|session_5      |\n",
      "|Spider       |1592014689622        |258078373|false       |2020-06-12T23:18:09.622-03:00|session_6      |\n",
      "|Spider       |1592102553331        |null     |false       |2020-06-13T23:42:33.331-03:00|session_7      |\n",
      "|Spider       |1592273900262        |259210640|false       |2020-06-15T23:18:20.262-03:00|session_8      |\n",
      "|Spider       |1592527400266        |253500004|false       |2020-06-18T21:43:20.266-03:00|session_9      |\n",
      "|Spider       |1592537432075        |10031809 |false       |2020-06-19T00:30:32.075-03:00|session_10     |\n",
      "|Spider       |1592617192847        |514639516|false       |2020-06-19T22:39:52.847-03:00|session_11     |\n",
      "|Spider       |1592702379390        |164947315|false       |2020-06-20T22:19:39.390-03:00|session_12     |\n",
      "|Spider       |1592705588620        |3209230  |false       |2020-06-20T23:13:08.620-03:00|session_13     |\n",
      "|Spider       |1592705833529        |244909   |true        |2020-06-20T23:17:13.529-03:00|null           |\n",
      "|Spider       |1592708051282        |90858435 |false       |2020-06-20T23:54:11.282-03:00|session_14     |\n",
      "|Spider       |1592708655174        |603892   |true        |2020-06-21T00:04:15.174-03:00|null           |\n",
      "|Spider       |1592714671326        |6016152  |false       |2020-06-21T01:44:31.326-03:00|session_15     |\n",
      "|Spider       |1592787487408        |72816082 |false       |2020-06-21T21:58:07.408-03:00|session_16     |\n",
      "|Spider       |1592790085073        |2597665  |false       |2020-06-21T22:41:25.073-03:00|session_17     |\n",
      "|Spider       |1592791003354        |85169825 |false       |2020-06-21T22:56:43.354-03:00|session_18     |\n",
      "|Spider       |1592791341666        |1256593  |true        |2020-06-21T23:02:21.666-03:00|null           |\n",
      "|Spider       |1592791627174        |623820   |true        |2020-06-21T23:07:07.174-03:00|null           |\n",
      "|Spider       |1592792149943        |522769   |true        |2020-06-21T23:15:49.943-03:00|null           |\n",
      "|Spider       |1592792168405        |826739   |true        |2020-06-21T23:16:08.405-03:00|null           |\n",
      "|Spider       |1592792949014        |799071   |true        |2020-06-21T23:29:09.014-03:00|null           |\n",
      "|Spider       |1592793097630        |148616   |true        |2020-06-21T23:31:37.630-03:00|null           |\n",
      "|Spider       |1592793174105        |1005700  |true        |2020-06-21T23:32:54.105-03:00|null           |\n",
      "|Spider       |1592793230114        |132484   |true        |2020-06-21T23:33:50.114-03:00|null           |\n",
      "|Spider       |1592794162363        |932249   |true        |2020-06-21T23:49:22.363-03:00|null           |\n",
      "|Spider       |1592794278235        |1104130  |true        |2020-06-21T23:51:18.235-03:00|null           |\n",
      "+-------------+---------------------+---------+------------+-----------------------------+---------------+\n",
      "only showing top 30 rows\n",
      "\n"
     ]
    }
   ],
   "source": [
    "df_sessioned = spark.sql(\"\"\"\n",
    "\n",
    "      SELECT anonymous_id, browser_family, delta, device_family, device_sent_timestamp, event, event_time, n, os_family, --\n",
    "             platform, nvl(same_section,false) same_section, version,\n",
    "             case when nvl(same_section,false) = false then\n",
    "                'session_' || ROW_NUMBER() OVER (PARTITION BY anonymous_id,nvl(same_section,false) ORDER BY device_sent_timestamp )\n",
    "             else\n",
    "                null\n",
    "             end\n",
    "             as partial_session\n",
    "        FROM raw_table t --\n",
    "        order by anonymous_id, device_sent_timestamp \n",
    "\"\"\")\n",
    "df_sessioned.select('device_family','device_sent_timestamp','delta','same_section','event_time','partial_session').show(30, False)"
   ]
  },
  {
   "cell_type": "code",
   "execution_count": 118,
   "metadata": {},
   "outputs": [
    {
     "name": "stdout",
     "output_type": "stream",
     "text": [
      "+--------------------+--------------+---------+-------------+---------------------+--------+--------------------+---+---------+--------+------------+-------+--------------------+\n",
      "|        anonymous_id|browser_family|    delta|device_family|device_sent_timestamp|   event|          event_time|  n|os_family|platform|same_section|version|          session_id|\n",
      "+--------------------+--------------+---------+-------------+---------------------+--------+--------------------+---+---------+--------+------------+-------+--------------------+\n",
      "|ae59b395-31ac-40e...|     Googlebot|     null|       Spider|        1591321597456|pageview|2020-06-04T22:46:...| 95|    Other|     web|       false|    1.0|session_1_ae59b39...|\n",
      "|ae59b395-31ac-40e...|     Googlebot| 92954412|       Spider|        1591414551868|pageview|2020-06-06T00:35:...| 69|    Other|     web|       false|    1.0|session_2_ae59b39...|\n",
      "|ae59b395-31ac-40e...|     Googlebot|258489010|       Spider|        1591673040878|pageview|2020-06-09T00:24:...| 73|    Other|     web|       false|    1.0|session_3_ae59b39...|\n",
      "|ae59b395-31ac-40e...| AdsBot-Google|     null|       Spider|        1591733995529|pageview|2020-06-09T17:19:...| 64|    Other|     web|       false|    1.0|session_4_ae59b39...|\n",
      "|ae59b395-31ac-40e...|     Googlebot| 83570371|       Spider|        1591756611249|pageview|2020-06-09T23:36:...| 43|    Other|     web|       false|    1.0|session_5_ae59b39...|\n",
      "|ae59b395-31ac-40e...|     Googlebot|258078373|       Spider|        1592014689622|pageview|2020-06-12T23:18:...| 45|    Other|     web|       false|    1.0|session_6_ae59b39...|\n",
      "|ae59b395-31ac-40e...|     Googlebot|     null|       Spider|        1592102553331|pageview|2020-06-13T23:42:...| 55|  Android|     web|       false|    1.0|session_7_ae59b39...|\n",
      "|ae59b395-31ac-40e...|     Googlebot|259210640|       Spider|        1592273900262|pageview|2020-06-15T23:18:...| 73|    Other|     web|       false|    1.0|session_8_ae59b39...|\n",
      "|ae59b395-31ac-40e...|     Googlebot|253500004|       Spider|        1592527400266|pageview|2020-06-18T21:43:...| 94|    Other|     web|       false|    1.0|session_9_ae59b39...|\n",
      "|ae59b395-31ac-40e...|     Googlebot| 10031809|       Spider|        1592537432075|pageview|2020-06-19T00:30:...| 55|    Other|     web|       false|    1.0|session_10_ae59b3...|\n",
      "|ae59b395-31ac-40e...|     Googlebot|514639516|       Spider|        1592617192847|pageview|2020-06-19T22:39:...| 78|  Android|     web|       false|    1.0|session_11_ae59b3...|\n",
      "|ae59b395-31ac-40e...|     Googlebot|164947315|       Spider|        1592702379390|pageview|2020-06-20T22:19:...| 89|    Other|     web|       false|    1.0|session_12_ae59b3...|\n",
      "|ae59b395-31ac-40e...|     Googlebot|  3209230|       Spider|        1592705588620|pageview|2020-06-20T23:13:...| 45|    Other|     web|       false|    1.0|session_13_ae59b3...|\n",
      "|ae59b395-31ac-40e...|     Googlebot|   244909|       Spider|        1592705833529|pageview|2020-06-20T23:17:...| 69|    Other|     web|        true|    1.0|session_13_ae59b3...|\n",
      "|ae59b395-31ac-40e...|     Googlebot| 90858435|       Spider|        1592708051282|pageview|2020-06-20T23:54:...| 44|  Android|     web|       false|    1.0|session_14_ae59b3...|\n",
      "|ae59b395-31ac-40e...|     Googlebot|   603892|       Spider|        1592708655174|pageview|2020-06-21T00:04:...| 50|  Android|     web|        true|    1.0|session_14_ae59b3...|\n",
      "|ae59b395-31ac-40e...|     Googlebot|  6016152|       Spider|        1592714671326|pageview|2020-06-21T01:44:...| 96|  Android|     web|       false|    1.0|session_15_ae59b3...|\n",
      "|ae59b395-31ac-40e...|     Googlebot| 72816082|       Spider|        1592787487408|pageview|2020-06-21T21:58:...| 80|  Android|     web|       false|    1.0|session_16_ae59b3...|\n",
      "|ae59b395-31ac-40e...|     Googlebot|  2597665|       Spider|        1592790085073|pageview|2020-06-21T22:41:...| 76|  Android|     web|       false|    1.0|session_17_ae59b3...|\n",
      "|ae59b395-31ac-40e...|     Googlebot| 85169825|       Spider|        1592791003354|pageview|2020-06-21T22:56:...| 94|    Other|     web|       false|    1.0|session_18_ae59b3...|\n",
      "+--------------------+--------------+---------+-------------+---------------------+--------+--------------------+---+---------+--------+------------+-------+--------------------+\n",
      "only showing top 20 rows\n",
      "\n"
     ]
    }
   ],
   "source": [
    "df_sessioned = spark.sql(\"\"\"\n",
    "with temp as (--\n",
    "      SELECT anonymous_id, browser_family, delta, device_family, device_sent_timestamp, event, event_time, n, os_family, --\n",
    "             platform, nvl(same_section,false) same_section, version,\n",
    "             case when nvl(same_section,false) = false then\n",
    "             'session_' || ROW_NUMBER() OVER (PARTITION BY anonymous_id,nvl(same_section,false) ORDER BY device_sent_timestamp )\n",
    "             else\n",
    "              null\n",
    "             end\n",
    "             as partial_session\n",
    "        FROM raw_table t --\n",
    "), table_section_id as (--\n",
    "    select anonymous_id, browser_family, delta, device_family, device_sent_timestamp, event, event_time, n, os_family, --\n",
    "             platform, nvl(same_section,false) same_section, version,\n",
    "             LAST_VALUE(partial_session,True) OVER (PARTITION BY anonymous_id ORDER BY device_sent_timestamp ) || '_' || anonymous_id session_id\n",
    "    from temp t\n",
    ")\n",
    "select * from table_section_id\n",
    "order by anonymous_id, device_sent_timestamp \n",
    "\"\"\")\n",
    "df_sessioned.show()"
   ]
  },
  {
   "cell_type": "markdown",
   "metadata": {},
   "source": [
    "Neste ponto temos efetivamente um ClickStream"
   ]
  },
  {
   "cell_type": "code",
   "execution_count": 119,
   "metadata": {},
   "outputs": [],
   "source": [
    "df_sessioned.createOrReplaceTempView(\"clickstream\")"
   ]
  },
  {
   "cell_type": "markdown",
   "metadata": {},
   "source": [
    "## Desafio 1\n",
    "\n",
    "Calcular a quantidade total de sessões únicas por arquivo do conjunto de dados e apresentar no formato JSON.\n",
    "\n",
    "Neste passo, foi realizado o filtro para desconsiderar as sessoes abertas para descobrir o total de sessoes únicas."
   ]
  },
  {
   "cell_type": "code",
   "execution_count": 120,
   "metadata": {},
   "outputs": [
    {
     "name": "stdout",
     "output_type": "stream",
     "text": [
      "+-------------+---------------------+------------+-----------------------------+-----------------------------------------------+\n",
      "|device_family|device_sent_timestamp|same_section|event_time                   |session_id                                     |\n",
      "+-------------+---------------------+------------+-----------------------------+-----------------------------------------------+\n",
      "|Spider       |1591321597456        |false       |2020-06-04T22:46:37.456-03:00|session_1_ae59b395-31ac-40e3-b7c0-3d97d00ac6cc |\n",
      "|Spider       |1591414551868        |false       |2020-06-06T00:35:51.868-03:00|session_2_ae59b395-31ac-40e3-b7c0-3d97d00ac6cc |\n",
      "|Spider       |1591673040878        |false       |2020-06-09T00:24:00.878-03:00|session_3_ae59b395-31ac-40e3-b7c0-3d97d00ac6cc |\n",
      "|Spider       |1591733995529        |false       |2020-06-09T17:19:55.529-03:00|session_4_ae59b395-31ac-40e3-b7c0-3d97d00ac6cc |\n",
      "|Spider       |1591756611249        |false       |2020-06-09T23:36:51.249-03:00|session_5_ae59b395-31ac-40e3-b7c0-3d97d00ac6cc |\n",
      "|Spider       |1592014689622        |false       |2020-06-12T23:18:09.622-03:00|session_6_ae59b395-31ac-40e3-b7c0-3d97d00ac6cc |\n",
      "|Spider       |1592102553331        |false       |2020-06-13T23:42:33.331-03:00|session_7_ae59b395-31ac-40e3-b7c0-3d97d00ac6cc |\n",
      "|Spider       |1592273900262        |false       |2020-06-15T23:18:20.262-03:00|session_8_ae59b395-31ac-40e3-b7c0-3d97d00ac6cc |\n",
      "|Spider       |1592527400266        |false       |2020-06-18T21:43:20.266-03:00|session_9_ae59b395-31ac-40e3-b7c0-3d97d00ac6cc |\n",
      "|Spider       |1592537432075        |false       |2020-06-19T00:30:32.075-03:00|session_10_ae59b395-31ac-40e3-b7c0-3d97d00ac6cc|\n",
      "|Spider       |1592617192847        |false       |2020-06-19T22:39:52.847-03:00|session_11_ae59b395-31ac-40e3-b7c0-3d97d00ac6cc|\n",
      "|Spider       |1592702379390        |false       |2020-06-20T22:19:39.390-03:00|session_12_ae59b395-31ac-40e3-b7c0-3d97d00ac6cc|\n",
      "|Spider       |1592705588620        |false       |2020-06-20T23:13:08.620-03:00|session_13_ae59b395-31ac-40e3-b7c0-3d97d00ac6cc|\n",
      "|Spider       |1592708051282        |false       |2020-06-20T23:54:11.282-03:00|session_14_ae59b395-31ac-40e3-b7c0-3d97d00ac6cc|\n",
      "|Spider       |1592714671326        |false       |2020-06-21T01:44:31.326-03:00|session_15_ae59b395-31ac-40e3-b7c0-3d97d00ac6cc|\n",
      "|Spider       |1592787487408        |false       |2020-06-21T21:58:07.408-03:00|session_16_ae59b395-31ac-40e3-b7c0-3d97d00ac6cc|\n",
      "|Spider       |1592790085073        |false       |2020-06-21T22:41:25.073-03:00|session_17_ae59b395-31ac-40e3-b7c0-3d97d00ac6cc|\n",
      "|Spider       |1592791003354        |false       |2020-06-21T22:56:43.354-03:00|session_18_ae59b395-31ac-40e3-b7c0-3d97d00ac6cc|\n",
      "|Spider       |1592797056222        |false       |2020-06-22T00:37:36.222-03:00|session_19_ae59b395-31ac-40e3-b7c0-3d97d00ac6cc|\n",
      "|Spider       |1592816666752        |false       |2020-06-22T06:04:26.752-03:00|session_20_ae59b395-31ac-40e3-b7c0-3d97d00ac6cc|\n",
      "|Spider       |1592872245344        |false       |2020-06-22T21:30:45.344-03:00|session_21_ae59b395-31ac-40e3-b7c0-3d97d00ac6cc|\n",
      "|Spider       |1592872366372        |false       |2020-06-22T21:32:46.372-03:00|session_22_ae59b395-31ac-40e3-b7c0-3d97d00ac6cc|\n",
      "|Spider       |1592874179244        |false       |2020-06-22T22:02:59.244-03:00|session_23_ae59b395-31ac-40e3-b7c0-3d97d00ac6cc|\n",
      "|Spider       |1592876229371        |false       |2020-06-22T22:37:09.371-03:00|session_24_ae59b395-31ac-40e3-b7c0-3d97d00ac6cc|\n",
      "|Spider       |1592876750679        |false       |2020-06-22T22:45:50.679-03:00|session_25_ae59b395-31ac-40e3-b7c0-3d97d00ac6cc|\n",
      "|Spider       |1592881401672        |false       |2020-06-23T00:03:21.672-03:00|session_26_ae59b395-31ac-40e3-b7c0-3d97d00ac6cc|\n",
      "|Spider       |1592887081134        |false       |2020-06-23T01:38:01.134-03:00|session_27_ae59b395-31ac-40e3-b7c0-3d97d00ac6cc|\n",
      "|Spider       |1592957469650        |false       |2020-06-23T21:11:09.650-03:00|session_28_ae59b395-31ac-40e3-b7c0-3d97d00ac6cc|\n",
      "|Spider       |1592959722787        |false       |2020-06-23T21:48:42.787-03:00|session_29_ae59b395-31ac-40e3-b7c0-3d97d00ac6cc|\n",
      "|Spider       |1592961864669        |false       |2020-06-23T22:24:24.669-03:00|session_30_ae59b395-31ac-40e3-b7c0-3d97d00ac6cc|\n",
      "+-------------+---------------------+------------+-----------------------------+-----------------------------------------------+\n",
      "only showing top 30 rows\n",
      "\n"
     ]
    }
   ],
   "source": [
    "df_question_1 = spark.sql(\"\"\"\n",
    "select * from clickstream\n",
    "where same_section = false\n",
    "order by anonymous_id, device_sent_timestamp \n",
    "  \n",
    "\"\"\")\n",
    "df_question_1.select('device_family','device_sent_timestamp','same_section','event_time','session_id').show(30, False)"
   ]
  },
  {
   "cell_type": "markdown",
   "metadata": {},
   "source": [
    "No terceiro e passo foi calculada a quantidade de sessoes abertas, neste caso, para um único usuário."
   ]
  },
  {
   "cell_type": "code",
   "execution_count": 121,
   "metadata": {},
   "outputs": [
    {
     "name": "stdout",
     "output_type": "stream",
     "text": [
      "+--------------------+-----------+\n",
      "|        anonymous_id|qtd_session|\n",
      "+--------------------+-----------+\n",
      "|ae59b395-31ac-40e...|         71|\n",
      "+--------------------+-----------+\n",
      "\n"
     ]
    }
   ],
   "source": [
    "df_question_1 = spark.sql(\"\"\"\n",
    "SELECT anonymous_id, COUNT(session_id)  qtd_session\n",
    "FROM clickstream\n",
    "where same_section = false\n",
    "group by anonymous_id\n",
    "\"\"\")\n",
    "df_question_1.show()"
   ]
  },
  {
   "cell_type": "markdown",
   "metadata": {},
   "source": [
    "# Desafio 2\n",
    "Calcular a quantidade de sessões únicas que ocorreram em cada Browser, Sistema Operacional e Dispositivo dentro de todo o conjunto de dados.\n",
    "\n",
    "No primeiro passo foi identificar da quantidade por <b>browser_family</b>, <b>os_family</b> e <b>device_family</b>."
   ]
  },
  {
   "cell_type": "code",
   "execution_count": 122,
   "metadata": {},
   "outputs": [
    {
     "name": "stdout",
     "output_type": "stream",
     "text": [
      "+--------------+-----------+\n",
      "|browser_family|qtd_session|\n",
      "+--------------+-----------+\n",
      "| AdsBot-Google|          1|\n",
      "|     Googlebot|         70|\n",
      "+--------------+-----------+\n",
      "\n"
     ]
    }
   ],
   "source": [
    "spark.sql(\"\"\"\n",
    "\n",
    "SELECT browser_family, COUNT(session_id)  qtd_session\n",
    "FROM clickstream\n",
    "where same_section = false\n",
    "group by browser_family --\n",
    "\n",
    "\"\"\").show()"
   ]
  },
  {
   "cell_type": "code",
   "execution_count": 123,
   "metadata": {},
   "outputs": [
    {
     "name": "stdout",
     "output_type": "stream",
     "text": [
      "+---------+-----------+\n",
      "|os_family|qtd_session|\n",
      "+---------+-----------+\n",
      "|    Other|         39|\n",
      "|  Android|         32|\n",
      "+---------+-----------+\n",
      "\n"
     ]
    }
   ],
   "source": [
    "spark.sql(\"\"\"\n",
    "SELECT os_family, COUNT(session_id)  qtd_session\n",
    "FROM clickstream\n",
    "where same_section = false\n",
    "group by os_family\n",
    "\"\"\").show()"
   ]
  },
  {
   "cell_type": "code",
   "execution_count": 124,
   "metadata": {},
   "outputs": [
    {
     "name": "stdout",
     "output_type": "stream",
     "text": [
      "+-------------+------+-----------+\n",
      "|         what|   ref|qtd_session|\n",
      "+-------------+------+-----------+\n",
      "|device_family|Spider|         71|\n",
      "+-------------+------+-----------+\n",
      "\n"
     ]
    }
   ],
   "source": [
    "spark.sql(\"\"\"\n",
    "SELECT 'device_family' what, device_family ref, COUNT(session_id)  qtd_session\n",
    "FROM clickstream\n",
    "where same_section = false\n",
    "group by device_family\n",
    "\"\"\").show()"
   ]
  },
  {
   "cell_type": "markdown",
   "metadata": {},
   "source": [
    "No segundo passo foi agrupar todos esses resultados em um dataframe"
   ]
  },
  {
   "cell_type": "code",
   "execution_count": 125,
   "metadata": {},
   "outputs": [
    {
     "name": "stdout",
     "output_type": "stream",
     "text": [
      "+--------------+-------------+-----------+\n",
      "|          what|          ref|qtd_session|\n",
      "+--------------+-------------+-----------+\n",
      "|browser_family|AdsBot-Google|          1|\n",
      "|browser_family|    Googlebot|         70|\n",
      "| device_family|       Spider|         71|\n",
      "|     os_family|      Android|         32|\n",
      "|     os_family|        Other|         39|\n",
      "+--------------+-------------+-----------+\n",
      "\n"
     ]
    }
   ],
   "source": [
    "df_question_2 = spark.sql(\"\"\"\n",
    "with table_temp as (--\n",
    "    SELECT *\n",
    "    FROM clickstream\n",
    "    where same_section = false\n",
    "), \n",
    "table_union as (--\n",
    "    SELECT 'device_family' what, device_family ref, COUNT(session_id)  qtd_session\n",
    "      FROM table_temp\n",
    "     group by device_family\n",
    "    union\n",
    "    SELECT 'os_family' what, os_family ref, COUNT(session_id)  qtd_session\n",
    "      FROM table_temp\n",
    "    group by os_family\n",
    "    union\n",
    "    SELECT 'browser_family' what, browser_family ref, COUNT(session_id)  qtd_session\n",
    "      FROM table_temp\n",
    "     group by browser_family --\n",
    ")\n",
    "select * from table_union\n",
    "order by what, ref\n",
    "\"\"\")\n",
    "df_question_2.show()"
   ]
  },
  {
   "cell_type": "markdown",
   "metadata": {},
   "source": [
    "No passo seguinte foi de concatenar a coluna 'ref' com 'qtd_session' em um formato json e agrupar por collecao."
   ]
  },
  {
   "cell_type": "code",
   "execution_count": 126,
   "metadata": {},
   "outputs": [
    {
     "name": "stdout",
     "output_type": "stream",
     "text": [
      "+--------------+--------------------------------+\n",
      "|what          |collection                      |\n",
      "+--------------+--------------------------------+\n",
      "|device_family |\"Spider\":71                     |\n",
      "|os_family     |\"Android\":32,\"Other\":39         |\n",
      "|browser_family|\"AdsBot-Google\":1,\"Googlebot\":70|\n",
      "+--------------+--------------------------------+\n",
      "\n"
     ]
    }
   ],
   "source": [
    "d2 = df_question_2.orderBy('what','ref')\\\n",
    "        .withColumn('item', F.concat(F.lit('\"'), 'ref',F.lit('\":'),'qtd_session'))\\\n",
    "        .groupBy('what').agg(F.array_join(F.collect_list('item'), delimiter=',').alias('collection'))\n",
    "d2.show(10, False)"
   ]
  },
  {
   "cell_type": "markdown",
   "metadata": {},
   "source": [
    "Finalmente construir a saida Json do desafio"
   ]
  },
  {
   "cell_type": "code",
   "execution_count": 127,
   "metadata": {},
   "outputs": [
    {
     "name": "stdout",
     "output_type": "stream",
     "text": [
      "{'device_family': {'Spider': 71}, 'os_family': {'Android': 32, 'Other': 39}, 'browser_family': {'AdsBot-Google': 1, 'Googlebot': 70}}\n"
     ]
    }
   ],
   "source": [
    "question2 = {}\n",
    "for row in d2.collect():\n",
    "    items = str(row[\"collection\"]).replace('\"','').split(',')\n",
    "    obj = {}\n",
    "    for item in items:\n",
    "        element = str(item).split(':')\n",
    "        obj[element[0]] = int(element[1])       \n",
    "    \n",
    "    question2[row[\"what\"]] = obj\n",
    "\n",
    "print(question2)"
   ]
  },
  {
   "cell_type": "code",
   "execution_count": 128,
   "metadata": {},
   "outputs": [
    {
     "name": "stdout",
     "output_type": "stream",
     "text": [
      "{\"device_family\": {\"Spider\": 71}, \"os_family\": {\"Android\": 32, \"Other\": 39}, \"browser_family\": {\"AdsBot-Google\": 1, \"Googlebot\": 70}}\n"
     ]
    }
   ],
   "source": [
    "print(json.dumps(question2))"
   ]
  },
  {
   "cell_type": "markdown",
   "metadata": {},
   "source": [
    "## Desafio 3\n",
    "\n",
    "Calcular a mediana da duração (em segundos) entre todas sessões únicas para cada segmento."
   ]
  },
  {
   "cell_type": "code",
   "execution_count": 129,
   "metadata": {},
   "outputs": [
    {
     "name": "stdout",
     "output_type": "stream",
     "text": [
      "+--------------+-----------+--------------------+\n",
      "|browser_family|qtd_session|               media|\n",
      "+--------------+-----------+--------------------+\n",
      "| AdsBot-Google|          1|                null|\n",
      "|     Googlebot|        292|1.2832178227586206E7|\n",
      "+--------------+-----------+--------------------+\n",
      "\n"
     ]
    }
   ],
   "source": [
    "spark.sql(\"\"\"\n",
    "\n",
    "SELECT browser_family, COUNT(session_id)  qtd_session, avg(delta) media\n",
    "FROM clickstream\n",
    "group by browser_family --\n",
    "\n",
    "\"\"\").show()"
   ]
  },
  {
   "cell_type": "code",
   "execution_count": 139,
   "metadata": {},
   "outputs": [
    {
     "name": "stdout",
     "output_type": "stream",
     "text": [
      "+-------------+---------+--------------+---------+-----------------------------+------------+-----------------------------------------------+\n",
      "|device_family|os_family|browser_family|delta_seg|event_time                   |same_section|session_id                                     |\n",
      "+-------------+---------+--------------+---------+-----------------------------+------------+-----------------------------------------------+\n",
      "|Spider       |Android  |Googlebot     |2823.347 |2020-06-23T23:33:39.322-03:00|false       |session_31_ae59b395-31ac-40e3-b7c0-3d97d00ac6cc|\n",
      "|Spider       |Other    |Googlebot     |55.781   |2020-06-23T23:34:20.142-03:00|true        |session_31_ae59b395-31ac-40e3-b7c0-3d97d00ac6cc|\n",
      "|Spider       |Other    |Googlebot     |73.586   |2020-06-23T23:35:33.728-03:00|true        |session_31_ae59b395-31ac-40e3-b7c0-3d97d00ac6cc|\n",
      "|Spider       |Other    |Googlebot     |53.704   |2020-06-23T23:36:27.432-03:00|true        |session_31_ae59b395-31ac-40e3-b7c0-3d97d00ac6cc|\n",
      "|Spider       |Other    |Googlebot     |538.204  |2020-06-23T23:45:25.636-03:00|true        |session_31_ae59b395-31ac-40e3-b7c0-3d97d00ac6cc|\n",
      "|Spider       |Android  |Googlebot     |952.807  |2020-06-23T23:49:32.129-03:00|true        |session_31_ae59b395-31ac-40e3-b7c0-3d97d00ac6cc|\n",
      "|Spider       |Other    |Googlebot     |610.977  |2020-06-23T23:55:36.613-03:00|true        |session_31_ae59b395-31ac-40e3-b7c0-3d97d00ac6cc|\n",
      "|Spider       |Android  |Googlebot     |695.696  |2020-06-24T00:01:07.825-03:00|true        |session_31_ae59b395-31ac-40e3-b7c0-3d97d00ac6cc|\n",
      "|Spider       |Android  |Googlebot     |383.638  |2020-06-24T00:07:31.463-03:00|true        |session_31_ae59b395-31ac-40e3-b7c0-3d97d00ac6cc|\n",
      "|Spider       |Other    |Googlebot     |958.482  |2020-06-24T00:11:35.095-03:00|true        |session_31_ae59b395-31ac-40e3-b7c0-3d97d00ac6cc|\n",
      "|Spider       |Other    |Googlebot     |191.015  |2020-06-24T00:14:46.110-03:00|true        |session_31_ae59b395-31ac-40e3-b7c0-3d97d00ac6cc|\n",
      "|Spider       |Other    |Googlebot     |8.765    |2020-06-24T00:14:54.875-03:00|true        |session_31_ae59b395-31ac-40e3-b7c0-3d97d00ac6cc|\n",
      "|Spider       |Android  |Googlebot     |552.863  |2020-06-24T00:16:44.326-03:00|true        |session_31_ae59b395-31ac-40e3-b7c0-3d97d00ac6cc|\n",
      "|Spider       |Android  |Googlebot     |25.323   |2020-06-24T00:17:09.649-03:00|true        |session_31_ae59b395-31ac-40e3-b7c0-3d97d00ac6cc|\n",
      "|Spider       |Other    |Googlebot     |495.92   |2020-06-24T00:23:10.795-03:00|true        |session_31_ae59b395-31ac-40e3-b7c0-3d97d00ac6cc|\n",
      "|Spider       |Android  |Googlebot     |462.134  |2020-06-24T00:24:51.783-03:00|true        |session_31_ae59b395-31ac-40e3-b7c0-3d97d00ac6cc|\n",
      "|Spider       |Other    |Googlebot     |813.874  |2020-06-24T00:36:44.669-03:00|true        |session_31_ae59b395-31ac-40e3-b7c0-3d97d00ac6cc|\n",
      "|Spider       |Other    |Googlebot     |401.457  |2020-06-24T00:43:26.126-03:00|true        |session_31_ae59b395-31ac-40e3-b7c0-3d97d00ac6cc|\n",
      "|Spider       |Other    |Googlebot     |553.096  |2020-06-24T00:52:39.222-03:00|true        |session_31_ae59b395-31ac-40e3-b7c0-3d97d00ac6cc|\n",
      "|Spider       |Other    |Googlebot     |106.912  |2020-06-24T00:54:26.134-03:00|true        |session_31_ae59b395-31ac-40e3-b7c0-3d97d00ac6cc|\n",
      "|Spider       |Other    |Googlebot     |819.68   |2020-06-24T01:08:05.814-03:00|true        |session_31_ae59b395-31ac-40e3-b7c0-3d97d00ac6cc|\n",
      "|Spider       |Other    |Googlebot     |270.797  |2020-06-24T01:12:36.611-03:00|true        |session_31_ae59b395-31ac-40e3-b7c0-3d97d00ac6cc|\n",
      "|Spider       |Other    |Googlebot     |187.572  |2020-06-24T01:15:44.183-03:00|true        |session_31_ae59b395-31ac-40e3-b7c0-3d97d00ac6cc|\n",
      "|Spider       |Other    |Googlebot     |114.469  |2020-06-24T01:17:38.652-03:00|true        |session_31_ae59b395-31ac-40e3-b7c0-3d97d00ac6cc|\n",
      "|Spider       |Other    |Googlebot     |849.184  |2020-06-24T01:31:47.836-03:00|true        |session_31_ae59b395-31ac-40e3-b7c0-3d97d00ac6cc|\n",
      "+-------------+---------+--------------+---------+-----------------------------+------------+-----------------------------------------------+\n",
      "\n"
     ]
    }
   ],
   "source": [
    "ddf = spark.sql(\"\"\"\n",
    "\n",
    "SELECT device_family,os_family,browser_family, delta/1000 delta_seg, event_time  , same_section, session_id                 \n",
    "FROM clickstream\n",
    "where session_id = 'session_31_ae59b395-31ac-40e3-b7c0-3d97d00ac6cc'\n",
    "\n",
    "\"\"\")\n",
    "ddf.show(300, False)"
   ]
  },
  {
   "cell_type": "code",
   "execution_count": 135,
   "metadata": {},
   "outputs": [],
   "source": [
    "#https://stackoverflow.com/questions/38743476/how-to-find-the-median-in-apache-spark-with-python-dataframe-api/38743477\n",
    "def find_median(values_list):\n",
    "    try:\n",
    "        median = np.median(values_list) #get the median of values in a list in each row\n",
    "        return round(float(median),2)\n",
    "    except Exception:\n",
    "        return None #if there is anything wrong with the given values\n",
    "\n",
    "median_finder = F.udf(find_median,FloatType())"
   ]
  },
  {
   "cell_type": "code",
   "execution_count": 142,
   "metadata": {},
   "outputs": [],
   "source": [
    "ddfa = ddf.groupBy('session_id').agg(F.collect_list('delta_seg').alias('deltas'))\n"
   ]
  },
  {
   "cell_type": "code",
   "execution_count": 143,
   "metadata": {},
   "outputs": [
    {
     "name": "stdout",
     "output_type": "stream",
     "text": [
      "+--------------------+--------------------+\n",
      "|          session_id|              deltas|\n",
      "+--------------------+--------------------+\n",
      "|session_31_ae59b3...|[2823.347, 55.781...|\n",
      "+--------------------+--------------------+\n",
      "\n"
     ]
    }
   ],
   "source": [
    "ddfa.show()"
   ]
  },
  {
   "cell_type": "code",
   "execution_count": null,
   "metadata": {},
   "outputs": [],
   "source": []
  },
  {
   "cell_type": "code",
   "execution_count": null,
   "metadata": {},
   "outputs": [],
   "source": []
  },
  {
   "cell_type": "code",
   "execution_count": null,
   "metadata": {},
   "outputs": [],
   "source": []
  },
  {
   "cell_type": "code",
   "execution_count": null,
   "metadata": {},
   "outputs": [],
   "source": []
  },
  {
   "cell_type": "code",
   "execution_count": null,
   "metadata": {},
   "outputs": [],
   "source": []
  },
  {
   "cell_type": "code",
   "execution_count": null,
   "metadata": {},
   "outputs": [],
   "source": []
  },
  {
   "cell_type": "code",
   "execution_count": null,
   "metadata": {},
   "outputs": [],
   "source": []
  },
  {
   "cell_type": "code",
   "execution_count": null,
   "metadata": {},
   "outputs": [],
   "source": []
  },
  {
   "cell_type": "code",
   "execution_count": 66,
   "metadata": {},
   "outputs": [
    {
     "name": "stdout",
     "output_type": "stream",
     "text": [
      "+-------------+---------+--------------+------------+-----------------------------+-----------------------------------------------+\n",
      "|device_family|os_family|browser_family|same_section|event_time                   |session_id                                     |\n",
      "+-------------+---------+--------------+------------+-----------------------------+-----------------------------------------------+\n",
      "|Spider       |Other    |Googlebot     |false       |2020-06-04T22:46:37.456-03:00|session_1_ae59b395-31ac-40e3-b7c0-3d97d00ac6cc |\n",
      "|Spider       |Other    |Googlebot     |false       |2020-06-06T00:35:51.868-03:00|session_2_ae59b395-31ac-40e3-b7c0-3d97d00ac6cc |\n",
      "|Spider       |Other    |Googlebot     |false       |2020-06-09T00:24:00.878-03:00|session_3_ae59b395-31ac-40e3-b7c0-3d97d00ac6cc |\n",
      "|Spider       |Other    |AdsBot-Google |false       |2020-06-09T17:19:55.529-03:00|session_4_ae59b395-31ac-40e3-b7c0-3d97d00ac6cc |\n",
      "|Spider       |Other    |Googlebot     |false       |2020-06-09T23:36:51.249-03:00|session_5_ae59b395-31ac-40e3-b7c0-3d97d00ac6cc |\n",
      "|Spider       |Other    |Googlebot     |false       |2020-06-12T23:18:09.622-03:00|session_6_ae59b395-31ac-40e3-b7c0-3d97d00ac6cc |\n",
      "|Spider       |Android  |Googlebot     |false       |2020-06-13T23:42:33.331-03:00|session_7_ae59b395-31ac-40e3-b7c0-3d97d00ac6cc |\n",
      "|Spider       |Other    |Googlebot     |false       |2020-06-15T23:18:20.262-03:00|session_8_ae59b395-31ac-40e3-b7c0-3d97d00ac6cc |\n",
      "|Spider       |Other    |Googlebot     |false       |2020-06-18T21:43:20.266-03:00|session_9_ae59b395-31ac-40e3-b7c0-3d97d00ac6cc |\n",
      "|Spider       |Other    |Googlebot     |false       |2020-06-19T00:30:32.075-03:00|session_10_ae59b395-31ac-40e3-b7c0-3d97d00ac6cc|\n",
      "|Spider       |Android  |Googlebot     |false       |2020-06-19T22:39:52.847-03:00|session_11_ae59b395-31ac-40e3-b7c0-3d97d00ac6cc|\n",
      "|Spider       |Other    |Googlebot     |false       |2020-06-20T22:19:39.390-03:00|session_12_ae59b395-31ac-40e3-b7c0-3d97d00ac6cc|\n",
      "|Spider       |Other    |Googlebot     |false       |2020-06-20T23:13:08.620-03:00|session_13_ae59b395-31ac-40e3-b7c0-3d97d00ac6cc|\n",
      "|Spider       |Other    |Googlebot     |true        |2020-06-20T23:17:13.529-03:00|session_13_ae59b395-31ac-40e3-b7c0-3d97d00ac6cc|\n",
      "|Spider       |Android  |Googlebot     |false       |2020-06-20T23:54:11.282-03:00|session_14_ae59b395-31ac-40e3-b7c0-3d97d00ac6cc|\n",
      "|Spider       |Android  |Googlebot     |true        |2020-06-21T00:04:15.174-03:00|session_14_ae59b395-31ac-40e3-b7c0-3d97d00ac6cc|\n",
      "|Spider       |Android  |Googlebot     |false       |2020-06-21T01:44:31.326-03:00|session_15_ae59b395-31ac-40e3-b7c0-3d97d00ac6cc|\n",
      "|Spider       |Android  |Googlebot     |false       |2020-06-21T21:58:07.408-03:00|session_16_ae59b395-31ac-40e3-b7c0-3d97d00ac6cc|\n",
      "|Spider       |Android  |Googlebot     |false       |2020-06-21T22:41:25.073-03:00|session_17_ae59b395-31ac-40e3-b7c0-3d97d00ac6cc|\n",
      "|Spider       |Other    |Googlebot     |false       |2020-06-21T22:56:43.354-03:00|session_18_ae59b395-31ac-40e3-b7c0-3d97d00ac6cc|\n",
      "|Spider       |Android  |Googlebot     |true        |2020-06-21T23:02:21.666-03:00|session_18_ae59b395-31ac-40e3-b7c0-3d97d00ac6cc|\n",
      "|Spider       |Other    |Googlebot     |true        |2020-06-21T23:07:07.174-03:00|session_18_ae59b395-31ac-40e3-b7c0-3d97d00ac6cc|\n",
      "|Spider       |Other    |Googlebot     |true        |2020-06-21T23:15:49.943-03:00|session_18_ae59b395-31ac-40e3-b7c0-3d97d00ac6cc|\n",
      "|Spider       |Android  |Googlebot     |true        |2020-06-21T23:16:08.405-03:00|session_18_ae59b395-31ac-40e3-b7c0-3d97d00ac6cc|\n",
      "|Spider       |Other    |Googlebot     |true        |2020-06-21T23:29:09.014-03:00|session_18_ae59b395-31ac-40e3-b7c0-3d97d00ac6cc|\n",
      "|Spider       |Other    |Googlebot     |true        |2020-06-21T23:31:37.630-03:00|session_18_ae59b395-31ac-40e3-b7c0-3d97d00ac6cc|\n",
      "|Spider       |Android  |Googlebot     |true        |2020-06-21T23:32:54.105-03:00|session_18_ae59b395-31ac-40e3-b7c0-3d97d00ac6cc|\n",
      "|Spider       |Other    |Googlebot     |true        |2020-06-21T23:33:50.114-03:00|session_18_ae59b395-31ac-40e3-b7c0-3d97d00ac6cc|\n",
      "|Spider       |Other    |Googlebot     |true        |2020-06-21T23:49:22.363-03:00|session_18_ae59b395-31ac-40e3-b7c0-3d97d00ac6cc|\n",
      "|Spider       |Android  |Googlebot     |true        |2020-06-21T23:51:18.235-03:00|session_18_ae59b395-31ac-40e3-b7c0-3d97d00ac6cc|\n",
      "|Spider       |Other    |Googlebot     |true        |2020-06-21T23:53:59.761-03:00|session_18_ae59b395-31ac-40e3-b7c0-3d97d00ac6cc|\n",
      "|Spider       |Android  |Googlebot     |true        |2020-06-21T23:54:27.204-03:00|session_18_ae59b395-31ac-40e3-b7c0-3d97d00ac6cc|\n",
      "|Spider       |Other    |Googlebot     |true        |2020-06-21T23:59:58.814-03:00|session_18_ae59b395-31ac-40e3-b7c0-3d97d00ac6cc|\n",
      "|Spider       |Android  |Googlebot     |true        |2020-06-22T00:13:39.903-03:00|session_18_ae59b395-31ac-40e3-b7c0-3d97d00ac6cc|\n",
      "|Spider       |Android  |Googlebot     |true        |2020-06-22T00:36:48.561-03:00|session_18_ae59b395-31ac-40e3-b7c0-3d97d00ac6cc|\n",
      "|Spider       |Other    |Googlebot     |false       |2020-06-22T00:37:36.222-03:00|session_19_ae59b395-31ac-40e3-b7c0-3d97d00ac6cc|\n",
      "|Spider       |Other    |Googlebot     |true        |2020-06-22T00:41:47.656-03:00|session_19_ae59b395-31ac-40e3-b7c0-3d97d00ac6cc|\n",
      "|Spider       |Other    |Googlebot     |true        |2020-06-22T00:43:02.502-03:00|session_19_ae59b395-31ac-40e3-b7c0-3d97d00ac6cc|\n",
      "|Spider       |Android  |Googlebot     |true        |2020-06-22T00:43:16.987-03:00|session_19_ae59b395-31ac-40e3-b7c0-3d97d00ac6cc|\n",
      "|Spider       |Other    |Googlebot     |true        |2020-06-22T00:57:44.105-03:00|session_19_ae59b395-31ac-40e3-b7c0-3d97d00ac6cc|\n",
      "|Spider       |Android  |Googlebot     |true        |2020-06-22T00:59:24.481-03:00|session_19_ae59b395-31ac-40e3-b7c0-3d97d00ac6cc|\n",
      "|Spider       |Other    |Googlebot     |true        |2020-06-22T01:03:01.225-03:00|session_19_ae59b395-31ac-40e3-b7c0-3d97d00ac6cc|\n",
      "|Spider       |Other    |Googlebot     |true        |2020-06-22T01:18:44.457-03:00|session_19_ae59b395-31ac-40e3-b7c0-3d97d00ac6cc|\n",
      "|Spider       |Other    |Googlebot     |true        |2020-06-22T01:39:24.505-03:00|session_19_ae59b395-31ac-40e3-b7c0-3d97d00ac6cc|\n",
      "|Spider       |Other    |Googlebot     |true        |2020-06-22T01:49:44.863-03:00|session_19_ae59b395-31ac-40e3-b7c0-3d97d00ac6cc|\n",
      "|Spider       |Android  |Googlebot     |false       |2020-06-22T06:04:26.752-03:00|session_20_ae59b395-31ac-40e3-b7c0-3d97d00ac6cc|\n",
      "|Spider       |Other    |Googlebot     |false       |2020-06-22T21:30:45.344-03:00|session_21_ae59b395-31ac-40e3-b7c0-3d97d00ac6cc|\n",
      "|Spider       |Android  |Googlebot     |false       |2020-06-22T21:32:46.372-03:00|session_22_ae59b395-31ac-40e3-b7c0-3d97d00ac6cc|\n",
      "|Spider       |Android  |Googlebot     |true        |2020-06-22T21:57:11.814-03:00|session_22_ae59b395-31ac-40e3-b7c0-3d97d00ac6cc|\n",
      "|Spider       |Other    |Googlebot     |false       |2020-06-22T22:02:59.244-03:00|session_23_ae59b395-31ac-40e3-b7c0-3d97d00ac6cc|\n",
      "|Spider       |Android  |Googlebot     |false       |2020-06-22T22:37:09.371-03:00|session_24_ae59b395-31ac-40e3-b7c0-3d97d00ac6cc|\n",
      "|Spider       |Other    |Googlebot     |false       |2020-06-22T22:45:50.679-03:00|session_25_ae59b395-31ac-40e3-b7c0-3d97d00ac6cc|\n",
      "|Spider       |Other    |Googlebot     |true        |2020-06-22T22:45:54.169-03:00|session_25_ae59b395-31ac-40e3-b7c0-3d97d00ac6cc|\n",
      "|Spider       |Android  |Googlebot     |true        |2020-06-22T22:47:44.048-03:00|session_25_ae59b395-31ac-40e3-b7c0-3d97d00ac6cc|\n",
      "|Spider       |Android  |Googlebot     |true        |2020-06-22T22:55:17.698-03:00|session_25_ae59b395-31ac-40e3-b7c0-3d97d00ac6cc|\n",
      "|Spider       |Android  |Googlebot     |true        |2020-06-22T22:56:58.041-03:00|session_25_ae59b395-31ac-40e3-b7c0-3d97d00ac6cc|\n",
      "|Spider       |Android  |Googlebot     |true        |2020-06-22T22:57:06.417-03:00|session_25_ae59b395-31ac-40e3-b7c0-3d97d00ac6cc|\n",
      "|Spider       |Other    |Googlebot     |true        |2020-06-22T22:57:07.318-03:00|session_25_ae59b395-31ac-40e3-b7c0-3d97d00ac6cc|\n",
      "|Spider       |Android  |Googlebot     |true        |2020-06-22T23:16:18.565-03:00|session_25_ae59b395-31ac-40e3-b7c0-3d97d00ac6cc|\n",
      "|Spider       |Android  |Googlebot     |true        |2020-06-22T23:21:11.892-03:00|session_25_ae59b395-31ac-40e3-b7c0-3d97d00ac6cc|\n",
      "|Spider       |Other    |Googlebot     |true        |2020-06-22T23:22:37.788-03:00|session_25_ae59b395-31ac-40e3-b7c0-3d97d00ac6cc|\n",
      "|Spider       |Other    |Googlebot     |true        |2020-06-22T23:22:53.663-03:00|session_25_ae59b395-31ac-40e3-b7c0-3d97d00ac6cc|\n",
      "|Spider       |Other    |Googlebot     |true        |2020-06-22T23:31:56.296-03:00|session_25_ae59b395-31ac-40e3-b7c0-3d97d00ac6cc|\n",
      "|Spider       |Other    |Googlebot     |true        |2020-06-22T23:34:53.947-03:00|session_25_ae59b395-31ac-40e3-b7c0-3d97d00ac6cc|\n",
      "|Spider       |Other    |Googlebot     |true        |2020-06-22T23:38:21.564-03:00|session_25_ae59b395-31ac-40e3-b7c0-3d97d00ac6cc|\n",
      "|Spider       |Other    |Googlebot     |true        |2020-06-22T23:42:49.606-03:00|session_25_ae59b395-31ac-40e3-b7c0-3d97d00ac6cc|\n",
      "|Spider       |Other    |Googlebot     |true        |2020-06-22T23:45:57.647-03:00|session_25_ae59b395-31ac-40e3-b7c0-3d97d00ac6cc|\n",
      "|Spider       |Other    |Googlebot     |true        |2020-06-22T23:48:29.239-03:00|session_25_ae59b395-31ac-40e3-b7c0-3d97d00ac6cc|\n",
      "|Spider       |Other    |Googlebot     |true        |2020-06-22T23:54:29.281-03:00|session_25_ae59b395-31ac-40e3-b7c0-3d97d00ac6cc|\n",
      "|Spider       |Android  |Googlebot     |false       |2020-06-23T00:03:21.672-03:00|session_26_ae59b395-31ac-40e3-b7c0-3d97d00ac6cc|\n",
      "|Spider       |Android  |Googlebot     |true        |2020-06-23T00:18:49.120-03:00|session_26_ae59b395-31ac-40e3-b7c0-3d97d00ac6cc|\n",
      "|Spider       |Other    |Googlebot     |true        |2020-06-23T00:22:49.236-03:00|session_26_ae59b395-31ac-40e3-b7c0-3d97d00ac6cc|\n",
      "|Spider       |Other    |Googlebot     |true        |2020-06-23T00:23:23.287-03:00|session_26_ae59b395-31ac-40e3-b7c0-3d97d00ac6cc|\n",
      "|Spider       |Other    |Googlebot     |true        |2020-06-23T00:25:17.520-03:00|session_26_ae59b395-31ac-40e3-b7c0-3d97d00ac6cc|\n",
      "|Spider       |Android  |Googlebot     |true        |2020-06-23T00:25:33.096-03:00|session_26_ae59b395-31ac-40e3-b7c0-3d97d00ac6cc|\n",
      "|Spider       |Android  |Googlebot     |true        |2020-06-23T00:31:50.242-03:00|session_26_ae59b395-31ac-40e3-b7c0-3d97d00ac6cc|\n",
      "|Spider       |Other    |Googlebot     |true        |2020-06-23T00:35:35.071-03:00|session_26_ae59b395-31ac-40e3-b7c0-3d97d00ac6cc|\n",
      "|Spider       |Android  |Googlebot     |true        |2020-06-23T00:37:51.745-03:00|session_26_ae59b395-31ac-40e3-b7c0-3d97d00ac6cc|\n",
      "|Spider       |Other    |Googlebot     |true        |2020-06-23T00:38:01.697-03:00|session_26_ae59b395-31ac-40e3-b7c0-3d97d00ac6cc|\n",
      "|Spider       |Android  |Googlebot     |true        |2020-06-23T00:43:50.860-03:00|session_26_ae59b395-31ac-40e3-b7c0-3d97d00ac6cc|\n",
      "|Spider       |Other    |Googlebot     |true        |2020-06-23T00:45:26.596-03:00|session_26_ae59b395-31ac-40e3-b7c0-3d97d00ac6cc|\n",
      "|Spider       |Android  |Googlebot     |true        |2020-06-23T00:49:49.841-03:00|session_26_ae59b395-31ac-40e3-b7c0-3d97d00ac6cc|\n",
      "|Spider       |Android  |Googlebot     |true        |2020-06-23T00:55:22.251-03:00|session_26_ae59b395-31ac-40e3-b7c0-3d97d00ac6cc|\n",
      "|Spider       |Android  |Googlebot     |true        |2020-06-23T01:01:35.657-03:00|session_26_ae59b395-31ac-40e3-b7c0-3d97d00ac6cc|\n",
      "|Spider       |Android  |Googlebot     |true        |2020-06-23T01:03:09.553-03:00|session_26_ae59b395-31ac-40e3-b7c0-3d97d00ac6cc|\n",
      "|Spider       |Android  |Googlebot     |true        |2020-06-23T01:03:52.911-03:00|session_26_ae59b395-31ac-40e3-b7c0-3d97d00ac6cc|\n",
      "|Spider       |Other    |Googlebot     |true        |2020-06-23T01:06:24.499-03:00|session_26_ae59b395-31ac-40e3-b7c0-3d97d00ac6cc|\n",
      "|Spider       |Other    |Googlebot     |true        |2020-06-23T01:07:03.643-03:00|session_26_ae59b395-31ac-40e3-b7c0-3d97d00ac6cc|\n",
      "|Spider       |Other    |Googlebot     |false       |2020-06-23T01:38:01.134-03:00|session_27_ae59b395-31ac-40e3-b7c0-3d97d00ac6cc|\n",
      "|Spider       |Other    |Googlebot     |false       |2020-06-23T21:11:09.650-03:00|session_28_ae59b395-31ac-40e3-b7c0-3d97d00ac6cc|\n",
      "|Spider       |Other    |Googlebot     |true        |2020-06-23T21:16:02.290-03:00|session_28_ae59b395-31ac-40e3-b7c0-3d97d00ac6cc|\n",
      "|Spider       |Other    |Googlebot     |true        |2020-06-23T21:38:09.370-03:00|session_28_ae59b395-31ac-40e3-b7c0-3d97d00ac6cc|\n",
      "|Spider       |Android  |Googlebot     |false       |2020-06-23T21:48:42.787-03:00|session_29_ae59b395-31ac-40e3-b7c0-3d97d00ac6cc|\n",
      "|Spider       |Other    |Googlebot     |true        |2020-06-23T21:51:58.258-03:00|session_29_ae59b395-31ac-40e3-b7c0-3d97d00ac6cc|\n",
      "|Spider       |Android  |Googlebot     |true        |2020-06-23T22:06:18.479-03:00|session_29_ae59b395-31ac-40e3-b7c0-3d97d00ac6cc|\n",
      "|Spider       |Android  |Googlebot     |true        |2020-06-23T22:11:48.938-03:00|session_29_ae59b395-31ac-40e3-b7c0-3d97d00ac6cc|\n",
      "|Spider       |Android  |Googlebot     |true        |2020-06-23T22:20:31.021-03:00|session_29_ae59b395-31ac-40e3-b7c0-3d97d00ac6cc|\n",
      "|Spider       |Other    |Googlebot     |false       |2020-06-23T22:24:24.669-03:00|session_30_ae59b395-31ac-40e3-b7c0-3d97d00ac6cc|\n",
      "|Spider       |Other    |Googlebot     |true        |2020-06-23T22:26:20.020-03:00|session_30_ae59b395-31ac-40e3-b7c0-3d97d00ac6cc|\n",
      "|Spider       |Android  |Googlebot     |true        |2020-06-23T22:27:25.534-03:00|session_30_ae59b395-31ac-40e3-b7c0-3d97d00ac6cc|\n",
      "|Spider       |Other    |Googlebot     |true        |2020-06-23T22:33:47.753-03:00|session_30_ae59b395-31ac-40e3-b7c0-3d97d00ac6cc|\n",
      "|Spider       |Android  |Googlebot     |true        |2020-06-23T22:37:11.393-03:00|session_30_ae59b395-31ac-40e3-b7c0-3d97d00ac6cc|\n",
      "|Spider       |Android  |Googlebot     |true        |2020-06-23T22:46:35.975-03:00|session_30_ae59b395-31ac-40e3-b7c0-3d97d00ac6cc|\n",
      "|Spider       |Other    |Googlebot     |true        |2020-06-23T22:55:08.637-03:00|session_30_ae59b395-31ac-40e3-b7c0-3d97d00ac6cc|\n",
      "|Spider       |Other    |Googlebot     |true        |2020-06-23T23:15:11.391-03:00|session_30_ae59b395-31ac-40e3-b7c0-3d97d00ac6cc|\n",
      "|Spider       |Other    |Googlebot     |true        |2020-06-23T23:16:54.440-03:00|session_30_ae59b395-31ac-40e3-b7c0-3d97d00ac6cc|\n",
      "|Spider       |Other    |Googlebot     |true        |2020-06-23T23:31:35.885-03:00|session_30_ae59b395-31ac-40e3-b7c0-3d97d00ac6cc|\n",
      "|Spider       |Other    |Googlebot     |true        |2020-06-23T23:33:24.361-03:00|session_30_ae59b395-31ac-40e3-b7c0-3d97d00ac6cc|\n",
      "|Spider       |Android  |Googlebot     |false       |2020-06-23T23:33:39.322-03:00|session_31_ae59b395-31ac-40e3-b7c0-3d97d00ac6cc|\n",
      "|Spider       |Other    |Googlebot     |true        |2020-06-23T23:34:20.142-03:00|session_31_ae59b395-31ac-40e3-b7c0-3d97d00ac6cc|\n",
      "|Spider       |Other    |Googlebot     |true        |2020-06-23T23:35:33.728-03:00|session_31_ae59b395-31ac-40e3-b7c0-3d97d00ac6cc|\n",
      "|Spider       |Other    |Googlebot     |true        |2020-06-23T23:36:27.432-03:00|session_31_ae59b395-31ac-40e3-b7c0-3d97d00ac6cc|\n",
      "|Spider       |Other    |Googlebot     |true        |2020-06-23T23:45:25.636-03:00|session_31_ae59b395-31ac-40e3-b7c0-3d97d00ac6cc|\n",
      "|Spider       |Android  |Googlebot     |true        |2020-06-23T23:49:32.129-03:00|session_31_ae59b395-31ac-40e3-b7c0-3d97d00ac6cc|\n",
      "|Spider       |Other    |Googlebot     |true        |2020-06-23T23:55:36.613-03:00|session_31_ae59b395-31ac-40e3-b7c0-3d97d00ac6cc|\n",
      "|Spider       |Android  |Googlebot     |true        |2020-06-24T00:01:07.825-03:00|session_31_ae59b395-31ac-40e3-b7c0-3d97d00ac6cc|\n",
      "|Spider       |Android  |Googlebot     |true        |2020-06-24T00:07:31.463-03:00|session_31_ae59b395-31ac-40e3-b7c0-3d97d00ac6cc|\n",
      "|Spider       |Other    |Googlebot     |true        |2020-06-24T00:11:35.095-03:00|session_31_ae59b395-31ac-40e3-b7c0-3d97d00ac6cc|\n",
      "|Spider       |Other    |Googlebot     |true        |2020-06-24T00:14:46.110-03:00|session_31_ae59b395-31ac-40e3-b7c0-3d97d00ac6cc|\n",
      "|Spider       |Other    |Googlebot     |true        |2020-06-24T00:14:54.875-03:00|session_31_ae59b395-31ac-40e3-b7c0-3d97d00ac6cc|\n",
      "|Spider       |Android  |Googlebot     |true        |2020-06-24T00:16:44.326-03:00|session_31_ae59b395-31ac-40e3-b7c0-3d97d00ac6cc|\n",
      "|Spider       |Android  |Googlebot     |true        |2020-06-24T00:17:09.649-03:00|session_31_ae59b395-31ac-40e3-b7c0-3d97d00ac6cc|\n",
      "|Spider       |Other    |Googlebot     |true        |2020-06-24T00:23:10.795-03:00|session_31_ae59b395-31ac-40e3-b7c0-3d97d00ac6cc|\n",
      "|Spider       |Android  |Googlebot     |true        |2020-06-24T00:24:51.783-03:00|session_31_ae59b395-31ac-40e3-b7c0-3d97d00ac6cc|\n",
      "|Spider       |Other    |Googlebot     |true        |2020-06-24T00:36:44.669-03:00|session_31_ae59b395-31ac-40e3-b7c0-3d97d00ac6cc|\n",
      "|Spider       |Other    |Googlebot     |true        |2020-06-24T00:43:26.126-03:00|session_31_ae59b395-31ac-40e3-b7c0-3d97d00ac6cc|\n",
      "|Spider       |Other    |Googlebot     |true        |2020-06-24T00:52:39.222-03:00|session_31_ae59b395-31ac-40e3-b7c0-3d97d00ac6cc|\n",
      "|Spider       |Other    |Googlebot     |true        |2020-06-24T00:54:26.134-03:00|session_31_ae59b395-31ac-40e3-b7c0-3d97d00ac6cc|\n",
      "|Spider       |Other    |Googlebot     |true        |2020-06-24T01:08:05.814-03:00|session_31_ae59b395-31ac-40e3-b7c0-3d97d00ac6cc|\n",
      "|Spider       |Other    |Googlebot     |true        |2020-06-24T01:12:36.611-03:00|session_31_ae59b395-31ac-40e3-b7c0-3d97d00ac6cc|\n",
      "|Spider       |Other    |Googlebot     |true        |2020-06-24T01:15:44.183-03:00|session_31_ae59b395-31ac-40e3-b7c0-3d97d00ac6cc|\n",
      "|Spider       |Other    |Googlebot     |true        |2020-06-24T01:17:38.652-03:00|session_31_ae59b395-31ac-40e3-b7c0-3d97d00ac6cc|\n",
      "|Spider       |Other    |Googlebot     |true        |2020-06-24T01:31:47.836-03:00|session_31_ae59b395-31ac-40e3-b7c0-3d97d00ac6cc|\n",
      "|Spider       |Android  |Googlebot     |false       |2020-06-24T01:37:34.924-03:00|session_32_ae59b395-31ac-40e3-b7c0-3d97d00ac6cc|\n",
      "|Spider       |Other    |Googlebot     |true        |2020-06-24T01:40:58.539-03:00|session_32_ae59b395-31ac-40e3-b7c0-3d97d00ac6cc|\n",
      "|Spider       |Other    |Googlebot     |true        |2020-06-24T01:46:32.835-03:00|session_32_ae59b395-31ac-40e3-b7c0-3d97d00ac6cc|\n",
      "|Spider       |Other    |Googlebot     |true        |2020-06-24T01:51:18.459-03:00|session_32_ae59b395-31ac-40e3-b7c0-3d97d00ac6cc|\n",
      "|Spider       |Android  |Googlebot     |true        |2020-06-24T01:52:06.832-03:00|session_32_ae59b395-31ac-40e3-b7c0-3d97d00ac6cc|\n",
      "|Spider       |Android  |Googlebot     |true        |2020-06-24T01:55:09.705-03:00|session_32_ae59b395-31ac-40e3-b7c0-3d97d00ac6cc|\n",
      "|Spider       |Other    |Googlebot     |true        |2020-06-24T02:01:22.765-03:00|session_32_ae59b395-31ac-40e3-b7c0-3d97d00ac6cc|\n",
      "|Spider       |Other    |Googlebot     |true        |2020-06-24T02:08:21.674-03:00|session_32_ae59b395-31ac-40e3-b7c0-3d97d00ac6cc|\n",
      "|Spider       |Android  |Googlebot     |false       |2020-06-24T21:44:46.029-03:00|session_33_ae59b395-31ac-40e3-b7c0-3d97d00ac6cc|\n",
      "|Spider       |Other    |Googlebot     |false       |2020-06-24T21:48:29.437-03:00|session_34_ae59b395-31ac-40e3-b7c0-3d97d00ac6cc|\n",
      "|Spider       |Other    |Googlebot     |true        |2020-06-24T22:01:38.498-03:00|session_34_ae59b395-31ac-40e3-b7c0-3d97d00ac6cc|\n",
      "|Spider       |Other    |Googlebot     |true        |2020-06-24T22:02:11.098-03:00|session_34_ae59b395-31ac-40e3-b7c0-3d97d00ac6cc|\n",
      "|Spider       |Other    |Googlebot     |true        |2020-06-24T22:03:38.871-03:00|session_34_ae59b395-31ac-40e3-b7c0-3d97d00ac6cc|\n",
      "|Spider       |Android  |Googlebot     |true        |2020-06-24T22:07:29.836-03:00|session_34_ae59b395-31ac-40e3-b7c0-3d97d00ac6cc|\n",
      "|Spider       |Other    |Googlebot     |true        |2020-06-24T22:14:43.100-03:00|session_34_ae59b395-31ac-40e3-b7c0-3d97d00ac6cc|\n",
      "|Spider       |Other    |Googlebot     |true        |2020-06-24T22:16:33.674-03:00|session_34_ae59b395-31ac-40e3-b7c0-3d97d00ac6cc|\n",
      "|Spider       |Android  |Googlebot     |true        |2020-06-24T22:20:00.732-03:00|session_34_ae59b395-31ac-40e3-b7c0-3d97d00ac6cc|\n",
      "|Spider       |Other    |Googlebot     |true        |2020-06-24T22:40:16.154-03:00|session_34_ae59b395-31ac-40e3-b7c0-3d97d00ac6cc|\n",
      "|Spider       |Other    |Googlebot     |true        |2020-06-24T22:41:02.656-03:00|session_34_ae59b395-31ac-40e3-b7c0-3d97d00ac6cc|\n",
      "|Spider       |Other    |Googlebot     |true        |2020-06-24T22:49:11.885-03:00|session_34_ae59b395-31ac-40e3-b7c0-3d97d00ac6cc|\n",
      "|Spider       |Other    |Googlebot     |true        |2020-06-24T23:01:41.947-03:00|session_34_ae59b395-31ac-40e3-b7c0-3d97d00ac6cc|\n",
      "|Spider       |Other    |Googlebot     |true        |2020-06-24T23:07:46.886-03:00|session_34_ae59b395-31ac-40e3-b7c0-3d97d00ac6cc|\n",
      "|Spider       |Other    |Googlebot     |true        |2020-06-24T23:19:02.226-03:00|session_34_ae59b395-31ac-40e3-b7c0-3d97d00ac6cc|\n",
      "|Spider       |Other    |Googlebot     |true        |2020-06-24T23:19:59.479-03:00|session_34_ae59b395-31ac-40e3-b7c0-3d97d00ac6cc|\n",
      "|Spider       |Android  |Googlebot     |false       |2020-06-24T23:21:12.390-03:00|session_35_ae59b395-31ac-40e3-b7c0-3d97d00ac6cc|\n",
      "|Spider       |Android  |Googlebot     |true        |2020-06-24T23:24:50.172-03:00|session_35_ae59b395-31ac-40e3-b7c0-3d97d00ac6cc|\n",
      "|Spider       |Other    |Googlebot     |true        |2020-06-24T23:35:26.293-03:00|session_35_ae59b395-31ac-40e3-b7c0-3d97d00ac6cc|\n",
      "|Spider       |Android  |Googlebot     |true        |2020-06-24T23:41:08.966-03:00|session_35_ae59b395-31ac-40e3-b7c0-3d97d00ac6cc|\n",
      "|Spider       |Other    |Googlebot     |true        |2020-06-24T23:41:38.281-03:00|session_35_ae59b395-31ac-40e3-b7c0-3d97d00ac6cc|\n",
      "|Spider       |Other    |Googlebot     |true        |2020-06-24T23:55:23.143-03:00|session_35_ae59b395-31ac-40e3-b7c0-3d97d00ac6cc|\n",
      "|Spider       |Android  |Googlebot     |true        |2020-06-24T23:59:10.669-03:00|session_35_ae59b395-31ac-40e3-b7c0-3d97d00ac6cc|\n",
      "|Spider       |Other    |Googlebot     |true        |2020-06-24T23:59:53.338-03:00|session_35_ae59b395-31ac-40e3-b7c0-3d97d00ac6cc|\n",
      "|Spider       |Other    |Googlebot     |true        |2020-06-25T00:09:03.516-03:00|session_35_ae59b395-31ac-40e3-b7c0-3d97d00ac6cc|\n",
      "|Spider       |Android  |Googlebot     |true        |2020-06-25T00:09:36.062-03:00|session_35_ae59b395-31ac-40e3-b7c0-3d97d00ac6cc|\n",
      "|Spider       |Other    |Googlebot     |true        |2020-06-25T00:11:01.729-03:00|session_35_ae59b395-31ac-40e3-b7c0-3d97d00ac6cc|\n",
      "|Spider       |Other    |Googlebot     |true        |2020-06-25T00:30:04.361-03:00|session_35_ae59b395-31ac-40e3-b7c0-3d97d00ac6cc|\n",
      "|Spider       |Android  |Googlebot     |true        |2020-06-25T00:34:55.891-03:00|session_35_ae59b395-31ac-40e3-b7c0-3d97d00ac6cc|\n",
      "|Spider       |Other    |Googlebot     |false       |2020-06-25T01:16:14.228-03:00|session_36_ae59b395-31ac-40e3-b7c0-3d97d00ac6cc|\n",
      "|Spider       |Other    |Googlebot     |true        |2020-06-25T01:22:55.689-03:00|session_36_ae59b395-31ac-40e3-b7c0-3d97d00ac6cc|\n",
      "|Spider       |Other    |Googlebot     |false       |2020-06-25T21:44:16.670-03:00|session_37_ae59b395-31ac-40e3-b7c0-3d97d00ac6cc|\n",
      "|Spider       |Other    |Googlebot     |true        |2020-06-25T22:03:57.023-03:00|session_37_ae59b395-31ac-40e3-b7c0-3d97d00ac6cc|\n",
      "|Spider       |Other    |Googlebot     |true        |2020-06-25T22:12:31.399-03:00|session_37_ae59b395-31ac-40e3-b7c0-3d97d00ac6cc|\n",
      "|Spider       |Other    |Googlebot     |true        |2020-06-25T22:13:28.388-03:00|session_37_ae59b395-31ac-40e3-b7c0-3d97d00ac6cc|\n",
      "|Spider       |Other    |Googlebot     |true        |2020-06-25T22:23:53.043-03:00|session_37_ae59b395-31ac-40e3-b7c0-3d97d00ac6cc|\n",
      "|Spider       |Other    |Googlebot     |true        |2020-06-25T22:48:45.831-03:00|session_37_ae59b395-31ac-40e3-b7c0-3d97d00ac6cc|\n",
      "|Spider       |Other    |Googlebot     |true        |2020-06-25T22:54:50.960-03:00|session_37_ae59b395-31ac-40e3-b7c0-3d97d00ac6cc|\n",
      "|Spider       |Other    |Googlebot     |true        |2020-06-25T22:55:51.269-03:00|session_37_ae59b395-31ac-40e3-b7c0-3d97d00ac6cc|\n",
      "|Spider       |Other    |Googlebot     |true        |2020-06-25T22:57:55.295-03:00|session_37_ae59b395-31ac-40e3-b7c0-3d97d00ac6cc|\n",
      "|Spider       |Other    |Googlebot     |true        |2020-06-25T22:58:39.984-03:00|session_37_ae59b395-31ac-40e3-b7c0-3d97d00ac6cc|\n",
      "|Spider       |Other    |Googlebot     |true        |2020-06-25T23:04:00.649-03:00|session_37_ae59b395-31ac-40e3-b7c0-3d97d00ac6cc|\n",
      "|Spider       |Android  |Googlebot     |false       |2020-06-25T23:05:05.423-03:00|session_38_ae59b395-31ac-40e3-b7c0-3d97d00ac6cc|\n",
      "|Spider       |Other    |Googlebot     |true        |2020-06-25T23:07:26.795-03:00|session_38_ae59b395-31ac-40e3-b7c0-3d97d00ac6cc|\n",
      "|Spider       |Other    |Googlebot     |true        |2020-06-25T23:08:31.824-03:00|session_38_ae59b395-31ac-40e3-b7c0-3d97d00ac6cc|\n",
      "|Spider       |Other    |Googlebot     |true        |2020-06-25T23:14:05.299-03:00|session_38_ae59b395-31ac-40e3-b7c0-3d97d00ac6cc|\n",
      "|Spider       |Other    |Googlebot     |true        |2020-06-25T23:15:52.082-03:00|session_38_ae59b395-31ac-40e3-b7c0-3d97d00ac6cc|\n",
      "|Spider       |Other    |Googlebot     |true        |2020-06-25T23:22:06.301-03:00|session_38_ae59b395-31ac-40e3-b7c0-3d97d00ac6cc|\n",
      "|Spider       |Other    |Googlebot     |true        |2020-06-25T23:24:06.473-03:00|session_38_ae59b395-31ac-40e3-b7c0-3d97d00ac6cc|\n",
      "|Spider       |Other    |Googlebot     |true        |2020-06-25T23:25:35.811-03:00|session_38_ae59b395-31ac-40e3-b7c0-3d97d00ac6cc|\n",
      "|Spider       |Other    |Googlebot     |true        |2020-06-25T23:27:03.402-03:00|session_38_ae59b395-31ac-40e3-b7c0-3d97d00ac6cc|\n",
      "|Spider       |Other    |Googlebot     |true        |2020-06-25T23:38:00.349-03:00|session_38_ae59b395-31ac-40e3-b7c0-3d97d00ac6cc|\n",
      "|Spider       |Other    |Googlebot     |true        |2020-06-25T23:41:04.160-03:00|session_38_ae59b395-31ac-40e3-b7c0-3d97d00ac6cc|\n",
      "|Spider       |Other    |Googlebot     |true        |2020-06-25T23:42:05.948-03:00|session_38_ae59b395-31ac-40e3-b7c0-3d97d00ac6cc|\n",
      "|Spider       |Other    |Googlebot     |true        |2020-06-25T23:45:55.488-03:00|session_38_ae59b395-31ac-40e3-b7c0-3d97d00ac6cc|\n",
      "|Spider       |Other    |Googlebot     |true        |2020-06-25T23:49:29.960-03:00|session_38_ae59b395-31ac-40e3-b7c0-3d97d00ac6cc|\n",
      "|Spider       |Other    |Googlebot     |true        |2020-06-25T23:49:39.641-03:00|session_38_ae59b395-31ac-40e3-b7c0-3d97d00ac6cc|\n",
      "|Spider       |Android  |Googlebot     |false       |2020-06-25T23:50:12.321-03:00|session_39_ae59b395-31ac-40e3-b7c0-3d97d00ac6cc|\n",
      "|Spider       |Other    |Googlebot     |true        |2020-06-25T23:59:12.838-03:00|session_39_ae59b395-31ac-40e3-b7c0-3d97d00ac6cc|\n",
      "|Spider       |Android  |Googlebot     |true        |2020-06-25T23:59:43.445-03:00|session_39_ae59b395-31ac-40e3-b7c0-3d97d00ac6cc|\n",
      "|Spider       |Other    |Googlebot     |true        |2020-06-26T00:03:25.708-03:00|session_39_ae59b395-31ac-40e3-b7c0-3d97d00ac6cc|\n",
      "|Spider       |Other    |Googlebot     |true        |2020-06-26T00:09:53.373-03:00|session_39_ae59b395-31ac-40e3-b7c0-3d97d00ac6cc|\n",
      "|Spider       |Other    |Googlebot     |true        |2020-06-26T00:11:17.013-03:00|session_39_ae59b395-31ac-40e3-b7c0-3d97d00ac6cc|\n",
      "|Spider       |Other    |Googlebot     |true        |2020-06-26T00:14:26.709-03:00|session_39_ae59b395-31ac-40e3-b7c0-3d97d00ac6cc|\n",
      "|Spider       |Other    |Googlebot     |true        |2020-06-26T00:15:24.183-03:00|session_39_ae59b395-31ac-40e3-b7c0-3d97d00ac6cc|\n",
      "|Spider       |Other    |Googlebot     |true        |2020-06-26T00:25:46.944-03:00|session_39_ae59b395-31ac-40e3-b7c0-3d97d00ac6cc|\n",
      "|Spider       |Other    |Googlebot     |true        |2020-06-26T00:32:36.296-03:00|session_39_ae59b395-31ac-40e3-b7c0-3d97d00ac6cc|\n",
      "|Spider       |Android  |Googlebot     |false       |2020-06-26T00:43:17.638-03:00|session_40_ae59b395-31ac-40e3-b7c0-3d97d00ac6cc|\n",
      "|Spider       |Android  |Googlebot     |false       |2020-06-26T01:21:06.343-03:00|session_41_ae59b395-31ac-40e3-b7c0-3d97d00ac6cc|\n",
      "|Spider       |Other    |Googlebot     |false       |2020-06-26T01:23:44.526-03:00|session_42_ae59b395-31ac-40e3-b7c0-3d97d00ac6cc|\n",
      "|Spider       |Android  |Googlebot     |true        |2020-06-26T01:28:24.090-03:00|session_42_ae59b395-31ac-40e3-b7c0-3d97d00ac6cc|\n",
      "|Spider       |Other    |Googlebot     |false       |2020-06-26T05:52:25.530-03:00|session_43_ae59b395-31ac-40e3-b7c0-3d97d00ac6cc|\n",
      "|Spider       |Other    |Googlebot     |false       |2020-06-26T21:29:49.658-03:00|session_44_ae59b395-31ac-40e3-b7c0-3d97d00ac6cc|\n",
      "|Spider       |Other    |Googlebot     |true        |2020-06-26T21:57:30.981-03:00|session_44_ae59b395-31ac-40e3-b7c0-3d97d00ac6cc|\n",
      "|Spider       |Other    |Googlebot     |true        |2020-06-26T22:01:27.979-03:00|session_44_ae59b395-31ac-40e3-b7c0-3d97d00ac6cc|\n",
      "|Spider       |Android  |Googlebot     |false       |2020-06-26T22:09:15.422-03:00|session_45_ae59b395-31ac-40e3-b7c0-3d97d00ac6cc|\n",
      "|Spider       |Android  |Googlebot     |true        |2020-06-26T22:12:15.693-03:00|session_45_ae59b395-31ac-40e3-b7c0-3d97d00ac6cc|\n",
      "|Spider       |Other    |Googlebot     |true        |2020-06-26T22:20:55.879-03:00|session_45_ae59b395-31ac-40e3-b7c0-3d97d00ac6cc|\n",
      "|Spider       |Other    |Googlebot     |true        |2020-06-26T22:32:26.100-03:00|session_45_ae59b395-31ac-40e3-b7c0-3d97d00ac6cc|\n",
      "|Spider       |Other    |Googlebot     |true        |2020-06-26T22:47:38.456-03:00|session_45_ae59b395-31ac-40e3-b7c0-3d97d00ac6cc|\n",
      "|Spider       |Other    |Googlebot     |true        |2020-06-26T22:48:03.094-03:00|session_45_ae59b395-31ac-40e3-b7c0-3d97d00ac6cc|\n",
      "|Spider       |Other    |Googlebot     |true        |2020-06-26T22:49:42.437-03:00|session_45_ae59b395-31ac-40e3-b7c0-3d97d00ac6cc|\n",
      "|Spider       |Other    |Googlebot     |true        |2020-06-26T22:53:58.897-03:00|session_45_ae59b395-31ac-40e3-b7c0-3d97d00ac6cc|\n",
      "|Spider       |Other    |Googlebot     |true        |2020-06-26T22:55:59.448-03:00|session_45_ae59b395-31ac-40e3-b7c0-3d97d00ac6cc|\n",
      "|Spider       |Other    |Googlebot     |true        |2020-06-26T23:09:09.119-03:00|session_45_ae59b395-31ac-40e3-b7c0-3d97d00ac6cc|\n",
      "|Spider       |Android  |Googlebot     |false       |2020-06-26T23:10:41.458-03:00|session_46_ae59b395-31ac-40e3-b7c0-3d97d00ac6cc|\n",
      "|Spider       |Other    |Googlebot     |true        |2020-06-26T23:20:14.997-03:00|session_46_ae59b395-31ac-40e3-b7c0-3d97d00ac6cc|\n",
      "|Spider       |Other    |Googlebot     |true        |2020-06-26T23:25:16.642-03:00|session_46_ae59b395-31ac-40e3-b7c0-3d97d00ac6cc|\n",
      "|Spider       |Other    |Googlebot     |true        |2020-06-26T23:29:23.609-03:00|session_46_ae59b395-31ac-40e3-b7c0-3d97d00ac6cc|\n",
      "|Spider       |Other    |Googlebot     |true        |2020-06-26T23:33:37.513-03:00|session_46_ae59b395-31ac-40e3-b7c0-3d97d00ac6cc|\n",
      "|Spider       |Android  |Googlebot     |false       |2020-06-26T23:48:44.876-03:00|session_47_ae59b395-31ac-40e3-b7c0-3d97d00ac6cc|\n",
      "|Spider       |Other    |Googlebot     |true        |2020-06-26T23:50:18.623-03:00|session_47_ae59b395-31ac-40e3-b7c0-3d97d00ac6cc|\n",
      "|Spider       |Other    |Googlebot     |true        |2020-06-26T23:50:23.528-03:00|session_47_ae59b395-31ac-40e3-b7c0-3d97d00ac6cc|\n",
      "|Spider       |Android  |Googlebot     |true        |2020-06-26T23:51:30.565-03:00|session_47_ae59b395-31ac-40e3-b7c0-3d97d00ac6cc|\n",
      "|Spider       |Other    |Googlebot     |true        |2020-06-26T23:53:24.624-03:00|session_47_ae59b395-31ac-40e3-b7c0-3d97d00ac6cc|\n",
      "|Spider       |Other    |Googlebot     |true        |2020-06-26T23:56:59.809-03:00|session_47_ae59b395-31ac-40e3-b7c0-3d97d00ac6cc|\n",
      "|Spider       |Other    |Googlebot     |true        |2020-06-27T00:06:15.886-03:00|session_47_ae59b395-31ac-40e3-b7c0-3d97d00ac6cc|\n",
      "|Spider       |Other    |Googlebot     |true        |2020-06-27T00:24:20.087-03:00|session_47_ae59b395-31ac-40e3-b7c0-3d97d00ac6cc|\n",
      "|Spider       |Android  |Googlebot     |false       |2020-06-27T00:37:01.283-03:00|session_48_ae59b395-31ac-40e3-b7c0-3d97d00ac6cc|\n",
      "|Spider       |Other    |Googlebot     |true        |2020-06-27T00:41:24.538-03:00|session_48_ae59b395-31ac-40e3-b7c0-3d97d00ac6cc|\n",
      "|Spider       |Other    |Googlebot     |false       |2020-06-27T01:14:31.220-03:00|session_49_ae59b395-31ac-40e3-b7c0-3d97d00ac6cc|\n",
      "|Spider       |Android  |Googlebot     |false       |2020-06-27T01:16:40.583-03:00|session_50_ae59b395-31ac-40e3-b7c0-3d97d00ac6cc|\n",
      "|Spider       |Other    |Googlebot     |true        |2020-06-27T01:17:31.844-03:00|session_50_ae59b395-31ac-40e3-b7c0-3d97d00ac6cc|\n",
      "|Spider       |Other    |Googlebot     |true        |2020-06-27T01:27:01.500-03:00|session_50_ae59b395-31ac-40e3-b7c0-3d97d00ac6cc|\n",
      "|Spider       |Other    |Googlebot     |true        |2020-06-27T01:30:14.292-03:00|session_50_ae59b395-31ac-40e3-b7c0-3d97d00ac6cc|\n",
      "|Spider       |Android  |Googlebot     |true        |2020-06-27T01:37:26.071-03:00|session_50_ae59b395-31ac-40e3-b7c0-3d97d00ac6cc|\n",
      "|Spider       |Other    |Googlebot     |false       |2020-06-27T02:18:16.461-03:00|session_51_ae59b395-31ac-40e3-b7c0-3d97d00ac6cc|\n",
      "|Spider       |Other    |Googlebot     |false       |2020-06-27T22:06:50.331-03:00|session_52_ae59b395-31ac-40e3-b7c0-3d97d00ac6cc|\n",
      "|Spider       |Other    |Googlebot     |false       |2020-06-27T23:10:53.325-03:00|session_53_ae59b395-31ac-40e3-b7c0-3d97d00ac6cc|\n",
      "|Spider       |Other    |Googlebot     |true        |2020-06-27T23:21:24.497-03:00|session_53_ae59b395-31ac-40e3-b7c0-3d97d00ac6cc|\n",
      "|Spider       |Other    |Googlebot     |true        |2020-06-27T23:31:21.774-03:00|session_53_ae59b395-31ac-40e3-b7c0-3d97d00ac6cc|\n",
      "|Spider       |Android  |Googlebot     |false       |2020-06-27T23:38:13.077-03:00|session_54_ae59b395-31ac-40e3-b7c0-3d97d00ac6cc|\n",
      "|Spider       |Android  |Googlebot     |true        |2020-06-27T23:39:54.566-03:00|session_54_ae59b395-31ac-40e3-b7c0-3d97d00ac6cc|\n",
      "|Spider       |Android  |Googlebot     |true        |2020-06-27T23:45:03.849-03:00|session_54_ae59b395-31ac-40e3-b7c0-3d97d00ac6cc|\n",
      "|Spider       |Other    |Googlebot     |false       |2020-06-28T00:08:04.915-03:00|session_55_ae59b395-31ac-40e3-b7c0-3d97d00ac6cc|\n",
      "|Spider       |Other    |Googlebot     |true        |2020-06-28T00:15:01.142-03:00|session_55_ae59b395-31ac-40e3-b7c0-3d97d00ac6cc|\n",
      "|Spider       |Other    |Googlebot     |true        |2020-06-28T00:15:36.116-03:00|session_55_ae59b395-31ac-40e3-b7c0-3d97d00ac6cc|\n",
      "|Spider       |Android  |Googlebot     |false       |2020-06-28T00:25:54.314-03:00|session_56_ae59b395-31ac-40e3-b7c0-3d97d00ac6cc|\n",
      "|Spider       |Other    |Googlebot     |true        |2020-06-28T00:30:17.160-03:00|session_56_ae59b395-31ac-40e3-b7c0-3d97d00ac6cc|\n",
      "|Spider       |Other    |Googlebot     |true        |2020-06-28T00:40:00.366-03:00|session_56_ae59b395-31ac-40e3-b7c0-3d97d00ac6cc|\n",
      "|Spider       |Android  |Googlebot     |true        |2020-06-28T00:42:41.696-03:00|session_56_ae59b395-31ac-40e3-b7c0-3d97d00ac6cc|\n",
      "|Spider       |Android  |Googlebot     |true        |2020-06-28T01:09:45.894-03:00|session_56_ae59b395-31ac-40e3-b7c0-3d97d00ac6cc|\n",
      "|Spider       |Android  |Googlebot     |true        |2020-06-28T01:26:52.188-03:00|session_56_ae59b395-31ac-40e3-b7c0-3d97d00ac6cc|\n",
      "|Spider       |Other    |Googlebot     |false       |2020-06-28T01:42:14.083-03:00|session_57_ae59b395-31ac-40e3-b7c0-3d97d00ac6cc|\n",
      "|Spider       |Android  |Googlebot     |true        |2020-06-28T01:43:54.375-03:00|session_57_ae59b395-31ac-40e3-b7c0-3d97d00ac6cc|\n",
      "|Spider       |Other    |Googlebot     |false       |2020-06-28T22:49:12.401-03:00|session_58_ae59b395-31ac-40e3-b7c0-3d97d00ac6cc|\n",
      "|Spider       |Android  |Googlebot     |false       |2020-06-28T22:49:48.042-03:00|session_59_ae59b395-31ac-40e3-b7c0-3d97d00ac6cc|\n",
      "|Spider       |Other    |Googlebot     |true        |2020-06-28T22:59:09.467-03:00|session_59_ae59b395-31ac-40e3-b7c0-3d97d00ac6cc|\n",
      "|Spider       |Android  |Googlebot     |true        |2020-06-28T23:05:28.908-03:00|session_59_ae59b395-31ac-40e3-b7c0-3d97d00ac6cc|\n",
      "|Spider       |Android  |Googlebot     |false       |2020-06-28T23:38:21.598-03:00|session_60_ae59b395-31ac-40e3-b7c0-3d97d00ac6cc|\n",
      "|Spider       |Other    |Googlebot     |false       |2020-06-28T23:48:46.123-03:00|session_61_ae59b395-31ac-40e3-b7c0-3d97d00ac6cc|\n",
      "|Spider       |Other    |Googlebot     |false       |2020-06-29T00:26:36.103-03:00|session_62_ae59b395-31ac-40e3-b7c0-3d97d00ac6cc|\n",
      "|Spider       |Other    |Googlebot     |true        |2020-06-29T00:43:10.811-03:00|session_62_ae59b395-31ac-40e3-b7c0-3d97d00ac6cc|\n",
      "|Spider       |Other    |Googlebot     |false       |2020-06-29T01:18:54.690-03:00|session_63_ae59b395-31ac-40e3-b7c0-3d97d00ac6cc|\n",
      "|Spider       |Other    |Googlebot     |false       |2020-06-29T22:22:26.473-03:00|session_64_ae59b395-31ac-40e3-b7c0-3d97d00ac6cc|\n",
      "|Spider       |Other    |Googlebot     |true        |2020-06-29T22:27:38.154-03:00|session_64_ae59b395-31ac-40e3-b7c0-3d97d00ac6cc|\n",
      "|Spider       |Other    |Googlebot     |true        |2020-06-29T22:45:16.478-03:00|session_64_ae59b395-31ac-40e3-b7c0-3d97d00ac6cc|\n",
      "|Spider       |Other    |Googlebot     |true        |2020-06-29T22:49:35.263-03:00|session_64_ae59b395-31ac-40e3-b7c0-3d97d00ac6cc|\n",
      "|Spider       |Android  |Googlebot     |false       |2020-06-29T23:07:15.578-03:00|session_65_ae59b395-31ac-40e3-b7c0-3d97d00ac6cc|\n",
      "|Spider       |Android  |Googlebot     |true        |2020-06-29T23:08:57.462-03:00|session_65_ae59b395-31ac-40e3-b7c0-3d97d00ac6cc|\n",
      "|Spider       |Other    |Googlebot     |false       |2020-06-29T23:34:08.633-03:00|session_66_ae59b395-31ac-40e3-b7c0-3d97d00ac6cc|\n",
      "|Spider       |Android  |Googlebot     |false       |2020-06-29T23:42:08.935-03:00|session_67_ae59b395-31ac-40e3-b7c0-3d97d00ac6cc|\n",
      "|Spider       |Other    |Googlebot     |true        |2020-06-29T23:47:51.881-03:00|session_67_ae59b395-31ac-40e3-b7c0-3d97d00ac6cc|\n",
      "|Spider       |Other    |Googlebot     |true        |2020-06-29T23:48:02.207-03:00|session_67_ae59b395-31ac-40e3-b7c0-3d97d00ac6cc|\n",
      "|Spider       |Android  |Googlebot     |true        |2020-06-29T23:53:36.813-03:00|session_67_ae59b395-31ac-40e3-b7c0-3d97d00ac6cc|\n",
      "|Spider       |Other    |Googlebot     |true        |2020-06-30T00:01:18.267-03:00|session_67_ae59b395-31ac-40e3-b7c0-3d97d00ac6cc|\n",
      "|Spider       |Other    |Googlebot     |true        |2020-06-30T00:21:29.474-03:00|session_67_ae59b395-31ac-40e3-b7c0-3d97d00ac6cc|\n",
      "|Spider       |Other    |Googlebot     |true        |2020-06-30T00:32:14.450-03:00|session_67_ae59b395-31ac-40e3-b7c0-3d97d00ac6cc|\n",
      "|Spider       |Other    |Googlebot     |false       |2020-06-30T21:31:42.991-03:00|session_68_ae59b395-31ac-40e3-b7c0-3d97d00ac6cc|\n",
      "|Spider       |Other    |Googlebot     |false       |2020-06-30T22:13:15.706-03:00|session_69_ae59b395-31ac-40e3-b7c0-3d97d00ac6cc|\n",
      "|Spider       |Android  |Googlebot     |false       |2020-07-01T00:51:10.024-03:00|session_70_ae59b395-31ac-40e3-b7c0-3d97d00ac6cc|\n",
      "|Spider       |Android  |Googlebot     |false       |2020-07-01T01:58:06.767-03:00|session_71_ae59b395-31ac-40e3-b7c0-3d97d00ac6cc|\n",
      "+-------------+---------+--------------+------------+-----------------------------+-----------------------------------------------+\n",
      "\n"
     ]
    }
   ],
   "source": [
    "df_question_1 = spark.sql(\"\"\"\n",
    "with temp as (--\n",
    "      SELECT anonymous_id, browser_family, delta, device_family, device_sent_timestamp, event, event_time, n, os_family, --\n",
    "             platform, nvl(same_section,false) same_section, version,\n",
    "             case when nvl(same_section,false) = false then\n",
    "             'session_' || ROW_NUMBER() OVER (PARTITION BY anonymous_id,nvl(same_section,false) ORDER BY device_sent_timestamp )\n",
    "             else\n",
    "              null\n",
    "             end\n",
    "             as partial_session\n",
    "        FROM clickstream t --\n",
    "), table_section_id as (--\n",
    "    select anonymous_id, browser_family, delta, device_family, device_sent_timestamp, event, event_time, n, os_family, --\n",
    "             platform, nvl(same_section,false) same_section, version,\n",
    "             LAST_VALUE(partial_session,True) OVER (PARTITION BY anonymous_id ORDER BY device_sent_timestamp ) || '_' || anonymous_id session_id\n",
    "    from temp t\n",
    ")\n",
    "select * from table_section_id\n",
    "order by anonymous_id, device_sent_timestamp \n",
    "\"\"\")\n",
    "df_question_1.select('device_family','os_family','browser_family','same_section','event_time','session_id').show(300, False)"
   ]
  },
  {
   "cell_type": "code",
   "execution_count": 54,
   "metadata": {},
   "outputs": [
    {
     "name": "stdout",
     "output_type": "stream",
     "text": [
      "+----------+--------+\n",
      "|session_id|count(1)|\n",
      "+----------+--------+\n",
      "|session_1 |1       |\n",
      "|session_10|1       |\n",
      "|session_11|1       |\n",
      "|session_12|1       |\n",
      "|session_13|2       |\n",
      "|session_14|2       |\n",
      "|session_15|1       |\n",
      "|session_16|1       |\n",
      "|session_17|1       |\n",
      "|session_18|16      |\n",
      "|session_19|10      |\n",
      "|session_2 |1       |\n",
      "|session_20|1       |\n",
      "|session_21|1       |\n",
      "|session_22|2       |\n",
      "|session_23|1       |\n",
      "|session_24|1       |\n",
      "|session_25|18      |\n",
      "|session_26|19      |\n",
      "|session_27|1       |\n",
      "|session_28|3       |\n",
      "|session_29|5       |\n",
      "|session_3 |1       |\n",
      "|session_30|11      |\n",
      "|session_31|25      |\n",
      "|session_32|8       |\n",
      "|session_33|1       |\n",
      "|session_34|15      |\n",
      "|session_35|13      |\n",
      "|session_36|2       |\n",
      "|session_37|11      |\n",
      "|session_38|15      |\n",
      "|session_39|10      |\n",
      "|session_4 |1       |\n",
      "|session_40|1       |\n",
      "|session_41|1       |\n",
      "|session_42|2       |\n",
      "|session_43|1       |\n",
      "|session_44|3       |\n",
      "|session_45|10      |\n",
      "|session_46|5       |\n",
      "|session_47|8       |\n",
      "|session_48|2       |\n",
      "|session_49|1       |\n",
      "|session_5 |1       |\n",
      "|session_50|5       |\n",
      "|session_51|1       |\n",
      "|session_52|1       |\n",
      "|session_53|3       |\n",
      "|session_54|3       |\n",
      "|session_55|3       |\n",
      "|session_56|6       |\n",
      "|session_57|2       |\n",
      "|session_58|1       |\n",
      "|session_59|3       |\n",
      "|session_6 |1       |\n",
      "|session_60|1       |\n",
      "|session_61|1       |\n",
      "|session_62|2       |\n",
      "|session_63|1       |\n",
      "|session_64|4       |\n",
      "|session_65|2       |\n",
      "|session_66|1       |\n",
      "|session_67|7       |\n",
      "|session_68|1       |\n",
      "|session_69|1       |\n",
      "|session_7 |1       |\n",
      "|session_70|1       |\n",
      "|session_71|1       |\n",
      "|session_8 |1       |\n",
      "|session_9 |1       |\n",
      "+----------+--------+\n",
      "\n"
     ]
    }
   ],
   "source": [
    "df_question_1 = spark.sql(\"\"\"\n",
    "with temp as (--\n",
    "      SELECT anonymous_id, browser_family, delta, device_family, device_sent_timestamp, event, event_time, n, os_family, --\n",
    "             platform, nvl(same_section,false) same_section, version,\n",
    "             case when nvl(same_section,false) = false then\n",
    "             'session_' || ROW_NUMBER() OVER (PARTITION BY anonymous_id,nvl(same_section,false) ORDER BY device_sent_timestamp )\n",
    "             else\n",
    "              null\n",
    "             end\n",
    "             as partial_session\n",
    "        FROM clickstream t --\n",
    "), table_section as (--\n",
    "    select anonymous_id, browser_family, delta, device_family, device_sent_timestamp, event, event_time, n, os_family, --\n",
    "             platform, nvl(same_section,false) same_section, version,\n",
    "             LAST_VALUE(partial_session,True) OVER (PARTITION BY anonymous_id ORDER BY device_sent_timestamp ) session_id\n",
    "    from temp t\n",
    ")\n",
    "select session_id, count(1)\n",
    "from table_section\n",
    "group by session_id\n",
    "order by session_id\n",
    "\"\"\")\n",
    "df_question_1.show(300, False)"
   ]
  },
  {
   "cell_type": "code",
   "execution_count": null,
   "metadata": {},
   "outputs": [],
   "source": [
    "broadcastVar = sc.broadcast(df_question_1.collectAsMap(), 0)"
   ]
  },
  {
   "cell_type": "code",
   "execution_count": null,
   "metadata": {},
   "outputs": [],
   "source": [
    "accum = sc.accumulator(spark,0)\n"
   ]
  },
  {
   "cell_type": "code",
   "execution_count": null,
   "metadata": {},
   "outputs": [],
   "source": [
    "accum.value"
   ]
  },
  {
   "cell_type": "code",
   "execution_count": null,
   "metadata": {},
   "outputs": [],
   "source": [
    "def sss(s):\n",
    "    if (s!=True):\n",
    "        return 'session_' # + str(accum.value)\n",
    "    return None # + str(accum.value)"
   ]
  },
  {
   "cell_type": "code",
   "execution_count": null,
   "metadata": {},
   "outputs": [],
   "source": [
    "session_udf = F.udf(lambda x: \n",
    "                    'session_' + str(accum.value) if s!=True\n",
    "                    else x\n",
    "                    ,\n",
    "                     StringType())"
   ]
  },
  {
   "cell_type": "code",
   "execution_count": null,
   "metadata": {},
   "outputs": [],
   "source": [
    "session_udf = F.udf(lambda x: sss(x),\n",
    "                     StringType())"
   ]
  },
  {
   "cell_type": "code",
   "execution_count": null,
   "metadata": {},
   "outputs": [],
   "source": [
    "#overCategory\n",
    "dftemp.select('device_family','device_sent_timestamp','same_section','event_time')\\\n",
    "    .withColumn('session_id', session_udf('same_section'))\\\n",
    "    .withColumn('session_id', F.last('session_id', True).over(overCategory))\\\n",
    "    .show(30, False)"
   ]
  },
  {
   "cell_type": "code",
   "execution_count": null,
   "metadata": {},
   "outputs": [],
   "source": [
    "#overCategory\n",
    "dftemp.withColumn('session_id', session_udf('same_section'))\\\n",
    "    .withColumn('session_id', F.last('session_id', True).over(overCategory))\\\n",
    "    .show(30, False)"
   ]
  },
  {
   "cell_type": "code",
   "execution_count": 32,
   "metadata": {},
   "outputs": [],
   "source": [
    "dftemp.coalesce(1).write.format(\"csv\").save(\"analise.scv\")"
   ]
  },
  {
   "cell_type": "code",
   "execution_count": null,
   "metadata": {},
   "outputs": [],
   "source": []
  }
 ],
 "metadata": {
  "kernelspec": {
   "display_name": "Python 3",
   "language": "python",
   "name": "python3"
  },
  "language_info": {
   "codemirror_mode": {
    "name": "ipython",
    "version": 3
   },
   "file_extension": ".py",
   "mimetype": "text/x-python",
   "name": "python",
   "nbconvert_exporter": "python",
   "pygments_lexer": "ipython3",
   "version": "3.7.4"
  }
 },
 "nbformat": 4,
 "nbformat_minor": 2
}
