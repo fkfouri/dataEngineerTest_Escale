{
 "cells": [
  {
   "cell_type": "markdown",
   "metadata": {},
   "source": [
    "# Estudo para Desafio Escale\n",
    "\n",
    "Este <i>notebook</i> apresenta uma <i>storytelling</i> do estudo realizado, descrevendo  um passo a passo de como foram utilizadas as tecnologia Spark e Python para a resolução do desafio propospo pela Escale (https://escaletech.github.io/dataplatform/data-engineer-test).\n",
    "\n",
    "Para este trabalho foi considerado apenas um dataset (part-00000.json.gz). \n",
    "\n",
    "Um outro notebook será construído para o processamento de todos os arquivos para atender o desafio solicitado.\n",
    "\n",
    "No primeiro momento sera instalado e importadas bibliotecas do Spark"
   ]
  },
  {
   "cell_type": "code",
   "execution_count": 1,
   "metadata": {},
   "outputs": [],
   "source": [
    "try:\n",
    "    !pip install pyspark==\"2.4.5\" --quiet\n",
    "    !pip install pandas==\"1.0.4\" --quiet\n",
    "except:\n",
    "    print(\"Running throw py file.\")"
   ]
  },
  {
   "cell_type": "code",
   "execution_count": 37,
   "metadata": {},
   "outputs": [],
   "source": [
    "from pyspark import SparkContext as sc\n",
    "from pyspark.sql import SparkSession\n",
    "from pyspark.sql import functions as F\n",
    "from pyspark.sql import Window\n",
    "from pyspark import SparkFiles\n",
    "from pyspark.sql.types import StringType, FloatType\n",
    "import pyspark\n",
    "import json\n",
    "import pandas as pd\n",
    "import numpy as np"
   ]
  },
  {
   "cell_type": "markdown",
   "metadata": {},
   "source": [
    "Criação de uma sessão Spark"
   ]
  },
  {
   "cell_type": "code",
   "execution_count": 2,
   "metadata": {},
   "outputs": [
    {
     "data": {
      "text/html": [
       "\n",
       "            <div>\n",
       "                <p><b>SparkSession - in-memory</b></p>\n",
       "                \n",
       "        <div>\n",
       "            <p><b>SparkContext</b></p>\n",
       "\n",
       "            <p><a href=\"http://LAPTOP-Y520:4040\">Spark UI</a></p>\n",
       "\n",
       "            <dl>\n",
       "              <dt>Version</dt>\n",
       "                <dd><code>v2.4.5</code></dd>\n",
       "              <dt>Master</dt>\n",
       "                <dd><code>local[*]</code></dd>\n",
       "              <dt>AppName</dt>\n",
       "                <dd><code>Desafio Data Engineer Escale - Fabio Kfouri</code></dd>\n",
       "            </dl>\n",
       "        </div>\n",
       "        \n",
       "            </div>\n",
       "        "
      ],
      "text/plain": [
       "<pyspark.sql.session.SparkSession at 0x1c373ef9748>"
      ]
     },
     "execution_count": 2,
     "metadata": {},
     "output_type": "execute_result"
    }
   ],
   "source": [
    "spark = SparkSession\\\n",
    "        .builder\\\n",
    "        .appName(\"Desafio Data Engineer Escale - Fabio Kfouri\")\\\n",
    "        .getOrCreate()\n",
    "spark"
   ]
  },
  {
   "cell_type": "markdown",
   "metadata": {},
   "source": [
    "Para otimizar a resolução, foram realizados downloads dos datasets, esta lógica é para identificar se este notebook esta rodando máquina do autor, caso positivo, utilizará o dataset local, do contrário, utilizará o dataset da núvem."
   ]
  },
  {
   "cell_type": "code",
   "execution_count": 3,
   "metadata": {},
   "outputs": [
    {
     "name": "stdout",
     "output_type": "stream",
     "text": [
      "E:\\Projetos\\Jobs\\dataEngineerTest_Escale/data/\n"
     ]
    }
   ],
   "source": [
    "import os\n",
    "\n",
    "dataPath = 'https://d3l36jjwr70u5l.cloudfront.net/data-engineer-test/'\n",
    "\n",
    "if 'E:\\\\' in os.getcwd() and 'dataEngineerTest_Escale' in os.getcwd():\n",
    "    dataPath = os.getcwd() + \"/data/\"\n",
    "\n",
    "print(dataPath)\n"
   ]
  },
  {
   "cell_type": "markdown",
   "metadata": {},
   "source": [
    "## Leitura do primeiro dataset\n",
    "Os códigos seguintes tem o objetivo apenas de conhecer o dataset:\n",
    "- vizualizar alguns registros\n",
    "- quantidade de registros\n",
    "- observar o Schema do datase"
   ]
  },
  {
   "cell_type": "code",
   "execution_count": null,
   "metadata": {},
   "outputs": [],
   "source": [
    "df0 = spark.read.json(dataPath + 'part-0000' + str(0) +'.json.gz')\n",
    "df0.show(3)"
   ]
  },
  {
   "cell_type": "code",
   "execution_count": null,
   "metadata": {},
   "outputs": [],
   "source": [
    "df0.count()"
   ]
  },
  {
   "cell_type": "code",
   "execution_count": null,
   "metadata": {},
   "outputs": [],
   "source": [
    "df0.printSchema()"
   ]
  },
  {
   "cell_type": "markdown",
   "metadata": {},
   "source": [
    "## Construção do ClickStream\n",
    "\n",
    "O código seguinte é para identificar os usuários que mais utilizaram o site. Esta pesquisa é importante para poder criar o <b>Sessionamento</b>."
   ]
  },
  {
   "cell_type": "code",
   "execution_count": null,
   "metadata": {},
   "outputs": [],
   "source": [
    "df = df0.groupBy('anonymous_id').count().sort(F.col(\"count\").desc())\n",
    "df.show(10,False)"
   ]
  },
  {
   "cell_type": "markdown",
   "metadata": {},
   "source": [
    "Identificado um <b>anonymous_id</b> com uso intensivo do site, que será utilizado para a modelagem do sessionamento."
   ]
  },
  {
   "cell_type": "code",
   "execution_count": null,
   "metadata": {},
   "outputs": [],
   "source": [
    "df = df0.filter('anonymous_id = \"ae59b395-31ac-40e3-b7c0-3d97d00ac6cc\"').sort(F.col(\"device_sent_timestamp\"))\n",
    "df.show()"
   ]
  },
  {
   "cell_type": "markdown",
   "metadata": {},
   "source": [
    "Para calculo do tempo de sessão será utilizado a função <b>LAG()</b> que tem por objetivo trazer no registro corrente o dado de timestamp do registro anterior.\n",
    "\n",
    "O autor assumiu como premissa não declarada para definir uma sessão, que além do tempo limite de 30 minutos desde a última utilização, que uma sessão precisaria considerar o <b>device_family</b> e <b>os_family</b>.\n",
    "\n",
    "Ou seja, mesmo que não tenha excedido o tempo limite de 30 minutos, mas se for caracterizado que houve uma mudança de device_family ou os_family, trata-se de uma sessão nova."
   ]
  },
  {
   "cell_type": "code",
   "execution_count": null,
   "metadata": {},
   "outputs": [],
   "source": [
    "overCategory = Window.partitionBy('anonymous_id','device_family','os_family','browser_family')\\\n",
    "                    .orderBy('anonymous_id','device_family','os_family','browser_family','device_sent_timestamp')"
   ]
  },
  {
   "cell_type": "code",
   "execution_count": null,
   "metadata": {
    "scrolled": true
   },
   "outputs": [],
   "source": [
    "dftemp = df0.withColumn(\"lag\", F.lag('device_sent_timestamp', 1).over(overCategory))\n",
    "dftemp.show(5)"
   ]
  },
  {
   "cell_type": "markdown",
   "metadata": {},
   "source": [
    "Identificado que o tempo esta no formato <b>epoch</b>. \n",
    "\n",
    "A primeira intuição do autor foi de converter para o formato de data, porém, logo o autor percebeu que poderia usar o própria valor numérico para identificar a tolerancia de 30 minutos.\n",
    "\n",
    "Para isso, foi convertido o tempo de 30 minutos em milisegundos para o uso simplificado na identificação da sessão."
   ]
  },
  {
   "cell_type": "code",
   "execution_count": null,
   "metadata": {},
   "outputs": [],
   "source": [
    "time_limit = (30*60)*1000\n",
    "print(time_limit)"
   ]
  },
  {
   "cell_type": "code",
   "execution_count": null,
   "metadata": {},
   "outputs": [],
   "source": [
    "dftemp = dftemp.withColumn('delta_seg', (F.col('device_sent_timestamp') - F.col('lag'))/1000)\\\n",
    "        .withColumn('same_section', (F.col('device_sent_timestamp') - F.col('lag')) < time_limit) \\\n",
    "        .withColumn('event_time', (F.col('device_sent_timestamp')/1000).cast('timestamp'))\n",
    "\n",
    "dftemp.select('device_family','os_family','browser_family','device_sent_timestamp','same_section','event_time')\\\n",
    "        .show(20, False)"
   ]
  },
  {
   "cell_type": "markdown",
   "metadata": {},
   "source": [
    "Devido a demora de processamento na maquina do autor, optou-se por gerar um dataset menor para analise."
   ]
  },
  {
   "cell_type": "code",
   "execution_count": null,
   "metadata": {},
   "outputs": [],
   "source": [
    "dftemp.coalesce(1).write.format(\"json\").save(\"analise.json\")"
   ]
  },
  {
   "cell_type": "code",
   "execution_count": 4,
   "metadata": {},
   "outputs": [],
   "source": [
    "dftemp = spark.read.json(os.getcwd() + '/analise.json')"
   ]
  },
  {
   "cell_type": "markdown",
   "metadata": {},
   "source": [
    "Criacão de uma view chamada clickStream."
   ]
  },
  {
   "cell_type": "code",
   "execution_count": 5,
   "metadata": {},
   "outputs": [],
   "source": [
    "dftemp.createOrReplaceTempView(\"raw_table\")"
   ]
  },
  {
   "cell_type": "markdown",
   "metadata": {},
   "source": [
    "Pimeiro passo foi possível observar as sessoes abertas e fazer um especie de <i>smoke test</i>."
   ]
  },
  {
   "cell_type": "code",
   "execution_count": null,
   "metadata": {},
   "outputs": [],
   "source": [
    "df_sessioned = spark.sql(\"\"\"\n",
    "\n",
    "      SELECT anonymous_id, browser_family, device_family, device_sent_timestamp, event, event_time, n, os_family, --\n",
    "             platform, nvl(same_section,false) same_section, version,\n",
    "             case when nvl(same_section,false) = false then\n",
    "                 0\n",
    "             else\n",
    "                delta_seg\n",
    "             end delta_seg,\n",
    "             case when nvl(same_section,false) = false then\n",
    "                'session_' || ROW_NUMBER() OVER (PARTITION BY anonymous_id,nvl(same_section,false) ORDER BY device_sent_timestamp )\n",
    "             else\n",
    "                null\n",
    "             end\n",
    "             as partial_session\n",
    "        FROM raw_table t --\n",
    "        order by anonymous_id, device_sent_timestamp \n",
    "\"\"\")\n",
    "df_sessioned.select('device_family','device_sent_timestamp','delta_seg','same_section','event_time','partial_session').show(30, False)"
   ]
  },
  {
   "cell_type": "code",
   "execution_count": 6,
   "metadata": {},
   "outputs": [],
   "source": [
    "df_sessioned = spark.sql(\"\"\"\n",
    "with temp as (--\n",
    "      SELECT anonymous_id, browser_family, device_family, device_sent_timestamp, event, event_time, n, os_family, --\n",
    "             platform, nvl(same_section,false) same_section, version,\n",
    "             case when nvl(same_section,false) = false then\n",
    "                 0\n",
    "             else\n",
    "                delta_seg\n",
    "             end delta_seg,             \n",
    "             case when nvl(same_section,false) = false then\n",
    "             'session_' || ROW_NUMBER() OVER (PARTITION BY anonymous_id,nvl(same_section,false) ORDER BY device_sent_timestamp )\n",
    "             else\n",
    "              null\n",
    "             end\n",
    "             as partial_session\n",
    "        FROM raw_table t --\n",
    "), table_section_id as (--\n",
    "    select anonymous_id, browser_family, delta_seg, device_family, device_sent_timestamp, event, event_time, n, os_family, --\n",
    "             platform, nvl(same_section,false) same_section, version,\n",
    "             LAST_VALUE(partial_session,True) OVER (PARTITION BY anonymous_id ORDER BY device_sent_timestamp ) || '_' || anonymous_id session_id\n",
    "    from temp t\n",
    ")\n",
    "select * from table_section_id\n",
    "order by anonymous_id, device_sent_timestamp \n",
    "\"\"\")\n",
    "#df_sessioned.show()"
   ]
  },
  {
   "cell_type": "markdown",
   "metadata": {},
   "source": [
    "Neste ponto temos efetivamente um ClickStream"
   ]
  },
  {
   "cell_type": "code",
   "execution_count": 7,
   "metadata": {},
   "outputs": [],
   "source": [
    "df_sessioned.createOrReplaceTempView(\"clickstream\")"
   ]
  },
  {
   "cell_type": "code",
   "execution_count": 8,
   "metadata": {},
   "outputs": [],
   "source": [
    "spark.catalog.dropTempView('raw_table')"
   ]
  },
  {
   "cell_type": "markdown",
   "metadata": {},
   "source": [
    "## Desafio 1\n",
    "\n",
    "Calcular a quantidade total de sessões únicas por arquivo do conjunto de dados e apresentar no formato JSON.\n",
    "\n",
    "Neste passo, foi realizado o filtro para desconsiderar as sessoes abertas para descobrir o total de sessoes únicas."
   ]
  },
  {
   "cell_type": "code",
   "execution_count": null,
   "metadata": {},
   "outputs": [],
   "source": [
    "df_question_1 = spark.sql(\"\"\"\n",
    "select * from clickstream\n",
    "where same_section = false\n",
    "order by anonymous_id, device_sent_timestamp \n",
    "  \n",
    "\"\"\")\n",
    "df_question_1.select('device_family','device_sent_timestamp','same_section','event_time','session_id').show(30, False)"
   ]
  },
  {
   "cell_type": "markdown",
   "metadata": {},
   "source": [
    "No terceiro e passo foi calculada a quantidade de sessoes abertas, neste caso, para um único usuário."
   ]
  },
  {
   "cell_type": "code",
   "execution_count": null,
   "metadata": {},
   "outputs": [],
   "source": [
    "df_question_1 = spark.sql(\"\"\"\n",
    "SELECT /*anonymous_id,*/ COUNT(session_id)  qtd_session\n",
    "FROM clickstream\n",
    "where same_section = false\n",
    "--group by anonymous_id\n",
    "\"\"\")\n",
    "df_question_1.show()"
   ]
  },
  {
   "cell_type": "markdown",
   "metadata": {},
   "source": [
    "# Desafio 2\n",
    "Calcular a quantidade de sessões únicas que ocorreram em cada Browser, Sistema Operacional e Dispositivo dentro de todo o conjunto de dados.\n",
    "\n",
    "No primeiro passo foi identificar da quantidade por <b>browser_family</b>, <b>os_family</b> e <b>device_family</b>."
   ]
  },
  {
   "cell_type": "code",
   "execution_count": null,
   "metadata": {},
   "outputs": [],
   "source": [
    "spark.sql(\"\"\"\n",
    "\n",
    "SELECT browser_family, COUNT(session_id)  qtd_session\n",
    "FROM clickstream\n",
    "where same_section = false\n",
    "group by browser_family --\n",
    "\n",
    "\"\"\").show()"
   ]
  },
  {
   "cell_type": "code",
   "execution_count": null,
   "metadata": {},
   "outputs": [],
   "source": [
    "spark.sql(\"\"\"\n",
    "SELECT os_family, COUNT(session_id)  qtd_session\n",
    "FROM clickstream\n",
    "where same_section = false\n",
    "group by os_family\n",
    "\"\"\").show()"
   ]
  },
  {
   "cell_type": "code",
   "execution_count": 31,
   "metadata": {},
   "outputs": [
    {
     "name": "stdout",
     "output_type": "stream",
     "text": [
      "+------------+--------------+---------+-------------+---------------------+-----+----------+---+---------+--------+------------+-------+----------+\n",
      "|anonymous_id|browser_family|delta_seg|device_family|device_sent_timestamp|event|event_time|  n|os_family|platform|same_section|version|session_id|\n",
      "+------------+--------------+---------+-------------+---------------------+-----+----------+---+---------+--------+------------+-------+----------+\n",
      "+------------+--------------+---------+-------------+---------------------+-----+----------+---+---------+--------+------------+-------+----------+\n",
      "\n"
     ]
    }
   ],
   "source": [
    "spark.sql(\"\"\"\n",
    "SELECT * --'device_family' what, device_family ref, COUNT(session_id)  qtd_session\n",
    "  FROM clickstream\n",
    " where same_section = false\n",
    "   and (device_family = 'iPhone8' or browser_family = 'iPhone8'  or os_family= 'iPhone8')\n",
    " --group by device_family\n",
    "\"\"\").show()"
   ]
  },
  {
   "cell_type": "markdown",
   "metadata": {},
   "source": [
    "Segundo passo <b>Método 1</b> foi agrupar todos esses resultados em um dataframe"
   ]
  },
  {
   "cell_type": "code",
   "execution_count": 10,
   "metadata": {},
   "outputs": [],
   "source": [
    "df_question_2 = spark.sql(\"\"\"\n",
    "with table_temp as (--\n",
    "    SELECT *\n",
    "    FROM clickstream\n",
    "    where same_section = false\n",
    "), \n",
    "table_union as (--\n",
    "    SELECT 'device_family' what, device_family ref, COUNT(session_id)  qtd_session\n",
    "      FROM table_temp\n",
    "     group by device_family\n",
    "    union\n",
    "    SELECT 'os_family' what, os_family ref, COUNT(session_id)  qtd_session\n",
    "      FROM table_temp\n",
    "    group by os_family\n",
    "    union\n",
    "    SELECT 'browser_family' what, browser_family ref, COUNT(session_id)  qtd_session\n",
    "      FROM table_temp\n",
    "     group by browser_family --\n",
    "),\n",
    "table_collection as (--\n",
    "    select what, nvl(ref, 'Not Identified') || ':' || qtd_session collection \n",
    "    from table_union\n",
    "    order by what, ref--\n",
    ")\n",
    "select what, array_join(collect_list(trim(collection)),',')  collection\n",
    "from table_collection\n",
    "group by what\n",
    "\"\"\")\n",
    "\n",
    "#df_question_2.show(10, False)"
   ]
  },
  {
   "cell_type": "code",
   "execution_count": 12,
   "metadata": {},
   "outputs": [],
   "source": [
    "dados = df_question_2.toPandas()"
   ]
  },
  {
   "cell_type": "code",
   "execution_count": 14,
   "metadata": {},
   "outputs": [
    {
     "data": {
      "text/html": [
       "<div>\n",
       "<style scoped>\n",
       "    .dataframe tbody tr th:only-of-type {\n",
       "        vertical-align: middle;\n",
       "    }\n",
       "\n",
       "    .dataframe tbody tr th {\n",
       "        vertical-align: top;\n",
       "    }\n",
       "\n",
       "    .dataframe thead th {\n",
       "        text-align: right;\n",
       "    }\n",
       "</style>\n",
       "<table border=\"1\" class=\"dataframe\">\n",
       "  <thead>\n",
       "    <tr style=\"text-align: right;\">\n",
       "      <th></th>\n",
       "      <th>what</th>\n",
       "      <th>collection</th>\n",
       "    </tr>\n",
       "  </thead>\n",
       "  <tbody>\n",
       "    <tr>\n",
       "      <th>0</th>\n",
       "      <td>device_family</td>\n",
       "      <td>:88,1001-G Go:221,2014819:69,4009E:5,4009I:6,4...</td>\n",
       "    </tr>\n",
       "    <tr>\n",
       "      <th>1</th>\n",
       "      <td>os_family</td>\n",
       "      <td>Android:7247173,Chrome OS:1892,Fedora:266,Free...</td>\n",
       "    </tr>\n",
       "    <tr>\n",
       "      <th>2</th>\n",
       "      <td>browser_family</td>\n",
       "      <td>AdsBot-Google:11399,Amazon Silk:131,Android:36...</td>\n",
       "    </tr>\n",
       "  </tbody>\n",
       "</table>\n",
       "</div>"
      ],
      "text/plain": [
       "             what                                         collection\n",
       "0   device_family  :88,1001-G Go:221,2014819:69,4009E:5,4009I:6,4...\n",
       "1       os_family  Android:7247173,Chrome OS:1892,Fedora:266,Free...\n",
       "2  browser_family  AdsBot-Google:11399,Amazon Silk:131,Android:36..."
      ]
     },
     "execution_count": 14,
     "metadata": {},
     "output_type": "execute_result"
    }
   ],
   "source": [
    "dados.head()"
   ]
  },
  {
   "cell_type": "code",
   "execution_count": 27,
   "metadata": {},
   "outputs": [
    {
     "name": "stdout",
     "output_type": "stream",
     "text": [
      "{}\n"
     ]
    }
   ],
   "source": [
    "question2a = {}\n",
    "print(question2a)"
   ]
  },
  {
   "cell_type": "code",
   "execution_count": 32,
   "metadata": {},
   "outputs": [
    {
     "name": "stdout",
     "output_type": "stream",
     "text": [
      "{'device_family': {'': 264.0, '1001-G Go': 663.0, '2014819': 207.0, '4009E': 15.0, '4009I': 18.0, '4017F': 693.0, '4028E': 6.0, '4034E': 4506.0, '4055J': 510.0, '5010E': 4392.0, '5016J': 255.0, '5017E': 27.0, '5026J': 864.0, '5033E': 1185.0, '5033J': 2568.0, '5045J': 1467.0, '5046J': 285.0, '5049E': 78.0, '5051J': 741.0, '5054W': 33.0, '5056N': 87.0, '5085J': 669.0, '5085N': 1545.0, '5090I': 75.0, '5152D': 1080.0, '5159J': 2889.0, '5186D': 468.0, '5199I': 231.0, '6039J': 78.0, '6055B': 672.0, '6060S': 27.0, '62S': 168.0, '7048A': 6.0, '705-G': 66.0, '705-G Go': 1464.0, '71S': 156.0, '8050E': 5151.0, '9008J': 1191.0, '9008N': 2019.0, '91S': 6.0, 'A3_Pro': 24.0, 'ALE-L21': 243.0, 'ATU-LX3': 3.0, 'Advance 4.0 L3': 108.0, 'Advance 4.0M': 126.0, 'Advance 5.2': 48.0, 'Advance L4': 240.0, 'Aquaris X Pro': 54.0, 'Archos 60 Platinum': 63.0, 'Archos Access 50 Color 3G': 78.0, 'Archos Core 50 4G': 210.0, 'Armor_3': 3.0, 'Armor_6': 60.0, 'Asus A001D': 32244.0, 'Asus A007': 5649.0, 'Asus ASUS': 141.0, 'Asus FBBD': 900.0, 'Asus I001DB': 99.0, 'Asus I001DD': 45.0, 'Asus I01WD': 1977.0, 'Asus T00J': 105.0, 'Asus X008D': 432.0, 'Asus X008DB': 3099.0, 'Asus X008DC': 18.0, 'Asus X00AD': 108.0, 'Asus X00ADA': 537.0, 'Asus X00BD': 96.0, 'Asus X00DD': 63.0, 'Asus X00DDA': 3849.0, 'Asus X00DDB': 369.0, 'Asus X00GD': 66.0, 'Asus X00HD': 3462.0, 'Asus X00ID': 5406.0, 'Asus X00KD': 108.0, 'Asus X00LD': 26529.0, 'Asus X00LDA': 3561.0, 'Asus X00PD': 3459.0, 'Asus X00QD': 20349.0, 'Asus X00RD': 8964.0, 'Asus X00TD': 219.0, 'Asus X00TDB': 18237.0, 'Asus X013D': 3759.0, 'Asus X014D': 174.0, 'Asus X017D': 4737.0, 'Asus X017DA': 9297.0, 'Asus X018D': 3516.0, 'Asus X018DC': 9.0, 'Asus X01AD': 84.0, 'Asus X01BDA': 3189.0, 'Asus Z00A': 63.0, 'Asus Z00AD': 2961.0, 'Asus Z00LD': 858.0, 'Asus Z00UD': 2220.0, 'Asus Z00VD': 327.0, 'Asus Z00XS': 243.0, 'Asus Z00YD': 510.0, 'Asus Z011D': 1605.0, 'Asus Z012DA': 45.0, 'Asus Z012DC': 10701.0, 'Asus Z012DE': 36.0, 'Asus Z017D': 204.0, 'Asus Z017DA': 219.0, 'Asus Z017DC': 5322.0, 'Asus Z01FD': 9.0, 'Asus Z01HDA': 399.0, 'Asus Z01KD': 8844.0, 'Asus Z01KDA': 474.0, 'Asus Z01MD': 1716.0, 'Asus Z01RD': 3810.0, 'Asus ZB500KG': 42.0, 'Asus ZE553KL': 1401.0, 'BBB100-1': 12.0, 'BBB100-2': 45.0, 'BBC100-1': 3.0, 'BBD100-2': 201.0, 'BL5000': 9.0, 'BLA-L29': 237.0, 'BLL-L22': 21.0, 'BLL-L23': 18.0, 'BLU ADVANCE 4.0 L2': 411.0, 'BLU DASH L': 21.0, 'BLU DASH M2': 117.0, 'BLU DASH X2': 18.0, 'BLU ENERGY DIAMOND': 27.0, 'BLU Grand X LTE': 90.0, 'BLU NEO X MINI': 48.0, 'BLU STUDIO C HD': 9.0, 'BLU STUDIO G2': 222.0, 'BLU Studio Touch': 30.0, 'BV8000Pro': 63.0, 'BV9500': 15.0, 'Bluboo_S8_plus': 36.0, 'C NOTE 2': 180.0, 'C103': 21.0, 'C1604': 45.0, 'C2004': 6.0, 'C2304': 36.0, 'C5': 549.0, 'C5303': 18.0, 'C5L': 18.0, 'C6': 219.0, 'C6503': 30.0, 'C6843': 3.0, 'C6943': 459.0, 'C8': 24.0, 'CPH1803': 33.0, 'CPH1909': 177.0, 'CUBOT_J3': 42.0, 'CUBOT_P20': 27.0, 'CUBOT_POWER': 33.0, 'Che2-L11': 21.0, 'D2114': 87.0, 'D2212': 42.0, 'D2243': 51.0, 'D2306': 39.0, 'D2403': 159.0, 'D5322': 162.0, 'D5803': 9.0, 'D5833': 60.0, 'D6503': 3.0, 'D6543': 456.0, 'D6603': 339.0, 'D6633': 165.0, 'D6643': 12.0, 'DASH C MUSIC': 27.0, 'DIG-L01': 48.0, 'DIG-L03': 12.0, 'DUA-L22': 138.0, 'DUB-LX1': 183.0, 'DUB-LX3': 63.0, 'Dash L4 LTE': 54.0, 'E': 1152.0, 'E2124': 30.0, 'E2303': 30.0, 'E2306': 15.0, 'E2363': 210.0, 'E5343': 66.0, 'E5563': 126.0, 'E5643': 75.0, 'E6533': 3.0, 'E6553': 75.0, 'E6603': 93.0, 'E6633': 750.0, 'E6653': 147.0, 'E6683': 3.0, 'E6833': 33.0, 'E6853': 303.0, 'ELUGA_A3_Pro': 105.0, 'EML-AL00': 33.0, 'ENERGY XL': 24.0, 'E_Lite': 468.0, 'F': 4074.0, 'F3115': 120.0, 'F3116': 618.0, 'F3216': 291.0, 'F3313': 342.0, 'F5121': 246.0, 'F5122': 369.0, 'F8331': 48.0, 'F8332': 51.0, 'FRD-AL10': 30.0, 'FS8010': 3.0, 'F_Pro': 351.0, 'G': 408.0, 'G011A': 18.0, 'G3116': 528.0, 'G3223': 33.0, 'G3226': 879.0, 'G3311': 42.0, 'G3312': 102.0, 'G3313': 72.0, 'G3423': 30.0, 'G3426': 351.0, 'G4': 24.0, 'G6 Plus': 6.0, 'G8141': 30.0, 'G8232': 18.0, 'G8341': 141.0, 'GIONEE S11 lite': 12.0, 'GO 2': 18.0, 'GO3C': 468.0, 'GO3C Plus': 399.0, 'GO3E': 1554.0, 'GO5E': 1734.0, 'GOME 2017M27A': 510.0, 'GOME_C7_Note_Plus': 66.0, 'GOME_U9': 234.0, 'G_Max': 1035.0, 'G_Pro': 567.0, 'Generic Feature Phone': 27.0, 'Generic Smartphone': 12103062.0, 'Generic Tablet': 4962.0, 'Grand M': 36.0, 'Grand Max': 321.0, 'Grand X': 204.0, 'Grand XL': 57.0, 'H': 45.0, 'H3223': 150.0, 'HDT-7427G': 141.0, 'HDT-9421G': 156.0, 'HP 7.1': 120.0, 'HS007C': 27.0, 'HT-705XS': 6.0, 'HT16': 114.0, 'HT37Pro': 36.0, 'HTC 10': 18.0, 'HTC 10 evo': 12.0, 'HTC 2Q4D100': 30.0, 'HTC D160LVWPP': 15.0, 'HTC Desire 550': 6.0, 'HTC One': 129.0, 'HTC One M8': 87.0, 'HTC One M9': 693.0, 'HTC U11': 45.0, 'HUAWEI LUA-U23': 18.0, 'HUAWEI LYO-L21': 27.0, 'HUAWEI VNS-L23': 18.0, 'HUAWEI Y321-U051': 45.0, 'Huawei Browser': 363.0, 'INE-LX1': 39.0, 'INE-LX2': 15.0, 'Inettv': 21.0, 'JOY': 330.0, 'JSN-L21': 249.0, 'K10': 3.0, 'K10000 Pro': 3.0, 'K3': 75.0, 'K501': 168.0, 'KFAUWI': 9.0, 'KFKAWI': 24.0, 'KING 7': 12.0, 'KIW-L24': 18.0, 'KYY23': 45.0, 'Kindle': 393.0, 'Kingbox': 27.0, 'LEX626': 450.0, 'LEX651': 51.0, 'LEX720': 51.0, 'LEX722': 39.0, 'LG K350': 198.0, 'LG K430': 54.0, 'LG M250': 363.0, 'LG M320': 111.0, 'LG-AS330': 3.0, 'LG-D100': 618.0, 'LG-D105': 930.0, 'LG-D107': 261.0, 'LG-D125': 339.0, 'LG-D157f': 273.0, 'LG-D175f': 333.0, 'LG-D180f': 27.0, 'LG-D221': 39.0, 'LG-D227': 966.0, 'LG-D285': 51.0, 'LG-D295': 465.0, 'LG-D325': 714.0, 'LG-D337': 16200.0, 'LG-D385': 645.0, 'LG-D390': 15.0, 'LG-D410': 1233.0, 'LG-D618': 939.0, 'LG-D683': 114.0, 'LG-D685': 549.0, 'LG-D690': 30.0, 'LG-D690n': 2325.0, 'LG-D724': 90.0, 'LG-D805': 39.0, 'LG-D855': 150.0, 'LG-E415f': 33.0, 'LG-E425f': 15.0, 'LG-E435f': 114.0, 'LG-E455': 96.0, 'LG-E455f': 42.0, 'LG-E470f': 54.0, 'LG-E475f': 9.0, 'LG-E615f': 57.0, 'LG-E977': 33.0, 'LG-E989': 120.0, 'LG-H221': 258.0, 'LG-H222': 2346.0, 'LG-H326': 1467.0, 'LG-H340': 177.0, 'LG-H342': 1368.0, 'LG-H422': 1515.0, 'LG-H442': 24.0, 'LG-H502': 1419.0, 'LG-H520': 996.0, 'LG-H522': 2049.0, 'LG-H540': 1452.0, 'LG-H630': 1377.0, 'LG-H735': 3.0, 'LG-H736': 75.0, 'LG-H815': 855.0, 'LG-H818': 1452.0, 'LG-H820': 66.0, 'LG-H830': 27.0, 'LG-H831': 57.0, 'LG-H840': 1317.0, 'LG-H860': 540.0, 'LG-H870': 4248.0, 'LG-H870DS': 156.0, 'LG-H870I': 3054.0, 'LG-H870S': 30.0, 'LG-H870V': 39.0, 'LG-H871': 24.0, 'LG-H873': 180.0, 'LG-H910': 24.0, 'LG-H918': 15.0, 'LG-H930': 15.0, 'LG-H931': 15.0, 'LG-H990': 153.0, 'LG-K100': 6.0, 'LG-K120': 1281.0, 'LG-K130': 12288.0, 'LG-K200': 12762.0, 'LG-K220': 21765.0, 'LG-K350': 15873.0, 'LG-K410': 978.0, 'LG-K420': 306.0, 'LG-K428': 9.0, 'LG-K430': 109806.0, 'LG-K500': 1617.0, 'LG-K500n': 3.0, 'LG-K520': 33.0, 'LG-K530': 60.0, 'LG-K580': 3108.0, 'LG-M150': 18.0, 'LG-M151': 6.0, 'LG-M210': 18.0, 'LG-M250': 208947.0, 'LG-M257': 21.0, 'LG-M320': 114867.0, 'LG-M327': 30.0, 'LG-M400': 11934.0, 'LG-M700': 48156.0, 'LG-P705': 15.0, 'LG-TP260': 15.0, 'LG-V480': 12.0, 'LG-V500': 15.0, 'LG-V700': 21.0, 'LG-X170fTV': 315.0, 'LG-X210': 387.0, 'LG-X220': 1764.0, 'LG-X230': 60462.0, 'LG-X240': 3705.0, 'LGMP260': 426.0, 'LGMS210': 57.0, 'LIO+': 165.0, 'LM-G710': 132.0, 'LM-Q610.FGN': 3693.0, 'LM-Q710(FGN)': 285.0, 'LM-Q710.FGN': 1455.0, 'LM-X210': 63618.0, 'LM-X410.F': 86742.0, 'LM-X420': 4689.0, 'LND-AL30': 78.0, 'Le X520': 6.0, 'Le X522': 174.0, 'Le X526': 81.0, 'Le X620': 27.0, 'Le X820': 48.0, 'Lenny4 Plus': 12.0, 'Lenovo A1000': 168.0, 'Lenovo A1010a20': 273.0, 'Lenovo A2016a40': 498.0, 'Lenovo A2016b30': 10812.0, 'Lenovo A3300-GV': 66.0, 'Lenovo A6020a40': 831.0, 'Lenovo A6020a46': 57.0, 'Lenovo A6020l36': 24318.0, 'Lenovo A7010a48': 2142.0, 'Lenovo A7600-F': 18.0, 'Lenovo B8000-F': 177.0, 'Lenovo K10a40': 9753.0, 'Lenovo K10e70': 51.0, 'Lenovo K33a42': 126.0, 'Lenovo K33a48': 1683.0, 'Lenovo K33b36': 22548.0, 'Lenovo K50-t5': 99.0, 'Lenovo K51c78': 30.0, 'Lenovo K520': 516.0, 'Lenovo K53a48': 447.0, 'Lenovo K53b36': 12285.0, 'Lenovo K8 Note': 621.0, 'Lenovo K8 Plus': 2373.0, 'Lenovo L18021': 93.0, 'Lenovo L19041': 30.0, 'Lenovo L38012': 126.0, 'Lenovo L38041': 642.0, 'Lenovo L38111': 105.0, 'Lenovo L58041': 117.0, 'Lenovo L78011': 90.0, 'Lenovo L78032': 321.0, 'Lenovo L78051': 366.0, 'Lenovo L78071': 510.0, 'Lenovo P1c58': 108.0, 'Lenovo P2a42': 6.0, 'Lenovo PB2-670M': 24.0, 'Lenovo PB2-670N': 24.0, 'Lenovo TAB 2 A10-70F': 39.0, 'Lenovo TB-8703F': 27.0, 'Lenovo TB-8703X': 144.0, 'Lenovo TB-X103F': 66.0, 'Lenovo TB-X304F': 39.0, 'Lenovo TB-X605F': 36.0, 'Lenovo TB2-X30F': 168.0, 'Lenovo TB3-X70F': 24.0, 'Lenovo YB1-X90F': 3.0, 'Lenovo Z90-7': 57.0, 'Life One X2': 9.0, 'Life One X2 Mini': 15.0, 'Lumia 435': 9.0, 'Lumia 640': 108.0, 'Lumia 950': 9.0, 'M10A': 21.0, 'M10A-Lite': 24.0, 'M5c': 66.0, 'M5s': 12.0, 'M6 Note': 270.0, 'M6T': 150.0, 'M7-3G-PLUS': 1422.0, 'M7-4G': 429.0, 'M7SQC_Plus': 129.0, 'M7S_LITE': 108.0, 'M7_3G_PLUS': 390.0, 'M7sLite': 78.0, 'M8 Pro': 24.0, 'M9 Pro': 81.0, 'M9-3G': 108.0, 'MEGA': 69.0, 'MHA-L29': 3.0, 'MIX': 273.0, 'MIX 2': 192.0, 'ML-CH-MS45_4G': 372.0, 'ML-JI11-M7_3G_PLUS': 51.0, 'ML-SO-M7_3G_PLUS': 144.0, 'ML-TI-MS80': 450.0, 'ML-WI-M9-3G': 9.0, 'MN4A2ZP/A': 93.0, 'MONDIAL': 27.0, 'MS40G': 2100.0, 'MS40S': 309.0, 'MS45S': 24.0, 'MS45S_A6': 417.0, 'MS45S_A6_Teen': 36.0, 'MS50': 3.0, 'MS50G': 4482.0, 'MS50L': 8862.0, 'MS50L_4G': 321.0, 'MS50M': 129.0, 'MS50S': 15.0, 'MS50X': 2556.0, 'MS50_4G': 186.0, 'MS55': 861.0, 'MS55M': 204.0, 'MS60': 528.0, 'MS60F': 1368.0, 'MS60F_PLUS': 435.0, 'MS60X': 459.0, 'MS60Z': 336.0, 'MS70': 879.0, 'MS80X': 525.0, 'MUV': 648.0, 'MX9-4K': 21.0, 'MYA-L11': 150.0, 'MYA-L23': 213.0, 'MZ-M5 Note': 3.0, 'MZ-M5c': 93.0, 'MZ-M5s': 159.0, 'MZ-MX4': 6.0, 'MZ-Meizu M6s': 9.0, 'MZ-meizu C9': 6.0, 'Magnum One': 36.0, 'Maya': 21.0, 'Meizu M6': 39.0, 'Meizu M6s': 66.0, 'Mi A1': 18.0, 'Mi A2': 378.0, 'Mi A2 Lite': 597.0, 'Mi MIX 2': 18.0, 'Mi Note 2': 489.0, 'Micromax P789': 96.0, 'Microsoft Virtual': 18.0, 'Moto C': 11595.0, 'Moto C Plus': 46587.0, 'Moto E': 198.0, 'Moto E (4)': 25767.0, 'Moto E (4) Plus': 42258.0, 'Moto G': 36.0, 'Moto G (4)': 47607.0, 'Moto G (5)': 106311.0, 'Moto G (5) Plus': 55896.0, 'Moto G (5S)': 110073.0, 'Moto G (5S) Plus': 110877.0, 'Moto G 2014': 3.0, 'Moto G Play': 63705.0, 'Moto G4 Plus': 30.0, 'Moto G5 (XT1672)': 921.0, 'Moto G5S (XT1792)': 18.0, 'Moto X Play': 4494.0, 'Moto X4': 3.0, 'Moto Z (2)': 4152.0, 'Moto Z2 Play': 57777.0, 'Moto Z3 Play': 40263.0, 'MotoE2': 291.0, 'MotoE2(4G-LTE)': 1500.0, 'MotoG3': 20790.0, 'MotoG3-TE': 1368.0, 'Motorola MZ608': 21.0, 'N5L': 21.0, 'NP-752Go': 900.0, 'NP-852': 24.0, 'NX551J': 81.0, 'NX563J': 75.0, 'NX569J': 51.0, 'NX573J': 393.0, 'NX591J': 252.0, 'NX612J': 24.0, 'Neffos C5': 111.0, 'Neffos X1 Lite': 93.0, 'Nexus 5': 148452.0, 'Nexus 5X': 219.0, 'Nokia 2': 933.0, 'Nokia 2.3': 30.0, 'Nokia 3': 21.0, 'Nokia 3.1': 6.0, 'Nokia 3.1 Plus': 54.0, 'Nokia 6': 957.0, 'Nokia 6.1 Plus': 489.0, 'Nokia 7': 24.0, 'Nokia 7 plus': 48.0, 'Nokia 7.1': 264.0, 'ONEPLUS A3003': 210.0, 'One Pro': 102.0, 'Opal 4S': 99.0, 'Other': 4396041.0, 'P10': 81.0, 'PHONEMAX_Saturn': 42.0, 'POCOPHONE F1': 99.0, 'PRA-LX1': 72.0, 'PRO 7-S': 60.0, 'PTB7PAP_PTB7PAB_PTB7PAR': 69.0, 'PTB7QSG_3G': 42.0, 'Pixel 2': 174.0, 'Pixel 2 XL': 9.0, 'Pixel C': 69.0, 'Platinum_5.0M': 48.0, 'PlayStation 4': 231.0, 'Plus E': 18.0, 'Positivo Slim': 420.0, 'Positivo Twist 4G': 1824.0, 'Positivo Twist M': 1071.0, 'Positivo Twist S': 990.0, 'Positivo US2070': 12.0, 'Power 3S': 12.0, 'Power_5': 78.0, 'Pure XR': 30.0, 'Q05A': 9.0, 'Q06': 51.0, 'Quantum Fly': 18.0, 'Quantum Go': 486.0, 'Quantum MUV PRO': 1227.0, 'Quantum MUV UP': 54.0, 'Quantum V': 24.0, 'Quantum You 2': 240.0, 'Quantum You E': 15.0, 'Quartzo UP': 258.0, 'R1 PLUS': 57.0, 'R2 LTE': 210.0, 'RCT6A03W13': 30.0, 'RNE-L21': 114.0, 'RNE-L22': 168.0, 'RNE-L23': 102.0, 'RS988': 126.0, 'S10': 99.0, 'S10_Pro': 120.0, 'S30': 54.0, 'S31': 84.0, 'S41': 288.0, 'S420': 30.0, 'S430 Positivo Twist Mini': 444.0, 'S455': 81.0, 'S55': 6.0, 'S60': 63.0, 'S60Lite': 102.0, 'S70': 57.0, 'S8': 129.0, 'S9 Plus': 129.0, 'S9+': 120.0, 'SC-02H': 12.0, 'SGP311': 12.0, 'SGP551': 150.0, 'SKY 5.0W': 24.0, 'STH100-2': 36.0, 'STV-2000': 27.0, 'STV100-3': 243.0, 'SUPER': 3.0, 'Samsung GT-I8190L': 177.0, 'Samsung GT-I8200L': 60.0, 'Samsung GT-I8262B': 147.0, 'Samsung GT-I8552': 9.0, 'Samsung GT-I8552B': 2778.0, 'Samsung GT-I9060C': 7638.0, 'Samsung GT-I9060I': 516.0, 'Samsung GT-I9063T': 1497.0, 'Samsung GT-I9070': 30.0, 'Samsung GT-I9082': 87.0, 'Samsung GT-I9082L': 390.0, 'Samsung GT-I9105P': 30.0, 'Samsung GT-I9152': 723.0, 'Samsung GT-I9192': 5592.0, 'Samsung GT-I9195': 291.0, 'Samsung GT-I9200': 42.0, 'Samsung GT-I9295': 246.0, 'Samsung GT-I9300': 144.0, 'Samsung GT-I9300I': 1188.0, 'Samsung GT-I9500': 333.0, 'Samsung GT-I9505': 2427.0, 'Samsung GT-I9505G': 9.0, 'Samsung GT-I9515': 48.0, 'Samsung GT-I9515L': 2868.0, 'Samsung GT-N5100': 51.0, 'Samsung GT-N7000': 48.0, 'Samsung GT-N7100': 168.0, 'Samsung GT-N7105T': 6.0, 'Samsung GT-N8000': 183.0, 'Samsung GT-P3100': 39.0, 'Samsung GT-P3110': 27.0, 'Samsung GT-P5200': 102.0, 'Samsung GT-P5210': 6.0, 'Samsung GT-S5303B': 24.0, 'Samsung GT-S5310B': 297.0, 'Samsung GT-S5310C': 81.0, 'Samsung GT-S5312C': 483.0, 'Samsung GT-S6293T': 1599.0, 'Samsung GT-S6313T': 99.0, 'Samsung GT-S6792L': 9.0, 'Samsung GT-S6810B': 12.0, 'Samsung GT-S6812B': 33.0, 'Samsung GT-S7273T': 264.0, 'Samsung GT-S7275B': 54.0, 'Samsung GT-S7392L': 66.0, 'Samsung GT-S7560M': 18.0, 'Samsung GT-S7562L': 27.0, 'Samsung GT-S7582': 24.0, 'Samsung GT-S7582L': 1386.0, 'Samsung GT-S7583T': 309.0, 'Samsung KDDI': 15.0, 'Samsung SAMSUNG SM-N9005': 15.0, 'Samsung SAMSUNG-SM-J320A': 96.0, 'Samsung SM-A015M': 4311.0, 'Samsung SM-A102U': 138.0, 'Samsung SM-A102U1': 60.0, 'Samsung SM-A105F': 549.0, 'Samsung SM-A105FN': 546.0, 'Samsung SM-A105G': 54.0, 'Samsung SM-A105M': 408624.0, 'Samsung SM-A107F': 144.0, 'Samsung SM-A107M': 119046.0, 'Samsung SM-A115M': 96.0, 'Samsung SM-A202F': 405.0, 'Samsung SM-A205F': 396.0, 'Samsung SM-A205G': 279522.0, 'Samsung SM-A205GN': 108.0, 'Samsung SM-A207M': 111936.0, 'Samsung SM-A217M': 27.0, 'Samsung SM-A260F': 9.0, 'Samsung SM-A260G': 273.0, 'Samsung SM-A300FU': 54.0, 'Samsung SM-A300M': 2049.0, 'Samsung SM-A305F': 102.0, 'Samsung SM-A305FN': 12.0, 'Samsung SM-A305G': 690.0, 'Samsung SM-A305GN': 12.0, 'Samsung SM-A305GT': 214836.0, 'Samsung SM-A305YN': 15.0, 'Samsung SM-A307G': 51.0, 'Samsung SM-A307GN': 12.0, 'Samsung SM-A307GT': 165402.0, 'Samsung SM-A310F': 51.0, 'Samsung SM-A310M': 2112.0, 'Samsung SM-A315G': 1059.0, 'Samsung SM-A320F': 18.0, 'Samsung SM-A405FN': 483.0, 'Samsung SM-A500H': 12.0, 'Samsung SM-A500M': 9219.0, 'Samsung SM-A505F': 363.0, 'Samsung SM-A505FN': 30.0, 'Samsung SM-A505G': 2694.0, 'Samsung SM-A505GT': 188907.0, 'Samsung SM-A507FN': 15.0, 'Samsung SM-A510M': 13341.0, 'Samsung SM-A515F': 66540.0, 'Samsung SM-A520F': 37614.0, 'Samsung SM-A520W': 21.0, 'Samsung SM-A530F': 36504.0, 'Samsung SM-A600FN': 63.0, 'Samsung SM-A600GN': 33.0, 'Samsung SM-A605FN': 204.0, 'Samsung SM-A605G': 9.0, 'Samsung SM-A605GN': 22575.0, 'Samsung SM-A6060': 99.0, 'Samsung SM-A700FD': 2064.0, 'Samsung SM-A700YD': 66.0, 'Samsung SM-A7050': 9.0, 'Samsung SM-A705FN': 243.0, 'Samsung SM-A705MN': 78306.0, 'Samsung SM-A710M': 3243.0, 'Samsung SM-A715F': 22866.0, 'Samsung SM-A720F': 21282.0, 'Samsung SM-A730F': 21987.0, 'Samsung SM-A750F': 117.0, 'Samsung SM-A750FN': 63.0, 'Samsung SM-A750G': 53142.0, 'Samsung SM-A750GN': 99.0, 'Samsung SM-A805F': 22947.0, 'Samsung SM-A9000': 21.0, 'Samsung SM-A910F': 10914.0, 'Samsung SM-A920F': 26886.0, 'Samsung SM-A920X': 6.0, 'Samsung SM-B313E': 36.0, 'Samsung SM-C5000': 186.0, 'Samsung SM-C5010': 150.0, 'Samsung SM-C7000': 66.0, 'Samsung SM-C7010': 63.0, 'Samsung SM-C9000': 330.0, 'Samsung SM-E500M': 408.0, 'Samsung SM-E700M': 2220.0, 'Samsung SM-F700F': 132.0, 'Samsung SM-G110B': 87.0, 'Samsung SM-G130BU': 21.0, 'Samsung SM-G316M': 54.0, 'Samsung SM-G316ML': 84.0, 'Samsung SM-G318ML': 24.0, 'Samsung SM-G3502L': 126.0, 'Samsung SM-G3502T': 300.0, 'Samsung SM-G355M': 480.0, 'Samsung SM-G360BT': 3756.0, 'Samsung SM-G360M': 861.0, 'Samsung SM-G3812B': 57.0, 'Samsung SM-G530A': 24.0, 'Samsung SM-G530BT': 14334.0, 'Samsung SM-G530H': 1983.0, 'Samsung SM-G530MU': 207.0, 'Samsung SM-G530T': 138.0, 'Samsung SM-G531BT': 16686.0, 'Samsung SM-G531H': 35532.0, 'Samsung SM-G531M': 2637.0, 'Samsung SM-G532F': 711.0, 'Samsung SM-G532G': 306.0, 'Samsung SM-G532M': 59760.0, 'Samsung SM-G532MT': 209778.0, 'Samsung SM-G570F': 183.0, 'Samsung SM-G570M': 315675.0, 'Samsung SM-G570Y': 132.0, 'Samsung SM-G6000': 18.0, 'Samsung SM-G600FY': 25218.0, 'Samsung SM-G6100': 276.0, 'Samsung SM-G610F': 6153.0, 'Samsung SM-G610M': 369843.0, 'Samsung SM-G611F': 129.0, 'Samsung SM-G611M': 855.0, 'Samsung SM-G611MT': 90705.0, 'Samsung SM-G615F': 24.0, 'Samsung SM-G7102': 18.0, 'Samsung SM-G7102T': 192.0, 'Samsung SM-G770F': 585.0, 'Samsung SM-G800H': 2937.0, 'Samsung SM-G850F': 75.0, 'Samsung SM-G850M': 54.0, 'Samsung SM-G890A': 3.0, 'Samsung SM-G891A': 87.0, 'Samsung SM-G892A': 33.0, 'Samsung SM-G900A': 12.0, 'Samsung SM-G900F': 219.0, 'Samsung SM-G900FD': 78.0, 'Samsung SM-G900H': 9.0, 'Samsung SM-G900M': 5970.0, 'Samsung SM-G900MD': 1425.0, 'Samsung SM-G900P': 558.0, 'Samsung SM-G900T': 12.0, 'Samsung SM-G903F': 54.0, 'Samsung SM-G903M': 2904.0, 'Samsung SM-G920A': 66.0, 'Samsung SM-G920F': 573.0, 'Samsung SM-G920I': 9957.0, 'Samsung SM-G920T': 24.0, 'Samsung SM-G920V': 366.0, 'Samsung SM-G925A': 102.0, 'Samsung SM-G925F': 399.0, 'Samsung SM-G925I': 7164.0, 'Samsung SM-G925P': 9.0, 'Samsung SM-G928A': 42.0, 'Samsung SM-G928F': 78.0, 'Samsung SM-G928G': 1419.0, 'Samsung SM-G928T': 21.0, 'Samsung SM-G930A': 567.0, 'Samsung SM-G930F': 39075.0, 'Samsung SM-G930T': 27.0, 'Samsung SM-G930U': 726.0, 'Samsung SM-G930V': 597.0, 'Samsung SM-G935A': 111.0, 'Samsung SM-G935F': 41553.0, 'Samsung SM-G935L': 9.0, 'Samsung SM-G935P': 141.0, 'Samsung SM-G935S': 63.0, 'Samsung SM-G935U': 51.0, 'Samsung SM-G950F': 71442.0, 'Samsung SM-G950U': 561.0, 'Samsung SM-G950U1': 822.0, 'Samsung SM-G955F': 43785.0, 'Samsung SM-G955N': 84.0, 'Samsung SM-G955U': 537.0, 'Samsung SM-G955U1': 375.0, 'Samsung SM-G955W': 12.0, 'Samsung SM-G9600': 82767.0, 'Samsung SM-G960F': 1512.0, 'Samsung SM-G960U': 399.0, 'Samsung SM-G960U1': 342.0, 'Samsung SM-G960W': 123.0, 'Samsung SM-G960X': 123.0, 'Samsung SM-G9650': 89952.0, 'Samsung SM-G965F': 1338.0, 'Samsung SM-G965U': 693.0, 'Samsung SM-G965U1': 537.0, 'Samsung SM-G970F': 43584.0, 'Samsung SM-G970N': 117.0, 'Samsung SM-G970U': 18.0, 'Samsung SM-G970U1': 36.0, 'Samsung SM-G970X': 156.0, 'Samsung SM-G9730': 18.0, 'Samsung SM-G973F': 46665.0, 'Samsung SM-G973U': 39.0, 'Samsung SM-G973U1': 351.0, 'Samsung SM-G9750': 36.0, 'Samsung SM-G975F': 75504.0, 'Samsung SM-G975U': 168.0, 'Samsung SM-G975U1': 489.0, 'Samsung SM-G975W': 228.0, 'Samsung SM-G980F': 2892.0, 'Samsung SM-G985F': 4323.0, 'Samsung SM-G988B': 789.0, 'Samsung SM-G988U': 15.0, 'Samsung SM-G988U1': 6.0, 'Samsung SM-J100M': 144.0, 'Samsung SM-J105B': 41235.0, 'Samsung SM-J105H': 27.0, 'Samsung SM-J105M': 7065.0, 'Samsung SM-J106B': 390.0, 'Samsung SM-J106F': 24.0, 'Samsung SM-J106H': 888.0, 'Samsung SM-J106M': 36.0, 'Samsung SM-J110L': 15.0, 'Samsung SM-J110M': 615.0, 'Samsung SM-J111F': 105.0, 'Samsung SM-J111M': 570.0, 'Samsung SM-J120AZ': 18.0, 'Samsung SM-J120H': 26169.0, 'Samsung SM-J120M': 1428.0, 'Samsung SM-J200BT': 14553.0, 'Samsung SM-J200G': 39.0, 'Samsung SM-J200H': 267.0, 'Samsung SM-J200M': 6414.0, 'Samsung SM-J250F': 24.0, 'Samsung SM-J250M': 25614.0, 'Samsung SM-J260F': 3.0, 'Samsung SM-J260G': 285.0, 'Samsung SM-J260M': 111111.0, 'Samsung SM-J260MU': 1371.0, 'Samsung SM-J260T1': 18.0, 'Samsung SM-J3110': 72.0, 'Samsung SM-J3119S': 12.0, 'Samsung SM-J320F': 45.0, 'Samsung SM-J320FN': 120.0, 'Samsung SM-J320H': 447.0, 'Samsung SM-J320M': 40044.0, 'Samsung SM-J326AZ': 357.0, 'Samsung SM-J327T1': 6.0, 'Samsung SM-J327W': 18.0, 'Samsung SM-J330F': 24.0, 'Samsung SM-J330FN': 39.0, 'Samsung SM-J330G': 297.0, 'Samsung SM-J400F': 33.0, 'Samsung SM-J400M': 96267.0, 'Samsung SM-J410F': 135.0, 'Samsung SM-J410G': 172797.0, 'Samsung SM-J415F': 21.0, 'Samsung SM-J415FN': 162.0, 'Samsung SM-J415G': 143685.0, 'Samsung SM-J500F': 60.0, 'Samsung SM-J500FN': 9.0, 'Samsung SM-J500H': 777.0, 'Samsung SM-J500M': 165534.0, 'Samsung SM-J510FN': 36.0, 'Samsung SM-J510MN': 36804.0, 'Samsung SM-J530F': 42.0, 'Samsung SM-J530G': 80310.0, 'Samsung SM-J600F': 6.0, 'Samsung SM-J600FN': 57.0, 'Samsung SM-J600G': 1038.0, 'Samsung SM-J600GT': 173598.0, 'Samsung SM-J610F': 69.0, 'Samsung SM-J610FN': 111.0, 'Samsung SM-J610G': 135309.0, 'Samsung SM-J700F': 1077.0, 'Samsung SM-J700H': 666.0, 'Samsung SM-J700M': 103185.0, 'Samsung SM-J700T': 51.0, 'Samsung SM-J700T1': 174.0, 'Samsung SM-J701F': 603.0, 'Samsung SM-J701M': 855.0, 'Samsung SM-J701MT': 125451.0, 'Samsung SM-J710F': 543.0, 'Samsung SM-J710MN': 110643.0, 'Samsung SM-J720M': 2022.0, 'Samsung SM-J727T': 36.0, 'Samsung SM-J727T1': 36.0, 'Samsung SM-J727U': 33.0, 'Samsung SM-J730F': 708.0, 'Samsung SM-J730G': 107946.0, 'Samsung SM-J730GM': 1803.0, 'Samsung SM-J737T1': 57.0, 'Samsung SM-J737U': 15.0, 'Samsung SM-J810F': 105.0, 'Samsung SM-J810G': 39.0, 'Samsung SM-J810M': 193185.0, 'Samsung SM-J810Y': 27.0, 'Samsung SM-M105M': 20619.0, 'Samsung SM-M205M': 15174.0, 'Samsung SM-M305M': 19329.0, 'Samsung SM-N7502': 57.0, 'Samsung SM-N770F': 1929.0, 'Samsung SM-N9005': 957.0, 'Samsung SM-N910A': 321.0, 'Samsung SM-N910C': 1194.0, 'Samsung SM-N915T': 174.0, 'Samsung SM-N920A': 90.0, 'Samsung SM-N920C': 450.0, 'Samsung SM-N920G': 783.0, 'Samsung SM-N920S': 330.0, 'Samsung SM-N935F': 99.0, 'Samsung SM-N950F': 14517.0, 'Samsung SM-N950U': 303.0, 'Samsung SM-N950U1': 99.0, 'Samsung SM-N9600': 23691.0, 'Samsung SM-N960F': 1521.0, 'Samsung SM-N960N': 375.0, 'Samsung SM-N960U': 144.0, 'Samsung SM-N960U1': 84.0, 'Samsung SM-N9700': 12.0, 'Samsung SM-N970F': 8034.0, 'Samsung SM-N9750': 18.0, 'Samsung SM-N975F': 22194.0, 'Samsung SM-N975U': 21.0, 'Samsung SM-N975U1': 24.0, 'Samsung SM-N976U': 216.0, 'Samsung SM-P200': 48.0, 'Samsung SM-P205': 75.0, 'Samsung SM-P355M': 453.0, 'Samsung SM-P550': 249.0, 'Samsung SM-P555M': 225.0, 'Samsung SM-P585M': 336.0, 'Samsung SM-P605M': 18.0, 'Samsung SM-P615': 39.0, 'Samsung SM-T110': 78.0, 'Samsung SM-T111M': 249.0, 'Samsung SM-T113NU': 45.0, 'Samsung SM-T116BU': 96.0, 'Samsung SM-T280': 1554.0, 'Samsung SM-T285M': 4155.0, 'Samsung SM-T285YD': 159.0, 'Samsung SM-T290': 123.0, 'Samsung SM-T295': 828.0, 'Samsung SM-T311': 6.0, 'Samsung SM-T330': 15.0, 'Samsung SM-T331': 12.0, 'Samsung SM-T385M': 537.0, 'Samsung SM-T510': 765.0, 'Samsung SM-T515': 831.0, 'Samsung SM-T530': 3.0, 'Samsung SM-T550': 471.0, 'Samsung SM-T555': 576.0, 'Samsung SM-T560': 48.0, 'Samsung SM-T561M': 39.0, 'Samsung SM-T580': 36.0, 'Samsung SM-T585': 549.0, 'Samsung SM-T595': 702.0, 'Samsung SM-T700': 36.0, 'Samsung SM-T705M': 84.0, 'Samsung SM-T715Y': 48.0, 'Samsung SM-T725': 252.0, 'Samsung SM-T805M': 207.0, 'Samsung SM-T810': 24.0, 'Samsung SM-T815Y': 15.0, 'Samsung SM-T819': 234.0, 'Samsung SM-T819Y': 240.0, 'Samsung SM-T820': 39.0, 'Samsung SM-T825': 378.0, 'Samsung SM-T835': 33.0, 'Samsung SM-T865': 96.0, 'Sky': 633.0, 'Skywalker': 90.0, 'Smartphone DL Horizon H8': 132.0, 'Smartphone_YZU_DS53': 117.0, 'Spider': 2426745.0, 'Studio J2': 108.0, 'Studio View XL': 93.0, 'Sunny3': 21.0, 'T96 Mars': 6.0, 'TP601B': 12.0, 'TRT-L53': 132.0, 'TRT-LX1': 6.0, 'TV BOX': 33.0, 'TVBOX': 51.0, 'TWIST 4.0': 6.0, 'TX92': 21.0, 'Tablet_DL_2811': 390.0, 'Tablet_DL_2820': 45.0, 'Tablet_DL_4010': 51.0, 'Twist (2018)': 3993.0, 'Twist 2': 3672.0, 'Twist 2 Fit': 2046.0, 'Twist 2 Go': 39.0, 'Twist 2 Pro': 1557.0, 'Twist 3': 585.0, 'Twist Max': 12.0, 'Twist Metal': 468.0, 'Twist Metal 32GB': 501.0, 'Twist Mini': 4599.0, 'Twist Tab': 15.0, 'Twist XL': 702.0, 'U2': 24.0, 'Ulefone_Armor_5': 27.0, 'VF-1397': 30.0, 'VFD 620': 39.0, 'VIE-L09': 12.0, 'VKY-L29': 36.0, 'Vivo 5 Mini': 90.0, 'Vivo 5R': 15.0, 'Vivo 8': 21.0, 'Vivo XI': 744.0, 'Vivo XI+': 150.0, 'Vivo XL4': 36.0, 'WAS-LX1': 87.0, 'WAS-LX3': 69.0, 'WP5000': 30.0, 'X206': 12.0, 'X21 Plus': 24.0, 'X23': 33.0, 'X50A': 30.0, 'XT1021': 45.0, 'XT1022': 255.0, 'XT1025': 414.0, 'XT1032': 1728.0, 'XT1033': 3777.0, 'XT1034': 30.0, 'XT1039': 78.0, 'XT1040': 525.0, 'XT1058': 147.0, 'XT1064': 84.0, 'XT1068': 3621.0, 'XT1069': 5001.0, 'XT1078': 585.0, 'XT1079': 489.0, 'XT1092': 30.0, 'XT1097': 2568.0, 'XT1225': 543.0, 'XT1562': 39.0, 'XT1563': 192.0, 'XT1572': 264.0, 'XT1580': 957.0, 'XT1585': 21.0, 'XT1609': 18.0, 'XT1635-02': 14739.0, 'XT1635-03': 15.0, 'XT1650': 1398.0, 'XT1662': 78.0, 'XT1663': 9.0, 'XT1706': 33.0, 'XT1799-2': 156.0, 'XT1802': 24.0, 'XT621': 3.0, 'XT918': 27.0, 'XiaoMi MI 5': 93.0, 'XiaoMi MI 5X': 360.0, 'XiaoMi MI 5s': 141.0, 'XiaoMi MI 5s Plus': 360.0, 'XiaoMi MI 6': 2226.0, 'XiaoMi MI 6X': 213.0, 'XiaoMi MI 8': 7074.0, 'XiaoMi MI 8 Lite': 67605.0, 'XiaoMi MI 8 Pro': 2691.0, 'XiaoMi MI 8 SE': 63.0, 'XiaoMi MI 9': 22548.0, 'XiaoMi MI 9 SE': 1305.0, 'XiaoMi MI 9 Transparent Edition': 42.0, 'XiaoMi MI A3': 36.0, 'XiaoMi MI CC 9': 9.0, 'XiaoMi MI CC9 Pro': 63.0, 'XiaoMi MI CC9 Pro Premium Edition': 30.0, 'XiaoMi MI MAX': 84.0, 'XiaoMi MI MAX 2': 684.0, 'XiaoMi MI MAX 3': 3078.0, 'XiaoMi MI PLAY': 3411.0, 'XiaoMi Redmi 3': 135.0, 'XiaoMi Redmi 3S': 21.0, 'XiaoMi Redmi 4': 81.0, 'XiaoMi Redmi 4A': 945.0, 'XiaoMi Redmi 4X': 1038.0, 'XiaoMi Redmi 5': 1446.0, 'XiaoMi Redmi 5 Plus': 7380.0, 'XiaoMi Redmi 5A': 1008.0, 'XiaoMi Redmi 6': 16563.0, 'XiaoMi Redmi 6 Pro': 159.0, 'XiaoMi Redmi 6A': 16605.0, 'XiaoMi Redmi 7': 18627.0, 'XiaoMi Redmi 7A': 25767.0, 'XiaoMi Redmi 8': 16290.0, 'XiaoMi Redmi 8A': 12864.0, 'XiaoMi Redmi Go': 7092.0, 'XiaoMi Redmi K20': 96.0, 'XiaoMi Redmi K20 Pro': 132.0, 'XiaoMi Redmi K20 Pro Premium Edition': 15.0, 'XiaoMi Redmi Note 3': 498.0, 'XiaoMi Redmi Note 4': 4227.0, 'XiaoMi Redmi Note 4X': 273.0, 'XiaoMi Redmi Note 5': 14208.0, 'XiaoMi Redmi Note 5A': 102.0, 'XiaoMi Redmi Note 5A Prime': 714.0, 'XiaoMi Redmi Note 6 Pro': 19593.0, 'XiaoMi Redmi Note 7': 125721.0, 'XiaoMi Redmi Note 7 Pro': 324.0, 'XiaoMi Redmi Note 8': 144468.0, 'XiaoMi Redmi Note 8 Pro': 46026.0, 'XiaoMi Redmi Note 8T': 12615.0, 'XiaoMi Redmi Note 9S': 2013.0, 'XiaoMi Redmi Pro': 69.0, 'XiaoMi Redmi S2': 8580.0, 'YPY_S500': 24.0, 'YU FLY F9': 30.0, 'You': 810.0, 'You L': 246.0, 'Z Play': 156.0, 'Z2': 27.0, 'Z2 Plus': 9.0, 'Z2_PRO': 54.0, 'Z831': 21.0, 'Z971': 69.0, 'Z981': 27.0, 'Z982': 3.0, 'ZB500KG': 207.0, 'ZE553KL': 2103.0, 'ZTE BLADE A110': 24.0, 'ZTE BLADE A510': 612.0, 'ZTE BLADE L110': 468.0, 'ZTE Blade A3 Lite': 129.0, 'ZTE Blade L5': 78.0, 'ZUK Z2121': 123.0, 'dolphin': 30.0, 'exbom': 120.0, 'fnac 5': 24.0, 'g5 Plus': 9.0, 'gxq6580_weg_l': 33.0, 'iPad': 13002.0, 'iPad11': 0.0, '1': 304182.0, '3': 215013.0, 'iPad3': 0.0, '4': 246411.0, '5': 160728.0, 'iPad4': 0.0, '2': 180597.0, '7': 60.0, '8': 114501.0, 'iPad5': 0.0, 'iPad6': 0.0, '11': 474.0, '12': 27.0, 'iPad7': 0.0, '6': 93747.0, 'iPad8': 0.0, 'iPhone': 1609347.0, 'iPhone10': 0.0, 'iPhone11': 0.0, 'iPhone12': 0.0, 'iPhone4': 0.0, 'iPhone5': 0.0, 'iPhone6': 0.0, 'iPhone7': 0.0, 'iPhone8': 0.0, 'iPhone9': 0.0, 'iPod': 24.0, 'iPod7': 0.0, 'itel A15': 18.0, 'moto e5': 49503.0, 'moto e5 play': 61908.0, 'moto e5 plus': 17559.0, 'moto g(6)': 6807.0, 'moto g(6) play': 22278.0, 'moto g(6) plus': 4086.0, 'moto g6 plus': 60.0, 'moto g7 plus': 39.0, 'moto x4': 837.0, 'motorola one': 582.0, 'vernee_M5': 99.0, 'victor': 39.0, 'vivo 1606': 15.0, 'vivo 1901': 21.0, 'vivo NEX A': 162.0, 'vivo X7': 27.0}, 'os_family': {'Android': 21741519.0, 'Chrome OS': 5676.0, 'Fedora': 798.0, 'FreeBSD': 81.0, 'Linux': 124704.0, 'Mac OS X': 153180.0, 'Other': 2369466.0, 'Ubuntu': 15357.0, 'Windows 10': 2247450.0, 'Windows 7': 906573.0, 'Windows 8': 21843.0, 'Windows 8.1': 153627.0, 'Windows Mobile': 24.0, 'Windows Phone': 1017.0, 'Windows Vista': 1878.0, 'Windows XP': 7671.0, 'iOS': 2953809.0}, 'browser_family': {'AdsBot-Google': 34197.0, 'Amazon Silk': 393.0, 'Android': 108.0, 'AppleMail': 273.0, 'Applebot': 18.0, 'BingPreview': 84.0, 'Chrome': 3362427.0, 'Chrome Mobile': 15470775.0, 'Chrome Mobile iOS': 206484.0, 'Chromium': 1722.0, 'Edge': 25665.0, 'Edge Mobile': 999.0, 'Facebook': 5336748.0, 'Firefox': 229776.0, 'Firefox Mobile': 37614.0, 'Firefox iOS': 2403.0, 'GooglePlusBot': 39.0, 'Googlebot': 2392392.0, 'IE': 24.0, 'IE Mobile': 18.0, 'Maxthon': 54.0, 'Mobile Safari': 1410549.0, 'Mobile Safari UIWebView': 1308750.0, 'Opera': 51987.0, 'Opera Mini': 63.0, 'Opera Mobile': 22662.0, 'Other': 747546.0, 'Pale Moon (Firefox Variant)': 33.0, 'PetalBot': 372.0, 'Pinterest': 24.0, 'Puffin': 789.0, 'SMTBot': 81.0, 'Safari': 47358.0, 'SeaMonkey': 3.0, 'UC Browser': 11238.0, 'Vivaldi': 426.0, 'Yahoo! Slurp': 18.0, 'Yandex Browser': 561.0}}\n"
     ]
    }
   ],
   "source": [
    "\n",
    "for index, row in dados.iterrows():\n",
    "    items = str(row[\"collection\"]).split(',')\n",
    "\n",
    "    \n",
    "    if not row[\"what\"] in question2a:\n",
    "        question2a[row[\"what\"]] = {}\n",
    "    \n",
    "        \n",
    "    for item in items:\n",
    "        element = str(item).split(':')\n",
    "        if not element[0] in question2a[row[\"what\"]]:\n",
    "            question2a[row[\"what\"]][element[0]] = 0\n",
    "        \n",
    "        if len(element) > 1:\n",
    "            question2a[row[\"what\"]][element[0]] = float(element[1]) + question2a[row[\"what\"]][element[0]]\n",
    "        else:\n",
    "            question2a[row[\"what\"]][element[0]] = float(0) + question2a[row[\"what\"]][element[0]]\n",
    "\n",
    "print(question2a)"
   ]
  },
  {
   "cell_type": "markdown",
   "metadata": {},
   "source": [
    "Segundo passo <b>Método 2</b> foi agrupar todos esses resultados em um dataframe"
   ]
  },
  {
   "cell_type": "code",
   "execution_count": null,
   "metadata": {},
   "outputs": [],
   "source": [
    "df_question_2 = spark.sql(\"\"\"\n",
    "with table_temp as (--\n",
    "    SELECT *\n",
    "    FROM clickstream\n",
    "    where same_section = false\n",
    "), \n",
    "table_union as (--\n",
    "    SELECT 'device_family' what, device_family ref, COUNT(session_id)  qtd_session\n",
    "      FROM table_temp\n",
    "     group by device_family\n",
    "    union\n",
    "    SELECT 'os_family' what, os_family ref, COUNT(session_id)  qtd_session\n",
    "      FROM table_temp\n",
    "    group by os_family\n",
    "    union\n",
    "    SELECT 'browser_family' what, browser_family ref, COUNT(session_id)  qtd_session\n",
    "      FROM table_temp\n",
    "     group by browser_family --\n",
    ")\n",
    "select what, ref || ':' || qtd_session value \n",
    "from table_union\n",
    "order by what, ref\n",
    "\"\"\")\n",
    "df_question_2.show()"
   ]
  },
  {
   "cell_type": "markdown",
   "metadata": {},
   "source": [
    "No passo seguinte foi de concatenar a coluna 'ref' com 'qtd_session' em um formato json e agrupar por collecao."
   ]
  },
  {
   "cell_type": "code",
   "execution_count": null,
   "metadata": {},
   "outputs": [],
   "source": [
    "d2 = df_question_2.groupBy('what').agg(F.array_join(F.collect_list('item'), delimiter=',').alias('collection'))\n",
    "d2.show(10, False)"
   ]
  },
  {
   "cell_type": "markdown",
   "metadata": {},
   "source": [
    "Finalmente construir a saida Json do desafio"
   ]
  },
  {
   "cell_type": "code",
   "execution_count": null,
   "metadata": {},
   "outputs": [],
   "source": [
    "question2 = {}\n",
    "for row in d2.collect():\n",
    "    items = str(row[\"collection\"]).replace('\"','').split(',')\n",
    "    obj = {}\n",
    "    for item in items:\n",
    "        element = str(item).split(':')\n",
    "        obj[element[0]] = float(element[1])       \n",
    "    \n",
    "    question2[row[\"what\"]] = obj\n",
    "\n",
    "print(question2)"
   ]
  },
  {
   "cell_type": "code",
   "execution_count": null,
   "metadata": {},
   "outputs": [],
   "source": [
    "print(json.dumps(question2))"
   ]
  },
  {
   "cell_type": "markdown",
   "metadata": {},
   "source": [
    "## Desafio 3\n",
    "\n",
    "Calcular a mediana da duração (em segundos) entre todas sessões únicas para cada segmento."
   ]
  },
  {
   "cell_type": "markdown",
   "metadata": {},
   "source": [
    "Neste exemplo selecionado uma sessao com alguns eventos."
   ]
  },
  {
   "cell_type": "code",
   "execution_count": null,
   "metadata": {},
   "outputs": [],
   "source": [
    "ddf = spark.sql(\"\"\"\n",
    "\n",
    "SELECT session_id, delta_seg                \n",
    "FROM clickstream\n",
    "where session_id = 'session_31_ae59b395-31ac-40e3-b7c0-3d97d00ac6cc'\n",
    "group by session_id, delta_seg\n",
    "order by session_id, delta_seg\n",
    "\n",
    "\"\"\")\n",
    "ddf.show(300, False)"
   ]
  },
  {
   "cell_type": "markdown",
   "metadata": {},
   "source": [
    "Metodo 1, usando a função approxQuantile."
   ]
  },
  {
   "cell_type": "code",
   "execution_count": null,
   "metadata": {},
   "outputs": [],
   "source": [
    "ddf.approxQuantile(\"delta_seg\", [0.5], 0.25)"
   ]
  },
  {
   "cell_type": "markdown",
   "metadata": {},
   "source": [
    "Metodo 2, usando uma função UDF para aplicação da biblioteca Numpy.\n",
    "Descartado por ser um processamento muito longo."
   ]
  },
  {
   "cell_type": "code",
   "execution_count": null,
   "metadata": {},
   "outputs": [],
   "source": [
    "#https://stackoverflow.com/questions/38743476/how-to-find-the-median-in-apache-spark-with-python-dataframe-api/38743477\n",
    "def find_median(values_list):\n",
    "    try:\n",
    "        median = np.median(values_list) #get the median of values in a list in each row\n",
    "        return round(float(median),2)\n",
    "    except Exception:\n",
    "        return None #if there is anything wrong with the given values\n",
    "\n",
    "median_finder = F.udf(find_median,FloatType())"
   ]
  },
  {
   "cell_type": "code",
   "execution_count": null,
   "metadata": {},
   "outputs": [],
   "source": [
    "ddfa = ddf.groupBy('session_id').agg(F.collect_list('delta_seg').alias('deltas'))\n",
    "ddfa.show()"
   ]
  },
  {
   "cell_type": "code",
   "execution_count": null,
   "metadata": {},
   "outputs": [],
   "source": [
    "ddfa = ddfa.withColumn(\"median\",median_finder(\"deltas\")) \n",
    "ddfa.show()"
   ]
  },
  {
   "cell_type": "markdown",
   "metadata": {},
   "source": [
    "Método 3, usando a função percentile_approx. Parecido com o método 1, porém, dentro da expressao SQL."
   ]
  },
  {
   "cell_type": "code",
   "execution_count": null,
   "metadata": {},
   "outputs": [],
   "source": [
    "spark.sql(\"\"\"\n",
    "with t1 as (--\n",
    "    SELECT  delta_seg                \n",
    "    FROM clickstream\n",
    "    where session_id = 'session_31_ae59b395-31ac-40e3-b7c0-3d97d00ac6cc'\n",
    "    group by  delta_seg\n",
    "    order by  delta_seg\n",
    "--\n",
    "), t2 as (--\n",
    "    SELECT count( delta_seg)/2 central\n",
    "    FROM clickstream\n",
    "    where session_id = 'session_31_ae59b395-31ac-40e3-b7c0-3d97d00ac6cc' --\n",
    ")\n",
    "select session_id, percentile_approx(delta_seg , 0.5) median \n",
    " FROM clickstream\n",
    "group by session_id\n",
    "\n",
    "\"\"\").show(300, False)"
   ]
  },
  {
   "cell_type": "markdown",
   "metadata": {},
   "source": [
    "Escolha do Metodo 3 e reuso parcial da query do desafio 2. Considerando somente as sessões abertas"
   ]
  },
  {
   "cell_type": "code",
   "execution_count": 9,
   "metadata": {},
   "outputs": [],
   "source": [
    "df_question_3 = spark.sql(\"\"\"\n",
    "with table_temp as (--\n",
    "    SELECT *\n",
    "    FROM clickstream\n",
    "    where same_section = true\n",
    "), \n",
    "table_union as (--\n",
    "    SELECT 'device_family' what, device_family ref, percentile_approx(delta_seg , 0.5) median   \n",
    "      FROM table_temp\n",
    "     group by device_family\n",
    "    union\n",
    "    SELECT 'os_family' what, os_family ref, percentile_approx(delta_seg , 0.5) median \n",
    "      FROM table_temp\n",
    "    group by os_family\n",
    "    union\n",
    "    SELECT 'browser_family' what, browser_family ref, percentile_approx(delta_seg , 0.5) median \n",
    "      FROM table_temp\n",
    "     group by browser_family --\n",
    "),\n",
    "table_collection as (--\n",
    "    select what, ref || ':' || median collection \n",
    "    from table_union\n",
    "    order by what, ref--\n",
    ")\n",
    "select what, array_join(collect_list(trim(collection)),',')  collection\n",
    "from table_collection\n",
    "group by what\n",
    "\"\"\")\n"
   ]
  },
  {
   "cell_type": "code",
   "execution_count": 10,
   "metadata": {},
   "outputs": [],
   "source": [
    "dados3 = df_question_3.toPandas()"
   ]
  },
  {
   "cell_type": "code",
   "execution_count": 16,
   "metadata": {},
   "outputs": [
    {
     "data": {
      "text/html": [
       "<div>\n",
       "<style scoped>\n",
       "    .dataframe tbody tr th:only-of-type {\n",
       "        vertical-align: middle;\n",
       "    }\n",
       "\n",
       "    .dataframe tbody tr th {\n",
       "        vertical-align: top;\n",
       "    }\n",
       "\n",
       "    .dataframe thead th {\n",
       "        text-align: right;\n",
       "    }\n",
       "</style>\n",
       "<table border=\"1\" class=\"dataframe\">\n",
       "  <thead>\n",
       "    <tr style=\"text-align: right;\">\n",
       "      <th></th>\n",
       "      <th>what</th>\n",
       "      <th>collection</th>\n",
       "    </tr>\n",
       "  </thead>\n",
       "  <tbody>\n",
       "    <tr>\n",
       "      <th>0</th>\n",
       "      <td>device_family</td>\n",
       "      <td>Generic Smartphone:633.786,Samsung SM-A105FN:8...</td>\n",
       "    </tr>\n",
       "    <tr>\n",
       "      <th>1</th>\n",
       "      <td>os_family</td>\n",
       "      <td>Android:585.859,Other:360.042,iOS:195.088</td>\n",
       "    </tr>\n",
       "    <tr>\n",
       "      <th>2</th>\n",
       "      <td>browser_family</td>\n",
       "      <td>Chrome Mobile:806.804,Facebook:800.884,Googleb...</td>\n",
       "    </tr>\n",
       "  </tbody>\n",
       "</table>\n",
       "</div>"
      ],
      "text/plain": [
       "             what                                         collection\n",
       "0   device_family  Generic Smartphone:633.786,Samsung SM-A105FN:8...\n",
       "1       os_family          Android:585.859,Other:360.042,iOS:195.088\n",
       "2  browser_family  Chrome Mobile:806.804,Facebook:800.884,Googleb..."
      ]
     },
     "execution_count": 16,
     "metadata": {},
     "output_type": "execute_result"
    }
   ],
   "source": [
    "dados3.head()"
   ]
  },
  {
   "cell_type": "code",
   "execution_count": 38,
   "metadata": {},
   "outputs": [
    {
     "name": "stdout",
     "output_type": "stream",
     "text": [
      "{'device_family': {'Generic Smartphone': 316.893, 'Samsung SM-A105FN': 400.442, 'Samsung SM-G9650': 794.2095, 'Samsung SM-J415G': 403.402, 'Spider': 201.988, 'iPhone': 97.544}, 'os_family': {'Android': 292.9295, 'Other': 180.021, 'iOS': 97.544}, 'browser_family': {'Chrome Mobile': 403.402, 'Facebook': 400.442, 'Googlebot': 201.988, 'Mobile Safari': 97.544}}\n"
     ]
    }
   ],
   "source": [
    "question3 = {}\n",
    "for index, row in dados3.iterrows():\n",
    "    items = row[\"collection\"].split(',')\n",
    "    \n",
    "    if not row[\"what\"] in question3:\n",
    "        question3[row[\"what\"]] = {}\n",
    "\n",
    "    for item in items:\n",
    "        element = str(item).split(':')\n",
    "\n",
    "        if not element[0] in question3[row[\"what\"]]:\n",
    "            question3[row[\"what\"]][element[0]] = 0\n",
    "\n",
    "\n",
    "        if len(element) > 1:\n",
    "            question3[row[\"what\"]][element[0]] = np.median([ float(element[1]), question3[row[\"what\"]][element[0]] ])\n",
    "        else:\n",
    "            question3[row[\"what\"]][element[0]] = question3[row[\"what\"]][element[0]]\n",
    "\n",
    "        \n",
    "print(question3)"
   ]
  },
  {
   "cell_type": "code",
   "execution_count": null,
   "metadata": {},
   "outputs": [],
   "source": []
  },
  {
   "cell_type": "code",
   "execution_count": null,
   "metadata": {},
   "outputs": [],
   "source": []
  },
  {
   "cell_type": "code",
   "execution_count": null,
   "metadata": {},
   "outputs": [],
   "source": []
  }
 ],
 "metadata": {
  "kernelspec": {
   "display_name": "Python 3",
   "language": "python",
   "name": "python3"
  },
  "language_info": {
   "codemirror_mode": {
    "name": "ipython",
    "version": 3
   },
   "file_extension": ".py",
   "mimetype": "text/x-python",
   "name": "python",
   "nbconvert_exporter": "python",
   "pygments_lexer": "ipython3",
   "version": "3.7.4"
  }
 },
 "nbformat": 4,
 "nbformat_minor": 2
}
